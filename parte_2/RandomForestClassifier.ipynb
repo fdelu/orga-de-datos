{
 "cells": [
  {
   "cell_type": "markdown",
   "id": "d3317a4c-2af8-4d32-ab14-e1c65d9ab702",
   "metadata": {},
   "source": [
    "# RandomForestClassifier"
   ]
  },
  {
   "cell_type": "markdown",
   "id": "de157365-0926-4c6f-bda4-4906bd191789",
   "metadata": {},
   "source": [
    "Este modelo se trata de un ensamble de muchos árboles de decisión, con el fin de reducir la varianza del modelo resultante. Como ya entrenamos un árbol de decisión simple, podemos usar los hiperparámetros conseguidos en dicho modelo como estimador base para el random forest."
   ]
  },
  {
   "cell_type": "code",
   "execution_count": 1,
   "id": "ec047ce5-27db-4a50-b406-60550eb93572",
   "metadata": {},
   "outputs": [],
   "source": [
    "%load_ext autoreload\n",
    "%autoreload 2\n",
    "from preprocessing import *\n",
    "from scoring import *\n",
    "from sklearn.metrics import roc_auc_score, accuracy_score, ConfusionMatrixDisplay, RocCurveDisplay\n",
    "from sklearn.model_selection import train_test_split, cross_val_score\n",
    "from sklearn.model_selection import GridSearchCV, StratifiedKFold\n",
    "from sklearn.ensemble import RandomForestClassifier\n",
    "from sklearn.calibration import CalibratedClassifierCV\n",
    "from sklearn.pipeline import Pipeline\n",
    "import pandas as pd\n",
    "import numpy as np\n",
    "pd.set_option('display.max_rows', 10)"
   ]
  },
  {
   "cell_type": "markdown",
   "id": "397956e8-6f26-4a51-9023-0d6f3ca3d6bf",
   "metadata": {},
   "source": [
    "## Preprocessing Nº1"
   ]
  },
  {
   "cell_type": "code",
   "execution_count": 2,
   "id": "d8c07c7c-c9ee-4323-890f-39075e099913",
   "metadata": {},
   "outputs": [],
   "source": [
    "df_features, df_target = get_datasets(fecha_to_int=False)\n",
    "\n",
    "common(df_features, df_target, fecha_to_int=False)\n",
    "viento_trigonometrico(df_features)\n",
    "df_features = dia_a_mes(df_features)\n",
    "\n",
    "# Dropeamos la feature de barrio porque vimos que en los arboles de decision\n",
    "# no fue una feature util\n",
    "df_features = drop_categoricas(df_features)\n",
    "\n",
    "X_train, X_test, Y_train, Y_test = train_test_split(df_features, df_target, stratify=df_target.values, test_size=0.2, random_state=0)\n",
    "\n",
    "pipe = simple_imputer()\n",
    "pipe.fit(X_train)\n",
    "\n",
    "X_train = pipe.transform(X_train)\n",
    "X_test = pipe.transform(X_test)\n",
    "\n",
    "Y_train = np.ravel(Y_train)\n",
    "Y_test = np.ravel(Y_test)"
   ]
  },
  {
   "cell_type": "markdown",
   "id": "da5ee960-87fc-4c8d-9345-1a26f38f7e73",
   "metadata": {},
   "source": [
    "## Grid search de hiperparámetros"
   ]
  },
  {
   "cell_type": "code",
   "execution_count": 3,
   "id": "6a0fd5b5-3d72-4cb9-b9d2-a3ea6b752998",
   "metadata": {},
   "outputs": [
    {
     "data": {
      "text/plain": [
       "0.872951887466534"
      ]
     },
     "execution_count": 3,
     "metadata": {},
     "output_type": "execute_result"
    }
   ],
   "source": [
    "parameters = {\n",
    "    \"n_estimators\": np.arange(100,500,50),\n",
    "}\n",
    "\n",
    "grid = GridSearchCV(RandomForestClassifier(criterion=\"entropy\", max_depth=9, random_state=0),\n",
    "                    param_grid=parameters,\n",
    "                    cv = StratifiedKFold(5),\n",
    "                    refit = METRIC,\n",
    "                    scoring = SCORINGS,\n",
    "                    n_jobs = -1)\n",
    "\n",
    "grid.fit(X_train, Y_train)\n",
    "grid.best_score_"
   ]
  },
  {
   "cell_type": "code",
   "execution_count": 4,
   "id": "383d48de-9e04-4a4d-baaa-6088cd6d14b7",
   "metadata": {},
   "outputs": [
    {
     "data": {
      "text/html": [
       "<div>\n",
       "<style scoped>\n",
       "    .dataframe tbody tr th:only-of-type {\n",
       "        vertical-align: middle;\n",
       "    }\n",
       "\n",
       "    .dataframe tbody tr th {\n",
       "        vertical-align: top;\n",
       "    }\n",
       "\n",
       "    .dataframe thead th {\n",
       "        text-align: right;\n",
       "    }\n",
       "</style>\n",
       "<table border=\"1\" class=\"dataframe\">\n",
       "  <thead>\n",
       "    <tr style=\"text-align: right;\">\n",
       "      <th></th>\n",
       "      <th>param_n_estimators</th>\n",
       "      <th>mean_test_roc_auc</th>\n",
       "      <th>mean_test_accuracy</th>\n",
       "      <th>mean_test_precision</th>\n",
       "      <th>mean_test_recall</th>\n",
       "      <th>mean_test_f1</th>\n",
       "    </tr>\n",
       "  </thead>\n",
       "  <tbody>\n",
       "    <tr>\n",
       "      <th>0</th>\n",
       "      <td>300</td>\n",
       "      <td>0.872952</td>\n",
       "      <td>0.846354</td>\n",
       "      <td>0.781768</td>\n",
       "      <td>0.435297</td>\n",
       "      <td>0.559207</td>\n",
       "    </tr>\n",
       "    <tr>\n",
       "      <th>1</th>\n",
       "      <td>350</td>\n",
       "      <td>0.872925</td>\n",
       "      <td>0.846232</td>\n",
       "      <td>0.780854</td>\n",
       "      <td>0.435461</td>\n",
       "      <td>0.559105</td>\n",
       "    </tr>\n",
       "    <tr>\n",
       "      <th>2</th>\n",
       "      <td>250</td>\n",
       "      <td>0.872914</td>\n",
       "      <td>0.846452</td>\n",
       "      <td>0.781403</td>\n",
       "      <td>0.436279</td>\n",
       "      <td>0.559921</td>\n",
       "    </tr>\n",
       "    <tr>\n",
       "      <th>3</th>\n",
       "      <td>450</td>\n",
       "      <td>0.872898</td>\n",
       "      <td>0.846476</td>\n",
       "      <td>0.782083</td>\n",
       "      <td>0.435734</td>\n",
       "      <td>0.559647</td>\n",
       "    </tr>\n",
       "    <tr>\n",
       "      <th>4</th>\n",
       "      <td>400</td>\n",
       "      <td>0.872884</td>\n",
       "      <td>0.846183</td>\n",
       "      <td>0.781092</td>\n",
       "      <td>0.434915</td>\n",
       "      <td>0.558715</td>\n",
       "    </tr>\n",
       "    <tr>\n",
       "      <th>5</th>\n",
       "      <td>200</td>\n",
       "      <td>0.872812</td>\n",
       "      <td>0.845841</td>\n",
       "      <td>0.779498</td>\n",
       "      <td>0.434370</td>\n",
       "      <td>0.557854</td>\n",
       "    </tr>\n",
       "    <tr>\n",
       "      <th>6</th>\n",
       "      <td>150</td>\n",
       "      <td>0.872805</td>\n",
       "      <td>0.846305</td>\n",
       "      <td>0.781175</td>\n",
       "      <td>0.435570</td>\n",
       "      <td>0.559278</td>\n",
       "    </tr>\n",
       "    <tr>\n",
       "      <th>7</th>\n",
       "      <td>100</td>\n",
       "      <td>0.872559</td>\n",
       "      <td>0.845841</td>\n",
       "      <td>0.778954</td>\n",
       "      <td>0.434915</td>\n",
       "      <td>0.558156</td>\n",
       "    </tr>\n",
       "  </tbody>\n",
       "</table>\n",
       "</div>"
      ],
      "text/plain": [
       "  param_n_estimators  mean_test_roc_auc  mean_test_accuracy  \\\n",
       "0                300           0.872952            0.846354   \n",
       "1                350           0.872925            0.846232   \n",
       "2                250           0.872914            0.846452   \n",
       "3                450           0.872898            0.846476   \n",
       "4                400           0.872884            0.846183   \n",
       "5                200           0.872812            0.845841   \n",
       "6                150           0.872805            0.846305   \n",
       "7                100           0.872559            0.845841   \n",
       "\n",
       "   mean_test_precision  mean_test_recall  mean_test_f1  \n",
       "0             0.781768          0.435297      0.559207  \n",
       "1             0.780854          0.435461      0.559105  \n",
       "2             0.781403          0.436279      0.559921  \n",
       "3             0.782083          0.435734      0.559647  \n",
       "4             0.781092          0.434915      0.558715  \n",
       "5             0.779498          0.434370      0.557854  \n",
       "6             0.781175          0.435570      0.559278  \n",
       "7             0.778954          0.434915      0.558156  "
      ]
     },
     "execution_count": 4,
     "metadata": {},
     "output_type": "execute_result"
    }
   ],
   "source": [
    "grid_history_table(grid)"
   ]
  },
  {
   "cell_type": "code",
   "execution_count": 5,
   "id": "dd6bb677-e719-4c2b-800c-6053e9561d36",
   "metadata": {},
   "outputs": [
    {
     "data": {
      "text/html": [
       "<div>\n",
       "<style scoped>\n",
       "    .dataframe tbody tr th:only-of-type {\n",
       "        vertical-align: middle;\n",
       "    }\n",
       "\n",
       "    .dataframe tbody tr th {\n",
       "        vertical-align: top;\n",
       "    }\n",
       "\n",
       "    .dataframe thead th {\n",
       "        text-align: right;\n",
       "    }\n",
       "</style>\n",
       "<table border=\"1\" class=\"dataframe\">\n",
       "  <thead>\n",
       "    <tr style=\"text-align: right;\">\n",
       "      <th></th>\n",
       "      <th>AUC-ROC</th>\n",
       "      <th>Accuracy</th>\n",
       "      <th>Precision</th>\n",
       "      <th>Recall</th>\n",
       "      <th>F1 Score</th>\n",
       "    </tr>\n",
       "  </thead>\n",
       "  <tbody>\n",
       "    <tr>\n",
       "      <th>0</th>\n",
       "      <td>0.87517</td>\n",
       "      <td>0.849033</td>\n",
       "      <td>0.793009</td>\n",
       "      <td>0.440637</td>\n",
       "      <td>0.566498</td>\n",
       "    </tr>\n",
       "  </tbody>\n",
       "</table>\n",
       "</div>"
      ],
      "text/plain": [
       "   AUC-ROC  Accuracy  Precision    Recall  F1 Score\n",
       "0  0.87517  0.849033   0.793009  0.440637  0.566498"
      ]
     },
     "execution_count": 5,
     "metadata": {},
     "output_type": "execute_result"
    }
   ],
   "source": [
    "metrics_table(Y_test, grid.best_estimator_.predict(X_test), grid.best_estimator_.predict_proba(X_test)[:,1])"
   ]
  },
  {
   "cell_type": "markdown",
   "id": "2bb296ff-2552-4b35-95bb-d73fefa5033d",
   "metadata": {},
   "source": [
    "Los modelos resultaron ser un poco mejores que al utilizar un único árbol (~$87.5\\%$ vs ~$87\\%$ en AUC ROC). Es interesante notar que los modelos con pocos estimadores también dieron buenos resultados. Sin embargo, no es un hiperparámetro que suela generar overfit, por lo que podemos decir que el mejor modelo resultante de este entrenamiento es el primero.\n",
    "\n",
    "De todas formas, el aumento en score no parece ser tan significativo como para considerarlo mejor que un árbol de decisión, ya que el incremento en complejidad es bastante alto, lo que conlleva a una disminución de la interpretabilidad."
   ]
  },
  {
   "cell_type": "markdown",
   "id": "738f72b7-fa9f-4789-9e24-6da710acd15f",
   "metadata": {},
   "source": [
    "### Matriz de confusión"
   ]
  },
  {
   "cell_type": "code",
   "execution_count": 6,
   "id": "a127d350-4c20-437e-bc83-4862c2201a8e",
   "metadata": {},
   "outputs": [
    {
     "data": {
      "text/plain": [
       "<sklearn.metrics._plot.confusion_matrix.ConfusionMatrixDisplay at 0x7f337f8d1f10>"
      ]
     },
     "execution_count": 6,
     "metadata": {},
     "output_type": "execute_result"
    },
    {
     "data": {
      "image/png": "[encoded data removed]",
      "text/plain": [
       "<Figure size 432x288 with 2 Axes>"
      ]
     },
     "metadata": {
      "needs_background": "light"
     },
     "output_type": "display_data"
    }
   ],
   "source": [
    "ConfusionMatrixDisplay.from_predictions(Y_test, grid.best_estimator_.predict(X_test))"
   ]
  },
  {
   "cell_type": "markdown",
   "id": "54da450e-9bc9-4178-97dc-36937f9ecaef",
   "metadata": {},
   "source": [
    "Tal y como vimos con los árboles de decisión, hay una gran cantidad de falsos negativos. Podemos intentar mejorar esto balanceando los pesos de las clases.clases"
   ]
  },
  {
   "cell_type": "markdown",
   "id": "c02f8a34-c0fe-456d-a5d8-a623450c3c8b",
   "metadata": {},
   "source": [
    "## Balanceo de pesos"
   ]
  },
  {
   "cell_type": "code",
   "execution_count": 7,
   "id": "74c8da2a-68f7-4ead-9c2b-57f811761809",
   "metadata": {},
   "outputs": [
    {
     "data": {
      "text/plain": [
       "0.8730179502119106"
      ]
     },
     "execution_count": 7,
     "metadata": {},
     "output_type": "execute_result"
    }
   ],
   "source": [
    "# Reducimos la busqueda de hiperparametros\n",
    "# utilizando lo aprendido en el modelo anterior\n",
    "parameters = {\n",
    "    \"n_estimators\": np.arange(100,500,100),\n",
    "}\n",
    "\n",
    "grid = GridSearchCV(RandomForestClassifier(criterion=\"entropy\", max_depth=9, class_weight=\"balanced\", random_state=0),\n",
    "                    param_grid=parameters,\n",
    "                    cv = StratifiedKFold(5),\n",
    "                    refit = METRIC,\n",
    "                    scoring = SCORINGS,\n",
    "                    n_jobs = -1)\n",
    "\n",
    "grid.fit(X_train, Y_train)\n",
    "grid.best_score_"
   ]
  },
  {
   "cell_type": "code",
   "execution_count": 8,
   "id": "e3ed21f0-18c7-449f-bfbc-272b15901b54",
   "metadata": {},
   "outputs": [
    {
     "data": {
      "text/html": [
       "<div>\n",
       "<style scoped>\n",
       "    .dataframe tbody tr th:only-of-type {\n",
       "        vertical-align: middle;\n",
       "    }\n",
       "\n",
       "    .dataframe tbody tr th {\n",
       "        vertical-align: top;\n",
       "    }\n",
       "\n",
       "    .dataframe thead th {\n",
       "        text-align: right;\n",
       "    }\n",
       "</style>\n",
       "<table border=\"1\" class=\"dataframe\">\n",
       "  <thead>\n",
       "    <tr style=\"text-align: right;\">\n",
       "      <th></th>\n",
       "      <th>param_n_estimators</th>\n",
       "      <th>mean_test_roc_auc</th>\n",
       "      <th>mean_test_accuracy</th>\n",
       "      <th>mean_test_precision</th>\n",
       "      <th>mean_test_recall</th>\n",
       "      <th>mean_test_f1</th>\n",
       "    </tr>\n",
       "  </thead>\n",
       "  <tbody>\n",
       "    <tr>\n",
       "      <th>0</th>\n",
       "      <td>400</td>\n",
       "      <td>0.873018</td>\n",
       "      <td>0.802626</td>\n",
       "      <td>0.542518</td>\n",
       "      <td>0.756137</td>\n",
       "      <td>0.631750</td>\n",
       "    </tr>\n",
       "    <tr>\n",
       "      <th>1</th>\n",
       "      <td>300</td>\n",
       "      <td>0.873018</td>\n",
       "      <td>0.802846</td>\n",
       "      <td>0.542883</td>\n",
       "      <td>0.756519</td>\n",
       "      <td>0.632131</td>\n",
       "    </tr>\n",
       "    <tr>\n",
       "      <th>2</th>\n",
       "      <td>200</td>\n",
       "      <td>0.872927</td>\n",
       "      <td>0.802993</td>\n",
       "      <td>0.543126</td>\n",
       "      <td>0.757065</td>\n",
       "      <td>0.632484</td>\n",
       "    </tr>\n",
       "    <tr>\n",
       "      <th>3</th>\n",
       "      <td>100</td>\n",
       "      <td>0.872545</td>\n",
       "      <td>0.802296</td>\n",
       "      <td>0.541939</td>\n",
       "      <td>0.756901</td>\n",
       "      <td>0.631616</td>\n",
       "    </tr>\n",
       "  </tbody>\n",
       "</table>\n",
       "</div>"
      ],
      "text/plain": [
       "  param_n_estimators  mean_test_roc_auc  mean_test_accuracy  \\\n",
       "0                400           0.873018            0.802626   \n",
       "1                300           0.873018            0.802846   \n",
       "2                200           0.872927            0.802993   \n",
       "3                100           0.872545            0.802296   \n",
       "\n",
       "   mean_test_precision  mean_test_recall  mean_test_f1  \n",
       "0             0.542518          0.756137      0.631750  \n",
       "1             0.542883          0.756519      0.632131  \n",
       "2             0.543126          0.757065      0.632484  \n",
       "3             0.541939          0.756901      0.631616  "
      ]
     },
     "execution_count": 8,
     "metadata": {},
     "output_type": "execute_result"
    }
   ],
   "source": [
    "grid_history_table(grid)"
   ]
  },
  {
   "cell_type": "code",
   "execution_count": 9,
   "id": "14dd56c0-d9d6-47ef-96cd-ecf8e092d917",
   "metadata": {},
   "outputs": [
    {
     "data": {
      "text/html": [
       "<div>\n",
       "<style scoped>\n",
       "    .dataframe tbody tr th:only-of-type {\n",
       "        vertical-align: middle;\n",
       "    }\n",
       "\n",
       "    .dataframe tbody tr th {\n",
       "        vertical-align: top;\n",
       "    }\n",
       "\n",
       "    .dataframe thead th {\n",
       "        text-align: right;\n",
       "    }\n",
       "</style>\n",
       "<table border=\"1\" class=\"dataframe\">\n",
       "  <thead>\n",
       "    <tr style=\"text-align: right;\">\n",
       "      <th></th>\n",
       "      <th>AUC-ROC</th>\n",
       "      <th>Accuracy</th>\n",
       "      <th>Precision</th>\n",
       "      <th>Recall</th>\n",
       "      <th>F1 Score</th>\n",
       "    </tr>\n",
       "  </thead>\n",
       "  <tbody>\n",
       "    <tr>\n",
       "      <th>0</th>\n",
       "      <td>0.875395</td>\n",
       "      <td>0.805257</td>\n",
       "      <td>0.546811</td>\n",
       "      <td>0.759712</td>\n",
       "      <td>0.635915</td>\n",
       "    </tr>\n",
       "  </tbody>\n",
       "</table>\n",
       "</div>"
      ],
      "text/plain": [
       "    AUC-ROC  Accuracy  Precision    Recall  F1 Score\n",
       "0  0.875395  0.805257   0.546811  0.759712  0.635915"
      ]
     },
     "execution_count": 9,
     "metadata": {},
     "output_type": "execute_result"
    }
   ],
   "source": [
    "metrics_table(Y_test, grid.best_estimator_.predict(X_test), grid.best_estimator_.predict_proba(X_test)[:,1])"
   ]
  },
  {
   "cell_type": "markdown",
   "id": "2f560c54-ee98-4b25-bcaf-5cbb179e181f",
   "metadata": {},
   "source": [
    "La variación en los resultados es similar a lo que ocurrio en el árbol de decisión (aumento de Recall y disminución de Precision). La métrica que se busca optimizar no mejoró."
   ]
  },
  {
   "cell_type": "markdown",
   "id": "e587663c-6cac-448a-a6e2-17133e7fbed6",
   "metadata": {},
   "source": [
    "### Importancia de las features"
   ]
  },
  {
   "cell_type": "code",
   "execution_count": 10,
   "id": "bdb14b90-2917-404c-8ed8-6b827ff7ffcb",
   "metadata": {},
   "outputs": [
    {
     "data": {
      "image/png": "[encoded data removed]",
      "text/plain": [
       "<Figure size 720x576 with 1 Axes>"
      ]
     },
     "metadata": {
      "needs_background": "light"
     },
     "output_type": "display_data"
    }
   ],
   "source": [
    "plot_feature_importances(df_features.columns, grid.best_estimator_.feature_importances_, size=10, head=True)"
   ]
  },
  {
   "cell_type": "code",
   "execution_count": 11,
   "id": "db1c02e6-674e-42e8-b1c9-0b38b2b6aa75",
   "metadata": {},
   "outputs": [
    {
     "data": {
      "image/png": "[encoded data removed]",
      "text/plain": [
       "<Figure size 720x576 with 1 Axes>"
      ]
     },
     "metadata": {
      "needs_background": "light"
     },
     "output_type": "display_data"
    }
   ],
   "source": [
    "plot_feature_importances(df_features.columns, grid.best_estimator_.feature_importances_, size=10, head=False)"
   ]
  },
  {
   "cell_type": "markdown",
   "id": "81b8132b-c14b-4f6c-bfed-30f661e625a5",
   "metadata": {},
   "source": [
    "A diferencia de los árboles de decisión, en el random forest las importancias de las features se encuentran distribuidas de una forma más equitativa. Esto es porque cada árbol recibe un subset de features que puede utilizar para las predicciones, por lo que no siempre podrá utilizar los mejores predictores del dataset."
   ]
  },
  {
   "cell_type": "markdown",
   "id": "eb93d62a-5ddb-4bb8-9d52-655c550ef3a7",
   "metadata": {},
   "source": [
    "## Preprocessing Nº2"
   ]
  },
  {
   "cell_type": "code",
   "execution_count": 12,
   "id": "a91badbb-9720-474a-bc7d-9573e6806cf5",
   "metadata": {},
   "outputs": [],
   "source": [
    "df_features, df_target = get_datasets(fecha_to_int=False)\n",
    "\n",
    "common(df_features, df_target, fecha_to_int=False)\n",
    "viento_trigonometrico(df_features)\n",
    "df_features = dia_a_mes(df_features)\n",
    "\n",
    "df_features = drop_categoricas(df_features)\n",
    "\n",
    "X_train, X_test, Y_train, Y_test = train_test_split(df_features, df_target, stratify=df_target.values, test_size=0.2, random_state=0)\n",
    "\n",
    "pipe = standarizer()\n",
    "pipe = iterative_imputer(max_iter=100)\n",
    "\n",
    "pipe.fit(X_train)\n",
    "X_train = pipe.transform(X_train)\n",
    "X_test = pipe.transform(X_test)\n",
    "\n",
    "Y_train = np.ravel(Y_train)\n",
    "Y_test = np.ravel(Y_test)"
   ]
  },
  {
   "cell_type": "code",
   "execution_count": 13,
   "id": "8943336d-2258-40f8-8d12-7a6e72265203",
   "metadata": {},
   "outputs": [
    {
     "data": {
      "text/plain": [
       "0.8856277413989426"
      ]
     },
     "execution_count": 13,
     "metadata": {},
     "output_type": "execute_result"
    }
   ],
   "source": [
    "parameters = {\n",
    "    \"criterion\": [\n",
    "        \"gini\",\n",
    "        \"entropy\"\n",
    "    ],\n",
    "    \"max_depth\": np.arange(5, 70, 10),\n",
    "}\n",
    "\n",
    "grid = GridSearchCV(RandomForestClassifier(n_estimators=200, random_state=0),\n",
    "                    param_grid=parameters,\n",
    "                    cv = StratifiedKFold(5),\n",
    "                    refit = METRIC,\n",
    "                    scoring = SCORINGS,\n",
    "                    n_jobs = -1)\n",
    "\n",
    "grid.fit(X_train, Y_train)\n",
    "grid.best_score_"
   ]
  },
  {
   "cell_type": "code",
   "execution_count": 14,
   "id": "10eb4e43-d40d-448a-9047-008ff921c47b",
   "metadata": {},
   "outputs": [
    {
     "data": {
      "text/html": [
       "<div>\n",
       "<style scoped>\n",
       "    .dataframe tbody tr th:only-of-type {\n",
       "        vertical-align: middle;\n",
       "    }\n",
       "\n",
       "    .dataframe tbody tr th {\n",
       "        vertical-align: top;\n",
       "    }\n",
       "\n",
       "    .dataframe thead th {\n",
       "        text-align: right;\n",
       "    }\n",
       "</style>\n",
       "<table border=\"1\" class=\"dataframe\">\n",
       "  <thead>\n",
       "    <tr style=\"text-align: right;\">\n",
       "      <th></th>\n",
       "      <th>param_criterion</th>\n",
       "      <th>param_max_depth</th>\n",
       "      <th>mean_test_roc_auc</th>\n",
       "      <th>mean_test_accuracy</th>\n",
       "      <th>mean_test_precision</th>\n",
       "      <th>mean_test_recall</th>\n",
       "      <th>mean_test_f1</th>\n",
       "    </tr>\n",
       "  </thead>\n",
       "  <tbody>\n",
       "    <tr>\n",
       "      <th>0</th>\n",
       "      <td>entropy</td>\n",
       "      <td>35</td>\n",
       "      <td>0.885628</td>\n",
       "      <td>0.854819</td>\n",
       "      <td>0.764309</td>\n",
       "      <td>0.508347</td>\n",
       "      <td>0.610570</td>\n",
       "    </tr>\n",
       "    <tr>\n",
       "      <th>1</th>\n",
       "      <td>entropy</td>\n",
       "      <td>45</td>\n",
       "      <td>0.885605</td>\n",
       "      <td>0.854306</td>\n",
       "      <td>0.762155</td>\n",
       "      <td>0.507747</td>\n",
       "      <td>0.609449</td>\n",
       "    </tr>\n",
       "    <tr>\n",
       "      <th>2</th>\n",
       "      <td>entropy</td>\n",
       "      <td>55</td>\n",
       "      <td>0.885605</td>\n",
       "      <td>0.854306</td>\n",
       "      <td>0.762155</td>\n",
       "      <td>0.507747</td>\n",
       "      <td>0.609449</td>\n",
       "    </tr>\n",
       "    <tr>\n",
       "      <th>3</th>\n",
       "      <td>entropy</td>\n",
       "      <td>65</td>\n",
       "      <td>0.885605</td>\n",
       "      <td>0.854306</td>\n",
       "      <td>0.762155</td>\n",
       "      <td>0.507747</td>\n",
       "      <td>0.609449</td>\n",
       "    </tr>\n",
       "    <tr>\n",
       "      <th>4</th>\n",
       "      <td>entropy</td>\n",
       "      <td>25</td>\n",
       "      <td>0.885432</td>\n",
       "      <td>0.854684</td>\n",
       "      <td>0.763025</td>\n",
       "      <td>0.509056</td>\n",
       "      <td>0.610685</td>\n",
       "    </tr>\n",
       "    <tr>\n",
       "      <th>...</th>\n",
       "      <td>...</td>\n",
       "      <td>...</td>\n",
       "      <td>...</td>\n",
       "      <td>...</td>\n",
       "      <td>...</td>\n",
       "      <td>...</td>\n",
       "      <td>...</td>\n",
       "    </tr>\n",
       "    <tr>\n",
       "      <th>9</th>\n",
       "      <td>gini</td>\n",
       "      <td>55</td>\n",
       "      <td>0.882868</td>\n",
       "      <td>0.854171</td>\n",
       "      <td>0.760232</td>\n",
       "      <td>0.509329</td>\n",
       "      <td>0.609967</td>\n",
       "    </tr>\n",
       "    <tr>\n",
       "      <th>10</th>\n",
       "      <td>gini</td>\n",
       "      <td>65</td>\n",
       "      <td>0.882868</td>\n",
       "      <td>0.854171</td>\n",
       "      <td>0.760232</td>\n",
       "      <td>0.509329</td>\n",
       "      <td>0.609967</td>\n",
       "    </tr>\n",
       "    <tr>\n",
       "      <th>11</th>\n",
       "      <td>gini</td>\n",
       "      <td>15</td>\n",
       "      <td>0.881531</td>\n",
       "      <td>0.853194</td>\n",
       "      <td>0.761093</td>\n",
       "      <td>0.501855</td>\n",
       "      <td>0.604851</td>\n",
       "    </tr>\n",
       "    <tr>\n",
       "      <th>12</th>\n",
       "      <td>entropy</td>\n",
       "      <td>5</td>\n",
       "      <td>0.858720</td>\n",
       "      <td>0.838952</td>\n",
       "      <td>0.783477</td>\n",
       "      <td>0.387943</td>\n",
       "      <td>0.518914</td>\n",
       "    </tr>\n",
       "    <tr>\n",
       "      <th>13</th>\n",
       "      <td>gini</td>\n",
       "      <td>5</td>\n",
       "      <td>0.856788</td>\n",
       "      <td>0.839416</td>\n",
       "      <td>0.779766</td>\n",
       "      <td>0.394163</td>\n",
       "      <td>0.523592</td>\n",
       "    </tr>\n",
       "  </tbody>\n",
       "</table>\n",
       "<p>14 rows × 7 columns</p>\n",
       "</div>"
      ],
      "text/plain": [
       "   param_criterion param_max_depth  mean_test_roc_auc  mean_test_accuracy  \\\n",
       "0          entropy              35           0.885628            0.854819   \n",
       "1          entropy              45           0.885605            0.854306   \n",
       "2          entropy              55           0.885605            0.854306   \n",
       "3          entropy              65           0.885605            0.854306   \n",
       "4          entropy              25           0.885432            0.854684   \n",
       "..             ...             ...                ...                 ...   \n",
       "9             gini              55           0.882868            0.854171   \n",
       "10            gini              65           0.882868            0.854171   \n",
       "11            gini              15           0.881531            0.853194   \n",
       "12         entropy               5           0.858720            0.838952   \n",
       "13            gini               5           0.856788            0.839416   \n",
       "\n",
       "    mean_test_precision  mean_test_recall  mean_test_f1  \n",
       "0              0.764309          0.508347      0.610570  \n",
       "1              0.762155          0.507747      0.609449  \n",
       "2              0.762155          0.507747      0.609449  \n",
       "3              0.762155          0.507747      0.609449  \n",
       "4              0.763025          0.509056      0.610685  \n",
       "..                  ...               ...           ...  \n",
       "9              0.760232          0.509329      0.609967  \n",
       "10             0.760232          0.509329      0.609967  \n",
       "11             0.761093          0.501855      0.604851  \n",
       "12             0.783477          0.387943      0.518914  \n",
       "13             0.779766          0.394163      0.523592  \n",
       "\n",
       "[14 rows x 7 columns]"
      ]
     },
     "execution_count": 14,
     "metadata": {},
     "output_type": "execute_result"
    }
   ],
   "source": [
    "grid_history_table(grid)"
   ]
  },
  {
   "cell_type": "code",
   "execution_count": 15,
   "id": "5c3e5e73-2b27-4f5f-8f58-3186cd43743a",
   "metadata": {},
   "outputs": [
    {
     "data": {
      "text/html": [
       "<div>\n",
       "<style scoped>\n",
       "    .dataframe tbody tr th:only-of-type {\n",
       "        vertical-align: middle;\n",
       "    }\n",
       "\n",
       "    .dataframe tbody tr th {\n",
       "        vertical-align: top;\n",
       "    }\n",
       "\n",
       "    .dataframe thead th {\n",
       "        text-align: right;\n",
       "    }\n",
       "</style>\n",
       "<table border=\"1\" class=\"dataframe\">\n",
       "  <thead>\n",
       "    <tr style=\"text-align: right;\">\n",
       "      <th></th>\n",
       "      <th>AUC-ROC</th>\n",
       "      <th>Accuracy</th>\n",
       "      <th>Precision</th>\n",
       "      <th>Recall</th>\n",
       "      <th>F1 Score</th>\n",
       "    </tr>\n",
       "  </thead>\n",
       "  <tbody>\n",
       "    <tr>\n",
       "      <th>0</th>\n",
       "      <td>0.887824</td>\n",
       "      <td>0.859146</td>\n",
       "      <td>0.783829</td>\n",
       "      <td>0.512003</td>\n",
       "      <td>0.619406</td>\n",
       "    </tr>\n",
       "  </tbody>\n",
       "</table>\n",
       "</div>"
      ],
      "text/plain": [
       "    AUC-ROC  Accuracy  Precision    Recall  F1 Score\n",
       "0  0.887824  0.859146   0.783829  0.512003  0.619406"
      ]
     },
     "execution_count": 15,
     "metadata": {},
     "output_type": "execute_result"
    }
   ],
   "source": [
    "metrics_table(Y_test, grid.best_estimator_.predict(X_test), grid.best_estimator_.predict_proba(X_test)[:,1])"
   ]
  },
  {
   "cell_type": "markdown",
   "id": "8ef85546-fbc1-4a56-a066-7327c0a2d01b",
   "metadata": {},
   "source": [
    "El score aumentó bastante (más de $1\\%$), por lo que el preprocessing Nº2 fue más útil que el Nº1"
   ]
  },
  {
   "cell_type": "markdown",
   "id": "503b5ee9-66c6-4c17-9c2a-5249d4231043",
   "metadata": {},
   "source": [
    "### Utilizando bootstrap"
   ]
  },
  {
   "cell_type": "markdown",
   "id": "5fc00f83-4efc-4a26-b3d4-65532f9b3dfa",
   "metadata": {},
   "source": [
    "Podemos indicarle al random forest que tome una fracción de las instancias para entrenar a cada modelo, con el fin de disminuir aun más la dependencia entre árboles"
   ]
  },
  {
   "cell_type": "code",
   "execution_count": 16,
   "id": "b8a83d59-4eac-409d-8907-8f85f798870e",
   "metadata": {},
   "outputs": [
    {
     "data": {
      "text/plain": [
       "0.8856277413989426"
      ]
     },
     "execution_count": 16,
     "metadata": {},
     "output_type": "execute_result"
    }
   ],
   "source": [
    "parameters = {\n",
    "    \"criterion\": [\n",
    "        \"gini\",\n",
    "        \"entropy\"\n",
    "    ],\n",
    "    \"max_depth\": np.arange(5, 70, 10),\n",
    "}\n",
    "\n",
    "grid = GridSearchCV(RandomForestClassifier(n_estimators=200, bootstrap=True, oob_score=True, random_state=0),\n",
    "                    param_grid=parameters,\n",
    "                    cv = StratifiedKFold(5),\n",
    "                    refit = METRIC,\n",
    "                    scoring = SCORINGS,\n",
    "                    n_jobs = -1)\n",
    "\n",
    "grid.fit(X_train, Y_train)\n",
    "grid.best_score_"
   ]
  },
  {
   "cell_type": "code",
   "execution_count": 17,
   "id": "6f33bb56-8a1f-4f20-98e6-b0ebaa9c5a40",
   "metadata": {},
   "outputs": [
    {
     "data": {
      "text/html": [
       "<div>\n",
       "<style scoped>\n",
       "    .dataframe tbody tr th:only-of-type {\n",
       "        vertical-align: middle;\n",
       "    }\n",
       "\n",
       "    .dataframe tbody tr th {\n",
       "        vertical-align: top;\n",
       "    }\n",
       "\n",
       "    .dataframe thead th {\n",
       "        text-align: right;\n",
       "    }\n",
       "</style>\n",
       "<table border=\"1\" class=\"dataframe\">\n",
       "  <thead>\n",
       "    <tr style=\"text-align: right;\">\n",
       "      <th></th>\n",
       "      <th>param_criterion</th>\n",
       "      <th>param_max_depth</th>\n",
       "      <th>mean_test_roc_auc</th>\n",
       "      <th>mean_test_accuracy</th>\n",
       "      <th>mean_test_precision</th>\n",
       "      <th>mean_test_recall</th>\n",
       "      <th>mean_test_f1</th>\n",
       "    </tr>\n",
       "  </thead>\n",
       "  <tbody>\n",
       "    <tr>\n",
       "      <th>0</th>\n",
       "      <td>entropy</td>\n",
       "      <td>35</td>\n",
       "      <td>0.885628</td>\n",
       "      <td>0.854819</td>\n",
       "      <td>0.764309</td>\n",
       "      <td>0.508347</td>\n",
       "      <td>0.610570</td>\n",
       "    </tr>\n",
       "    <tr>\n",
       "      <th>1</th>\n",
       "      <td>entropy</td>\n",
       "      <td>45</td>\n",
       "      <td>0.885605</td>\n",
       "      <td>0.854306</td>\n",
       "      <td>0.762155</td>\n",
       "      <td>0.507747</td>\n",
       "      <td>0.609449</td>\n",
       "    </tr>\n",
       "    <tr>\n",
       "      <th>2</th>\n",
       "      <td>entropy</td>\n",
       "      <td>55</td>\n",
       "      <td>0.885605</td>\n",
       "      <td>0.854306</td>\n",
       "      <td>0.762155</td>\n",
       "      <td>0.507747</td>\n",
       "      <td>0.609449</td>\n",
       "    </tr>\n",
       "    <tr>\n",
       "      <th>3</th>\n",
       "      <td>entropy</td>\n",
       "      <td>65</td>\n",
       "      <td>0.885605</td>\n",
       "      <td>0.854306</td>\n",
       "      <td>0.762155</td>\n",
       "      <td>0.507747</td>\n",
       "      <td>0.609449</td>\n",
       "    </tr>\n",
       "    <tr>\n",
       "      <th>4</th>\n",
       "      <td>entropy</td>\n",
       "      <td>25</td>\n",
       "      <td>0.885432</td>\n",
       "      <td>0.854684</td>\n",
       "      <td>0.763025</td>\n",
       "      <td>0.509056</td>\n",
       "      <td>0.610685</td>\n",
       "    </tr>\n",
       "    <tr>\n",
       "      <th>...</th>\n",
       "      <td>...</td>\n",
       "      <td>...</td>\n",
       "      <td>...</td>\n",
       "      <td>...</td>\n",
       "      <td>...</td>\n",
       "      <td>...</td>\n",
       "      <td>...</td>\n",
       "    </tr>\n",
       "    <tr>\n",
       "      <th>9</th>\n",
       "      <td>gini</td>\n",
       "      <td>55</td>\n",
       "      <td>0.882868</td>\n",
       "      <td>0.854171</td>\n",
       "      <td>0.760232</td>\n",
       "      <td>0.509329</td>\n",
       "      <td>0.609967</td>\n",
       "    </tr>\n",
       "    <tr>\n",
       "      <th>10</th>\n",
       "      <td>gini</td>\n",
       "      <td>65</td>\n",
       "      <td>0.882868</td>\n",
       "      <td>0.854171</td>\n",
       "      <td>0.760232</td>\n",
       "      <td>0.509329</td>\n",
       "      <td>0.609967</td>\n",
       "    </tr>\n",
       "    <tr>\n",
       "      <th>11</th>\n",
       "      <td>gini</td>\n",
       "      <td>15</td>\n",
       "      <td>0.881531</td>\n",
       "      <td>0.853194</td>\n",
       "      <td>0.761093</td>\n",
       "      <td>0.501855</td>\n",
       "      <td>0.604851</td>\n",
       "    </tr>\n",
       "    <tr>\n",
       "      <th>12</th>\n",
       "      <td>entropy</td>\n",
       "      <td>5</td>\n",
       "      <td>0.858720</td>\n",
       "      <td>0.838952</td>\n",
       "      <td>0.783477</td>\n",
       "      <td>0.387943</td>\n",
       "      <td>0.518914</td>\n",
       "    </tr>\n",
       "    <tr>\n",
       "      <th>13</th>\n",
       "      <td>gini</td>\n",
       "      <td>5</td>\n",
       "      <td>0.856788</td>\n",
       "      <td>0.839416</td>\n",
       "      <td>0.779766</td>\n",
       "      <td>0.394163</td>\n",
       "      <td>0.523592</td>\n",
       "    </tr>\n",
       "  </tbody>\n",
       "</table>\n",
       "<p>14 rows × 7 columns</p>\n",
       "</div>"
      ],
      "text/plain": [
       "   param_criterion param_max_depth  mean_test_roc_auc  mean_test_accuracy  \\\n",
       "0          entropy              35           0.885628            0.854819   \n",
       "1          entropy              45           0.885605            0.854306   \n",
       "2          entropy              55           0.885605            0.854306   \n",
       "3          entropy              65           0.885605            0.854306   \n",
       "4          entropy              25           0.885432            0.854684   \n",
       "..             ...             ...                ...                 ...   \n",
       "9             gini              55           0.882868            0.854171   \n",
       "10            gini              65           0.882868            0.854171   \n",
       "11            gini              15           0.881531            0.853194   \n",
       "12         entropy               5           0.858720            0.838952   \n",
       "13            gini               5           0.856788            0.839416   \n",
       "\n",
       "    mean_test_precision  mean_test_recall  mean_test_f1  \n",
       "0              0.764309          0.508347      0.610570  \n",
       "1              0.762155          0.507747      0.609449  \n",
       "2              0.762155          0.507747      0.609449  \n",
       "3              0.762155          0.507747      0.609449  \n",
       "4              0.763025          0.509056      0.610685  \n",
       "..                  ...               ...           ...  \n",
       "9              0.760232          0.509329      0.609967  \n",
       "10             0.760232          0.509329      0.609967  \n",
       "11             0.761093          0.501855      0.604851  \n",
       "12             0.783477          0.387943      0.518914  \n",
       "13             0.779766          0.394163      0.523592  \n",
       "\n",
       "[14 rows x 7 columns]"
      ]
     },
     "execution_count": 17,
     "metadata": {},
     "output_type": "execute_result"
    }
   ],
   "source": [
    "grid_history_table(grid)"
   ]
  },
  {
   "cell_type": "code",
   "execution_count": 18,
   "id": "7f3c982e-b12c-41e4-92da-3213e0cc1ab8",
   "metadata": {},
   "outputs": [
    {
     "data": {
      "text/html": [
       "<div>\n",
       "<style scoped>\n",
       "    .dataframe tbody tr th:only-of-type {\n",
       "        vertical-align: middle;\n",
       "    }\n",
       "\n",
       "    .dataframe tbody tr th {\n",
       "        vertical-align: top;\n",
       "    }\n",
       "\n",
       "    .dataframe thead th {\n",
       "        text-align: right;\n",
       "    }\n",
       "</style>\n",
       "<table border=\"1\" class=\"dataframe\">\n",
       "  <thead>\n",
       "    <tr style=\"text-align: right;\">\n",
       "      <th></th>\n",
       "      <th>AUC-ROC</th>\n",
       "      <th>Accuracy</th>\n",
       "      <th>Precision</th>\n",
       "      <th>Recall</th>\n",
       "      <th>F1 Score</th>\n",
       "    </tr>\n",
       "  </thead>\n",
       "  <tbody>\n",
       "    <tr>\n",
       "      <th>0</th>\n",
       "      <td>0.887824</td>\n",
       "      <td>0.859146</td>\n",
       "      <td>0.783829</td>\n",
       "      <td>0.512003</td>\n",
       "      <td>0.619406</td>\n",
       "    </tr>\n",
       "  </tbody>\n",
       "</table>\n",
       "</div>"
      ],
      "text/plain": [
       "    AUC-ROC  Accuracy  Precision    Recall  F1 Score\n",
       "0  0.887824  0.859146   0.783829  0.512003  0.619406"
      ]
     },
     "execution_count": 18,
     "metadata": {},
     "output_type": "execute_result"
    }
   ],
   "source": [
    "metrics_table(Y_test, grid.best_estimator_.predict(X_test), grid.best_estimator_.predict_proba(X_test)[:,1])"
   ]
  },
  {
   "cell_type": "markdown",
   "id": "6ea03b57-7f6d-43a8-b3bc-dd2f58364391",
   "metadata": {},
   "source": [
    "No se observa ninguna mejora en los scores"
   ]
  },
  {
   "cell_type": "markdown",
   "id": "be7ff1da-c899-4aba-bd41-004f1ffd3e93",
   "metadata": {},
   "source": [
    "### Calibrando el modelo"
   ]
  },
  {
   "cell_type": "markdown",
   "id": "a61441ec-0279-494b-b24f-4bb84e732424",
   "metadata": {},
   "source": [
    "Intentamos mejorar el mejor modelo obtenido hasta ahora realizando una calibración del mismo"
   ]
  },
  {
   "cell_type": "code",
   "execution_count": 19,
   "id": "dedd8534-bec9-46f4-9ac5-7525fa1e87c9",
   "metadata": {},
   "outputs": [
    {
     "data": {
      "text/plain": [
       "CalibratedClassifierCV(base_estimator=RandomForestClassifier(criterion='entropy',\n",
       "                                                             max_depth=35,\n",
       "                                                             n_estimators=300,\n",
       "                                                             n_jobs=-1,\n",
       "                                                             random_state=0))"
      ]
     },
     "execution_count": 19,
     "metadata": {},
     "output_type": "execute_result"
    }
   ],
   "source": [
    "rf = RandomForestClassifier(criterion=\"entropy\",\n",
    "                            n_estimators=300,\n",
    "                            max_depth=35,\n",
    "                            n_jobs=-1,\n",
    "                            random_state=0)\n",
    "\n",
    "calib = CalibratedClassifierCV(rf)\n",
    "calib.fit(X_train, Y_train)"
   ]
  },
  {
   "cell_type": "code",
   "execution_count": 20,
   "id": "fe2ce0b1-1982-40ee-8e4c-a1448a131199",
   "metadata": {},
   "outputs": [
    {
     "data": {
      "text/html": [
       "<div>\n",
       "<style scoped>\n",
       "    .dataframe tbody tr th:only-of-type {\n",
       "        vertical-align: middle;\n",
       "    }\n",
       "\n",
       "    .dataframe tbody tr th {\n",
       "        vertical-align: top;\n",
       "    }\n",
       "\n",
       "    .dataframe thead th {\n",
       "        text-align: right;\n",
       "    }\n",
       "</style>\n",
       "<table border=\"1\" class=\"dataframe\">\n",
       "  <thead>\n",
       "    <tr style=\"text-align: right;\">\n",
       "      <th></th>\n",
       "      <th>AUC-ROC</th>\n",
       "      <th>Accuracy</th>\n",
       "      <th>Precision</th>\n",
       "      <th>Recall</th>\n",
       "      <th>F1 Score</th>\n",
       "    </tr>\n",
       "  </thead>\n",
       "  <tbody>\n",
       "    <tr>\n",
       "      <th>0</th>\n",
       "      <td>0.888955</td>\n",
       "      <td>0.85939</td>\n",
       "      <td>0.764104</td>\n",
       "      <td>0.537975</td>\n",
       "      <td>0.631404</td>\n",
       "    </tr>\n",
       "  </tbody>\n",
       "</table>\n",
       "</div>"
      ],
      "text/plain": [
       "    AUC-ROC  Accuracy  Precision    Recall  F1 Score\n",
       "0  0.888955   0.85939   0.764104  0.537975  0.631404"
      ]
     },
     "execution_count": 20,
     "metadata": {},
     "output_type": "execute_result"
    }
   ],
   "source": [
    "metrics_table(Y_test, calib.predict(X_test), calib.predict_proba(X_test)[:,1])"
   ]
  },
  {
   "cell_type": "markdown",
   "id": "0a52ec7a-52fc-402d-836f-afec86c90c1f",
   "metadata": {},
   "source": [
    "Los resultados mejoraron muy ligeramente, lo cual puede deberse a la calibración, o a una casualidad azaroza."
   ]
  },
  {
   "cell_type": "markdown",
   "id": "840e7242-b8c6-41f2-bc37-8429d1494e88",
   "metadata": {},
   "source": [
    "## Modelo final"
   ]
  },
  {
   "cell_type": "markdown",
   "id": "4fb89d5a-294e-4441-b306-adb0c96e924d",
   "metadata": {},
   "source": [
    "El último modelo obtuvo el mejor score (aunque no varió mucho respecto de otros resultados), y como todos los entrenamientos resultaron en modelos con complejidades similares, podemos tomarlo como el mejor modelo"
   ]
  },
  {
   "cell_type": "markdown",
   "id": "739e3363-f6c2-4b0f-9b92-a2eb82684eb9",
   "metadata": {},
   "source": [
    "## Predicción de nuevos datos"
   ]
  },
  {
   "cell_type": "code",
   "execution_count": 21,
   "id": "9dc5719d-4a51-49d6-90ea-67fd46c96201",
   "metadata": {},
   "outputs": [],
   "source": [
    "df_extra = pd.read_csv(\"datasets/df_extra.csv\", low_memory = False, index_col = \"id\")\n",
    "\n",
    "common(df_extra, fecha_to_int=False)\n",
    "viento_trigonometrico(df_extra)\n",
    "df_features = dia_a_mes(df_extra)\n",
    "df_features = drop_categoricas(df_extra)\n",
    "\n",
    "model = grid.best_estimator_\n",
    "\n",
    "pipe.steps.append((\"random_forest\", model))\n",
    "\n",
    "df_extra_predict = pd.DataFrame({\"id\": df_extra.index, \"llovieron_hamburguesas_al_dia_siguiente\": pipe.predict(df_extra)})\n",
    "df_extra_predict.set_index(\"id\", inplace = True)\n",
    "df_extra_predict.replace({\"llovieron_hamburguesas_al_dia_siguiente\": {0.0: \"no\", 1.0: \"si\"}}, inplace = True)\n",
    "df_extra_predict.to_csv(\"predicciones/RandomForestClassifier.csv\")"
   ]
  },
  {
   "cell_type": "markdown",
   "id": "34719c3e-e040-46ad-b0e1-666bbe12b809",
   "metadata": {},
   "source": [
    "## Predicción en Holdout"
   ]
  },
  {
   "cell_type": "code",
   "execution_count": 22,
   "id": "973e3113-a489-49ef-b794-887347bddbe5",
   "metadata": {},
   "outputs": [],
   "source": [
    "df_features_holdout = pd.read_csv(\"datasets/df_features_holdout.csv\", low_memory = False, index_col = \"id\")\n",
    "df_target_holdout = pd.read_csv(\"datasets/df_target_holdout.csv\", low_memory = False, index_col = \"id\")\n",
    "\n",
    "common(df_features_holdout, df_target_holdout, fecha_to_int=False)\n",
    "viento_trigonometrico(df_features_holdout)\n",
    "df_features_holdout = dia_a_mes(df_features_holdout)\n",
    "df_features_holdout = drop_categoricas(df_features_holdout)"
   ]
  },
  {
   "cell_type": "code",
   "execution_count": 23,
   "id": "7502c607-ac03-48b4-ac20-7d7939f6db5a",
   "metadata": {},
   "outputs": [
    {
     "data": {
      "text/html": [
       "<div>\n",
       "<style scoped>\n",
       "    .dataframe tbody tr th:only-of-type {\n",
       "        vertical-align: middle;\n",
       "    }\n",
       "\n",
       "    .dataframe tbody tr th {\n",
       "        vertical-align: top;\n",
       "    }\n",
       "\n",
       "    .dataframe thead th {\n",
       "        text-align: right;\n",
       "    }\n",
       "</style>\n",
       "<table border=\"1\" class=\"dataframe\">\n",
       "  <thead>\n",
       "    <tr style=\"text-align: right;\">\n",
       "      <th></th>\n",
       "      <th>AUC-ROC</th>\n",
       "      <th>Accuracy</th>\n",
       "      <th>Precision</th>\n",
       "      <th>Recall</th>\n",
       "      <th>F1 Score</th>\n",
       "    </tr>\n",
       "  </thead>\n",
       "  <tbody>\n",
       "    <tr>\n",
       "      <th>0</th>\n",
       "      <td>0.887376</td>\n",
       "      <td>0.853856</td>\n",
       "      <td>0.766687</td>\n",
       "      <td>0.493886</td>\n",
       "      <td>0.600768</td>\n",
       "    </tr>\n",
       "  </tbody>\n",
       "</table>\n",
       "</div>"
      ],
      "text/plain": [
       "    AUC-ROC  Accuracy  Precision    Recall  F1 Score\n",
       "0  0.887376  0.853856   0.766687  0.493886  0.600768"
      ]
     },
     "execution_count": 23,
     "metadata": {},
     "output_type": "execute_result"
    }
   ],
   "source": [
    "metrics_table(df_target_holdout, pipe.predict(df_features_holdout), pipe.predict_proba(df_features_holdout)[:,1])"
   ]
  },
  {
   "cell_type": "code",
   "execution_count": 24,
   "id": "d0ee5ed7-bc1c-42f1-a560-36e9d3c1e39d",
   "metadata": {},
   "outputs": [
    {
     "data": {
      "image/png": "[encoded data removed]",
      "text/plain": [
       "<Figure size 1080x360 with 3 Axes>"
      ]
     },
     "metadata": {
      "needs_background": "light"
     },
     "output_type": "display_data"
    }
   ],
   "source": [
    "fig, axs = plt.subplots(1, 2, figsize=(15,5))\n",
    "\n",
    "ConfusionMatrixDisplay.from_predictions(df_target_holdout, pipe.predict(df_features_holdout), ax=axs[0])\n",
    "RocCurveDisplay.from_predictions(df_target_holdout, pipe.predict_proba(df_features_holdout)[:,1], ax=axs[1], name=\"RandomTree\")\n",
    "plt.show()"
   ]
  },
  {
   "cell_type": "markdown",
   "id": "ff2a76d8-796d-45c2-8b2c-2f6bbe9014b9",
   "metadata": {},
   "source": [
    "Vemos que las predicciones fueron bastante buenas. Los scores diminuyeron un poco (excepto Precision, que aumentó un $0.26\\%$), como es esperable, pero el área bajo la curva ROC se mantuvo prácticamente igual. Las métricas que más empeoraron fueron Recall y F1 Score. Esto indica que se detectó un porcentaje menor de instancias positivas, con lo cual el número de *True Positives* fue menor."
   ]
  }
 ],
 "metadata": {
  "kernelspec": {
   "display_name": "Python 3 (ipykernel)",
   "language": "python",
   "name": "python3"
  },
  "language_info": {
   "codemirror_mode": {
    "name": "ipython",
    "version": 3
   },
   "file_extension": ".py",
   "mimetype": "text/x-python",
   "name": "python",
   "nbconvert_exporter": "python",
   "pygments_lexer": "ipython3",
   "version": "3.8.10"
  }
 },
 "nbformat": 4,
 "nbformat_minor": 5
}
