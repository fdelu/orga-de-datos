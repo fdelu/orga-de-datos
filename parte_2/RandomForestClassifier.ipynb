{
 "cells": [
  {
   "cell_type": "markdown",
   "id": "d3317a4c-2af8-4d32-ab14-e1c65d9ab702",
   "metadata": {},
   "source": [
    "# RandomForestClassifier"
   ]
  },
  {
   "cell_type": "markdown",
   "id": "de157365-0926-4c6f-bda4-4906bd191789",
   "metadata": {},
   "source": [
    "Este modelo se trata de un ensamble de muchos árboles de decisión, con el fin de reducir la varianza del modelo resultante. Como ya entrenamos un árbol de decisión simple, podemos usar los hiperparámetros conseguidos en dicho modelo como estimador base para el random forest."
   ]
  },
  {
   "cell_type": "code",
   "execution_count": 11,
   "id": "ec047ce5-27db-4a50-b406-60550eb93572",
   "metadata": {},
   "outputs": [
    {
     "name": "stdout",
     "output_type": "stream",
     "text": [
      "The autoreload extension is already loaded. To reload it, use:\n",
      "  %reload_ext autoreload\n"
     ]
    }
   ],
   "source": [
    "%load_ext autoreload\n",
    "%autoreload 2\n",
    "from preprocessing import *\n",
    "from sklearn.metrics import roc_auc_score, accuracy_score, ConfusionMatrixDisplay\n",
    "from sklearn.ensemble import RandomForestClassifier\n",
    "from sklearn.model_selection import train_test_split, cross_val_score, cross_val_predict\n",
    "from sklearn.model_selection import GridSearchCV\n",
    "from sklearn.pipeline import Pipeline\n",
    "import pandas as pd\n",
    "import numpy as np\n",
    "from joblib import dump, load"
   ]
  },
  {
   "cell_type": "markdown",
   "id": "a2f1c052-afde-4e1f-a6de-5053ddfb91e4",
   "metadata": {},
   "source": [
    "## Métricas y scorings"
   ]
  },
  {
   "cell_type": "code",
   "execution_count": 2,
   "id": "fbccf1cd-2a23-45e4-85e2-b29b2f7f0b40",
   "metadata": {},
   "outputs": [],
   "source": [
    "SCORINGS = [\"f1\", \"roc_auc\", \"accuracy\", \"recall\", \"precision\"]\n",
    "METRIC = \"roc_auc\"\n",
    "\n",
    "def tabla(grid, params):\n",
    "    tabla = pd.DataFrame(grid.cv_results_)\n",
    "    tabla.sort_values(\"rank_test_\" + METRIC, inplace = True)\n",
    "    tabla.reset_index(inplace = True)\n",
    "    cols = [\"param_rf__\" + x for x in params] + [\"mean_test_\" + x for x in SCORINGS]\n",
    "    return tabla[cols]"
   ]
  },
  {
   "cell_type": "markdown",
   "id": "397956e8-6f26-4a51-9023-0d6f3ca3d6bf",
   "metadata": {},
   "source": [
    "## Preprocessing"
   ]
  },
  {
   "cell_type": "code",
   "execution_count": 4,
   "id": "d8c07c7c-c9ee-4323-890f-39075e099913",
   "metadata": {},
   "outputs": [],
   "source": [
    "initialize_dataset()\n",
    "df_features = pd.read_csv(\"datasets/df_features.csv\", low_memory = False, index_col = \"id\")\n",
    "df_target = pd.read_csv(\"datasets/df_target.csv\", low_memory=False, index_col = \"id\")\n",
    "\n",
    "common(df_features, df_target, fecha_to_int=False)\n",
    "\n",
    "viento_trigonometrico(df_features)\n",
    "df_features = dia_a_mes(df_features)\n",
    "# Dropeamos la feature de barrio porque vimos que en los arboles de decision\n",
    "# no fue una feature util\n",
    "df_features.drop(columns=\"barrio\", inplace=True)"
   ]
  },
  {
   "cell_type": "markdown",
   "id": "da5ee960-87fc-4c8d-9345-1a26f38f7e73",
   "metadata": {},
   "source": [
    "## Grid search de hiperparámetros"
   ]
  },
  {
   "cell_type": "code",
   "execution_count": 5,
   "id": "6a0fd5b5-3d72-4cb9-b9d2-a3ea6b752998",
   "metadata": {},
   "outputs": [
    {
     "data": {
      "text/plain": [
       "0.8693378779169398"
      ]
     },
     "execution_count": 5,
     "metadata": {},
     "output_type": "execute_result"
    }
   ],
   "source": [
    "parameters = {\n",
    "    \"rf__n_estimators\": np.arange(10,500,50),\n",
    "}\n",
    "\n",
    "pipe = Pipeline([\n",
    "    (\"imp\", SimpleImputer()),\n",
    "    (\"rf\", RandomForestClassifier(criterion=\"entropy\", max_depth=10, min_samples_split=575, random_state=0))\n",
    "])\n",
    "\n",
    "grid = GridSearchCV(pipe, param_grid=parameters,\n",
    "                                       cv = 5,\n",
    "                                       scoring = SCORINGS,\n",
    "                                       refit=METRIC,\n",
    "                                       n_jobs = -1)\n",
    "\n",
    "grid.fit(df_features, df_target.values.ravel())\n",
    "grid.best_score_"
   ]
  },
  {
   "cell_type": "code",
   "execution_count": 6,
   "id": "dd6bb677-e719-4c2b-800c-6053e9561d36",
   "metadata": {},
   "outputs": [
    {
     "data": {
      "text/html": [
       "<div>\n",
       "<style scoped>\n",
       "    .dataframe tbody tr th:only-of-type {\n",
       "        vertical-align: middle;\n",
       "    }\n",
       "\n",
       "    .dataframe tbody tr th {\n",
       "        vertical-align: top;\n",
       "    }\n",
       "\n",
       "    .dataframe thead th {\n",
       "        text-align: right;\n",
       "    }\n",
       "</style>\n",
       "<table border=\"1\" class=\"dataframe\">\n",
       "  <thead>\n",
       "    <tr style=\"text-align: right;\">\n",
       "      <th></th>\n",
       "      <th>param_rf__n_estimators</th>\n",
       "      <th>mean_test_f1</th>\n",
       "      <th>mean_test_roc_auc</th>\n",
       "      <th>mean_test_accuracy</th>\n",
       "      <th>mean_test_recall</th>\n",
       "      <th>mean_test_precision</th>\n",
       "    </tr>\n",
       "  </thead>\n",
       "  <tbody>\n",
       "    <tr>\n",
       "      <th>0</th>\n",
       "      <td>360</td>\n",
       "      <td>0.547601</td>\n",
       "      <td>0.869338</td>\n",
       "      <td>0.843636</td>\n",
       "      <td>0.422705</td>\n",
       "      <td>0.777377</td>\n",
       "    </tr>\n",
       "    <tr>\n",
       "      <th>1</th>\n",
       "      <td>460</td>\n",
       "      <td>0.548166</td>\n",
       "      <td>0.869225</td>\n",
       "      <td>0.843733</td>\n",
       "      <td>0.423403</td>\n",
       "      <td>0.777301</td>\n",
       "    </tr>\n",
       "    <tr>\n",
       "      <th>2</th>\n",
       "      <td>410</td>\n",
       "      <td>0.546868</td>\n",
       "      <td>0.869166</td>\n",
       "      <td>0.843382</td>\n",
       "      <td>0.422137</td>\n",
       "      <td>0.776323</td>\n",
       "    </tr>\n",
       "    <tr>\n",
       "      <th>3</th>\n",
       "      <td>310</td>\n",
       "      <td>0.548494</td>\n",
       "      <td>0.869131</td>\n",
       "      <td>0.843558</td>\n",
       "      <td>0.424450</td>\n",
       "      <td>0.775121</td>\n",
       "    </tr>\n",
       "    <tr>\n",
       "      <th>4</th>\n",
       "      <td>160</td>\n",
       "      <td>0.548688</td>\n",
       "      <td>0.869070</td>\n",
       "      <td>0.843352</td>\n",
       "      <td>0.425323</td>\n",
       "      <td>0.772943</td>\n",
       "    </tr>\n",
       "    <tr>\n",
       "      <th>5</th>\n",
       "      <td>210</td>\n",
       "      <td>0.547847</td>\n",
       "      <td>0.868995</td>\n",
       "      <td>0.843528</td>\n",
       "      <td>0.423403</td>\n",
       "      <td>0.775981</td>\n",
       "    </tr>\n",
       "    <tr>\n",
       "      <th>6</th>\n",
       "      <td>110</td>\n",
       "      <td>0.546620</td>\n",
       "      <td>0.868994</td>\n",
       "      <td>0.843274</td>\n",
       "      <td>0.422006</td>\n",
       "      <td>0.775749</td>\n",
       "    </tr>\n",
       "    <tr>\n",
       "      <th>7</th>\n",
       "      <td>260</td>\n",
       "      <td>0.547227</td>\n",
       "      <td>0.868980</td>\n",
       "      <td>0.843479</td>\n",
       "      <td>0.422486</td>\n",
       "      <td>0.776586</td>\n",
       "    </tr>\n",
       "    <tr>\n",
       "      <th>8</th>\n",
       "      <td>60</td>\n",
       "      <td>0.546659</td>\n",
       "      <td>0.868731</td>\n",
       "      <td>0.843411</td>\n",
       "      <td>0.421700</td>\n",
       "      <td>0.776957</td>\n",
       "    </tr>\n",
       "    <tr>\n",
       "      <th>9</th>\n",
       "      <td>10</td>\n",
       "      <td>0.546884</td>\n",
       "      <td>0.865070</td>\n",
       "      <td>0.842014</td>\n",
       "      <td>0.425934</td>\n",
       "      <td>0.764267</td>\n",
       "    </tr>\n",
       "  </tbody>\n",
       "</table>\n",
       "</div>"
      ],
      "text/plain": [
       "  param_rf__n_estimators  mean_test_f1  mean_test_roc_auc  mean_test_accuracy  \\\n",
       "0                    360      0.547601           0.869338            0.843636   \n",
       "1                    460      0.548166           0.869225            0.843733   \n",
       "2                    410      0.546868           0.869166            0.843382   \n",
       "3                    310      0.548494           0.869131            0.843558   \n",
       "4                    160      0.548688           0.869070            0.843352   \n",
       "5                    210      0.547847           0.868995            0.843528   \n",
       "6                    110      0.546620           0.868994            0.843274   \n",
       "7                    260      0.547227           0.868980            0.843479   \n",
       "8                     60      0.546659           0.868731            0.843411   \n",
       "9                     10      0.546884           0.865070            0.842014   \n",
       "\n",
       "   mean_test_recall  mean_test_precision  \n",
       "0          0.422705             0.777377  \n",
       "1          0.423403             0.777301  \n",
       "2          0.422137             0.776323  \n",
       "3          0.424450             0.775121  \n",
       "4          0.425323             0.772943  \n",
       "5          0.423403             0.775981  \n",
       "6          0.422006             0.775749  \n",
       "7          0.422486             0.776586  \n",
       "8          0.421700             0.776957  \n",
       "9          0.425934             0.764267  "
      ]
     },
     "execution_count": 6,
     "metadata": {},
     "output_type": "execute_result"
    }
   ],
   "source": [
    "tabla(grid, [\"n_estimators\"]).head(10)"
   ]
  },
  {
   "cell_type": "markdown",
   "id": "2bb296ff-2552-4b35-95bb-d73fefa5033d",
   "metadata": {},
   "source": [
    "Los modelos resultaron ser un poco mejores que al utilizar un único árbol (~87% vs ~85.6% en AUC ROC). Es interesante notar que los modelos con pocos estimadores también dieron buenos resultados. Sin embargo, no es un hiperparámetro que suela generar overfit, por lo que podemos decir que el mejor modelo resultante de este entrenamiento es el primero"
   ]
  },
  {
   "cell_type": "code",
   "execution_count": 7,
   "id": "2c02d122-de72-43a2-9545-86483e0fd023",
   "metadata": {},
   "outputs": [
    {
     "data": {
      "text/plain": [
       "['RandomForestClassifier/preprocessing1.joblib']"
      ]
     },
     "execution_count": 7,
     "metadata": {},
     "output_type": "execute_result"
    }
   ],
   "source": [
    "dump(grid.best_estimator_, 'RandomForestClassifier/preprocessing1.joblib')"
   ]
  },
  {
   "cell_type": "markdown",
   "id": "738f72b7-fa9f-4789-9e24-6da710acd15f",
   "metadata": {},
   "source": [
    "### Matriz de confusión"
   ]
  },
  {
   "cell_type": "code",
   "execution_count": 13,
   "id": "a127d350-4c20-437e-bc83-4862c2201a8e",
   "metadata": {},
   "outputs": [
    {
     "data": {
      "text/plain": [
       "<sklearn.metrics._plot.confusion_matrix.ConfusionMatrixDisplay at 0x7fd3f611c4f0>"
      ]
     },
     "execution_count": 13,
     "metadata": {},
     "output_type": "execute_result"
    },
    {
     "data": {
      "image/png": "[encoded data removed]",
      "text/plain": [
       "<Figure size 432x288 with 2 Axes>"
      ]
     },
     "metadata": {
      "needs_background": "light"
     },
     "output_type": "display_data"
    }
   ],
   "source": [
    "ConfusionMatrixDisplay.from_predictions(df_target.values.ravel(), cross_val_predict(grid.best_estimator_, df_features, df_target.values.ravel()))"
   ]
  },
  {
   "cell_type": "markdown",
   "id": "54da450e-9bc9-4178-97dc-36937f9ecaef",
   "metadata": {},
   "source": [
    "Tal y como vimos con los árboles de decisión, hay una gran cantidad de falsos negativos. Podemos intentar mejorar esto balanceando los pesos de las clases"
   ]
  },
  {
   "cell_type": "markdown",
   "id": "c02f8a34-c0fe-456d-a5d8-a623450c3c8b",
   "metadata": {},
   "source": [
    "## Balanceo de pesos"
   ]
  },
  {
   "cell_type": "code",
   "execution_count": 15,
   "id": "74c8da2a-68f7-4ead-9c2b-57f811761809",
   "metadata": {},
   "outputs": [
    {
     "data": {
      "text/plain": [
       "0.870050737367594"
      ]
     },
     "execution_count": 15,
     "metadata": {},
     "output_type": "execute_result"
    }
   ],
   "source": [
    "parameters = {\n",
    "    \"rf__n_estimators\": np.arange(100,500,100),\n",
    "}\n",
    "\n",
    "pipe = Pipeline([\n",
    "    (\"imp\", SimpleImputer()),\n",
    "    (\"rf\", RandomForestClassifier(criterion=\"entropy\", max_depth=10, min_samples_split=575, class_weight=\"balanced\", random_state=0))\n",
    "])\n",
    "\n",
    "grid = GridSearchCV(pipe, param_grid=parameters,\n",
    "                                       cv = 5,\n",
    "                                       scoring = SCORINGS,\n",
    "                                       refit=METRIC,\n",
    "                                       n_jobs = -1)\n",
    "\n",
    "grid.fit(df_features, df_target.values.ravel())\n",
    "grid.best_score_"
   ]
  },
  {
   "cell_type": "code",
   "execution_count": 16,
   "id": "e3ed21f0-18c7-449f-bfbc-272b15901b54",
   "metadata": {},
   "outputs": [
    {
     "data": {
      "text/html": [
       "<div>\n",
       "<style scoped>\n",
       "    .dataframe tbody tr th:only-of-type {\n",
       "        vertical-align: middle;\n",
       "    }\n",
       "\n",
       "    .dataframe tbody tr th {\n",
       "        vertical-align: top;\n",
       "    }\n",
       "\n",
       "    .dataframe thead th {\n",
       "        text-align: right;\n",
       "    }\n",
       "</style>\n",
       "<table border=\"1\" class=\"dataframe\">\n",
       "  <thead>\n",
       "    <tr style=\"text-align: right;\">\n",
       "      <th></th>\n",
       "      <th>param_rf__n_estimators</th>\n",
       "      <th>mean_test_f1</th>\n",
       "      <th>mean_test_roc_auc</th>\n",
       "      <th>mean_test_accuracy</th>\n",
       "      <th>mean_test_recall</th>\n",
       "      <th>mean_test_precision</th>\n",
       "    </tr>\n",
       "  </thead>\n",
       "  <tbody>\n",
       "    <tr>\n",
       "      <th>0</th>\n",
       "      <td>300</td>\n",
       "      <td>0.622370</td>\n",
       "      <td>0.870051</td>\n",
       "      <td>0.789042</td>\n",
       "      <td>0.776405</td>\n",
       "      <td>0.519348</td>\n",
       "    </tr>\n",
       "    <tr>\n",
       "      <th>1</th>\n",
       "      <td>400</td>\n",
       "      <td>0.622323</td>\n",
       "      <td>0.870016</td>\n",
       "      <td>0.788798</td>\n",
       "      <td>0.777147</td>\n",
       "      <td>0.518950</td>\n",
       "    </tr>\n",
       "    <tr>\n",
       "      <th>2</th>\n",
       "      <td>200</td>\n",
       "      <td>0.621659</td>\n",
       "      <td>0.869931</td>\n",
       "      <td>0.788260</td>\n",
       "      <td>0.776929</td>\n",
       "      <td>0.518126</td>\n",
       "    </tr>\n",
       "    <tr>\n",
       "      <th>3</th>\n",
       "      <td>100</td>\n",
       "      <td>0.621311</td>\n",
       "      <td>0.869674</td>\n",
       "      <td>0.788290</td>\n",
       "      <td>0.775663</td>\n",
       "      <td>0.518215</td>\n",
       "    </tr>\n",
       "  </tbody>\n",
       "</table>\n",
       "</div>"
      ],
      "text/plain": [
       "  param_rf__n_estimators  mean_test_f1  mean_test_roc_auc  mean_test_accuracy  \\\n",
       "0                    300      0.622370           0.870051            0.789042   \n",
       "1                    400      0.622323           0.870016            0.788798   \n",
       "2                    200      0.621659           0.869931            0.788260   \n",
       "3                    100      0.621311           0.869674            0.788290   \n",
       "\n",
       "   mean_test_recall  mean_test_precision  \n",
       "0          0.776405             0.519348  \n",
       "1          0.777147             0.518950  \n",
       "2          0.776929             0.518126  \n",
       "3          0.775663             0.518215  "
      ]
     },
     "execution_count": 16,
     "metadata": {},
     "output_type": "execute_result"
    }
   ],
   "source": [
    "tabla(grid, [\"n_estimators\"])"
   ]
  },
  {
   "cell_type": "markdown",
   "id": "2f560c54-ee98-4b25-bcaf-5cbb179e181f",
   "metadata": {},
   "source": [
    "Los resultados fueron prácticamente iguales, por lo que no parece ser un parámetro relevante, tal y como ocurrió con los árboles de decisión."
   ]
  },
  {
   "cell_type": "markdown",
   "id": "e587663c-6cac-448a-a6e2-17133e7fbed6",
   "metadata": {},
   "source": [
    "### Importancia de las features"
   ]
  },
  {
   "cell_type": "code",
   "execution_count": 20,
   "id": "bdb14b90-2917-404c-8ed8-6b827ff7ffcb",
   "metadata": {},
   "outputs": [
    {
     "data": {
      "text/html": [
       "<div>\n",
       "<style scoped>\n",
       "    .dataframe tbody tr th:only-of-type {\n",
       "        vertical-align: middle;\n",
       "    }\n",
       "\n",
       "    .dataframe tbody tr th {\n",
       "        vertical-align: top;\n",
       "    }\n",
       "\n",
       "    .dataframe thead th {\n",
       "        text-align: right;\n",
       "    }\n",
       "</style>\n",
       "<table border=\"1\" class=\"dataframe\">\n",
       "  <thead>\n",
       "    <tr style=\"text-align: right;\">\n",
       "      <th></th>\n",
       "      <th>importancia</th>\n",
       "    </tr>\n",
       "    <tr>\n",
       "      <th>feature</th>\n",
       "      <th></th>\n",
       "    </tr>\n",
       "  </thead>\n",
       "  <tbody>\n",
       "    <tr>\n",
       "      <th>humedad_tarde</th>\n",
       "      <td>0.322118</td>\n",
       "    </tr>\n",
       "    <tr>\n",
       "      <th>mm_lluvia_dia</th>\n",
       "      <td>0.124898</td>\n",
       "    </tr>\n",
       "    <tr>\n",
       "      <th>horas_de_sol</th>\n",
       "      <td>0.105567</td>\n",
       "    </tr>\n",
       "    <tr>\n",
       "      <th>nubosidad_tarde</th>\n",
       "      <td>0.077518</td>\n",
       "    </tr>\n",
       "    <tr>\n",
       "      <th>presion_atmosferica_tarde</th>\n",
       "      <td>0.060258</td>\n",
       "    </tr>\n",
       "    <tr>\n",
       "      <th>rafaga_viento_max_velocidad</th>\n",
       "      <td>0.058960</td>\n",
       "    </tr>\n",
       "    <tr>\n",
       "      <th>humedad_temprano</th>\n",
       "      <td>0.058042</td>\n",
       "    </tr>\n",
       "    <tr>\n",
       "      <th>presion_atmosferica_temprano</th>\n",
       "      <td>0.054022</td>\n",
       "    </tr>\n",
       "    <tr>\n",
       "      <th>nubosidad_temprano</th>\n",
       "      <td>0.032712</td>\n",
       "    </tr>\n",
       "    <tr>\n",
       "      <th>temperatura_tarde</th>\n",
       "      <td>0.021694</td>\n",
       "    </tr>\n",
       "  </tbody>\n",
       "</table>\n",
       "</div>"
      ],
      "text/plain": [
       "                              importancia\n",
       "feature                                  \n",
       "humedad_tarde                    0.322118\n",
       "mm_lluvia_dia                    0.124898\n",
       "horas_de_sol                     0.105567\n",
       "nubosidad_tarde                  0.077518\n",
       "presion_atmosferica_tarde        0.060258\n",
       "rafaga_viento_max_velocidad      0.058960\n",
       "humedad_temprano                 0.058042\n",
       "presion_atmosferica_temprano     0.054022\n",
       "nubosidad_temprano               0.032712\n",
       "temperatura_tarde                0.021694"
      ]
     },
     "execution_count": 20,
     "metadata": {},
     "output_type": "execute_result"
    }
   ],
   "source": [
    "pd.DataFrame(zip(df_features.columns, grid.best_estimator_[1].feature_importances_), columns=[\"feature\", \"importancia\"])\\\n",
    ".set_index(\"feature\")\\\n",
    ".sort_values(by=\"importancia\", ascending=False)\\\n",
    ".head(10)"
   ]
  },
  {
   "cell_type": "code",
   "execution_count": 22,
   "id": "db1c02e6-674e-42e8-b1c9-0b38b2b6aa75",
   "metadata": {},
   "outputs": [
    {
     "data": {
      "text/html": [
       "<div>\n",
       "<style scoped>\n",
       "    .dataframe tbody tr th:only-of-type {\n",
       "        vertical-align: middle;\n",
       "    }\n",
       "\n",
       "    .dataframe tbody tr th {\n",
       "        vertical-align: top;\n",
       "    }\n",
       "\n",
       "    .dataframe thead th {\n",
       "        text-align: right;\n",
       "    }\n",
       "</style>\n",
       "<table border=\"1\" class=\"dataframe\">\n",
       "  <thead>\n",
       "    <tr style=\"text-align: right;\">\n",
       "      <th></th>\n",
       "      <th>importancia</th>\n",
       "    </tr>\n",
       "    <tr>\n",
       "      <th>feature</th>\n",
       "      <th></th>\n",
       "    </tr>\n",
       "  </thead>\n",
       "  <tbody>\n",
       "    <tr>\n",
       "      <th>sin_viento_temprano</th>\n",
       "      <td>0.009959</td>\n",
       "    </tr>\n",
       "    <tr>\n",
       "      <th>temperatura_temprano</th>\n",
       "      <td>0.009231</td>\n",
       "    </tr>\n",
       "    <tr>\n",
       "      <th>velocidad_viento_tarde</th>\n",
       "      <td>0.005205</td>\n",
       "    </tr>\n",
       "    <tr>\n",
       "      <th>mm_evaporados_agua</th>\n",
       "      <td>0.004582</td>\n",
       "    </tr>\n",
       "    <tr>\n",
       "      <th>sin_rafaga_viento_max_direccion</th>\n",
       "      <td>0.003963</td>\n",
       "    </tr>\n",
       "    <tr>\n",
       "      <th>cos_rafaga_viento_max_direccion</th>\n",
       "      <td>0.003736</td>\n",
       "    </tr>\n",
       "    <tr>\n",
       "      <th>velocidad_viento_temprano</th>\n",
       "      <td>0.003167</td>\n",
       "    </tr>\n",
       "    <tr>\n",
       "      <th>cos_viento_tarde</th>\n",
       "      <td>0.003142</td>\n",
       "    </tr>\n",
       "    <tr>\n",
       "      <th>mes</th>\n",
       "      <td>0.002315</td>\n",
       "    </tr>\n",
       "    <tr>\n",
       "      <th>cos_viento_temprano</th>\n",
       "      <td>0.002060</td>\n",
       "    </tr>\n",
       "  </tbody>\n",
       "</table>\n",
       "</div>"
      ],
      "text/plain": [
       "                                 importancia\n",
       "feature                                     \n",
       "sin_viento_temprano                 0.009959\n",
       "temperatura_temprano                0.009231\n",
       "velocidad_viento_tarde              0.005205\n",
       "mm_evaporados_agua                  0.004582\n",
       "sin_rafaga_viento_max_direccion     0.003963\n",
       "cos_rafaga_viento_max_direccion     0.003736\n",
       "velocidad_viento_temprano           0.003167\n",
       "cos_viento_tarde                    0.003142\n",
       "mes                                 0.002315\n",
       "cos_viento_temprano                 0.002060"
      ]
     },
     "execution_count": 22,
     "metadata": {},
     "output_type": "execute_result"
    }
   ],
   "source": [
    "pd.DataFrame(zip(df_features.columns, grid.best_estimator_[1].feature_importances_), columns=[\"feature\", \"importancia\"])\\\n",
    ".set_index(\"feature\")\\\n",
    ".sort_values(by=\"importancia\", ascending=False)\\\n",
    ".tail(10)"
   ]
  },
  {
   "cell_type": "markdown",
   "id": "81b8132b-c14b-4f6c-bfed-30f661e625a5",
   "metadata": {},
   "source": [
    "A diferencia de los árboles de decisión, en el random forest las importancias de las features se encuentran distribuidas de una forma más equitativa. Esto es porque cada árbol recibe un subset de features que puede utilizar para las predicciones, por lo que no siempre podrá utilizar los mejores predictores del dataset"
   ]
  },
  {
   "cell_type": "code",
   "execution_count": 23,
   "id": "4441d94d-ba32-41eb-8c81-8157ec840232",
   "metadata": {},
   "outputs": [
    {
     "data": {
      "text/plain": [
       "['RandomForestClassifier/balanced.joblib']"
      ]
     },
     "execution_count": 23,
     "metadata": {},
     "output_type": "execute_result"
    }
   ],
   "source": [
    "dump(grid.best_estimator_, 'RandomForestClassifier/balanced.joblib')"
   ]
  }
 ],
 "metadata": {
  "kernelspec": {
   "display_name": "Python 3 (ipykernel)",
   "language": "python",
   "name": "python3"
  },
  "language_info": {
   "codemirror_mode": {
    "name": "ipython",
    "version": 3
   },
   "file_extension": ".py",
   "mimetype": "text/x-python",
   "name": "python",
   "nbconvert_exporter": "python",
   "pygments_lexer": "ipython3",
   "version": "3.8.10"
  }
 },
 "nbformat": 4,
 "nbformat_minor": 5
}
