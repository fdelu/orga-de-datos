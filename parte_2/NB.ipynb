{
 "cells": [
  {
   "cell_type": "markdown",
   "id": "b2207058-50a0-4fe0-963e-6582bb3a1a6c",
   "metadata": {},
   "source": [
    "# Naive Bayes (Gaussiano)"
   ]
  },
  {
   "cell_type": "code",
   "execution_count": 1,
   "id": "a4f78149-44d2-48ba-88cd-9078cc0b84dc",
   "metadata": {},
   "outputs": [],
   "source": [
    "%load_ext autoreload\n",
    "%autoreload 2\n",
    "from preprocessing import *\n",
    "from sklearn.naive_bayes import GaussianNB\n",
    "from sklearn.model_selection import train_test_split, GridSearchCV, StratifiedKFold\n",
    "from sklearn.pipeline import Pipeline\n",
    "from sklearn.feature_selection import SequentialFeatureSelector\n",
    "import numpy as np\n",
    "import pandas as pd"
   ]
  },
  {
   "cell_type": "code",
   "execution_count": 2,
   "id": "d27a0205-ab4b-40ac-8010-f1bcc2fe1b9c",
   "metadata": {},
   "outputs": [],
   "source": [
    "SCORINGS = [\"f1\", \"roc_auc\", \"accuracy\", \"recall\", \"precision\"]\n",
    "METRIC = \"roc_auc\"\n",
    "\n",
    "def tabla(grid):\n",
    "    tabla = pd.DataFrame(grid.cv_results_)\n",
    "    tabla['param_nb__var_smoothing'] = tabla['param_nb__var_smoothing'].map('{:.3e}'.format)\n",
    "    tabla.sort_values(\"rank_test_\" + METRIC, inplace = True)\n",
    "    tabla.reset_index(inplace = True)\n",
    "    cols = [\"param_nb__var_smoothing\"] + [\"mean_test_\" + x for x in SCORINGS]\n",
    "    return tabla[cols]"
   ]
  },
  {
   "cell_type": "markdown",
   "id": "49958fd5-911e-4c52-865f-c3c8a4a40568",
   "metadata": {},
   "source": [
    "## Modelo inicial"
   ]
  },
  {
   "cell_type": "markdown",
   "id": "e309a746-7b41-4de6-b2f0-388881320f47",
   "metadata": {},
   "source": [
    "Algo a considerar es que Gaussian Naive Bayes contempla más que nada variables continuas. Para este primer modelo, por ahora, vamos a probar a dejar las numéricas que son discretas (nubosidad), pero en este modelo no vamos a utilizar la feature de \"barrio\" que es de clasificación."
   ]
  },
  {
   "cell_type": "code",
   "execution_count": 3,
   "id": "09d6e7f2-a328-4dec-8a51-de3173a2d40b",
   "metadata": {},
   "outputs": [],
   "source": [
    "initialize_dataset()\n",
    "df_features = pd.read_csv(\"datasets/df_features.csv\", low_memory = False, index_col = \"id\")\n",
    "df_target = pd.read_csv(\"datasets/df_target.csv\", low_memory = False, index_col = \"id\")\n",
    "\n",
    "# No utilizamos estandarización ya que el NB se encarga \n",
    "initialize_dataset()\n",
    "common(df_features, df_target)\n",
    "viento_trigonometrico(df_features)\n",
    "drop_categoricas(df_features)\n",
    "pipe = iterative_imputer()"
   ]
  },
  {
   "cell_type": "code",
   "execution_count": 4,
   "id": "397cff0f-d7a1-4bc1-a8b3-c55649341948",
   "metadata": {},
   "outputs": [
    {
     "name": "stdout",
     "output_type": "stream",
     "text": [
      "Fitting 3 folds for each of 16 candidates, totalling 48 fits\n"
     ]
    },
    {
     "data": {
      "text/plain": [
       "0.8330730231196685"
      ]
     },
     "execution_count": 4,
     "metadata": {},
     "output_type": "execute_result"
    }
   ],
   "source": [
    "pipe.steps.append(['nb', GaussianNB()])\n",
    "\n",
    "grid = GridSearchCV(pipe, param_grid = {'nb__var_smoothing': np.logspace(-15, 1, num=16)},\n",
    "                    verbose = 1, n_jobs = -1, cv = StratifiedKFold(3), scoring = SCORINGS, refit = METRIC)\n",
    "\n",
    "grid.fit(df_features, df_target.values.ravel())\n",
    "\n",
    "grid.best_score_"
   ]
  },
  {
   "cell_type": "code",
   "execution_count": 5,
   "id": "a617e130-96a9-47e2-bfef-143bac4ecb65",
   "metadata": {},
   "outputs": [
    {
     "data": {
      "text/html": [
       "<div>\n",
       "<style scoped>\n",
       "    .dataframe tbody tr th:only-of-type {\n",
       "        vertical-align: middle;\n",
       "    }\n",
       "\n",
       "    .dataframe tbody tr th {\n",
       "        vertical-align: top;\n",
       "    }\n",
       "\n",
       "    .dataframe thead th {\n",
       "        text-align: right;\n",
       "    }\n",
       "</style>\n",
       "<table border=\"1\" class=\"dataframe\">\n",
       "  <thead>\n",
       "    <tr style=\"text-align: right;\">\n",
       "      <th></th>\n",
       "      <th>param_nb__var_smoothing</th>\n",
       "      <th>mean_test_f1</th>\n",
       "      <th>mean_test_roc_auc</th>\n",
       "      <th>mean_test_accuracy</th>\n",
       "      <th>mean_test_recall</th>\n",
       "      <th>mean_test_precision</th>\n",
       "    </tr>\n",
       "  </thead>\n",
       "  <tbody>\n",
       "    <tr>\n",
       "      <th>0</th>\n",
       "      <td>2.929e-08</td>\n",
       "      <td>0.577055</td>\n",
       "      <td>0.833073</td>\n",
       "      <td>0.827181</td>\n",
       "      <td>0.526580</td>\n",
       "      <td>0.638248</td>\n",
       "    </tr>\n",
       "    <tr>\n",
       "      <th>1</th>\n",
       "      <td>2.512e-09</td>\n",
       "      <td>0.590130</td>\n",
       "      <td>0.832361</td>\n",
       "      <td>0.805478</td>\n",
       "      <td>0.625480</td>\n",
       "      <td>0.558564</td>\n",
       "    </tr>\n",
       "    <tr>\n",
       "      <th>2</th>\n",
       "      <td>2.154e-10</td>\n",
       "      <td>0.589552</td>\n",
       "      <td>0.831417</td>\n",
       "      <td>0.798902</td>\n",
       "      <td>0.645077</td>\n",
       "      <td>0.542829</td>\n",
       "    </tr>\n",
       "    <tr>\n",
       "      <th>3</th>\n",
       "      <td>1.848e-11</td>\n",
       "      <td>0.589047</td>\n",
       "      <td>0.831247</td>\n",
       "      <td>0.797895</td>\n",
       "      <td>0.646954</td>\n",
       "      <td>0.540655</td>\n",
       "    </tr>\n",
       "    <tr>\n",
       "      <th>4</th>\n",
       "      <td>1.585e-12</td>\n",
       "      <td>0.589051</td>\n",
       "      <td>0.831226</td>\n",
       "      <td>0.797817</td>\n",
       "      <td>0.647216</td>\n",
       "      <td>0.540479</td>\n",
       "    </tr>\n",
       "    <tr>\n",
       "      <th>5</th>\n",
       "      <td>1.359e-13</td>\n",
       "      <td>0.588983</td>\n",
       "      <td>0.831225</td>\n",
       "      <td>0.797788</td>\n",
       "      <td>0.647128</td>\n",
       "      <td>0.540425</td>\n",
       "    </tr>\n",
       "    <tr>\n",
       "      <th>6</th>\n",
       "      <td>1.166e-14</td>\n",
       "      <td>0.588983</td>\n",
       "      <td>0.831225</td>\n",
       "      <td>0.797788</td>\n",
       "      <td>0.647128</td>\n",
       "      <td>0.540425</td>\n",
       "    </tr>\n",
       "    <tr>\n",
       "      <th>7</th>\n",
       "      <td>1.000e-15</td>\n",
       "      <td>0.588983</td>\n",
       "      <td>0.831225</td>\n",
       "      <td>0.797788</td>\n",
       "      <td>0.647128</td>\n",
       "      <td>0.540425</td>\n",
       "    </tr>\n",
       "    <tr>\n",
       "      <th>8</th>\n",
       "      <td>3.415e-07</td>\n",
       "      <td>0.429661</td>\n",
       "      <td>0.829211</td>\n",
       "      <td>0.824562</td>\n",
       "      <td>0.295260</td>\n",
       "      <td>0.789044</td>\n",
       "    </tr>\n",
       "    <tr>\n",
       "      <th>9</th>\n",
       "      <td>3.981e-06</td>\n",
       "      <td>0.000349</td>\n",
       "      <td>0.819984</td>\n",
       "      <td>0.776154</td>\n",
       "      <td>0.000175</td>\n",
       "      <td>1.000000</td>\n",
       "    </tr>\n",
       "    <tr>\n",
       "      <th>10</th>\n",
       "      <td>4.642e-05</td>\n",
       "      <td>0.000000</td>\n",
       "      <td>0.684284</td>\n",
       "      <td>0.776114</td>\n",
       "      <td>0.000000</td>\n",
       "      <td>0.000000</td>\n",
       "    </tr>\n",
       "    <tr>\n",
       "      <th>11</th>\n",
       "      <td>5.412e-04</td>\n",
       "      <td>0.000000</td>\n",
       "      <td>0.548288</td>\n",
       "      <td>0.776114</td>\n",
       "      <td>0.000000</td>\n",
       "      <td>0.000000</td>\n",
       "    </tr>\n",
       "    <tr>\n",
       "      <th>12</th>\n",
       "      <td>6.310e-03</td>\n",
       "      <td>0.000000</td>\n",
       "      <td>0.522855</td>\n",
       "      <td>0.776114</td>\n",
       "      <td>0.000000</td>\n",
       "      <td>0.000000</td>\n",
       "    </tr>\n",
       "    <tr>\n",
       "      <th>13</th>\n",
       "      <td>7.356e-02</td>\n",
       "      <td>0.000000</td>\n",
       "      <td>0.511489</td>\n",
       "      <td>0.776114</td>\n",
       "      <td>0.000000</td>\n",
       "      <td>0.000000</td>\n",
       "    </tr>\n",
       "    <tr>\n",
       "      <th>14</th>\n",
       "      <td>8.577e-01</td>\n",
       "      <td>0.000000</td>\n",
       "      <td>0.509161</td>\n",
       "      <td>0.776114</td>\n",
       "      <td>0.000000</td>\n",
       "      <td>0.000000</td>\n",
       "    </tr>\n",
       "    <tr>\n",
       "      <th>15</th>\n",
       "      <td>1.000e+01</td>\n",
       "      <td>0.000000</td>\n",
       "      <td>0.508842</td>\n",
       "      <td>0.776114</td>\n",
       "      <td>0.000000</td>\n",
       "      <td>0.000000</td>\n",
       "    </tr>\n",
       "  </tbody>\n",
       "</table>\n",
       "</div>"
      ],
      "text/plain": [
       "   param_nb__var_smoothing  mean_test_f1  mean_test_roc_auc  \\\n",
       "0                2.929e-08      0.577055           0.833073   \n",
       "1                2.512e-09      0.590130           0.832361   \n",
       "2                2.154e-10      0.589552           0.831417   \n",
       "3                1.848e-11      0.589047           0.831247   \n",
       "4                1.585e-12      0.589051           0.831226   \n",
       "5                1.359e-13      0.588983           0.831225   \n",
       "6                1.166e-14      0.588983           0.831225   \n",
       "7                1.000e-15      0.588983           0.831225   \n",
       "8                3.415e-07      0.429661           0.829211   \n",
       "9                3.981e-06      0.000349           0.819984   \n",
       "10               4.642e-05      0.000000           0.684284   \n",
       "11               5.412e-04      0.000000           0.548288   \n",
       "12               6.310e-03      0.000000           0.522855   \n",
       "13               7.356e-02      0.000000           0.511489   \n",
       "14               8.577e-01      0.000000           0.509161   \n",
       "15               1.000e+01      0.000000           0.508842   \n",
       "\n",
       "    mean_test_accuracy  mean_test_recall  mean_test_precision  \n",
       "0             0.827181          0.526580             0.638248  \n",
       "1             0.805478          0.625480             0.558564  \n",
       "2             0.798902          0.645077             0.542829  \n",
       "3             0.797895          0.646954             0.540655  \n",
       "4             0.797817          0.647216             0.540479  \n",
       "5             0.797788          0.647128             0.540425  \n",
       "6             0.797788          0.647128             0.540425  \n",
       "7             0.797788          0.647128             0.540425  \n",
       "8             0.824562          0.295260             0.789044  \n",
       "9             0.776154          0.000175             1.000000  \n",
       "10            0.776114          0.000000             0.000000  \n",
       "11            0.776114          0.000000             0.000000  \n",
       "12            0.776114          0.000000             0.000000  \n",
       "13            0.776114          0.000000             0.000000  \n",
       "14            0.776114          0.000000             0.000000  \n",
       "15            0.776114          0.000000             0.000000  "
      ]
     },
     "execution_count": 5,
     "metadata": {},
     "output_type": "execute_result"
    }
   ],
   "source": [
    "tabla(grid)"
   ]
  },
  {
   "cell_type": "markdown",
   "id": "2bbf35da-e150-47f4-9e4a-246dffc99519",
   "metadata": {},
   "source": [
    "El modelo que mejor resultó es el de smoothing del orden de $10^{-8}$. Aún así, no dio muy bien. Tiene un accuracy aceptable de 82,7%, pero no es tanto considerando que podría conseguir alrededor de 77% diciendo siempre no, como pasó con los últimos de la tabla. Ni el recall ni el precision son muy buenos.\n",
    "\n",
    "Para los próximos modelos vamos a usar valores más cercanos a ese orden de smoothing."
   ]
  },
  {
   "cell_type": "markdown",
   "id": "b2248108-38eb-4379-935e-c8c3b082b8a1",
   "metadata": {},
   "source": [
    "## Dropeando features correlacionadas"
   ]
  },
  {
   "cell_type": "markdown",
   "id": "b15422f6-4d15-41d3-a6c3-64eadf0b79c6",
   "metadata": {},
   "source": [
    "En el dataset hay variables fuertemente correlacionadas, lo cual va en contra de las asunciones que hace Naive Bayes. Vamos a probar a dropear algunas de las variables que tenían más alta covarianza con otras y entrenar nuevamente. De todas formas, esto puede dar resultados bastante malos ya que algunas de estas relaciones nos sirvieron al menos en la baseline."
   ]
  },
  {
   "cell_type": "code",
   "execution_count": 6,
   "id": "e07f96e5-528a-406d-b9c5-8ffc49d8b683",
   "metadata": {},
   "outputs": [],
   "source": [
    "initialize_dataset()\n",
    "df_features = pd.read_csv(\"datasets/df_features.csv\", low_memory = False, index_col = \"id\")\n",
    "df_target = pd.read_csv(\"datasets/df_target.csv\", low_memory = False, index_col = \"id\")\n",
    "\n",
    "# No utilizamos estandarización ya que el NB se encarga \n",
    "initialize_dataset()\n",
    "common(df_features, df_target)\n",
    "viento_trigonometrico(df_features)\n",
    "drop_correlacionadas(df_features)\n",
    "drop_categoricas(df_features)\n",
    "pipe = iterative_imputer()"
   ]
  },
  {
   "cell_type": "code",
   "execution_count": 7,
   "id": "cc09ac67-2d02-4e2f-a471-455c711f58b4",
   "metadata": {},
   "outputs": [
    {
     "name": "stdout",
     "output_type": "stream",
     "text": [
      "Fitting 3 folds for each of 8 candidates, totalling 24 fits\n"
     ]
    },
    {
     "data": {
      "text/plain": [
       "0.8345761011390066"
      ]
     },
     "execution_count": 7,
     "metadata": {},
     "output_type": "execute_result"
    }
   ],
   "source": [
    "pipe.steps.append(['nb', GaussianNB()])\n",
    "\n",
    "grid2 = GridSearchCV(pipe, param_grid = {'nb__var_smoothing': np.logspace(-9, -7, num=8)},\n",
    "                    verbose = 1, n_jobs = -1, cv = StratifiedKFold(3), scoring = SCORINGS, refit = METRIC)\n",
    "\n",
    "grid2.fit(df_features, df_target.values.ravel())\n",
    "\n",
    "grid2.best_score_"
   ]
  },
  {
   "cell_type": "code",
   "execution_count": 8,
   "id": "e4e519d5-857b-46d2-bcd6-6beb3907ed81",
   "metadata": {},
   "outputs": [
    {
     "data": {
      "text/html": [
       "<div>\n",
       "<style scoped>\n",
       "    .dataframe tbody tr th:only-of-type {\n",
       "        vertical-align: middle;\n",
       "    }\n",
       "\n",
       "    .dataframe tbody tr th {\n",
       "        vertical-align: top;\n",
       "    }\n",
       "\n",
       "    .dataframe thead th {\n",
       "        text-align: right;\n",
       "    }\n",
       "</style>\n",
       "<table border=\"1\" class=\"dataframe\">\n",
       "  <thead>\n",
       "    <tr style=\"text-align: right;\">\n",
       "      <th></th>\n",
       "      <th>param_nb__var_smoothing</th>\n",
       "      <th>mean_test_f1</th>\n",
       "      <th>mean_test_roc_auc</th>\n",
       "      <th>mean_test_accuracy</th>\n",
       "      <th>mean_test_recall</th>\n",
       "      <th>mean_test_precision</th>\n",
       "    </tr>\n",
       "  </thead>\n",
       "  <tbody>\n",
       "    <tr>\n",
       "      <th>0</th>\n",
       "      <td>1.389e-08</td>\n",
       "      <td>0.584810</td>\n",
       "      <td>0.834576</td>\n",
       "      <td>0.823692</td>\n",
       "      <td>0.554600</td>\n",
       "      <td>0.618525</td>\n",
       "    </tr>\n",
       "    <tr>\n",
       "      <th>1</th>\n",
       "      <td>7.197e-09</td>\n",
       "      <td>0.589713</td>\n",
       "      <td>0.834233</td>\n",
       "      <td>0.816754</td>\n",
       "      <td>0.588207</td>\n",
       "      <td>0.591229</td>\n",
       "    </tr>\n",
       "    <tr>\n",
       "      <th>2</th>\n",
       "      <td>2.683e-08</td>\n",
       "      <td>0.573784</td>\n",
       "      <td>0.834118</td>\n",
       "      <td>0.828773</td>\n",
       "      <td>0.514796</td>\n",
       "      <td>0.648053</td>\n",
       "    </tr>\n",
       "    <tr>\n",
       "      <th>3</th>\n",
       "      <td>3.728e-09</td>\n",
       "      <td>0.590781</td>\n",
       "      <td>0.833492</td>\n",
       "      <td>0.810373</td>\n",
       "      <td>0.611383</td>\n",
       "      <td>0.571522</td>\n",
       "    </tr>\n",
       "    <tr>\n",
       "      <th>4</th>\n",
       "      <td>5.179e-08</td>\n",
       "      <td>0.555444</td>\n",
       "      <td>0.832906</td>\n",
       "      <td>0.831607</td>\n",
       "      <td>0.469885</td>\n",
       "      <td>0.679104</td>\n",
       "    </tr>\n",
       "    <tr>\n",
       "      <th>5</th>\n",
       "      <td>1.931e-09</td>\n",
       "      <td>0.589791</td>\n",
       "      <td>0.832815</td>\n",
       "      <td>0.805488</td>\n",
       "      <td>0.624564</td>\n",
       "      <td>0.558689</td>\n",
       "    </tr>\n",
       "    <tr>\n",
       "      <th>6</th>\n",
       "      <td>1.000e-09</td>\n",
       "      <td>0.590370</td>\n",
       "      <td>0.832394</td>\n",
       "      <td>0.803064</td>\n",
       "      <td>0.633860</td>\n",
       "      <td>0.552467</td>\n",
       "    </tr>\n",
       "    <tr>\n",
       "      <th>7</th>\n",
       "      <td>1.000e-07</td>\n",
       "      <td>0.526734</td>\n",
       "      <td>0.831241</td>\n",
       "      <td>0.831627</td>\n",
       "      <td>0.418514</td>\n",
       "      <td>0.710441</td>\n",
       "    </tr>\n",
       "  </tbody>\n",
       "</table>\n",
       "</div>"
      ],
      "text/plain": [
       "  param_nb__var_smoothing  mean_test_f1  mean_test_roc_auc  \\\n",
       "0               1.389e-08      0.584810           0.834576   \n",
       "1               7.197e-09      0.589713           0.834233   \n",
       "2               2.683e-08      0.573784           0.834118   \n",
       "3               3.728e-09      0.590781           0.833492   \n",
       "4               5.179e-08      0.555444           0.832906   \n",
       "5               1.931e-09      0.589791           0.832815   \n",
       "6               1.000e-09      0.590370           0.832394   \n",
       "7               1.000e-07      0.526734           0.831241   \n",
       "\n",
       "   mean_test_accuracy  mean_test_recall  mean_test_precision  \n",
       "0            0.823692          0.554600             0.618525  \n",
       "1            0.816754          0.588207             0.591229  \n",
       "2            0.828773          0.514796             0.648053  \n",
       "3            0.810373          0.611383             0.571522  \n",
       "4            0.831607          0.469885             0.679104  \n",
       "5            0.805488          0.624564             0.558689  \n",
       "6            0.803064          0.633860             0.552467  \n",
       "7            0.831627          0.418514             0.710441  "
      ]
     },
     "execution_count": 8,
     "metadata": {},
     "output_type": "execute_result"
    }
   ],
   "source": [
    "tabla(grid2)"
   ]
  },
  {
   "cell_type": "markdown",
   "id": "1667504c-63b4-4b33-a695-e8dc939d7810",
   "metadata": {},
   "source": [
    "Dio muy levemente mejor, lo cual es un poco sorprendente considerando que perdió información. Podemos tratar hacer algo mejor transformando esas features que dropeamos."
   ]
  },
  {
   "cell_type": "markdown",
   "id": "4c1d510a-1726-47c0-94a8-bc1fce8f4fd1",
   "metadata": {},
   "source": [
    "## Transformando features correlacionadas"
   ]
  },
  {
   "cell_type": "markdown",
   "id": "dd21ce3e-4279-45eb-a319-e8391c5294f3",
   "metadata": {},
   "source": [
    "Algo que podemos probar es unir las parejas de features altamente correlacionadas en 1 sola (temperatura tarde y máxima, temperatura temprano y minima, presión mañana y tarde). Voy a hacer un PCA lineal de estas parejas."
   ]
  },
  {
   "cell_type": "code",
   "execution_count": 9,
   "id": "3bc92424-03e0-4c47-af32-69e05fa1d6b3",
   "metadata": {},
   "outputs": [],
   "source": [
    "initialize_dataset()\n",
    "df_features = pd.read_csv(\"datasets/df_features.csv\", low_memory = False, index_col = \"id\")\n",
    "df_target = pd.read_csv(\"datasets/df_target.csv\", low_memory = False, index_col = \"id\")\n",
    "\n",
    "# No utilizamos estandarización ya que el NB se encarga \n",
    "initialize_dataset()\n",
    "common(df_features, df_target)\n",
    "viento_trigonometrico(df_features)\n",
    "pca(df_features, [\"temp_max\", \"temperatura_tarde\"], \"temp_altas\")\n",
    "pca(df_features, [\"temperatura_temprano\", \"temp_min\"], \"temp_bajas\")\n",
    "pca(df_features, [\"presion_atmosferica_tarde\", \"presion_atmosferica_temprano\"], \"presiones\")\n",
    "drop_categoricas(df_features)\n",
    "pipe = iterative_imputer()"
   ]
  },
  {
   "cell_type": "code",
   "execution_count": 10,
   "id": "47bc8bd7-f05d-4498-8a5e-403429a10614",
   "metadata": {},
   "outputs": [
    {
     "data": {
      "text/html": [
       "<div>\n",
       "<style scoped>\n",
       "    .dataframe tbody tr th:only-of-type {\n",
       "        vertical-align: middle;\n",
       "    }\n",
       "\n",
       "    .dataframe tbody tr th {\n",
       "        vertical-align: top;\n",
       "    }\n",
       "\n",
       "    .dataframe thead th {\n",
       "        text-align: right;\n",
       "    }\n",
       "</style>\n",
       "<table border=\"1\" class=\"dataframe\">\n",
       "  <thead>\n",
       "    <tr style=\"text-align: right;\">\n",
       "      <th></th>\n",
       "      <th></th>\n",
       "      <th>|Correlación|</th>\n",
       "    </tr>\n",
       "  </thead>\n",
       "  <tbody>\n",
       "    <tr>\n",
       "      <th>temp_altas</th>\n",
       "      <th>temp_bajas</th>\n",
       "      <td>0.819398</td>\n",
       "    </tr>\n",
       "    <tr>\n",
       "      <th>horas_de_sol</th>\n",
       "      <th>nubosidad_tarde</th>\n",
       "      <td>0.702506</td>\n",
       "    </tr>\n",
       "    <tr>\n",
       "      <th>sin_viento_tarde</th>\n",
       "      <th>sin_rafaga_viento_max_direccion</th>\n",
       "      <td>0.699735</td>\n",
       "    </tr>\n",
       "    <tr>\n",
       "      <th>rafaga_viento_max_velocidad</th>\n",
       "      <th>velocidad_viento_tarde</th>\n",
       "      <td>0.685499</td>\n",
       "    </tr>\n",
       "    <tr>\n",
       "      <th>nubosidad_temprano</th>\n",
       "      <th>horas_de_sol</th>\n",
       "      <td>0.674629</td>\n",
       "    </tr>\n",
       "  </tbody>\n",
       "</table>\n",
       "</div>"
      ],
      "text/plain": [
       "                                                             |Correlación|\n",
       "temp_altas                  temp_bajas                            0.819398\n",
       "horas_de_sol                nubosidad_tarde                       0.702506\n",
       "sin_viento_tarde            sin_rafaga_viento_max_direccion       0.699735\n",
       "rafaga_viento_max_velocidad velocidad_viento_tarde                0.685499\n",
       "nubosidad_temprano          horas_de_sol                          0.674629"
      ]
     },
     "metadata": {},
     "output_type": "display_data"
    }
   ],
   "source": [
    "pares_ord_cov = df_features.corr().abs().unstack().sort_values(ascending=False).drop_duplicates()\n",
    "pares_ord_cov = pares_ord_cov[pares_ord_cov < 1]\n",
    "display(pares_ord_cov.to_frame(\"|Correlación|\").head(5))"
   ]
  },
  {
   "cell_type": "markdown",
   "id": "60ae6223-f217-409e-bd3c-e78e98df90c3",
   "metadata": {},
   "source": [
    "Aún después de eso, siguen estando bastante correlacionadas."
   ]
  },
  {
   "cell_type": "code",
   "execution_count": 11,
   "id": "358335e4-d679-4c94-9b24-4ae928e6b325",
   "metadata": {},
   "outputs": [
    {
     "name": "stdout",
     "output_type": "stream",
     "text": [
      "Fitting 3 folds for each of 8 candidates, totalling 24 fits\n"
     ]
    },
    {
     "data": {
      "text/plain": [
       "0.8320783491851048"
      ]
     },
     "execution_count": 11,
     "metadata": {},
     "output_type": "execute_result"
    }
   ],
   "source": [
    "pipe.steps.append(['nb', GaussianNB()])\n",
    "\n",
    "grid3 = GridSearchCV(pipe, param_grid = {'nb__var_smoothing': np.logspace(-9, -7, num=8)},\n",
    "                    verbose = 1, n_jobs = -1, cv = StratifiedKFold(3), scoring = SCORINGS, refit = METRIC)\n",
    "\n",
    "grid3.fit(df_features, df_target.values.ravel())\n",
    "\n",
    "grid3.best_score_"
   ]
  },
  {
   "cell_type": "code",
   "execution_count": 12,
   "id": "43204e23-8d7c-46be-8c67-9fa56097a2e0",
   "metadata": {},
   "outputs": [
    {
     "data": {
      "text/html": [
       "<div>\n",
       "<style scoped>\n",
       "    .dataframe tbody tr th:only-of-type {\n",
       "        vertical-align: middle;\n",
       "    }\n",
       "\n",
       "    .dataframe tbody tr th {\n",
       "        vertical-align: top;\n",
       "    }\n",
       "\n",
       "    .dataframe thead th {\n",
       "        text-align: right;\n",
       "    }\n",
       "</style>\n",
       "<table border=\"1\" class=\"dataframe\">\n",
       "  <thead>\n",
       "    <tr style=\"text-align: right;\">\n",
       "      <th></th>\n",
       "      <th>param_nb__var_smoothing</th>\n",
       "      <th>mean_test_f1</th>\n",
       "      <th>mean_test_roc_auc</th>\n",
       "      <th>mean_test_accuracy</th>\n",
       "      <th>mean_test_recall</th>\n",
       "      <th>mean_test_precision</th>\n",
       "    </tr>\n",
       "  </thead>\n",
       "  <tbody>\n",
       "    <tr>\n",
       "      <th>0</th>\n",
       "      <td>1.389e-08</td>\n",
       "      <td>0.582697</td>\n",
       "      <td>0.832078</td>\n",
       "      <td>0.822432</td>\n",
       "      <td>0.553727</td>\n",
       "      <td>0.614882</td>\n",
       "    </tr>\n",
       "    <tr>\n",
       "      <th>1</th>\n",
       "      <td>2.683e-08</td>\n",
       "      <td>0.572612</td>\n",
       "      <td>0.831895</td>\n",
       "      <td>0.827747</td>\n",
       "      <td>0.515407</td>\n",
       "      <td>0.644116</td>\n",
       "    </tr>\n",
       "    <tr>\n",
       "      <th>2</th>\n",
       "      <td>7.197e-09</td>\n",
       "      <td>0.587626</td>\n",
       "      <td>0.831694</td>\n",
       "      <td>0.815689</td>\n",
       "      <td>0.586549</td>\n",
       "      <td>0.588709</td>\n",
       "    </tr>\n",
       "    <tr>\n",
       "      <th>3</th>\n",
       "      <td>5.179e-08</td>\n",
       "      <td>0.556043</td>\n",
       "      <td>0.831331</td>\n",
       "      <td>0.830698</td>\n",
       "      <td>0.473551</td>\n",
       "      <td>0.673342</td>\n",
       "    </tr>\n",
       "    <tr>\n",
       "      <th>4</th>\n",
       "      <td>3.728e-09</td>\n",
       "      <td>0.588114</td>\n",
       "      <td>0.831002</td>\n",
       "      <td>0.809093</td>\n",
       "      <td>0.608764</td>\n",
       "      <td>0.568819</td>\n",
       "    </tr>\n",
       "    <tr>\n",
       "      <th>5</th>\n",
       "      <td>1.000e-07</td>\n",
       "      <td>0.531043</td>\n",
       "      <td>0.830661</td>\n",
       "      <td>0.831441</td>\n",
       "      <td>0.426283</td>\n",
       "      <td>0.704074</td>\n",
       "    </tr>\n",
       "    <tr>\n",
       "      <th>6</th>\n",
       "      <td>1.931e-09</td>\n",
       "      <td>0.588353</td>\n",
       "      <td>0.830380</td>\n",
       "      <td>0.804618</td>\n",
       "      <td>0.623647</td>\n",
       "      <td>0.556844</td>\n",
       "    </tr>\n",
       "    <tr>\n",
       "      <th>7</th>\n",
       "      <td>1.000e-09</td>\n",
       "      <td>0.588504</td>\n",
       "      <td>0.829995</td>\n",
       "      <td>0.801911</td>\n",
       "      <td>0.632682</td>\n",
       "      <td>0.550097</td>\n",
       "    </tr>\n",
       "  </tbody>\n",
       "</table>\n",
       "</div>"
      ],
      "text/plain": [
       "  param_nb__var_smoothing  mean_test_f1  mean_test_roc_auc  \\\n",
       "0               1.389e-08      0.582697           0.832078   \n",
       "1               2.683e-08      0.572612           0.831895   \n",
       "2               7.197e-09      0.587626           0.831694   \n",
       "3               5.179e-08      0.556043           0.831331   \n",
       "4               3.728e-09      0.588114           0.831002   \n",
       "5               1.000e-07      0.531043           0.830661   \n",
       "6               1.931e-09      0.588353           0.830380   \n",
       "7               1.000e-09      0.588504           0.829995   \n",
       "\n",
       "   mean_test_accuracy  mean_test_recall  mean_test_precision  \n",
       "0            0.822432          0.553727             0.614882  \n",
       "1            0.827747          0.515407             0.644116  \n",
       "2            0.815689          0.586549             0.588709  \n",
       "3            0.830698          0.473551             0.673342  \n",
       "4            0.809093          0.608764             0.568819  \n",
       "5            0.831441          0.426283             0.704074  \n",
       "6            0.804618          0.623647             0.556844  \n",
       "7            0.801911          0.632682             0.550097  "
      ]
     },
     "execution_count": 12,
     "metadata": {},
     "output_type": "execute_result"
    }
   ],
   "source": [
    "tabla(grid3)"
   ]
  },
  {
   "cell_type": "markdown",
   "id": "99ac4122-d935-4f21-ac3f-102180d09ee0",
   "metadata": {},
   "source": [
    "Dio un poco peor. Probamos a unir todas las temperaturas."
   ]
  },
  {
   "cell_type": "code",
   "execution_count": 13,
   "id": "107e7f51-211e-4f59-89e9-33da8dc992a3",
   "metadata": {},
   "outputs": [],
   "source": [
    "initialize_dataset()\n",
    "df_features = pd.read_csv(\"datasets/df_features.csv\", low_memory = False, index_col = \"id\")\n",
    "df_target = pd.read_csv(\"datasets/df_target.csv\", low_memory = False, index_col = \"id\")\n",
    "\n",
    "# No utilizamos estandarización ya que el NB se encarga \n",
    "initialize_dataset()\n",
    "common(df_features, df_target)\n",
    "viento_trigonometrico(df_features)\n",
    "pca(df_features, [\"temp_max\", \"temperatura_tarde\", \"temperatura_temprano\", \"temp_min\"], \"temps\")\n",
    "pca(df_features, [\"presion_atmosferica_tarde\", \"presion_atmosferica_temprano\"], \"presiones\")\n",
    "drop_categoricas(df_features)\n",
    "pipe = iterative_imputer()"
   ]
  },
  {
   "cell_type": "code",
   "execution_count": 14,
   "id": "766cac87-c166-443a-a7e7-49038dbd7801",
   "metadata": {},
   "outputs": [
    {
     "data": {
      "text/html": [
       "<div>\n",
       "<style scoped>\n",
       "    .dataframe tbody tr th:only-of-type {\n",
       "        vertical-align: middle;\n",
       "    }\n",
       "\n",
       "    .dataframe tbody tr th {\n",
       "        vertical-align: top;\n",
       "    }\n",
       "\n",
       "    .dataframe thead th {\n",
       "        text-align: right;\n",
       "    }\n",
       "</style>\n",
       "<table border=\"1\" class=\"dataframe\">\n",
       "  <thead>\n",
       "    <tr style=\"text-align: right;\">\n",
       "      <th></th>\n",
       "      <th></th>\n",
       "      <th>|Correlación|</th>\n",
       "    </tr>\n",
       "  </thead>\n",
       "  <tbody>\n",
       "    <tr>\n",
       "      <th>nubosidad_tarde</th>\n",
       "      <th>horas_de_sol</th>\n",
       "      <td>0.702506</td>\n",
       "    </tr>\n",
       "    <tr>\n",
       "      <th>sin_rafaga_viento_max_direccion</th>\n",
       "      <th>sin_viento_tarde</th>\n",
       "      <td>0.699735</td>\n",
       "    </tr>\n",
       "    <tr>\n",
       "      <th>rafaga_viento_max_velocidad</th>\n",
       "      <th>velocidad_viento_tarde</th>\n",
       "      <td>0.685499</td>\n",
       "    </tr>\n",
       "    <tr>\n",
       "      <th>nubosidad_temprano</th>\n",
       "      <th>horas_de_sol</th>\n",
       "      <td>0.674629</td>\n",
       "    </tr>\n",
       "    <tr>\n",
       "      <th>humedad_tarde</th>\n",
       "      <th>humedad_temprano</th>\n",
       "      <td>0.667982</td>\n",
       "    </tr>\n",
       "  </tbody>\n",
       "</table>\n",
       "</div>"
      ],
      "text/plain": [
       "                                                        |Correlación|\n",
       "nubosidad_tarde                 horas_de_sol                 0.702506\n",
       "sin_rafaga_viento_max_direccion sin_viento_tarde             0.699735\n",
       "rafaga_viento_max_velocidad     velocidad_viento_tarde       0.685499\n",
       "nubosidad_temprano              horas_de_sol                 0.674629\n",
       "humedad_tarde                   humedad_temprano             0.667982"
      ]
     },
     "metadata": {},
     "output_type": "display_data"
    }
   ],
   "source": [
    "pares_ord_cov = df_features.corr().abs().unstack().sort_values(ascending=False).drop_duplicates()\n",
    "pares_ord_cov = pares_ord_cov[pares_ord_cov < 1]\n",
    "display(pares_ord_cov.to_frame(\"|Correlación|\").head(5))"
   ]
  },
  {
   "cell_type": "code",
   "execution_count": 15,
   "id": "f47352b5-344f-41db-98d4-a28401acc489",
   "metadata": {},
   "outputs": [
    {
     "name": "stdout",
     "output_type": "stream",
     "text": [
      "Fitting 3 folds for each of 8 candidates, totalling 24 fits\n"
     ]
    },
    {
     "data": {
      "text/plain": [
       "0.833071794742604"
      ]
     },
     "execution_count": 15,
     "metadata": {},
     "output_type": "execute_result"
    }
   ],
   "source": [
    "pipe.steps.append(['nb', GaussianNB()])\n",
    "\n",
    "grid4 = GridSearchCV(pipe, param_grid = {'nb__var_smoothing': np.logspace(-9, -7, num=8)},\n",
    "                    verbose = 1, n_jobs = -1, cv = StratifiedKFold(3), scoring = SCORINGS, refit = METRIC)\n",
    "\n",
    "grid4.fit(df_features, df_target.values.ravel())\n",
    "\n",
    "grid4.best_score_"
   ]
  },
  {
   "cell_type": "code",
   "execution_count": 16,
   "id": "f446ba47-9d82-42ae-9bc4-4e5991ad803f",
   "metadata": {},
   "outputs": [
    {
     "data": {
      "text/html": [
       "<div>\n",
       "<style scoped>\n",
       "    .dataframe tbody tr th:only-of-type {\n",
       "        vertical-align: middle;\n",
       "    }\n",
       "\n",
       "    .dataframe tbody tr th {\n",
       "        vertical-align: top;\n",
       "    }\n",
       "\n",
       "    .dataframe thead th {\n",
       "        text-align: right;\n",
       "    }\n",
       "</style>\n",
       "<table border=\"1\" class=\"dataframe\">\n",
       "  <thead>\n",
       "    <tr style=\"text-align: right;\">\n",
       "      <th></th>\n",
       "      <th>param_nb__var_smoothing</th>\n",
       "      <th>mean_test_f1</th>\n",
       "      <th>mean_test_roc_auc</th>\n",
       "      <th>mean_test_accuracy</th>\n",
       "      <th>mean_test_recall</th>\n",
       "      <th>mean_test_precision</th>\n",
       "    </tr>\n",
       "  </thead>\n",
       "  <tbody>\n",
       "    <tr>\n",
       "      <th>0</th>\n",
       "      <td>1.389e-08</td>\n",
       "      <td>0.581193</td>\n",
       "      <td>0.833072</td>\n",
       "      <td>0.824259</td>\n",
       "      <td>0.544649</td>\n",
       "      <td>0.623012</td>\n",
       "    </tr>\n",
       "    <tr>\n",
       "      <th>1</th>\n",
       "      <td>2.683e-08</td>\n",
       "      <td>0.568719</td>\n",
       "      <td>0.832825</td>\n",
       "      <td>0.828529</td>\n",
       "      <td>0.504975</td>\n",
       "      <td>0.650887</td>\n",
       "    </tr>\n",
       "    <tr>\n",
       "      <th>2</th>\n",
       "      <td>7.197e-09</td>\n",
       "      <td>0.587003</td>\n",
       "      <td>0.832592</td>\n",
       "      <td>0.817898</td>\n",
       "      <td>0.578038</td>\n",
       "      <td>0.596254</td>\n",
       "    </tr>\n",
       "    <tr>\n",
       "      <th>3</th>\n",
       "      <td>5.179e-08</td>\n",
       "      <td>0.547618</td>\n",
       "      <td>0.832011</td>\n",
       "      <td>0.830112</td>\n",
       "      <td>0.459279</td>\n",
       "      <td>0.678041</td>\n",
       "    </tr>\n",
       "    <tr>\n",
       "      <th>4</th>\n",
       "      <td>3.728e-09</td>\n",
       "      <td>0.587960</td>\n",
       "      <td>0.831754</td>\n",
       "      <td>0.811272</td>\n",
       "      <td>0.601432</td>\n",
       "      <td>0.575078</td>\n",
       "    </tr>\n",
       "    <tr>\n",
       "      <th>5</th>\n",
       "      <td>1.931e-09</td>\n",
       "      <td>0.588407</td>\n",
       "      <td>0.831007</td>\n",
       "      <td>0.806807</td>\n",
       "      <td>0.616795</td>\n",
       "      <td>0.562520</td>\n",
       "    </tr>\n",
       "    <tr>\n",
       "      <th>6</th>\n",
       "      <td>1.000e-07</td>\n",
       "      <td>0.520787</td>\n",
       "      <td>0.830936</td>\n",
       "      <td>0.830376</td>\n",
       "      <td>0.411705</td>\n",
       "      <td>0.708521</td>\n",
       "    </tr>\n",
       "    <tr>\n",
       "      <th>7</th>\n",
       "      <td>1.000e-09</td>\n",
       "      <td>0.588027</td>\n",
       "      <td>0.830541</td>\n",
       "      <td>0.803778</td>\n",
       "      <td>0.625480</td>\n",
       "      <td>0.554809</td>\n",
       "    </tr>\n",
       "  </tbody>\n",
       "</table>\n",
       "</div>"
      ],
      "text/plain": [
       "  param_nb__var_smoothing  mean_test_f1  mean_test_roc_auc  \\\n",
       "0               1.389e-08      0.581193           0.833072   \n",
       "1               2.683e-08      0.568719           0.832825   \n",
       "2               7.197e-09      0.587003           0.832592   \n",
       "3               5.179e-08      0.547618           0.832011   \n",
       "4               3.728e-09      0.587960           0.831754   \n",
       "5               1.931e-09      0.588407           0.831007   \n",
       "6               1.000e-07      0.520787           0.830936   \n",
       "7               1.000e-09      0.588027           0.830541   \n",
       "\n",
       "   mean_test_accuracy  mean_test_recall  mean_test_precision  \n",
       "0            0.824259          0.544649             0.623012  \n",
       "1            0.828529          0.504975             0.650887  \n",
       "2            0.817898          0.578038             0.596254  \n",
       "3            0.830112          0.459279             0.678041  \n",
       "4            0.811272          0.601432             0.575078  \n",
       "5            0.806807          0.616795             0.562520  \n",
       "6            0.830376          0.411705             0.708521  \n",
       "7            0.803778          0.625480             0.554809  "
      ]
     },
     "execution_count": 16,
     "metadata": {},
     "output_type": "execute_result"
    }
   ],
   "source": [
    "tabla(grid4)"
   ]
  },
  {
   "cell_type": "markdown",
   "id": "7b6be5b9-5d60-41cb-b1e5-2f180eeed174",
   "metadata": {},
   "source": [
    "No parece que estas transformaciones hayan afectado mucho"
   ]
  },
  {
   "cell_type": "markdown",
   "id": "5693160d-53dc-4942-9e4b-8dd73a58d565",
   "metadata": {},
   "source": [
    "## Sin features discretas"
   ]
  },
  {
   "cell_type": "markdown",
   "id": "f8d9b234-c92d-43b8-b178-79a538079b31",
   "metadata": {},
   "source": [
    "Podemos probar a sacar también las features discretas, siendo que al utilizar el Gaussiano considera mejor las continuas y quizás estan perjudicando al modelo."
   ]
  },
  {
   "cell_type": "code",
   "execution_count": 17,
   "id": "2e88783a-bd39-4d84-9a43-4a3959a736fc",
   "metadata": {},
   "outputs": [],
   "source": [
    "initialize_dataset()\n",
    "df_features = pd.read_csv(\"datasets/df_features.csv\", low_memory = False, index_col = \"id\")\n",
    "df_target = pd.read_csv(\"datasets/df_target.csv\", low_memory = False, index_col = \"id\")\n",
    "\n",
    "# No utilizamos estandarización ya que el NB se encarga \n",
    "initialize_dataset()\n",
    "common(df_features, df_target)\n",
    "viento_trigonometrico(df_features)\n",
    "drop_discretas(df_features)\n",
    "drop_categoricas(df_features)\n",
    "pipe = iterative_imputer()"
   ]
  },
  {
   "cell_type": "code",
   "execution_count": 18,
   "id": "fcdd6aab-ef41-4153-9a18-eadf84499fe4",
   "metadata": {},
   "outputs": [
    {
     "name": "stdout",
     "output_type": "stream",
     "text": [
      "Fitting 3 folds for each of 8 candidates, totalling 24 fits\n"
     ]
    },
    {
     "data": {
      "text/plain": [
       "0.8301420096890225"
      ]
     },
     "execution_count": 18,
     "metadata": {},
     "output_type": "execute_result"
    }
   ],
   "source": [
    "pipe.steps.append(['nb', GaussianNB()])\n",
    "\n",
    "grid5 = GridSearchCV(pipe, param_grid = {'nb__var_smoothing': np.logspace(-9, -7, num=8)},\n",
    "                    verbose = 1, n_jobs = -1, cv = StratifiedKFold(3), scoring = SCORINGS, refit = METRIC)\n",
    "\n",
    "grid5.fit(df_features, df_target.values.ravel())\n",
    "\n",
    "grid5.best_score_"
   ]
  },
  {
   "cell_type": "code",
   "execution_count": 19,
   "id": "f699c00f-17e4-4342-8bdb-3e7abfef545e",
   "metadata": {},
   "outputs": [
    {
     "data": {
      "text/html": [
       "<div>\n",
       "<style scoped>\n",
       "    .dataframe tbody tr th:only-of-type {\n",
       "        vertical-align: middle;\n",
       "    }\n",
       "\n",
       "    .dataframe tbody tr th {\n",
       "        vertical-align: top;\n",
       "    }\n",
       "\n",
       "    .dataframe thead th {\n",
       "        text-align: right;\n",
       "    }\n",
       "</style>\n",
       "<table border=\"1\" class=\"dataframe\">\n",
       "  <thead>\n",
       "    <tr style=\"text-align: right;\">\n",
       "      <th></th>\n",
       "      <th>param_nb__var_smoothing</th>\n",
       "      <th>mean_test_f1</th>\n",
       "      <th>mean_test_roc_auc</th>\n",
       "      <th>mean_test_accuracy</th>\n",
       "      <th>mean_test_recall</th>\n",
       "      <th>mean_test_precision</th>\n",
       "    </tr>\n",
       "  </thead>\n",
       "  <tbody>\n",
       "    <tr>\n",
       "      <th>0</th>\n",
       "      <td>5.179e-08</td>\n",
       "      <td>0.550521</td>\n",
       "      <td>0.830142</td>\n",
       "      <td>0.829604</td>\n",
       "      <td>0.466088</td>\n",
       "      <td>0.672313</td>\n",
       "    </tr>\n",
       "    <tr>\n",
       "      <th>1</th>\n",
       "      <td>2.683e-08</td>\n",
       "      <td>0.564760</td>\n",
       "      <td>0.830128</td>\n",
       "      <td>0.827728</td>\n",
       "      <td>0.499214</td>\n",
       "      <td>0.650125</td>\n",
       "    </tr>\n",
       "    <tr>\n",
       "      <th>2</th>\n",
       "      <td>1.389e-08</td>\n",
       "      <td>0.574973</td>\n",
       "      <td>0.830109</td>\n",
       "      <td>0.825685</td>\n",
       "      <td>0.526624</td>\n",
       "      <td>0.633105</td>\n",
       "    </tr>\n",
       "    <tr>\n",
       "      <th>3</th>\n",
       "      <td>7.197e-09</td>\n",
       "      <td>0.581380</td>\n",
       "      <td>0.830048</td>\n",
       "      <td>0.823692</td>\n",
       "      <td>0.546831</td>\n",
       "      <td>0.620598</td>\n",
       "    </tr>\n",
       "    <tr>\n",
       "      <th>4</th>\n",
       "      <td>1.000e-07</td>\n",
       "      <td>0.528581</td>\n",
       "      <td>0.830024</td>\n",
       "      <td>0.830991</td>\n",
       "      <td>0.423228</td>\n",
       "      <td>0.703783</td>\n",
       "    </tr>\n",
       "    <tr>\n",
       "      <th>5</th>\n",
       "      <td>3.728e-09</td>\n",
       "      <td>0.583924</td>\n",
       "      <td>0.829953</td>\n",
       "      <td>0.821572</td>\n",
       "      <td>0.559227</td>\n",
       "      <td>0.610908</td>\n",
       "    </tr>\n",
       "    <tr>\n",
       "      <th>6</th>\n",
       "      <td>1.931e-09</td>\n",
       "      <td>0.585875</td>\n",
       "      <td>0.829872</td>\n",
       "      <td>0.819989</td>\n",
       "      <td>0.568741</td>\n",
       "      <td>0.604073</td>\n",
       "    </tr>\n",
       "    <tr>\n",
       "      <th>7</th>\n",
       "      <td>1.000e-09</td>\n",
       "      <td>0.587564</td>\n",
       "      <td>0.829787</td>\n",
       "      <td>0.819168</td>\n",
       "      <td>0.575332</td>\n",
       "      <td>0.600328</td>\n",
       "    </tr>\n",
       "  </tbody>\n",
       "</table>\n",
       "</div>"
      ],
      "text/plain": [
       "  param_nb__var_smoothing  mean_test_f1  mean_test_roc_auc  \\\n",
       "0               5.179e-08      0.550521           0.830142   \n",
       "1               2.683e-08      0.564760           0.830128   \n",
       "2               1.389e-08      0.574973           0.830109   \n",
       "3               7.197e-09      0.581380           0.830048   \n",
       "4               1.000e-07      0.528581           0.830024   \n",
       "5               3.728e-09      0.583924           0.829953   \n",
       "6               1.931e-09      0.585875           0.829872   \n",
       "7               1.000e-09      0.587564           0.829787   \n",
       "\n",
       "   mean_test_accuracy  mean_test_recall  mean_test_precision  \n",
       "0            0.829604          0.466088             0.672313  \n",
       "1            0.827728          0.499214             0.650125  \n",
       "2            0.825685          0.526624             0.633105  \n",
       "3            0.823692          0.546831             0.620598  \n",
       "4            0.830991          0.423228             0.703783  \n",
       "5            0.821572          0.559227             0.610908  \n",
       "6            0.819989          0.568741             0.604073  \n",
       "7            0.819168          0.575332             0.600328  "
      ]
     },
     "execution_count": 19,
     "metadata": {},
     "output_type": "execute_result"
    }
   ],
   "source": [
    "tabla(grid5)"
   ]
  },
  {
   "cell_type": "markdown",
   "id": "7e17cacf-47b1-455c-8f13-1aa1c6cd7fba",
   "metadata": {},
   "source": [
    "Parece que tampoco ayudó mucho."
   ]
  },
  {
   "cell_type": "markdown",
   "id": "d3759f8c-7bf5-4405-969f-775747a35cf5",
   "metadata": {},
   "source": [
    "## Con Feature Selection"
   ]
  },
  {
   "cell_type": "markdown",
   "id": "5c34cc10-59fe-4fce-b3f6-601ba811d8d2",
   "metadata": {},
   "source": [
    "Como hacerlo a mano no fue muy bien, podemos probar distintas combinaciones de features y ver cuales dan mejor. Hacemos un Forward Selection con la mitad de las features. Usamos $10^{-8}$ de smoothing. En este caso no acepta pipelines como estimators, asi que vamos a usar el imputer antes para la selección."
   ]
  },
  {
   "cell_type": "code",
   "execution_count": 20,
   "id": "f0636a4c-de99-4564-877e-b0336ca3f737",
   "metadata": {},
   "outputs": [],
   "source": [
    "initialize_dataset()\n",
    "df_features = pd.read_csv(\"datasets/df_features.csv\", low_memory = False, index_col = \"id\")\n",
    "df_target = pd.read_csv(\"datasets/df_target.csv\", low_memory = False, index_col = \"id\")\n",
    "\n",
    "# No utilizamos estandarización ya que el NB se encarga \n",
    "initialize_dataset()\n",
    "common(df_features, df_target)\n",
    "viento_trigonometrico(df_features)\n",
    "drop_categoricas(df_features)\n",
    "imputer = IterativeImputer(random_state = 123)\n",
    "df = imputer.fit_transform(df_features)"
   ]
  },
  {
   "cell_type": "code",
   "execution_count": 21,
   "id": "f62a73d9-e1bb-46c2-857f-1579408ba590",
   "metadata": {},
   "outputs": [],
   "source": [
    "seleccion = SequentialFeatureSelector(GaussianNB(var_smoothing = 1e-8), n_features_to_select = 0.5, direction = \"forward\",\n",
    "                                   scoring = METRIC, cv = StratifiedKFold(3), n_jobs = -1)\n",
    "\n",
    "seleccion.fit_transform(df, df_target.values.ravel())\n",
    "\n",
    "None"
   ]
  },
  {
   "cell_type": "code",
   "execution_count": 22,
   "id": "cd7dce22-624a-45c1-a4cb-8c240b2e7f1a",
   "metadata": {},
   "outputs": [
    {
     "data": {
      "text/plain": [
       "Index(['dia', 'horas_de_sol', 'humedad_tarde', 'presion_atmosferica_tarde',\n",
       "       'rafaga_viento_max_velocidad', 'temp_min', 'cos_viento_tarde',\n",
       "       'sin_viento_tarde', 'sin_viento_temprano',\n",
       "       'cos_rafaga_viento_max_direccion', 'sin_rafaga_viento_max_direccion'],\n",
       "      dtype='object')"
      ]
     },
     "execution_count": 22,
     "metadata": {},
     "output_type": "execute_result"
    }
   ],
   "source": [
    "df_features.columns[seleccion.support_]"
   ]
  },
  {
   "cell_type": "code",
   "execution_count": 23,
   "id": "379920c8-f552-44e7-a67b-1951e88ec967",
   "metadata": {},
   "outputs": [],
   "source": [
    "initialize_dataset()\n",
    "df_features = pd.read_csv(\"datasets/df_features.csv\", low_memory = False, index_col = \"id\")\n",
    "df_target = pd.read_csv(\"datasets/df_target.csv\", low_memory = False, index_col = \"id\")\n",
    "\n",
    "# No utilizamos estandarización ya que el NB se encarga \n",
    "initialize_dataset()\n",
    "common(df_features, df_target)\n",
    "viento_trigonometrico(df_features)\n",
    "drop_categoricas(df_features)\n",
    "pipe = iterative_imputer()\n",
    "\n",
    "#Filtro features\n",
    "\n",
    "df_features = df_features[df_features.columns[seleccion.support_]]"
   ]
  },
  {
   "cell_type": "code",
   "execution_count": 24,
   "id": "929df777-2c0a-4b5d-89c8-d7200cc7480e",
   "metadata": {},
   "outputs": [
    {
     "name": "stdout",
     "output_type": "stream",
     "text": [
      "Fitting 3 folds for each of 1 candidates, totalling 3 fits\n"
     ]
    },
    {
     "data": {
      "text/plain": [
       "0.8503238795973561"
      ]
     },
     "execution_count": 24,
     "metadata": {},
     "output_type": "execute_result"
    }
   ],
   "source": [
    "pipe.steps.append(['nb', GaussianNB()])\n",
    "\n",
    "# Usamos gridsearch con un solo parametro porque facilita kfold y scores\n",
    "grid6 = GridSearchCV(pipe, param_grid = {'nb__var_smoothing': [1e-8]},\n",
    "                    verbose = 1, n_jobs = -1, cv = StratifiedKFold(3), scoring = SCORINGS, refit = METRIC)\n",
    "\n",
    "grid6.fit(df_features, df_target.values.ravel())\n",
    "\n",
    "grid6.best_score_"
   ]
  },
  {
   "cell_type": "code",
   "execution_count": 26,
   "id": "93540a87-4c64-4c01-ba98-000524052042",
   "metadata": {},
   "outputs": [
    {
     "data": {
      "text/html": [
       "<div>\n",
       "<style scoped>\n",
       "    .dataframe tbody tr th:only-of-type {\n",
       "        vertical-align: middle;\n",
       "    }\n",
       "\n",
       "    .dataframe tbody tr th {\n",
       "        vertical-align: top;\n",
       "    }\n",
       "\n",
       "    .dataframe thead th {\n",
       "        text-align: right;\n",
       "    }\n",
       "</style>\n",
       "<table border=\"1\" class=\"dataframe\">\n",
       "  <thead>\n",
       "    <tr style=\"text-align: right;\">\n",
       "      <th></th>\n",
       "      <th>param_nb__var_smoothing</th>\n",
       "      <th>mean_test_f1</th>\n",
       "      <th>mean_test_roc_auc</th>\n",
       "      <th>mean_test_accuracy</th>\n",
       "      <th>mean_test_recall</th>\n",
       "      <th>mean_test_precision</th>\n",
       "    </tr>\n",
       "  </thead>\n",
       "  <tbody>\n",
       "    <tr>\n",
       "      <th>0</th>\n",
       "      <td>1.000e-08</td>\n",
       "      <td>0.58564</td>\n",
       "      <td>0.850324</td>\n",
       "      <td>0.834793</td>\n",
       "      <td>0.521473</td>\n",
       "      <td>0.667816</td>\n",
       "    </tr>\n",
       "  </tbody>\n",
       "</table>\n",
       "</div>"
      ],
      "text/plain": [
       "  param_nb__var_smoothing  mean_test_f1  mean_test_roc_auc  \\\n",
       "0               1.000e-08       0.58564           0.850324   \n",
       "\n",
       "   mean_test_accuracy  mean_test_recall  mean_test_precision  \n",
       "0            0.834793          0.521473             0.667816  "
      ]
     },
     "execution_count": 26,
     "metadata": {},
     "output_type": "execute_result"
    }
   ],
   "source": [
    "tabla(grid6)"
   ]
  },
  {
   "cell_type": "markdown",
   "id": "243c5215-346c-468b-a58f-99765ff41272",
   "metadata": {},
   "source": [
    "La elección de features mejoró un poco más significativamene que con los cambios anteriores, aunque tampoco mucho. El recall sigue siendo bastante malo, pero aún así es el mejor modelo de Naive Bayes que logramos."
   ]
  }
 ],
 "metadata": {
  "kernelspec": {
   "display_name": "Python 3 (ipykernel)",
   "language": "python",
   "name": "python3"
  },
  "language_info": {
   "codemirror_mode": {
    "name": "ipython",
    "version": 3
   },
   "file_extension": ".py",
   "mimetype": "text/x-python",
   "name": "python",
   "nbconvert_exporter": "python",
   "pygments_lexer": "ipython3",
   "version": "3.8.10"
  }
 },
 "nbformat": 4,
 "nbformat_minor": 5
}
