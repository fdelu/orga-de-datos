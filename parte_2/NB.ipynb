{
 "cells": [
  {
   "cell_type": "markdown",
   "id": "b2207058-50a0-4fe0-963e-6582bb3a1a6c",
   "metadata": {},
   "source": [
    "# Naive Bayes"
   ]
  },
  {
   "cell_type": "code",
   "execution_count": 15,
   "id": "a4f78149-44d2-48ba-88cd-9078cc0b84dc",
   "metadata": {},
   "outputs": [
    {
     "name": "stdout",
     "output_type": "stream",
     "text": [
      "The autoreload extension is already loaded. To reload it, use:\n",
      "  %reload_ext autoreload\n"
     ]
    }
   ],
   "source": [
    "%load_ext autoreload\n",
    "%autoreload 2\n",
    "from preprocessing import *\n",
    "from sklearn.naive_bayes import GaussianNB\n",
    "from sklearn.model_selection import GridSearchCV\n",
    "from sklearn.pipeline import Pipeline\n",
    "import numpy as np\n",
    "import pandas as pd"
   ]
  },
  {
   "cell_type": "markdown",
   "id": "669ba8c6-ea5c-41e7-b77f-e3f80792cf8e",
   "metadata": {},
   "source": [
    "## Preprocessing"
   ]
  },
  {
   "cell_type": "code",
   "execution_count": null,
   "id": "09d6e7f2-a328-4dec-8a51-de3173a2d40b",
   "metadata": {},
   "outputs": [],
   "source": [
    "initialize_dataset()\n",
    "df_features = pd.read_csv(\"datasets/df_features.csv\", low_memory = False, index_col = \"id\")\n",
    "df_target = pd.read_csv(\"datasets/df_target.csv\", low_memory=False, index_col = \"id\")\n",
    "\n",
    "initialize_dataset()\n",
    "common(df_features, df_target)\n",
    "viento_trigonometrico(df_features)\n",
    "pipe = Pipeline()\n",
    "iterative_imputer(pipe)"
   ]
  },
  {
   "cell_type": "markdown",
   "id": "49958fd5-911e-4c52-865f-c3c8a4a40568",
   "metadata": {},
   "source": [
    "## Grid search de GaussianNB"
   ]
  },
  {
   "cell_type": "code",
   "execution_count": 9,
   "id": "397cff0f-d7a1-4bc1-a8b3-c55649341948",
   "metadata": {},
   "outputs": [
    {
     "name": "stdout",
     "output_type": "stream",
     "text": [
      "Fitting 3 folds for each of 16 candidates, totalling 48 fits\n"
     ]
    },
    {
     "data": {
      "text/plain": [
       "GridSearchCV(cv=3,\n",
       "             estimator=Pipeline(steps=[('imputer', IterativeImputer()),\n",
       "                                       ['nb', GaussianNB()]]),\n",
       "             n_jobs=-1,\n",
       "             param_grid={'nb__var_smoothing': array([1.00000000e-15, 1.16591440e-14, 1.35935639e-13, 1.58489319e-12,\n",
       "       1.84784980e-11, 2.15443469e-10, 2.51188643e-09, 2.92864456e-08,\n",
       "       3.41454887e-07, 3.98107171e-06, 4.64158883e-05, 5.41169527e-04,\n",
       "       6.30957344e-03, 7.35642254e-02, 8.57695899e-01, 1.00000000e+01])},\n",
       "             scoring='accuracy', verbose=3)"
      ]
     },
     "execution_count": 9,
     "metadata": {},
     "output_type": "execute_result"
    }
   ],
   "source": [
    "df_features, df_target, pipe = nb()\n",
    "\n",
    "pipe.steps.append(['nb', GaussianNB()])\n",
    "\n",
    "grid = GridSearchCV(pipe, param_grid={'nb__var_smoothing': np.logspace(-15, 1, num=16)},\n",
    "                                       cv = 3,\n",
    "                                       scoring = 'accuracy',\n",
    "                                       n_jobs = -1)\n",
    "\n",
    "grid.fit(df_features, df_target.values.ravel())"
   ]
  },
  {
   "cell_type": "code",
   "execution_count": 12,
   "id": "a617e130-96a9-47e2-bfef-143bac4ecb65",
   "metadata": {},
   "outputs": [
    {
     "data": {
      "text/plain": [
       "0.827180504622123"
      ]
     },
     "execution_count": 12,
     "metadata": {},
     "output_type": "execute_result"
    }
   ],
   "source": [
    "grid.best_score_"
   ]
  },
  {
   "cell_type": "code",
   "execution_count": 13,
   "id": "66f2ad13-c40b-43b1-b6cc-4cb497acc1db",
   "metadata": {},
   "outputs": [
    {
     "data": {
      "text/plain": [
       "Pipeline(steps=[('imputer', IterativeImputer()),\n",
       "                ['nb', GaussianNB(var_smoothing=2.9286445646252374e-08)]])"
      ]
     },
     "execution_count": 13,
     "metadata": {},
     "output_type": "execute_result"
    }
   ],
   "source": [
    "grid.best_estimator_"
   ]
  }
 ],
 "metadata": {
  "kernelspec": {
   "display_name": "Python 3 (ipykernel)",
   "language": "python",
   "name": "python3"
  },
  "language_info": {
   "codemirror_mode": {
    "name": "ipython",
    "version": 3
   },
   "file_extension": ".py",
   "mimetype": "text/x-python",
   "name": "python",
   "nbconvert_exporter": "python",
   "pygments_lexer": "ipython3",
   "version": "3.8.10"
  }
 },
 "nbformat": 4,
 "nbformat_minor": 5
}
