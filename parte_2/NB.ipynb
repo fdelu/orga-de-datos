{
 "cells": [
  {
   "cell_type": "markdown",
   "id": "b2207058-50a0-4fe0-963e-6582bb3a1a6c",
   "metadata": {},
   "source": [
    "# Naive Bayes (Gaussiano)"
   ]
  },
  {
   "cell_type": "code",
   "execution_count": 1,
   "id": "a4f78149-44d2-48ba-88cd-9078cc0b84dc",
   "metadata": {},
   "outputs": [],
   "source": [
    "%load_ext autoreload\n",
    "%autoreload 2\n",
    "from preprocessing import *\n",
    "from sklearn.naive_bayes import GaussianNB\n",
    "from sklearn.model_selection import train_test_split, GridSearchCV, StratifiedKFold, cross_val_score\n",
    "from sklearn.pipeline import Pipeline\n",
    "from sklearn import metrics\n",
    "import numpy as np\n",
    "import pandas as pd"
   ]
  },
  {
   "cell_type": "code",
   "execution_count": 2,
   "id": "d27a0205-ab4b-40ac-8010-f1bcc2fe1b9c",
   "metadata": {},
   "outputs": [],
   "source": [
    "SCORINGS = [\"roc_auc\", \"accuracy\", \"precision\", \"recall\", \"f1\"]\n",
    "METRIC = \"roc_auc\"\n",
    "\n",
    "def metrics_table(model, X, Y):\n",
    "    predicted = model.predict(X)\n",
    "    probabilities = model.predict_proba(X)[:,1]\n",
    "    \n",
    "    roc_auc = metrics.roc_auc_score(Y, probabilities)\n",
    "    f1 = metrics.f1_score(Y, predicted)\n",
    "    acc = metrics.accuracy_score(Y, predicted)\n",
    "    rec = metrics.recall_score(Y, predicted)\n",
    "    prec = metrics.precision_score(Y, predicted)\n",
    "    return pd.DataFrame.from_dict({\n",
    "        \"AUC-ROC\": [roc_auc], \"Accuracy\": [acc], \"Precision\": [prec], \"Recall\": [rec], \"F1 Score\": [f1]\n",
    "    })"
   ]
  },
  {
   "cell_type": "markdown",
   "id": "49958fd5-911e-4c52-865f-c3c8a4a40568",
   "metadata": {},
   "source": [
    "## Modelo inicial"
   ]
  },
  {
   "cell_type": "markdown",
   "id": "e309a746-7b41-4de6-b2f0-388881320f47",
   "metadata": {},
   "source": [
    "Algo a considerar es que Gaussian Naive Bayes contempla más que nada variables continuas. Para este primer modelo, por ahora, vamos a probar a dejar las numéricas que son discretas (nubosidad), pero en este modelo no vamos a utilizar la feature de \"barrio\" que es de clasificación."
   ]
  },
  {
   "cell_type": "code",
   "execution_count": 41,
   "id": "09d6e7f2-a328-4dec-8a51-de3173a2d40b",
   "metadata": {},
   "outputs": [],
   "source": [
    "initialize_dataset()\n",
    "\n",
    "df_features = pd.read_csv(\"datasets/df_features.csv\", low_memory = False, index_col = \"id\")\n",
    "df_target = pd.read_csv(\"datasets/df_target.csv\", low_memory = False, index_col = \"id\")\n",
    "\n",
    "common(df_features, df_target)\n",
    "viento_trigonometrico(df_features)\n",
    "drop_categoricas(df_features)\n",
    "\n",
    "X_train, X_test, Y_train, Y_test = train_test_split(df_features, df_target, test_size = 0.20, random_state = 123)\n",
    "\n",
    "pipe = iterative_imputer()"
   ]
  },
  {
   "cell_type": "code",
   "execution_count": 42,
   "id": "397cff0f-d7a1-4bc1-a8b3-c55649341948",
   "metadata": {},
   "outputs": [
    {
     "name": "stdout",
     "output_type": "stream",
     "text": [
      "Fitting 3 folds for each of 17 candidates, totalling 51 fits\n"
     ]
    },
    {
     "data": {
      "text/plain": [
       "0.8334890268601732"
      ]
     },
     "execution_count": 42,
     "metadata": {},
     "output_type": "execute_result"
    }
   ],
   "source": [
    "X_grid = pipe.fit_transform(X_train)\n",
    "grid = GridSearchCV(GaussianNB(), param_grid = {'var_smoothing': [10**x for x in range(-16, 1)]},\n",
    "                    verbose = 1, n_jobs = -1, cv = StratifiedKFold(3), scoring = SCORINGS, refit = METRIC)\n",
    "\n",
    "grid.fit(X_grid, Y_train.values.ravel())\n",
    "\n",
    "grid.best_score_"
   ]
  },
  {
   "cell_type": "code",
   "execution_count": 43,
   "id": "a617e130-96a9-47e2-bfef-143bac4ecb65",
   "metadata": {},
   "outputs": [
    {
     "data": {
      "text/html": [
       "<div>\n",
       "<style scoped>\n",
       "    .dataframe tbody tr th:only-of-type {\n",
       "        vertical-align: middle;\n",
       "    }\n",
       "\n",
       "    .dataframe tbody tr th {\n",
       "        vertical-align: top;\n",
       "    }\n",
       "\n",
       "    .dataframe thead th {\n",
       "        text-align: right;\n",
       "    }\n",
       "</style>\n",
       "<table border=\"1\" class=\"dataframe\">\n",
       "  <thead>\n",
       "    <tr style=\"text-align: right;\">\n",
       "      <th></th>\n",
       "      <th>param_var_smoothing</th>\n",
       "      <th>mean_test_roc_auc</th>\n",
       "      <th>mean_test_accuracy</th>\n",
       "      <th>mean_test_precision</th>\n",
       "      <th>mean_test_recall</th>\n",
       "      <th>mean_test_f1</th>\n",
       "    </tr>\n",
       "  </thead>\n",
       "  <tbody>\n",
       "    <tr>\n",
       "      <th>0</th>\n",
       "      <td>1.000e-08</td>\n",
       "      <td>0.833489</td>\n",
       "      <td>0.819140</td>\n",
       "      <td>0.598119</td>\n",
       "      <td>0.583652</td>\n",
       "      <td>0.590797</td>\n",
       "    </tr>\n",
       "    <tr>\n",
       "      <th>1</th>\n",
       "      <td>1.000e-07</td>\n",
       "      <td>0.832009</td>\n",
       "      <td>0.831098</td>\n",
       "      <td>0.696321</td>\n",
       "      <td>0.434476</td>\n",
       "      <td>0.535070</td>\n",
       "    </tr>\n",
       "    <tr>\n",
       "      <th>2</th>\n",
       "      <td>1.000e-09</td>\n",
       "      <td>0.831865</td>\n",
       "      <td>0.801844</td>\n",
       "      <td>0.549380</td>\n",
       "      <td>0.635142</td>\n",
       "      <td>0.589156</td>\n",
       "    </tr>\n",
       "    <tr>\n",
       "      <th>3</th>\n",
       "      <td>1.000e-10</td>\n",
       "      <td>0.831333</td>\n",
       "      <td>0.798791</td>\n",
       "      <td>0.542281</td>\n",
       "      <td>0.644589</td>\n",
       "      <td>0.589022</td>\n",
       "    </tr>\n",
       "    <tr>\n",
       "      <th>4</th>\n",
       "      <td>1.000e-11</td>\n",
       "      <td>0.831234</td>\n",
       "      <td>0.798485</td>\n",
       "      <td>0.541606</td>\n",
       "      <td>0.645353</td>\n",
       "      <td>0.588942</td>\n",
       "    </tr>\n",
       "    <tr>\n",
       "      <th>5</th>\n",
       "      <td>1.000e-12</td>\n",
       "      <td>0.831222</td>\n",
       "      <td>0.798375</td>\n",
       "      <td>0.541391</td>\n",
       "      <td>0.645244</td>\n",
       "      <td>0.588769</td>\n",
       "    </tr>\n",
       "    <tr>\n",
       "      <th>6</th>\n",
       "      <td>1.000e-13</td>\n",
       "      <td>0.831220</td>\n",
       "      <td>0.798400</td>\n",
       "      <td>0.541437</td>\n",
       "      <td>0.645299</td>\n",
       "      <td>0.588819</td>\n",
       "    </tr>\n",
       "    <tr>\n",
       "      <th>7</th>\n",
       "      <td>1.000e-15</td>\n",
       "      <td>0.831220</td>\n",
       "      <td>0.798400</td>\n",
       "      <td>0.541437</td>\n",
       "      <td>0.645299</td>\n",
       "      <td>0.588819</td>\n",
       "    </tr>\n",
       "    <tr>\n",
       "      <th>8</th>\n",
       "      <td>1.000e-16</td>\n",
       "      <td>0.831220</td>\n",
       "      <td>0.798400</td>\n",
       "      <td>0.541437</td>\n",
       "      <td>0.645299</td>\n",
       "      <td>0.588819</td>\n",
       "    </tr>\n",
       "    <tr>\n",
       "      <th>9</th>\n",
       "      <td>1.000e-14</td>\n",
       "      <td>0.831220</td>\n",
       "      <td>0.798400</td>\n",
       "      <td>0.541437</td>\n",
       "      <td>0.645299</td>\n",
       "      <td>0.588819</td>\n",
       "    </tr>\n",
       "    <tr>\n",
       "      <th>10</th>\n",
       "      <td>1.000e-06</td>\n",
       "      <td>0.825628</td>\n",
       "      <td>0.788750</td>\n",
       "      <td>0.874731</td>\n",
       "      <td>0.064978</td>\n",
       "      <td>0.120954</td>\n",
       "    </tr>\n",
       "    <tr>\n",
       "      <th>11</th>\n",
       "      <td>1.000e-05</td>\n",
       "      <td>0.805014</td>\n",
       "      <td>0.776304</td>\n",
       "      <td>0.000000</td>\n",
       "      <td>0.000000</td>\n",
       "      <td>0.000000</td>\n",
       "    </tr>\n",
       "    <tr>\n",
       "      <th>12</th>\n",
       "      <td>1.000e-04</td>\n",
       "      <td>0.604593</td>\n",
       "      <td>0.776304</td>\n",
       "      <td>0.000000</td>\n",
       "      <td>0.000000</td>\n",
       "      <td>0.000000</td>\n",
       "    </tr>\n",
       "    <tr>\n",
       "      <th>13</th>\n",
       "      <td>1.000e-03</td>\n",
       "      <td>0.541478</td>\n",
       "      <td>0.776304</td>\n",
       "      <td>0.000000</td>\n",
       "      <td>0.000000</td>\n",
       "      <td>0.000000</td>\n",
       "    </tr>\n",
       "    <tr>\n",
       "      <th>14</th>\n",
       "      <td>1.000e-02</td>\n",
       "      <td>0.517873</td>\n",
       "      <td>0.776304</td>\n",
       "      <td>0.000000</td>\n",
       "      <td>0.000000</td>\n",
       "      <td>0.000000</td>\n",
       "    </tr>\n",
       "    <tr>\n",
       "      <th>15</th>\n",
       "      <td>1.000e-01</td>\n",
       "      <td>0.511312</td>\n",
       "      <td>0.776304</td>\n",
       "      <td>0.000000</td>\n",
       "      <td>0.000000</td>\n",
       "      <td>0.000000</td>\n",
       "    </tr>\n",
       "    <tr>\n",
       "      <th>16</th>\n",
       "      <td>1.000e+00</td>\n",
       "      <td>0.509694</td>\n",
       "      <td>0.776304</td>\n",
       "      <td>0.000000</td>\n",
       "      <td>0.000000</td>\n",
       "      <td>0.000000</td>\n",
       "    </tr>\n",
       "  </tbody>\n",
       "</table>\n",
       "</div>"
      ],
      "text/plain": [
       "   param_var_smoothing  mean_test_roc_auc  mean_test_accuracy  \\\n",
       "0            1.000e-08           0.833489            0.819140   \n",
       "1            1.000e-07           0.832009            0.831098   \n",
       "2            1.000e-09           0.831865            0.801844   \n",
       "3            1.000e-10           0.831333            0.798791   \n",
       "4            1.000e-11           0.831234            0.798485   \n",
       "5            1.000e-12           0.831222            0.798375   \n",
       "6            1.000e-13           0.831220            0.798400   \n",
       "7            1.000e-15           0.831220            0.798400   \n",
       "8            1.000e-16           0.831220            0.798400   \n",
       "9            1.000e-14           0.831220            0.798400   \n",
       "10           1.000e-06           0.825628            0.788750   \n",
       "11           1.000e-05           0.805014            0.776304   \n",
       "12           1.000e-04           0.604593            0.776304   \n",
       "13           1.000e-03           0.541478            0.776304   \n",
       "14           1.000e-02           0.517873            0.776304   \n",
       "15           1.000e-01           0.511312            0.776304   \n",
       "16           1.000e+00           0.509694            0.776304   \n",
       "\n",
       "    mean_test_precision  mean_test_recall  mean_test_f1  \n",
       "0              0.598119          0.583652      0.590797  \n",
       "1              0.696321          0.434476      0.535070  \n",
       "2              0.549380          0.635142      0.589156  \n",
       "3              0.542281          0.644589      0.589022  \n",
       "4              0.541606          0.645353      0.588942  \n",
       "5              0.541391          0.645244      0.588769  \n",
       "6              0.541437          0.645299      0.588819  \n",
       "7              0.541437          0.645299      0.588819  \n",
       "8              0.541437          0.645299      0.588819  \n",
       "9              0.541437          0.645299      0.588819  \n",
       "10             0.874731          0.064978      0.120954  \n",
       "11             0.000000          0.000000      0.000000  \n",
       "12             0.000000          0.000000      0.000000  \n",
       "13             0.000000          0.000000      0.000000  \n",
       "14             0.000000          0.000000      0.000000  \n",
       "15             0.000000          0.000000      0.000000  \n",
       "16             0.000000          0.000000      0.000000  "
      ]
     },
     "execution_count": 43,
     "metadata": {},
     "output_type": "execute_result"
    }
   ],
   "source": [
    "tabla = pd.DataFrame(grid.cv_results_)\n",
    "tabla['param_var_smoothing'] = tabla['param_var_smoothing'].map('{:.3e}'.format)\n",
    "tabla.sort_values(\"rank_test_\" + METRIC, inplace = True)\n",
    "tabla.reset_index(inplace = True)\n",
    "cols = [\"param_var_smoothing\"] + [\"mean_test_\" + x for x in SCORINGS]\n",
    "tabla[cols]"
   ]
  },
  {
   "cell_type": "markdown",
   "id": "2bbf35da-e150-47f4-9e4a-246dffc99519",
   "metadata": {},
   "source": [
    "El modelo que mejor resultó es el de smoothing del orden de $10^{-8}$, asi que vamos a usar ese valor para entrenar a los modelos. "
   ]
  },
  {
   "cell_type": "code",
   "execution_count": 44,
   "id": "0ddeb64c-5ab2-42b5-b9c9-cd049edbd577",
   "metadata": {},
   "outputs": [
    {
     "data": {
      "text/html": [
       "<div>\n",
       "<style scoped>\n",
       "    .dataframe tbody tr th:only-of-type {\n",
       "        vertical-align: middle;\n",
       "    }\n",
       "\n",
       "    .dataframe tbody tr th {\n",
       "        vertical-align: top;\n",
       "    }\n",
       "\n",
       "    .dataframe thead th {\n",
       "        text-align: right;\n",
       "    }\n",
       "</style>\n",
       "<table border=\"1\" class=\"dataframe\">\n",
       "  <thead>\n",
       "    <tr style=\"text-align: right;\">\n",
       "      <th></th>\n",
       "      <th>AUC-ROC</th>\n",
       "      <th>Accuracy</th>\n",
       "      <th>Precision</th>\n",
       "      <th>Recall</th>\n",
       "      <th>F1 Score</th>\n",
       "    </tr>\n",
       "  </thead>\n",
       "  <tbody>\n",
       "    <tr>\n",
       "      <th>0</th>\n",
       "      <td>0.835237</td>\n",
       "      <td>0.819621</td>\n",
       "      <td>0.603851</td>\n",
       "      <td>0.572858</td>\n",
       "      <td>0.587946</td>\n",
       "    </tr>\n",
       "  </tbody>\n",
       "</table>\n",
       "</div>"
      ],
      "text/plain": [
       "    AUC-ROC  Accuracy  Precision    Recall  F1 Score\n",
       "0  0.835237  0.819621   0.603851  0.572858  0.587946"
      ]
     },
     "execution_count": 44,
     "metadata": {},
     "output_type": "execute_result"
    }
   ],
   "source": [
    "pipe.steps.append(['nb', GaussianNB(var_smoothing = 1e-8)])\n",
    "\n",
    "pipe.fit(X_train, Y_train.values.ravel())\n",
    "\n",
    "metrics_table(pipe, X_test, Y_test.values.ravel())"
   ]
  },
  {
   "cell_type": "markdown",
   "id": "a913486a-734e-46d7-af04-8bb405f6ad2f",
   "metadata": {},
   "source": [
    "Validando con el set de test, el AUC-ROC dio 0.835 y el accuracy 82%, lo cual no es para tanto considerando que podría conseguir alrededor de 77% diciendo siempre no, como pasó con los últimos de la tabla del grid search. Ni el recall ni el precision son muy buenos."
   ]
  },
  {
   "cell_type": "markdown",
   "id": "b2248108-38eb-4379-935e-c8c3b082b8a1",
   "metadata": {},
   "source": [
    "## Dropeando features correlacionadas"
   ]
  },
  {
   "cell_type": "markdown",
   "id": "b15422f6-4d15-41d3-a6c3-64eadf0b79c6",
   "metadata": {},
   "source": [
    "En el dataset hay variables fuertemente correlacionadas, lo cual va en contra de las asunciones que hace Naive Bayes. Vamos a probar a dropear algunas de las variables que tenían más alta covarianza con otras y entrenar nuevamente. De todas formas, esto puede dar resultados bastante malos ya que algunas de estas relaciones nos sirvieron al menos en la baseline."
   ]
  },
  {
   "cell_type": "code",
   "execution_count": 45,
   "id": "e07f96e5-528a-406d-b9c5-8ffc49d8b683",
   "metadata": {},
   "outputs": [],
   "source": [
    "initialize_dataset()\n",
    "\n",
    "df_features = pd.read_csv(\"datasets/df_features.csv\", low_memory = False, index_col = \"id\")\n",
    "df_target = pd.read_csv(\"datasets/df_target.csv\", low_memory = False, index_col = \"id\")\n",
    "\n",
    "common(df_features, df_target)\n",
    "viento_trigonometrico(df_features)\n",
    "drop_correlacionadas(df_features) # lo nuevo\n",
    "drop_categoricas(df_features)\n",
    "\n",
    "# Son los mismos sets, tienen el mismo random state\n",
    "X_train, X_test, Y_train, Y_test = train_test_split(df_features, df_target, test_size = 0.20, random_state = 123)\n",
    "\n",
    "pipe = iterative_imputer()"
   ]
  },
  {
   "cell_type": "code",
   "execution_count": 46,
   "id": "cc09ac67-2d02-4e2f-a471-455c711f58b4",
   "metadata": {},
   "outputs": [
    {
     "data": {
      "text/html": [
       "<div>\n",
       "<style scoped>\n",
       "    .dataframe tbody tr th:only-of-type {\n",
       "        vertical-align: middle;\n",
       "    }\n",
       "\n",
       "    .dataframe tbody tr th {\n",
       "        vertical-align: top;\n",
       "    }\n",
       "\n",
       "    .dataframe thead th {\n",
       "        text-align: right;\n",
       "    }\n",
       "</style>\n",
       "<table border=\"1\" class=\"dataframe\">\n",
       "  <thead>\n",
       "    <tr style=\"text-align: right;\">\n",
       "      <th></th>\n",
       "      <th>AUC-ROC</th>\n",
       "      <th>Accuracy</th>\n",
       "      <th>Precision</th>\n",
       "      <th>Recall</th>\n",
       "      <th>F1 Score</th>\n",
       "    </tr>\n",
       "  </thead>\n",
       "  <tbody>\n",
       "    <tr>\n",
       "      <th>0</th>\n",
       "      <td>0.835992</td>\n",
       "      <td>0.82221</td>\n",
       "      <td>0.614139</td>\n",
       "      <td>0.561114</td>\n",
       "      <td>0.58643</td>\n",
       "    </tr>\n",
       "  </tbody>\n",
       "</table>\n",
       "</div>"
      ],
      "text/plain": [
       "    AUC-ROC  Accuracy  Precision    Recall  F1 Score\n",
       "0  0.835992   0.82221   0.614139  0.561114   0.58643"
      ]
     },
     "execution_count": 46,
     "metadata": {},
     "output_type": "execute_result"
    }
   ],
   "source": [
    "pipe.steps.append(['nb', GaussianNB(var_smoothing = 1e-8)])\n",
    "\n",
    "pipe.fit(X_train, Y_train.values.ravel())\n",
    "\n",
    "metrics_table(pipe, X_test, Y_test.values.ravel())"
   ]
  },
  {
   "cell_type": "markdown",
   "id": "1667504c-63b4-4b33-a695-e8dc939d7810",
   "metadata": {},
   "source": [
    "Mejoró un poco el accuracy, precision y AUC-ROC pero empeoró el recall aún más. Una idea mejor podría ser hacer un Forward Selection en vez de sacar las features a ojo, lo cual hacemos un poco más adelante."
   ]
  },
  {
   "cell_type": "markdown",
   "id": "5693160d-53dc-4942-9e4b-8dd73a58d565",
   "metadata": {},
   "source": [
    "## Sin features discretas"
   ]
  },
  {
   "cell_type": "markdown",
   "id": "f8d9b234-c92d-43b8-b178-79a538079b31",
   "metadata": {},
   "source": [
    "Podemos probar a sacar también las features discretas, siendo que al utilizar el Gaussiano considera mejor las continuas y quizás estan perjudicando al modelo."
   ]
  },
  {
   "cell_type": "code",
   "execution_count": 47,
   "id": "2e88783a-bd39-4d84-9a43-4a3959a736fc",
   "metadata": {},
   "outputs": [],
   "source": [
    "initialize_dataset()\n",
    "\n",
    "df_features = pd.read_csv(\"datasets/df_features.csv\", low_memory = False, index_col = \"id\")\n",
    "df_target = pd.read_csv(\"datasets/df_target.csv\", low_memory = False, index_col = \"id\")\n",
    "\n",
    "common(df_features, df_target)\n",
    "viento_trigonometrico(df_features)\n",
    "drop_discretas(df_features) # lo nuevo\n",
    "drop_categoricas(df_features)\n",
    "\n",
    "# Son los mismos sets, tienen el mismo random state\n",
    "X_train, X_test, Y_train, Y_test = train_test_split(df_features, df_target, test_size = 0.35, random_state = 123)\n",
    "\n",
    "pipe = iterative_imputer()"
   ]
  },
  {
   "cell_type": "code",
   "execution_count": 48,
   "id": "fcdd6aab-ef41-4153-9a18-eadf84499fe4",
   "metadata": {},
   "outputs": [
    {
     "data": {
      "text/html": [
       "<div>\n",
       "<style scoped>\n",
       "    .dataframe tbody tr th:only-of-type {\n",
       "        vertical-align: middle;\n",
       "    }\n",
       "\n",
       "    .dataframe tbody tr th {\n",
       "        vertical-align: top;\n",
       "    }\n",
       "\n",
       "    .dataframe thead th {\n",
       "        text-align: right;\n",
       "    }\n",
       "</style>\n",
       "<table border=\"1\" class=\"dataframe\">\n",
       "  <thead>\n",
       "    <tr style=\"text-align: right;\">\n",
       "      <th></th>\n",
       "      <th>AUC-ROC</th>\n",
       "      <th>Accuracy</th>\n",
       "      <th>Precision</th>\n",
       "      <th>Recall</th>\n",
       "      <th>F1 Score</th>\n",
       "    </tr>\n",
       "  </thead>\n",
       "  <tbody>\n",
       "    <tr>\n",
       "      <th>0</th>\n",
       "      <td>0.82949</td>\n",
       "      <td>0.823781</td>\n",
       "      <td>0.625185</td>\n",
       "      <td>0.526875</td>\n",
       "      <td>0.571836</td>\n",
       "    </tr>\n",
       "  </tbody>\n",
       "</table>\n",
       "</div>"
      ],
      "text/plain": [
       "   AUC-ROC  Accuracy  Precision    Recall  F1 Score\n",
       "0  0.82949  0.823781   0.625185  0.526875  0.571836"
      ]
     },
     "execution_count": 48,
     "metadata": {},
     "output_type": "execute_result"
    }
   ],
   "source": [
    "pipe.steps.append(['nb', GaussianNB(var_smoothing = 1e-8)])\n",
    "\n",
    "pipe.fit(X_train, Y_train.values.ravel())\n",
    "\n",
    "metrics_table(pipe, X_test, Y_test.values.ravel())"
   ]
  },
  {
   "cell_type": "markdown",
   "id": "7e17cacf-47b1-455c-8f13-1aa1c6cd7fba",
   "metadata": {},
   "source": [
    "Parece que no ayudó mucho, aumentó el accuracy pero las demás métricas empeoraron."
   ]
  },
  {
   "cell_type": "markdown",
   "id": "d3759f8c-7bf5-4405-969f-775747a35cf5",
   "metadata": {},
   "source": [
    "## Con Feature Selection"
   ]
  },
  {
   "cell_type": "markdown",
   "id": "5c34cc10-59fe-4fce-b3f6-601ba811d8d2",
   "metadata": {},
   "source": [
    "Como hacerlo a mano no fue muy bien, podemos probar distintas combinaciones de features y ver cuales dan mejor. Hacemos un Forward Selection con la mitad de las features. Usamos $10^{-8}$ de smoothing."
   ]
  },
  {
   "cell_type": "code",
   "execution_count": 3,
   "id": "f0636a4c-de99-4564-877e-b0336ca3f737",
   "metadata": {},
   "outputs": [],
   "source": [
    "initialize_dataset()\n",
    "\n",
    "df_features = pd.read_csv(\"datasets/df_features.csv\", low_memory = False, index_col = \"id\")\n",
    "df_target = pd.read_csv(\"datasets/df_target.csv\", low_memory = False, index_col = \"id\")\n",
    "\n",
    "common(df_features, df_target)\n",
    "viento_trigonometrico(df_features)\n",
    "drop_categoricas(df_features)\n",
    "\n",
    "# Son los mismos sets, tienen el mismo random state\n",
    "X_train, X_test, Y_train, Y_test = train_test_split(df_features, df_target, test_size = 0.20, random_state = 123)\n",
    "\n",
    "pipe = iterative_imputer()"
   ]
  },
  {
   "cell_type": "code",
   "execution_count": 4,
   "id": "f62a73d9-e1bb-46c2-857f-1579408ba590",
   "metadata": {},
   "outputs": [
    {
     "data": {
      "text/plain": [
       "array([ True,  True,  True, False, False, False,  True, False,  True,\n",
       "       False,  True, False,  True, False, False, False, False,  True,\n",
       "        True,  True,  True,  True,  True])"
      ]
     },
     "execution_count": 4,
     "metadata": {},
     "output_type": "execute_result"
    }
   ],
   "source": [
    "selected_columns = feature_selection(GaussianNB(var_smoothing = 1e-8), METRIC, pipe.fit_transform(X_train), Y_train.values.ravel())\n",
    "\n",
    "selected_columns"
   ]
  },
  {
   "cell_type": "code",
   "execution_count": 5,
   "id": "cd7dce22-624a-45c1-a4cb-8c240b2e7f1a",
   "metadata": {},
   "outputs": [
    {
     "data": {
      "text/plain": [
       "Index(['dia', 'horas_de_sol', 'humedad_tarde', 'nubosidad_tarde',\n",
       "       'presion_atmosferica_tarde', 'rafaga_viento_max_velocidad', 'temp_min',\n",
       "       'cos_viento_tarde', 'sin_viento_tarde', 'cos_viento_temprano',\n",
       "       'sin_viento_temprano', 'cos_rafaga_viento_max_direccion',\n",
       "       'sin_rafaga_viento_max_direccion'],\n",
       "      dtype='object')"
      ]
     },
     "execution_count": 5,
     "metadata": {},
     "output_type": "execute_result"
    }
   ],
   "source": [
    "df_features.columns[selected_columns]"
   ]
  },
  {
   "cell_type": "code",
   "execution_count": 6,
   "id": "379920c8-f552-44e7-a67b-1951e88ec967",
   "metadata": {},
   "outputs": [
    {
     "data": {
      "text/html": [
       "<div>\n",
       "<style scoped>\n",
       "    .dataframe tbody tr th:only-of-type {\n",
       "        vertical-align: middle;\n",
       "    }\n",
       "\n",
       "    .dataframe tbody tr th {\n",
       "        vertical-align: top;\n",
       "    }\n",
       "\n",
       "    .dataframe thead th {\n",
       "        text-align: right;\n",
       "    }\n",
       "</style>\n",
       "<table border=\"1\" class=\"dataframe\">\n",
       "  <thead>\n",
       "    <tr style=\"text-align: right;\">\n",
       "      <th></th>\n",
       "      <th>AUC-ROC</th>\n",
       "      <th>Accuracy</th>\n",
       "      <th>Precision</th>\n",
       "      <th>Recall</th>\n",
       "      <th>F1 Score</th>\n",
       "    </tr>\n",
       "  </thead>\n",
       "  <tbody>\n",
       "    <tr>\n",
       "      <th>0</th>\n",
       "      <td>0.850033</td>\n",
       "      <td>0.832177</td>\n",
       "      <td>0.644257</td>\n",
       "      <td>0.564811</td>\n",
       "      <td>0.601924</td>\n",
       "    </tr>\n",
       "  </tbody>\n",
       "</table>\n",
       "</div>"
      ],
      "text/plain": [
       "    AUC-ROC  Accuracy  Precision    Recall  F1 Score\n",
       "0  0.850033  0.832177   0.644257  0.564811  0.601924"
      ]
     },
     "execution_count": 6,
     "metadata": {},
     "output_type": "execute_result"
    }
   ],
   "source": [
    "pipe.steps.append(['nb', GaussianNB(var_smoothing = 1e-8)])\n",
    "\n",
    "pipe.fit(X_train[df_features.columns[selected_columns]], Y_train.values.ravel())\n",
    "\n",
    "metrics_table(pipe, X_test[df_features.columns[selected_columns]], Y_test.values.ravel())"
   ]
  },
  {
   "cell_type": "markdown",
   "id": "243c5215-346c-468b-a58f-99765ff41272",
   "metadata": {},
   "source": [
    "La elección de features mejoró considerablemente el resultado. Llegó a un área bajo la curva ROC de 0.85 y accuracy de 83.2%, resultando en el mejor modelo de Naive Bayes de los entrenados. Eso sí, el recall es levemente peor que el modelo inicial."
   ]
  },
  {
   "cell_type": "markdown",
   "id": "a80139d7-3cf1-4435-b467-3ae4fcf054a9",
   "metadata": {},
   "source": [
    "## Predicción de nuevos datos"
   ]
  },
  {
   "cell_type": "markdown",
   "id": "52014632-fb22-42fb-94d0-39d39f829174",
   "metadata": {},
   "source": [
    "Vamos a usar este último modelo"
   ]
  },
  {
   "cell_type": "code",
   "execution_count": 44,
   "id": "f4fe9d2a-a7d1-4629-a9bb-2b2bf998a968",
   "metadata": {},
   "outputs": [
    {
     "data": {
      "text/html": [
       "<div>\n",
       "<style scoped>\n",
       "    .dataframe tbody tr th:only-of-type {\n",
       "        vertical-align: middle;\n",
       "    }\n",
       "\n",
       "    .dataframe tbody tr th {\n",
       "        vertical-align: top;\n",
       "    }\n",
       "\n",
       "    .dataframe thead th {\n",
       "        text-align: right;\n",
       "    }\n",
       "</style>\n",
       "<table border=\"1\" class=\"dataframe\">\n",
       "  <thead>\n",
       "    <tr style=\"text-align: right;\">\n",
       "      <th></th>\n",
       "      <th>llovieron_hamburguesas_al_dia_siguiente</th>\n",
       "    </tr>\n",
       "    <tr>\n",
       "      <th>id</th>\n",
       "      <th></th>\n",
       "    </tr>\n",
       "  </thead>\n",
       "  <tbody>\n",
       "    <tr>\n",
       "      <th>116706</th>\n",
       "      <td>no</td>\n",
       "    </tr>\n",
       "    <tr>\n",
       "      <th>58831</th>\n",
       "      <td>no</td>\n",
       "    </tr>\n",
       "    <tr>\n",
       "      <th>31981</th>\n",
       "      <td>no</td>\n",
       "    </tr>\n",
       "    <tr>\n",
       "      <th>2533</th>\n",
       "      <td>no</td>\n",
       "    </tr>\n",
       "    <tr>\n",
       "      <th>7270</th>\n",
       "      <td>si</td>\n",
       "    </tr>\n",
       "    <tr>\n",
       "      <th>...</th>\n",
       "      <td>...</td>\n",
       "    </tr>\n",
       "    <tr>\n",
       "      <th>73456</th>\n",
       "      <td>no</td>\n",
       "    </tr>\n",
       "    <tr>\n",
       "      <th>14471</th>\n",
       "      <td>no</td>\n",
       "    </tr>\n",
       "    <tr>\n",
       "      <th>106482</th>\n",
       "      <td>no</td>\n",
       "    </tr>\n",
       "    <tr>\n",
       "      <th>21057</th>\n",
       "      <td>si</td>\n",
       "    </tr>\n",
       "    <tr>\n",
       "      <th>102055</th>\n",
       "      <td>no</td>\n",
       "    </tr>\n",
       "  </tbody>\n",
       "</table>\n",
       "<p>29092 rows × 1 columns</p>\n",
       "</div>"
      ],
      "text/plain": [
       "       llovieron_hamburguesas_al_dia_siguiente\n",
       "id                                            \n",
       "116706                                      no\n",
       "58831                                       no\n",
       "31981                                       no\n",
       "2533                                        no\n",
       "7270                                        si\n",
       "...                                        ...\n",
       "73456                                       no\n",
       "14471                                       no\n",
       "106482                                      no\n",
       "21057                                       si\n",
       "102055                                      no\n",
       "\n",
       "[29092 rows x 1 columns]"
      ]
     },
     "execution_count": 44,
     "metadata": {},
     "output_type": "execute_result"
    }
   ],
   "source": [
    "initialize_dataset()\n",
    "\n",
    "df_extra = pd.read_csv(\"datasets/df_extra.csv\", low_memory = False, index_col = \"id\")\n",
    "\n",
    "common(df_extra)\n",
    "viento_trigonometrico(df_extra)\n",
    "drop_categoricas(df_extra)\n",
    "df_extra = df_extra[df_extra.columns[selected_columns]]\n",
    "\n",
    "# El imputer ya esta en el pipe\n",
    "\n",
    "df_extra_predict = pd.DataFrame({\"id\": df_extra.index, \"llovieron_hamburguesas_al_dia_siguiente\": pipe.predict(df_extra)})\n",
    "df_extra_predict.set_index(\"id\", inplace = True)\n",
    "df_extra_predict.replace({\"llovieron_hamburguesas_al_dia_siguiente\": {0.0: \"no\", 1.0: \"si\"}}, inplace = True)\n",
    "df_extra_predict"
   ]
  },
  {
   "cell_type": "code",
   "execution_count": 45,
   "id": "041d3521-0a95-49a3-9b86-8fe4caf87f35",
   "metadata": {},
   "outputs": [],
   "source": [
    "df_extra_predict.to_csv(\"predicciones/NB.csv\")"
   ]
  },
  {
   "cell_type": "markdown",
   "id": "5a671509-5869-4d47-86c5-7d885b2c68d0",
   "metadata": {},
   "source": [
    "## Predicciones en el holdout"
   ]
  },
  {
   "cell_type": "code",
   "execution_count": 8,
   "id": "a2bdc679-d0cd-4685-96bb-b199008504a7",
   "metadata": {},
   "outputs": [
    {
     "data": {
      "text/html": [
       "<div>\n",
       "<style scoped>\n",
       "    .dataframe tbody tr th:only-of-type {\n",
       "        vertical-align: middle;\n",
       "    }\n",
       "\n",
       "    .dataframe tbody tr th {\n",
       "        vertical-align: top;\n",
       "    }\n",
       "\n",
       "    .dataframe thead th {\n",
       "        text-align: right;\n",
       "    }\n",
       "</style>\n",
       "<table border=\"1\" class=\"dataframe\">\n",
       "  <thead>\n",
       "    <tr style=\"text-align: right;\">\n",
       "      <th></th>\n",
       "      <th>AUC-ROC</th>\n",
       "      <th>Accuracy</th>\n",
       "      <th>Precision</th>\n",
       "      <th>Recall</th>\n",
       "      <th>F1 Score</th>\n",
       "    </tr>\n",
       "  </thead>\n",
       "  <tbody>\n",
       "    <tr>\n",
       "      <th>0</th>\n",
       "      <td>0.85551</td>\n",
       "      <td>0.828825</td>\n",
       "      <td>0.630804</td>\n",
       "      <td>0.557396</td>\n",
       "      <td>0.591832</td>\n",
       "    </tr>\n",
       "  </tbody>\n",
       "</table>\n",
       "</div>"
      ],
      "text/plain": [
       "   AUC-ROC  Accuracy  Precision    Recall  F1 Score\n",
       "0  0.85551  0.828825   0.630804  0.557396  0.591832"
      ]
     },
     "execution_count": 8,
     "metadata": {},
     "output_type": "execute_result"
    }
   ],
   "source": [
    "initialize_dataset()\n",
    "\n",
    "X_holdout = pd.read_csv(\"datasets/df_features_holdout.csv\", low_memory = False, index_col = \"id\")\n",
    "Y_holdout = pd.read_csv(\"datasets/df_target_holdout.csv\", low_memory = False, index_col = \"id\")\n",
    "\n",
    "common(X_holdout, Y_holdout)\n",
    "viento_trigonometrico(X_holdout)\n",
    "drop_categoricas(X_holdout)\n",
    "X_holdout = X_holdout[X_holdout.columns[selected_columns]]\n",
    "\n",
    "# El imputer y standarizer ya estan en el pipe\n",
    "\n",
    "metrics_table(pipe, X_holdout, Y_holdout)"
   ]
  },
  {
   "cell_type": "markdown",
   "id": "c9c74bbb-a145-401c-9563-e8327324ab72",
   "metadata": {},
   "source": [
    "### Matriz de confusión"
   ]
  },
  {
   "cell_type": "code",
   "execution_count": 9,
   "id": "937c6478-062e-4e98-87ab-265a1202ad4b",
   "metadata": {},
   "outputs": [
    {
     "data": {
      "image/png": "[encoded data removed]",
      "text/plain": [
       "<Figure size 432x288 with 2 Axes>"
      ]
     },
     "metadata": {
      "needs_background": "light"
     },
     "output_type": "display_data"
    }
   ],
   "source": [
    "from sklearn.metrics import ConfusionMatrixDisplay\n",
    "ConfusionMatrixDisplay.from_predictions(Y_holdout, pipe.predict(X_holdout))\n",
    "None"
   ]
  },
  {
   "cell_type": "markdown",
   "id": "0c34e728-e01d-4aa5-9f79-61e8b9e39b35",
   "metadata": {},
   "source": [
    "Como la mayoría de los modelos, es mejor para predecir los negativos, pero en este caso este modelo dio resultados levemente mejores en cuanto a los falsos negativos."
   ]
  },
  {
   "cell_type": "markdown",
   "id": "63b1c1a5-c2c5-4783-ba64-1fc3b781d56e",
   "metadata": {},
   "source": [
    "### Curva ROC"
   ]
  },
  {
   "cell_type": "code",
   "execution_count": 11,
   "id": "67186b66-2bd8-4e2f-9aaa-ee95afbfae19",
   "metadata": {},
   "outputs": [
    {
     "data": {
      "image/png": "[encoded data removed]",
      "text/plain": [
       "<Figure size 432x288 with 1 Axes>"
      ]
     },
     "metadata": {
      "needs_background": "light"
     },
     "output_type": "display_data"
    }
   ],
   "source": [
    "from sklearn.metrics import RocCurveDisplay\n",
    "from matplotlib import pyplot as plt\n",
    "fig, ax = plt.subplots()\n",
    "\n",
    "RocCurveDisplay.from_predictions(Y_holdout, pipe.predict_proba(X_holdout)[:,1], name = \"SVM Polinómico (d=3)\", ax = ax)\n",
    "ax.plot([0, 1], [0, 1], \"--\", color=\"gray\")\n",
    "plt.show()"
   ]
  },
  {
   "cell_type": "code",
   "execution_count": null,
   "id": "d456edfd-78d9-406e-b374-97e9af1bc698",
   "metadata": {},
   "outputs": [],
   "source": []
  }
 ],
 "metadata": {
  "kernelspec": {
   "display_name": "Python 3 (ipykernel)",
   "language": "python",
   "name": "python3"
  },
  "language_info": {
   "codemirror_mode": {
    "name": "ipython",
    "version": 3
   },
   "file_extension": ".py",
   "mimetype": "text/x-python",
   "name": "python",
   "nbconvert_exporter": "python",
   "pygments_lexer": "ipython3",
   "version": "3.8.10"
  }
 },
 "nbformat": 4,
 "nbformat_minor": 5
}
