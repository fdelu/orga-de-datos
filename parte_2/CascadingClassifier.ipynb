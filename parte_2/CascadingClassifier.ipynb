{
 "cells": [
  {
   "cell_type": "markdown",
   "id": "db4c99f8-f216-42a0-ac9a-e0cd251ddee7",
   "metadata": {},
   "source": [
    "# CascadingClassifier"
   ]
  },
  {
   "cell_type": "markdown",
   "id": "d97ed9e9-436a-4ac9-905b-945e0f1724f5",
   "metadata": {},
   "source": [
    "Cascading es una técnica de ensambles que consiste en entrenar modelos con las instancias predichas con poca certeza por modelos anteriores. Como **sklearn** no provee este modelo, implementamos una versión propia simplificada."
   ]
  },
  {
   "cell_type": "code",
   "execution_count": 2,
   "id": "748a6f65-24ad-4376-a2d7-fb946c62cb5e",
   "metadata": {},
   "outputs": [
    {
     "name": "stdout",
     "output_type": "stream",
     "text": [
      "The autoreload extension is already loaded. To reload it, use:\n",
      "  %reload_ext autoreload\n"
     ]
    }
   ],
   "source": [
    "%load_ext autoreload\n",
    "%autoreload 2\n",
    "from preprocessing import *\n",
    "from scoring import *\n",
    "from sklearn.metrics import roc_auc_score, accuracy_score, ConfusionMatrixDisplay, RocCurveDisplay\n",
    "from sklearn.model_selection import train_test_split, cross_val_score\n",
    "from sklearn.model_selection import GridSearchCV, StratifiedKFold\n",
    "from sklearn.calibration import CalibratedClassifierCV\n",
    "from sklearn.tree import DecisionTreeClassifier\n",
    "from sklearn.svm import SVC\n",
    "from sklearn.ensemble import RandomForestClassifier\n",
    "from sklearn.naive_bayes import GaussianNB\n",
    "from sklearn.pipeline import Pipeline\n",
    "from sklearn.neighbors import KNeighborsClassifier\n",
    "\n",
    "from scikeras.wrappers import KerasClassifier\n",
    "from keras.models import Sequential\n",
    "import tensorflow as tf\n",
    "from keras.models import Sequential\n",
    "from keras.layers import Dense, Dropout, Input\n",
    "from keras.callbacks import EarlyStopping, ModelCheckpoint\n",
    "from tensorflow.keras.optimizers import Adam, SGD, Adadelta\n",
    "from keras.regularizers import l2\n",
    "\n",
    "import pandas as pd\n",
    "import numpy as np\n",
    "from joblib import dump, load\n",
    "pd.set_option('display.max_rows', 10)\n",
    "np.random.seed(0)"
   ]
  },
  {
   "cell_type": "markdown",
   "id": "9f3e79cb-8a79-4da0-8035-898433effe5d",
   "metadata": {},
   "source": [
    "## Implementación"
   ]
  },
  {
   "cell_type": "code",
   "execution_count": 3,
   "id": "8a407bee-1d0b-4151-8037-188d1d978093",
   "metadata": {},
   "outputs": [],
   "source": [
    "\"\"\"\n",
    "Devuelve un array en el que el elemento x[i] es el elemento\n",
    "mas alejado de 0.5 entre arr_a[i] y arr_b[i]\n",
    "\"\"\"\n",
    "def get_further(arr_a, arr_b):\n",
    "    return np.array([a if abs(a - 0.5) > abs(b - 0.5) else b for a,b in zip(arr_a, arr_b)])\n",
    "\n",
    "class CascadingClassifier:\n",
    "    \"\"\"\n",
    "    threshold es la certeza minima que debe tener un modelo\n",
    "    para clasificar correctamente una instancia. Todas las\n",
    "    instancias cuya certeza sean menores que el threshold,\n",
    "    se pasaran al siguiente modelo, tanto para el fit() como\n",
    "    para el predict_proba()\n",
    "    models es una lista de pares ('nombre', modelo)\n",
    "    idx_to_use_calib es una lista con los indices de los modelos\n",
    "    que deben ser calibrados (usando CalibratedClassifierCV)\n",
    "    \"\"\"\n",
    "    def __init__(self, models, threshold, idx_to_use_calib):\n",
    "        # Guardamos los modelos junto con sus calibradores\n",
    "        # para que los resultados de predict_proba() sean mas\n",
    "        # precisos\n",
    "        # Si el usuario lo desea, puede desactivar esta opcion\n",
    "        models_list = []\n",
    "        for i, model_pair in enumerate(models):\n",
    "            if i in idx_to_use_calib:\n",
    "                models_list.append((model_pair[0], CalibratedClassifierCV(model_pair[1], n_jobs=-1)))\n",
    "            else:\n",
    "                models_list.append(model_pair)\n",
    "        \n",
    "        self.models = models_list\n",
    "        self.threshold = threshold\n",
    "    \n",
    "    def fit(self, X_train, Y_train, verbose=True):\n",
    "        return self._fit_rec(X_train, Y_train, self.models, verbose)\n",
    "    \n",
    "    \"\"\"\n",
    "    Entrena al primer modelo de models_subset\n",
    "    si al predecir las mismas instancias con que\n",
    "    fue entrenado la certeza es menor que el threshold\n",
    "    (podemos confiar de este numero gracias a la calibracion)\n",
    "    entonces se invoca recursivamente con el siguiente modelo\n",
    "    pasando como parametros las instancias predichas con poca\n",
    "    certeza\n",
    "    \"\"\"\n",
    "    def _fit_rec(self, X_train_subset, Y_train_subset, models_subset, verbose):\n",
    "        if len(models_subset) == 0:\n",
    "            return\n",
    "        model = models_subset[0][1]\n",
    "        model_name = models_subset[0][0]\n",
    "        \n",
    "        model.fit(X_train_subset, Y_train_subset)\n",
    "        model_output = model.predict_proba(X_train_subset)\n",
    "        max_model_output = np.maximum(model_output[:,0], model_output[:,1])\n",
    "        \n",
    "        not_so_sure_points_index = np.where(max_model_output < self.threshold)[0]\n",
    "\n",
    "        X_train_next_subset = X_train_subset[not_so_sure_points_index]\n",
    "        Y_train_next_subset = Y_train_subset[not_so_sure_points_index]\n",
    "        \n",
    "        not_sure_len = len(not_so_sure_points_index)\n",
    "        sure_len = len(model_output) - not_sure_len\n",
    "        \n",
    "        if verbose:\n",
    "            print(f\"Modelo: {model_name} logro clasificar {sure_len} instancias, {not_sure_len} no lograron ser clasificadas\")\n",
    "            \n",
    "        self._fit_rec(X_train_next_subset, Y_train_next_subset, models_subset[1:], verbose)\n",
    "        \n",
    "    def predict_proba(self, X_test, verbose=True):\n",
    "        # old_predict es una lista con todos los valores en 0.5\n",
    "        # porque el modelo en la iteracion 0 no tiene ninguna certeza\n",
    "        # sobre las predicciones, ya que no hay predicciones\n",
    "        return self._predict_proba_rec(X_test, self.models, 0.5*np.ones(shape=len(X_test)), verbose)\n",
    "    \n",
    "    \"\"\"\n",
    "    Predice las instancias de test con el primer modelo de\n",
    "    models_subset\n",
    "    old_predict es una lista con las certezas de que cada instancia\n",
    "    sea positiva (== 1)\n",
    "    Se invoca recursivamente con aquellas instancias que no logro clasificar\n",
    "    con certeza suficiente\n",
    "    Devuelve una lista con los maximos entre old_predict y las nuevas predicciones\n",
    "    (esto es para asegurar el maximo rendimiento para aquellas instancias que\n",
    "    no fueron bien clasificadas incluso al agotarse los modelos de la lista)\n",
    "    \"\"\"\n",
    "    def _predict_proba_rec(self, X_test_subset, models_subset, old_predict, verbose):\n",
    "        if len(models_subset) == 0:\n",
    "            return old_predict     \n",
    "        model = models_subset[0][1]\n",
    "        model_name = models_subset[0][0]\n",
    "\n",
    "        model_output = model.predict_proba(X_test_subset)\n",
    "        \n",
    "        max_model_output = np.maximum(model_output[:,0], model_output[:,1])\n",
    "\n",
    "        not_so_sure_points_index = np.where(max_model_output < self.threshold)[0]\n",
    "        \n",
    "        X_test_next_subset = X_test_subset[not_so_sure_points_index]\n",
    "        model_output_not_so_sure = model_output[not_so_sure_points_index]\n",
    "            \n",
    "        not_sure_len = len(not_so_sure_points_index)\n",
    "        sure_len = len(model_output) - not_sure_len\n",
    "        \n",
    "        if verbose:\n",
    "            print(f\"Modelo: {model_name} logro clasificar {sure_len} instancias, {not_sure_len} no lograron ser clasificadas\")\n",
    "        \n",
    "        new_predictions = self._predict_proba_rec(X_test_next_subset, models_subset[1:], model_output_not_so_sure[:,1], verbose)\n",
    "        \n",
    "        for i, index in enumerate(not_so_sure_points_index):\n",
    "            model_output[index][1] = new_predictions[i]\n",
    "            \n",
    "        return get_further(model_output[:,1], old_predict)"
   ]
  },
  {
   "cell_type": "markdown",
   "id": "8e7268f9-668b-4f71-a271-e68ce90301a1",
   "metadata": {},
   "source": [
    "## Preprocessing Nº 1"
   ]
  },
  {
   "cell_type": "code",
   "execution_count": 4,
   "id": "04609792-8b36-4a28-a28f-1f41b1fba237",
   "metadata": {},
   "outputs": [],
   "source": [
    "df_features, df_target = get_datasets(fecha_to_int=False)\n",
    "\n",
    "viento_trigonometrico(df_features)\n",
    "df_features = barrios_a_comunas(df_features)\n",
    "df_features = dia_a_mes(df_features)\n",
    "\n",
    "X_train, X_test, Y_train, Y_test = train_test_split(df_features, df_target, stratify=df_target.values, test_size=0.35, random_state=0)\n",
    "\n",
    "pipe = iterative_imputer(max_iter=100)\n",
    "\n",
    "pipe.fit(X_train)\n",
    "X_train = pipe.transform(X_train)\n",
    "X_test = pipe.transform(X_test)\n",
    "\n",
    "Y_train = np.ravel(Y_train)\n",
    "Y_test = np.ravel(Y_test)"
   ]
  },
  {
   "cell_type": "markdown",
   "id": "88057211-6d9e-4f75-9782-a969f5a22331",
   "metadata": {},
   "source": [
    "### DecisionTreeClassifier y GaussianNB"
   ]
  },
  {
   "cell_type": "code",
   "execution_count": 5,
   "id": "e61b1411-338b-46ad-9207-12936eef42ea",
   "metadata": {},
   "outputs": [],
   "source": [
    "models = [\n",
    "    (\"DecisionTree\", DecisionTreeClassifier(criterion=\"entropy\", max_depth=9, random_state=0)),\n",
    "    (\"GaussianNB\", GaussianNB(var_smoothing=1e-8))\n",
    "]\n",
    "\n",
    "cascading = CascadingClassifier(models=models, threshold=0.9, idx_to_use_calib=[0, 1])"
   ]
  },
  {
   "cell_type": "code",
   "execution_count": 6,
   "id": "ee447313-322e-4f9f-a9d8-9d0e2ae1a332",
   "metadata": {},
   "outputs": [
    {
     "name": "stdout",
     "output_type": "stream",
     "text": [
      "Modelo: DecisionTree logro clasificar 27974 instancias, 38545 no lograron ser clasificadas\n",
      "Modelo: GaussianNB logro clasificar 0 instancias, 38545 no lograron ser clasificadas\n"
     ]
    }
   ],
   "source": [
    "cascading.fit(X_train, Y_train)"
   ]
  },
  {
   "cell_type": "code",
   "execution_count": 7,
   "id": "6c40891e-9112-4209-a21d-033d3987d330",
   "metadata": {},
   "outputs": [
    {
     "name": "stdout",
     "output_type": "stream",
     "text": [
      "Modelo: DecisionTree logro clasificar 14862 instancias, 20957 no lograron ser clasificadas\n",
      "Modelo: GaussianNB logro clasificar 0 instancias, 20957 no lograron ser clasificadas\n"
     ]
    },
    {
     "data": {
      "text/html": [
       "<div>\n",
       "<style scoped>\n",
       "    .dataframe tbody tr th:only-of-type {\n",
       "        vertical-align: middle;\n",
       "    }\n",
       "\n",
       "    .dataframe tbody tr th {\n",
       "        vertical-align: top;\n",
       "    }\n",
       "\n",
       "    .dataframe thead th {\n",
       "        text-align: right;\n",
       "    }\n",
       "</style>\n",
       "<table border=\"1\" class=\"dataframe\">\n",
       "  <thead>\n",
       "    <tr style=\"text-align: right;\">\n",
       "      <th></th>\n",
       "      <th>AUC-ROC</th>\n",
       "      <th>Accuracy</th>\n",
       "      <th>Precision</th>\n",
       "      <th>Recall</th>\n",
       "      <th>F1 Score</th>\n",
       "    </tr>\n",
       "  </thead>\n",
       "  <tbody>\n",
       "    <tr>\n",
       "      <th>0</th>\n",
       "      <td>0.867876</td>\n",
       "      <td>0.846953</td>\n",
       "      <td>0.762358</td>\n",
       "      <td>0.459658</td>\n",
       "      <td>0.573518</td>\n",
       "    </tr>\n",
       "  </tbody>\n",
       "</table>\n",
       "</div>"
      ],
      "text/plain": [
       "    AUC-ROC  Accuracy  Precision    Recall  F1 Score\n",
       "0  0.867876  0.846953   0.762358  0.459658  0.573518"
      ]
     },
     "execution_count": 7,
     "metadata": {},
     "output_type": "execute_result"
    }
   ],
   "source": [
    "probas = cascading.predict_proba(X_test)\n",
    "metrics_table(Y_test, probas > 0.5, probas)"
   ]
  },
  {
   "cell_type": "markdown",
   "id": "719ce47a-3bf3-4b62-9dfd-924a55337c29",
   "metadata": {},
   "source": [
    "Vemos que Cascading no fue de utilidad, ya que Naive Bayes no pudo clasificar correctamente ninguna instancia. Probablemente sea necesario utilizar un modelo más complejo."
   ]
  },
  {
   "cell_type": "markdown",
   "id": "32c84c4a-7e76-4840-b31f-6680c704eaa8",
   "metadata": {},
   "source": [
    "### DecisionTreeClassifier y RandomForestClassifier"
   ]
  },
  {
   "cell_type": "code",
   "execution_count": 8,
   "id": "56563acf-b4bd-4fbe-8ca0-f8b9cb425ad1",
   "metadata": {},
   "outputs": [],
   "source": [
    "models = [\n",
    "    (\"DecisionTree\", DecisionTreeClassifier(criterion=\"entropy\", max_depth=9, random_state=0)),\n",
    "    (\"RandomForest\", RandomForestClassifier(criterion=\"entropy\", max_depth=35, n_estimators=200, random_state=0))\n",
    "]\n",
    "\n",
    "cascading = CascadingClassifier(models=models, threshold=0.93, idx_to_use_calib=[0, 1])"
   ]
  },
  {
   "cell_type": "code",
   "execution_count": 9,
   "id": "c261604e-838b-4ba0-9661-76f859492f96",
   "metadata": {},
   "outputs": [
    {
     "name": "stdout",
     "output_type": "stream",
     "text": [
      "Modelo: DecisionTree logro clasificar 5977 instancias, 60542 no lograron ser clasificadas\n",
      "Modelo: RandomForest logro clasificar 31997 instancias, 28545 no lograron ser clasificadas\n"
     ]
    }
   ],
   "source": [
    "cascading.fit(X_train, Y_train)"
   ]
  },
  {
   "cell_type": "code",
   "execution_count": 10,
   "id": "e8b25ad4-fb70-4e9f-bb74-2599b544616c",
   "metadata": {},
   "outputs": [
    {
     "name": "stdout",
     "output_type": "stream",
     "text": [
      "Modelo: DecisionTree logro clasificar 3300 instancias, 32519 no lograron ser clasificadas\n",
      "Modelo: RandomForest logro clasificar 11169 instancias, 21350 no lograron ser clasificadas\n"
     ]
    },
    {
     "data": {
      "text/html": [
       "<div>\n",
       "<style scoped>\n",
       "    .dataframe tbody tr th:only-of-type {\n",
       "        vertical-align: middle;\n",
       "    }\n",
       "\n",
       "    .dataframe tbody tr th {\n",
       "        vertical-align: top;\n",
       "    }\n",
       "\n",
       "    .dataframe thead th {\n",
       "        text-align: right;\n",
       "    }\n",
       "</style>\n",
       "<table border=\"1\" class=\"dataframe\">\n",
       "  <thead>\n",
       "    <tr style=\"text-align: right;\">\n",
       "      <th></th>\n",
       "      <th>AUC-ROC</th>\n",
       "      <th>Accuracy</th>\n",
       "      <th>Precision</th>\n",
       "      <th>Recall</th>\n",
       "      <th>F1 Score</th>\n",
       "    </tr>\n",
       "  </thead>\n",
       "  <tbody>\n",
       "    <tr>\n",
       "      <th>0</th>\n",
       "      <td>0.882108</td>\n",
       "      <td>0.85731</td>\n",
       "      <td>0.774236</td>\n",
       "      <td>0.511909</td>\n",
       "      <td>0.61632</td>\n",
       "    </tr>\n",
       "  </tbody>\n",
       "</table>\n",
       "</div>"
      ],
      "text/plain": [
       "    AUC-ROC  Accuracy  Precision    Recall  F1 Score\n",
       "0  0.882108   0.85731   0.774236  0.511909   0.61632"
      ]
     },
     "execution_count": 10,
     "metadata": {},
     "output_type": "execute_result"
    }
   ],
   "source": [
    "probas = cascading.predict_proba(X_test)\n",
    "metrics_table(Y_test, probas > 0.5, probas)"
   ]
  },
  {
   "cell_type": "markdown",
   "id": "aafade55-d9bd-4cf3-af27-c6098b4bc2e4",
   "metadata": {},
   "source": [
    "El score es peor que al utilizar un único random forest. Es posible que el primer modelo, árbol de decisión, esté clasificando correctamente ciertas instancias, con una certeza mayor al threshold, pero menor a la que tendría si lo clasificara un random forest. Esto haría que el área bajo la curva ROC sea menor."
   ]
  },
  {
   "cell_type": "markdown",
   "id": "928b3244-d8eb-4f93-b538-af648b676f25",
   "metadata": {},
   "source": [
    "### Comparación gráfica de curvas ROC"
   ]
  },
  {
   "cell_type": "markdown",
   "id": "eaf57619-2696-40cc-b5f7-3e17748941b4",
   "metadata": {},
   "source": [
    "Comparamos las curvas ROC del clasificador Cascading entrenado anteriormente, con el de un único random forest, para entender un poco mejor por qué el score dio peor."
   ]
  },
  {
   "cell_type": "code",
   "execution_count": 11,
   "id": "af3a72e6-edc0-4399-ae79-de629193a7bb",
   "metadata": {},
   "outputs": [
    {
     "data": {
      "text/plain": [
       "CalibratedClassifierCV(base_estimator=RandomForestClassifier(criterion='entropy',\n",
       "                                                             max_depth=35,\n",
       "                                                             n_estimators=200,\n",
       "                                                             n_jobs=-1,\n",
       "                                                             random_state=0))"
      ]
     },
     "execution_count": 11,
     "metadata": {},
     "output_type": "execute_result"
    }
   ],
   "source": [
    "rf = RandomForestClassifier(criterion=\"entropy\", max_depth=35, n_estimators=200, n_jobs=-1, random_state=0)\n",
    "rf_calib = CalibratedClassifierCV(rf)\n",
    "rf_calib.fit(X_train, Y_train)"
   ]
  },
  {
   "cell_type": "code",
   "execution_count": 12,
   "id": "cae6ac24-b420-4417-b33f-01c88935225f",
   "metadata": {},
   "outputs": [
    {
     "data": {
      "text/plain": [
       "<sklearn.metrics._plot.roc_curve.RocCurveDisplay at 0x7f4b8be14130>"
      ]
     },
     "execution_count": 12,
     "metadata": {},
     "output_type": "execute_result"
    },
    {
     "data": {
      "image/png": "[encoded data removed]",
      "text/plain": [
       "<Figure size 720x576 with 1 Axes>"
      ]
     },
     "metadata": {
      "needs_background": "light"
     },
     "output_type": "display_data"
    }
   ],
   "source": [
    "fig, ax = plt.subplots(figsize=(10,8))\n",
    "\n",
    "RocCurveDisplay.from_predictions(Y_test, rf_calib.predict_proba(X_test)[:,1], ax=ax, name=\"RandomForest\")\n",
    "RocCurveDisplay.from_predictions(Y_test, probas, ax=ax, name=\"Cascading\")"
   ]
  },
  {
   "cell_type": "markdown",
   "id": "eda6c755-92db-4844-b24f-c2f7211a5ff7",
   "metadata": {},
   "source": [
    "Efectivamente, ambas curvas son muy similares, pero la de Cascading tiene menos área, por lo tanto el score es menor. Esto probablemente indica una leve variación en las predicciones de algunas instancias, de modo que para ciertos umbrales la predicción es peor."
   ]
  },
  {
   "cell_type": "markdown",
   "id": "d566e698-c5d5-4e93-ba2d-8423819cb9e8",
   "metadata": {},
   "source": [
    "## Preprocessing Nº 2"
   ]
  },
  {
   "cell_type": "code",
   "execution_count": 13,
   "id": "89f2ec96-c2e6-4b78-ba04-f19349f75bec",
   "metadata": {},
   "outputs": [],
   "source": [
    "df_features, df_target = get_datasets()\n",
    "\n",
    "viento_trigonometrico(df_features)\n",
    "df_features = hashing_trick(df_features, 24, \"barrio\")\n",
    "\n",
    "X_train, X_test, Y_train, Y_test = train_test_split(df_features, df_target, stratify=df_target.values, test_size=0.35, random_state=123)\n",
    "\n",
    "pipe = iterative_imputer()\n",
    "pipe = standarizer(pipe)\n",
    "pipe.fit(X_train)\n",
    "\n",
    "X_train = pipe.transform(X_train)\n",
    "X_test = pipe.transform(X_test)\n",
    "\n",
    "Y_train = np.ravel(Y_train)\n",
    "Y_test = np.ravel(Y_test)"
   ]
  },
  {
   "cell_type": "markdown",
   "id": "31b16d6e-0cd4-4f49-8038-bf3ee728f9f3",
   "metadata": {},
   "source": [
    "### RandomForestClassifier y Red neuronal"
   ]
  },
  {
   "cell_type": "markdown",
   "id": "e57292a5-b15d-42e9-83ff-f4f2226f067e",
   "metadata": {},
   "source": [
    "Como pudimos comprobar, la utilización de modelos sencillos para la primera capa de cascading, si bien en teoría es una buena idea, en este caso los scores empeoraron. Por lo tanto, probamos la combinación de dos de los mejores modelos que obtuvimos a lo largo del TP: una red neuronal y un random forest. En el caso de la red, no utilizamos la que dio los mejores resultados, ya que se trataba de un modelo bastante complejo. En su lugar, utilizamos otra que también dio muy buenos resultados."
   ]
  },
  {
   "cell_type": "code",
   "execution_count": 14,
   "id": "fc9db176-133c-4e6e-a7fe-88fb1b580380",
   "metadata": {},
   "outputs": [
    {
     "name": "stderr",
     "output_type": "stream",
     "text": [
      "2021-12-08 19:46:15.036342: E tensorflow/stream_executor/cuda/cuda_driver.cc:271] failed call to cuInit: CUDA_ERROR_NO_DEVICE: no CUDA-capable device is detected\n",
      "2021-12-08 19:46:15.036385: I tensorflow/stream_executor/cuda/cuda_diagnostics.cc:156] kernel driver does not appear to be running on this host (elian): /proc/driver/nvidia/version does not exist\n",
      "2021-12-08 19:46:15.036795: I tensorflow/core/platform/cpu_feature_guard.cc:151] This TensorFlow binary is optimized with oneAPI Deep Neural Network Library (oneDNN) to use the following CPU instructions in performance-critical operations:  AVX2 FMA\n",
      "To enable them in other operations, rebuild TensorFlow with the appropriate compiler flags.\n"
     ]
    }
   ],
   "source": [
    "# Copio la funcion de NeuralNetwork.ipynb porque\n",
    "# se precisa para cargar el modelo\n",
    "def get_model(cant1, cant2, act1, act2, reg):\n",
    "    model = Sequential()\n",
    "    model.add(Dense(cant1, input_shape = (len(X_train[0]),), activation=act1, kernel_regularizer=l2(reg)))\n",
    "    model.add(Dropout(0.2))\n",
    "    model.add(Dense(cant2, input_shape = (len(X_train[0]),), activation=act2, kernel_regularizer=l2(reg)))\n",
    "    model.add(Dropout(0.2))\n",
    "    model.add(Dense(1, activation='sigmoid'))\n",
    "    opt = Adadelta(learning_rate = 1.0)\n",
    "    model.compile(loss='binary_crossentropy', optimizer=opt, metrics=[\"accuracy\", tf.keras.metrics.AUC(name = \"auc\")])\n",
    "    return model\n",
    "\n",
    "grid = load('NeuralNetwork/grid.joblib') "
   ]
  },
  {
   "cell_type": "code",
   "execution_count": 15,
   "id": "cf81f82f-bb26-47ec-821a-822801b6d402",
   "metadata": {},
   "outputs": [],
   "source": [
    "neural_network = grid.best_estimator_\n",
    "# Probamos usar RandomForest como primer modelo pero\n",
    "# los resultados empeoraban\n",
    "models = [\n",
    "    (\"NeuralNetwork\", neural_network),\n",
    "    (\"RandomForest\", RandomForestClassifier(criterion=\"entropy\", max_depth=35, n_estimators=200, random_state=0))\n",
    "]"
   ]
  },
  {
   "cell_type": "code",
   "execution_count": 16,
   "id": "809dc9a7-29bd-4f07-8cba-88dd408cafe2",
   "metadata": {},
   "outputs": [],
   "source": [
    "cascading_ = CascadingClassifier(models=models, threshold=0.85, idx_to_use_calib=[1])"
   ]
  },
  {
   "cell_type": "code",
   "execution_count": 17,
   "id": "bce930c8-877f-4db4-8d65-77dfd7fdd49f",
   "metadata": {},
   "outputs": [
    {
     "name": "stdout",
     "output_type": "stream",
     "text": [
      "Modelo: NeuralNetwork logro clasificar 41093 instancias, 25426 no lograron ser clasificadas\n",
      "Modelo: RandomForest logro clasificar 10167 instancias, 15259 no lograron ser clasificadas\n"
     ]
    }
   ],
   "source": [
    "cascading_.fit(X_train, Y_train)"
   ]
  },
  {
   "cell_type": "code",
   "execution_count": 18,
   "id": "b4770937-4e40-44dc-889a-e27dc9a58788",
   "metadata": {},
   "outputs": [
    {
     "name": "stdout",
     "output_type": "stream",
     "text": [
      "Modelo: NeuralNetwork logro clasificar 21890 instancias, 13929 no lograron ser clasificadas\n",
      "Modelo: RandomForest logro clasificar 477 instancias, 13452 no lograron ser clasificadas\n"
     ]
    }
   ],
   "source": [
    "probas = cascading_.predict_proba(X_test)"
   ]
  },
  {
   "cell_type": "code",
   "execution_count": 19,
   "id": "a2423fde-5c5b-4bc4-aaa1-e2b751a16c90",
   "metadata": {},
   "outputs": [
    {
     "data": {
      "text/html": [
       "<div>\n",
       "<style scoped>\n",
       "    .dataframe tbody tr th:only-of-type {\n",
       "        vertical-align: middle;\n",
       "    }\n",
       "\n",
       "    .dataframe tbody tr th {\n",
       "        vertical-align: top;\n",
       "    }\n",
       "\n",
       "    .dataframe thead th {\n",
       "        text-align: right;\n",
       "    }\n",
       "</style>\n",
       "<table border=\"1\" class=\"dataframe\">\n",
       "  <thead>\n",
       "    <tr style=\"text-align: right;\">\n",
       "      <th></th>\n",
       "      <th>AUC-ROC</th>\n",
       "      <th>Accuracy</th>\n",
       "      <th>Precision</th>\n",
       "      <th>Recall</th>\n",
       "      <th>F1 Score</th>\n",
       "    </tr>\n",
       "  </thead>\n",
       "  <tbody>\n",
       "    <tr>\n",
       "      <th>0</th>\n",
       "      <td>0.894347</td>\n",
       "      <td>0.860716</td>\n",
       "      <td>0.767479</td>\n",
       "      <td>0.542088</td>\n",
       "      <td>0.635387</td>\n",
       "    </tr>\n",
       "  </tbody>\n",
       "</table>\n",
       "</div>"
      ],
      "text/plain": [
       "    AUC-ROC  Accuracy  Precision    Recall  F1 Score\n",
       "0  0.894347  0.860716   0.767479  0.542088  0.635387"
      ]
     },
     "execution_count": 19,
     "metadata": {},
     "output_type": "execute_result"
    }
   ],
   "source": [
    "metrics_table(Y_test, probas > 0.5, probas)"
   ]
  },
  {
   "cell_type": "markdown",
   "id": "b9b9efa1-0576-446f-8c0a-d060703cbb5d",
   "metadata": {},
   "source": [
    "### Aumentando el threshold"
   ]
  },
  {
   "cell_type": "markdown",
   "id": "a4073864-5e53-484d-b5c5-ccf356f0a595",
   "metadata": {},
   "source": [
    "Si aumentamos el threshold, el segundo modelo recibirá más instancias, tanto en `fit()` como en `predict_proba()`. Esto puede ser bueno, porque reduciría las probabilidades de que el segundo modelo overfitee. Por otro lado, si lo aumentamos mucho, el primer modelo no podrá predecir correctamente ninguna instancia, por lo que el segundo modelo recibiría todas las instancias, haciendo que el cascading pierda sentido."
   ]
  },
  {
   "cell_type": "code",
   "execution_count": 20,
   "id": "6c75a8b7-2977-432e-8db5-b26984444075",
   "metadata": {},
   "outputs": [],
   "source": [
    "cascading = CascadingClassifier(models=models, threshold=0.9, idx_to_use_calib=[1])"
   ]
  },
  {
   "cell_type": "code",
   "execution_count": 21,
   "id": "37e63655-68ef-4717-b9e8-d0d6a9f98f2d",
   "metadata": {},
   "outputs": [
    {
     "name": "stdout",
     "output_type": "stream",
     "text": [
      "Modelo: NeuralNetwork logro clasificar 35250 instancias, 31269 no lograron ser clasificadas\n",
      "Modelo: RandomForest logro clasificar 5127 instancias, 26142 no lograron ser clasificadas\n"
     ]
    }
   ],
   "source": [
    "cascading.fit(X_train, Y_train)"
   ]
  },
  {
   "cell_type": "code",
   "execution_count": 22,
   "id": "0a99b4a4-6a74-47e2-977a-69d420b6f2fb",
   "metadata": {},
   "outputs": [
    {
     "name": "stdout",
     "output_type": "stream",
     "text": [
      "Modelo: NeuralNetwork logro clasificar 18734 instancias, 17085 no lograron ser clasificadas\n",
      "Modelo: RandomForest logro clasificar 142 instancias, 16943 no lograron ser clasificadas\n"
     ]
    }
   ],
   "source": [
    "probas = cascading.predict_proba(X_test)"
   ]
  },
  {
   "cell_type": "code",
   "execution_count": 23,
   "id": "eec57586-ae12-47c7-b44d-db523561d30c",
   "metadata": {},
   "outputs": [
    {
     "data": {
      "text/html": [
       "<div>\n",
       "<style scoped>\n",
       "    .dataframe tbody tr th:only-of-type {\n",
       "        vertical-align: middle;\n",
       "    }\n",
       "\n",
       "    .dataframe tbody tr th {\n",
       "        vertical-align: top;\n",
       "    }\n",
       "\n",
       "    .dataframe thead th {\n",
       "        text-align: right;\n",
       "    }\n",
       "</style>\n",
       "<table border=\"1\" class=\"dataframe\">\n",
       "  <thead>\n",
       "    <tr style=\"text-align: right;\">\n",
       "      <th></th>\n",
       "      <th>AUC-ROC</th>\n",
       "      <th>Accuracy</th>\n",
       "      <th>Precision</th>\n",
       "      <th>Recall</th>\n",
       "      <th>F1 Score</th>\n",
       "    </tr>\n",
       "  </thead>\n",
       "  <tbody>\n",
       "    <tr>\n",
       "      <th>0</th>\n",
       "      <td>0.895179</td>\n",
       "      <td>0.8608</td>\n",
       "      <td>0.768265</td>\n",
       "      <td>0.541589</td>\n",
       "      <td>0.635313</td>\n",
       "    </tr>\n",
       "  </tbody>\n",
       "</table>\n",
       "</div>"
      ],
      "text/plain": [
       "    AUC-ROC  Accuracy  Precision    Recall  F1 Score\n",
       "0  0.895179    0.8608   0.768265  0.541589  0.635313"
      ]
     },
     "execution_count": 23,
     "metadata": {},
     "output_type": "execute_result"
    }
   ],
   "source": [
    "metrics_table(Y_test, probas > 0.5, probas)"
   ]
  },
  {
   "cell_type": "markdown",
   "id": "9f5431e0-79f6-474f-8119-835a7661cdf3",
   "metadata": {},
   "source": [
    "Los modelos clasificaron correctamente menos instancias, como era esperado. Los scores se mantuvieron relativamente similares. Esto podría significar que a ambos modelos les resulta difícil clasificar el mismo set de instancias.\n",
    "\n",
    "Podemos agregar más modelos y ver si logran clasificar correctamente más instancias."
   ]
  },
  {
   "cell_type": "markdown",
   "id": "5fa456d3-29ea-453e-95a3-89a90c0f2643",
   "metadata": {},
   "source": [
    "### Agregando SVC"
   ]
  },
  {
   "cell_type": "markdown",
   "id": "08bc07ac-f898-4aa6-ab23-bd74af48b96a",
   "metadata": {},
   "source": [
    "Usamos la combinación de hiperparámetros que produjo los mejores resultados en SVC"
   ]
  },
  {
   "cell_type": "code",
   "execution_count": 24,
   "id": "01d5d6cc-5d46-48b7-9993-decf88be2fbb",
   "metadata": {},
   "outputs": [],
   "source": [
    "if len(models) == 2:\n",
    "    models.append(\n",
    "        (\"SVC\", SVC(kernel = 'poly', random_state = 0, max_iter=100000, C = 1, degree = 3, coef0 = 1, gamma = 0.01, probability=True))\n",
    "    )"
   ]
  },
  {
   "cell_type": "code",
   "execution_count": 25,
   "id": "502f95f3-32ef-4e2b-9179-cc09ed97d96e",
   "metadata": {},
   "outputs": [],
   "source": [
    "cascading = CascadingClassifier(models=models, threshold=0.85, idx_to_use_calib=[1])"
   ]
  },
  {
   "cell_type": "code",
   "execution_count": 26,
   "id": "51cc9505-20f1-4d65-bdda-8a4f154f6ae1",
   "metadata": {},
   "outputs": [
    {
     "name": "stdout",
     "output_type": "stream",
     "text": [
      "Modelo: NeuralNetwork logro clasificar 41963 instancias, 24556 no lograron ser clasificadas\n",
      "Modelo: RandomForest logro clasificar 9430 instancias, 15126 no lograron ser clasificadas\n",
      "Modelo: SVC logro clasificar 4 instancias, 15122 no lograron ser clasificadas\n"
     ]
    }
   ],
   "source": [
    "cascading.fit(X_train, Y_train)"
   ]
  },
  {
   "cell_type": "code",
   "execution_count": 27,
   "id": "2917ad31-f82c-4d38-b1ae-ba8872a06bdb",
   "metadata": {},
   "outputs": [
    {
     "name": "stdout",
     "output_type": "stream",
     "text": [
      "Modelo: NeuralNetwork logro clasificar 22465 instancias, 13354 no lograron ser clasificadas\n",
      "Modelo: RandomForest logro clasificar 332 instancias, 13022 no lograron ser clasificadas\n",
      "Modelo: SVC logro clasificar 6 instancias, 13016 no lograron ser clasificadas\n"
     ]
    }
   ],
   "source": [
    "probas = cascading.predict_proba(X_test)"
   ]
  },
  {
   "cell_type": "code",
   "execution_count": 28,
   "id": "1ac29eb8-012e-469d-b40f-bcdf8c19c10e",
   "metadata": {},
   "outputs": [
    {
     "data": {
      "text/html": [
       "<div>\n",
       "<style scoped>\n",
       "    .dataframe tbody tr th:only-of-type {\n",
       "        vertical-align: middle;\n",
       "    }\n",
       "\n",
       "    .dataframe tbody tr th {\n",
       "        vertical-align: top;\n",
       "    }\n",
       "\n",
       "    .dataframe thead th {\n",
       "        text-align: right;\n",
       "    }\n",
       "</style>\n",
       "<table border=\"1\" class=\"dataframe\">\n",
       "  <thead>\n",
       "    <tr style=\"text-align: right;\">\n",
       "      <th></th>\n",
       "      <th>AUC-ROC</th>\n",
       "      <th>Accuracy</th>\n",
       "      <th>Precision</th>\n",
       "      <th>Recall</th>\n",
       "      <th>F1 Score</th>\n",
       "    </tr>\n",
       "  </thead>\n",
       "  <tbody>\n",
       "    <tr>\n",
       "      <th>0</th>\n",
       "      <td>0.894814</td>\n",
       "      <td>0.863397</td>\n",
       "      <td>0.782334</td>\n",
       "      <td>0.540092</td>\n",
       "      <td>0.639026</td>\n",
       "    </tr>\n",
       "  </tbody>\n",
       "</table>\n",
       "</div>"
      ],
      "text/plain": [
       "    AUC-ROC  Accuracy  Precision    Recall  F1 Score\n",
       "0  0.894814  0.863397   0.782334  0.540092  0.639026"
      ]
     },
     "execution_count": 28,
     "metadata": {},
     "output_type": "execute_result"
    }
   ],
   "source": [
    "metrics_table(Y_test, probas > 0.5, probas)"
   ]
  },
  {
   "cell_type": "markdown",
   "id": "2d3ec23f-d140-4604-b8c3-1f7d78145df9",
   "metadata": {},
   "source": [
    "Lamentablemente, SVC no pudo clasificar una cantidad significativa de instancias, por lo que el score se mantuvo prácticamente igual."
   ]
  },
  {
   "cell_type": "markdown",
   "id": "682a729e-f436-45b9-b16d-61494f9cc508",
   "metadata": {},
   "source": [
    "### Agregando KNN"
   ]
  },
  {
   "cell_type": "code",
   "execution_count": 29,
   "id": "55483f0e-5937-467e-ab1a-8374185def25",
   "metadata": {},
   "outputs": [],
   "source": [
    "if len(models) == 3:\n",
    "    models.pop()\n",
    "models.append(\n",
    "    (\"KNN\", KNeighborsClassifier(n_neighbors = 55, weights = \"distance\"))\n",
    ")"
   ]
  },
  {
   "cell_type": "code",
   "execution_count": 30,
   "id": "1a6cf065-f44c-45c3-bdaf-c4f1c4b0d6f2",
   "metadata": {},
   "outputs": [],
   "source": [
    "cascading = CascadingClassifier(models=models, threshold=0.85, idx_to_use_calib=[1, 2])"
   ]
  },
  {
   "cell_type": "code",
   "execution_count": 31,
   "id": "0af32048-b41e-4649-8978-a71e535ef67f",
   "metadata": {},
   "outputs": [
    {
     "name": "stdout",
     "output_type": "stream",
     "text": [
      "Modelo: NeuralNetwork logro clasificar 42786 instancias, 23733 no lograron ser clasificadas\n",
      "Modelo: RandomForest logro clasificar 8622 instancias, 15111 no lograron ser clasificadas\n",
      "Modelo: KNN logro clasificar 0 instancias, 15111 no lograron ser clasificadas\n"
     ]
    }
   ],
   "source": [
    "cascading.fit(X_train, Y_train)"
   ]
  },
  {
   "cell_type": "code",
   "execution_count": 32,
   "id": "0348c253-8088-4aee-bd6d-7f6f9e2593f2",
   "metadata": {},
   "outputs": [
    {
     "name": "stdout",
     "output_type": "stream",
     "text": [
      "Modelo: NeuralNetwork logro clasificar 22914 instancias, 12905 no lograron ser clasificadas\n",
      "Modelo: RandomForest logro clasificar 217 instancias, 12688 no lograron ser clasificadas\n",
      "Modelo: KNN logro clasificar 0 instancias, 12688 no lograron ser clasificadas\n"
     ]
    }
   ],
   "source": [
    "probas = cascading.predict_proba(X_test)"
   ]
  },
  {
   "cell_type": "code",
   "execution_count": 33,
   "id": "db615cab-89ef-4eac-9a33-f2cf45221a12",
   "metadata": {},
   "outputs": [
    {
     "data": {
      "text/html": [
       "<div>\n",
       "<style scoped>\n",
       "    .dataframe tbody tr th:only-of-type {\n",
       "        vertical-align: middle;\n",
       "    }\n",
       "\n",
       "    .dataframe tbody tr th {\n",
       "        vertical-align: top;\n",
       "    }\n",
       "\n",
       "    .dataframe thead th {\n",
       "        text-align: right;\n",
       "    }\n",
       "</style>\n",
       "<table border=\"1\" class=\"dataframe\">\n",
       "  <thead>\n",
       "    <tr style=\"text-align: right;\">\n",
       "      <th></th>\n",
       "      <th>AUC-ROC</th>\n",
       "      <th>Accuracy</th>\n",
       "      <th>Precision</th>\n",
       "      <th>Recall</th>\n",
       "      <th>F1 Score</th>\n",
       "    </tr>\n",
       "  </thead>\n",
       "  <tbody>\n",
       "    <tr>\n",
       "      <th>0</th>\n",
       "      <td>0.894715</td>\n",
       "      <td>0.86295</td>\n",
       "      <td>0.77252</td>\n",
       "      <td>0.549694</td>\n",
       "      <td>0.642332</td>\n",
       "    </tr>\n",
       "  </tbody>\n",
       "</table>\n",
       "</div>"
      ],
      "text/plain": [
       "    AUC-ROC  Accuracy  Precision    Recall  F1 Score\n",
       "0  0.894715   0.86295    0.77252  0.549694  0.642332"
      ]
     },
     "execution_count": 33,
     "metadata": {},
     "output_type": "execute_result"
    }
   ],
   "source": [
    "metrics_table(Y_test, probas > 0.5, probas)"
   ]
  },
  {
   "cell_type": "markdown",
   "id": "abaa15fd-1919-4845-aae8-58ae4ad81560",
   "metadata": {},
   "source": [
    "El nuevo modelo no alcanzó el threshold en ninguna instancia. Sin embargo, el score aumento ligeramente. Esto quiere decir que mejoró la predicción de alguna instancia, a pesar de que la certeza no fue mayor a 0.85."
   ]
  },
  {
   "cell_type": "markdown",
   "id": "59bb48cd-0a5f-43cc-a659-3dd92dbba925",
   "metadata": {},
   "source": [
    "Como conclusión, podemos ver que es difícil mejorar los scores utilizando cascading, principalmente por dos motivos:\n",
    "- Si se utilizan dos modelos de complejidad similar (ej: árbol de decisión y Naive Bayes), las instancias predichas con poca certeza por un modelo, serán predichas con poca certeza por el otro.\n",
    "- Si se utiliza un modelo simple y luego un modelo complejo (ej: árbol de decisión y Random Forest), las instancias predichas con buena certeza por el primer modelo, podrían ser predichas con más certeza por el segundo. Pero como se supera el threshold, dichas instancias quedarán con las probabilidades del primer modelo. Bajo la métrica ROC AUC, esto implica un peor score."
   ]
  },
  {
   "cell_type": "markdown",
   "id": "caa6a0b9-d556-467b-9866-709debe50f55",
   "metadata": {},
   "source": [
    "Finalmente, nos quedamos con el modelo que utilizó una red neuronal y random forest (*threshold* = $0.85$) ya que, si bien el score fue un poco menor al último modelo, es más simple (el último modelo agrega KNN, es decir, un estimador base más)."
   ]
  },
  {
   "cell_type": "markdown",
   "id": "c890adc2-b27c-41a3-987c-a23ca5f8a1ce",
   "metadata": {},
   "source": [
    "## Predicción de nuevos datos"
   ]
  },
  {
   "cell_type": "code",
   "execution_count": 34,
   "id": "a0e9136a-9c04-4ea7-b3a9-f49587c38dd8",
   "metadata": {},
   "outputs": [
    {
     "name": "stdout",
     "output_type": "stream",
     "text": [
      "Modelo: NeuralNetwork logro clasificar 18724 instancias, 10368 no lograron ser clasificadas\n",
      "Modelo: RandomForest logro clasificar 252 instancias, 10116 no lograron ser clasificadas\n"
     ]
    }
   ],
   "source": [
    "df_extra = pd.read_csv(\"datasets/df_extra.csv\", low_memory = False, index_col = \"id\")\n",
    "\n",
    "common(df_extra)\n",
    "viento_trigonometrico(df_extra)\n",
    "df_extra = hashing_trick(df_extra, 24, \"barrio\")\n",
    "\n",
    "model = cascading_\n",
    "\n",
    "pipe.steps.append((\"casc\", model))\n",
    "\n",
    "df_extra_predict = pd.DataFrame({\"id\": df_extra.index, \"llovieron_hamburguesas_al_dia_siguiente\": pipe.predict_proba(df_extra) > 0.5})\n",
    "df_extra_predict.set_index(\"id\", inplace = True)\n",
    "df_extra_predict.replace({\"llovieron_hamburguesas_al_dia_siguiente\": {False: \"no\", True: \"si\"}}, inplace = True)\n",
    "df_extra_predict.to_csv(\"predicciones/CascadingClassifier.csv\")"
   ]
  },
  {
   "cell_type": "markdown",
   "id": "cfb52423-ebb9-4f8c-85b4-cb9dcf47e743",
   "metadata": {},
   "source": [
    "## Predicción en Holdout"
   ]
  },
  {
   "cell_type": "code",
   "execution_count": 35,
   "id": "75c833bb-ac59-43ff-9d85-d9fcd5a4e7db",
   "metadata": {},
   "outputs": [],
   "source": [
    "df_features_holdout = pd.read_csv(\"datasets/df_features_holdout.csv\", low_memory = False, index_col = \"id\")\n",
    "df_target_holdout = pd.read_csv(\"datasets/df_target_holdout.csv\", low_memory = False, index_col = \"id\")\n",
    "\n",
    "common(df_features_holdout, df_target_holdout)\n",
    "viento_trigonometrico(df_features_holdout)\n",
    "df_features_holdout = hashing_trick(df_features_holdout, 24, \"barrio\")"
   ]
  },
  {
   "cell_type": "code",
   "execution_count": 40,
   "id": "63b1469c-cbe5-4701-8b18-14827f2a5fe1",
   "metadata": {},
   "outputs": [
    {
     "name": "stdout",
     "output_type": "stream",
     "text": [
      "Modelo: NeuralNetwork logro clasificar 7334 instancias, 4052 no lograron ser clasificadas\n",
      "Modelo: RandomForest logro clasificar 88 instancias, 3964 no lograron ser clasificadas\n"
     ]
    },
    {
     "data": {
      "text/html": [
       "<div>\n",
       "<style scoped>\n",
       "    .dataframe tbody tr th:only-of-type {\n",
       "        vertical-align: middle;\n",
       "    }\n",
       "\n",
       "    .dataframe tbody tr th {\n",
       "        vertical-align: top;\n",
       "    }\n",
       "\n",
       "    .dataframe thead th {\n",
       "        text-align: right;\n",
       "    }\n",
       "</style>\n",
       "<table border=\"1\" class=\"dataframe\">\n",
       "  <thead>\n",
       "    <tr style=\"text-align: right;\">\n",
       "      <th></th>\n",
       "      <th>AUC-ROC</th>\n",
       "      <th>Accuracy</th>\n",
       "      <th>Precision</th>\n",
       "      <th>Recall</th>\n",
       "      <th>F1 Score</th>\n",
       "    </tr>\n",
       "  </thead>\n",
       "  <tbody>\n",
       "    <tr>\n",
       "      <th>0</th>\n",
       "      <td>0.89513</td>\n",
       "      <td>0.858686</td>\n",
       "      <td>0.771077</td>\n",
       "      <td>0.519527</td>\n",
       "      <td>0.620787</td>\n",
       "    </tr>\n",
       "  </tbody>\n",
       "</table>\n",
       "</div>"
      ],
      "text/plain": [
       "   AUC-ROC  Accuracy  Precision    Recall  F1 Score\n",
       "0  0.89513  0.858686   0.771077  0.519527  0.620787"
      ]
     },
     "execution_count": 40,
     "metadata": {},
     "output_type": "execute_result"
    }
   ],
   "source": [
    "probas = pipe.predict_proba(df_features_holdout)\n",
    "metrics_table(df_target_holdout, probas > 0.5, probas)"
   ]
  },
  {
   "cell_type": "code",
   "execution_count": 41,
   "id": "ba864de8-626c-465e-bf7e-ccf957eafafa",
   "metadata": {},
   "outputs": [
    {
     "data": {
      "image/png": "[encoded data removed]",
      "text/plain": [
       "<Figure size 1080x360 with 3 Axes>"
      ]
     },
     "metadata": {
      "needs_background": "light"
     },
     "output_type": "display_data"
    }
   ],
   "source": [
    "fig, axs = plt.subplots(1, 2, figsize=(15,5))\n",
    "\n",
    "ConfusionMatrixDisplay.from_predictions(df_target_holdout, probas > 0.5, ax=axs[0])\n",
    "RocCurveDisplay.from_predictions(df_target_holdout, probas, ax=axs[1], name=\"Cascading\")\n",
    "plt.show()"
   ]
  },
  {
   "cell_type": "markdown",
   "id": "7bf3fa46-4ab1-4ec4-8e14-9daefbf4ebd9",
   "metadata": {},
   "source": [
    "Los resultados son interesantes. AUC-ROC y Precision aumentaron ligeramente con respecto al set de test, mientras que las otras métricas disminuyeron bastante. El único caso en que se había observado una situación similar, es en el random forest que, curiosamente, es uno de los estimadores utilizados en el cascading final. Recall y F1 Score fueron las métricas más afectadas."
   ]
  }
 ],
 "metadata": {
  "kernelspec": {
   "display_name": "Python 3 (ipykernel)",
   "language": "python",
   "name": "python3"
  },
  "language_info": {
   "codemirror_mode": {
    "name": "ipython",
    "version": 3
   },
   "file_extension": ".py",
   "mimetype": "text/x-python",
   "name": "python",
   "nbconvert_exporter": "python",
   "pygments_lexer": "ipython3",
   "version": "3.8.10"
  }
 },
 "nbformat": 4,
 "nbformat_minor": 5
}
