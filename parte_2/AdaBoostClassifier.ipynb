{
 "cells": [
  {
   "cell_type": "markdown",
   "id": "d3317a4c-2af8-4d32-ab14-e1c65d9ab702",
   "metadata": {},
   "source": [
    "# AdaBoostClassifier"
   ]
  },
  {
   "cell_type": "markdown",
   "id": "62eec77a-0edc-44a2-9aad-1ab220ba1dda",
   "metadata": {},
   "source": [
    "El modelo AdaBoost es un ensamble de tipo boosting que se basa en entrenar modelos utilizando instancias con pesos. Las instancias mal clasificadas por estimadores anteriores tendrán mayor peso, y los estimadores posteriores buscarán aprender más de dichas instancias, dando como resultado una (posible) mejora en su predicción.\n",
    "\n",
    "Podemos utilizar como estimadores base los modelos desarrollados a lo largo del TP, y comparar los hiperparámetros de cada estimador base con los hiperparámetros conseguidos con los modelos individuales."
   ]
  },
  {
   "cell_type": "code",
   "execution_count": 1,
   "id": "ec047ce5-27db-4a50-b406-60550eb93572",
   "metadata": {},
   "outputs": [],
   "source": [
    "%load_ext autoreload\n",
    "%autoreload 2\n",
    "from preprocessing import *\n",
    "from sklearn.metrics import roc_auc_score, ConfusionMatrixDisplay, RocCurveDisplay\n",
    "from sklearn.tree import DecisionTreeClassifier\n",
    "from sklearn.model_selection import train_test_split, cross_val_predict, GridSearchCV, StratifiedKFold\n",
    "from sklearn.ensemble import AdaBoostClassifier, RandomForestClassifier\n",
    "from sklearn.tree import DecisionTreeClassifier\n",
    "from sklearn.calibration import CalibratedClassifierCV\n",
    "from sklearn.linear_model import Perceptron\n",
    "from sklearn.naive_bayes import GaussianNB\n",
    "from sklearn.model_selection import train_test_split, cross_val_score\n",
    "from sklearn.model_selection import GridSearchCV\n",
    "import pandas as pd\n",
    "import numpy as np\n",
    "from scoring import *\n",
    "pd.set_option('display.max_rows', 10)"
   ]
  },
  {
   "cell_type": "markdown",
   "id": "397956e8-6f26-4a51-9023-0d6f3ca3d6bf",
   "metadata": {},
   "source": [
    "## Preprocessing Nº1"
   ]
  },
  {
   "cell_type": "code",
   "execution_count": 2,
   "id": "d8c07c7c-c9ee-4323-890f-39075e099913",
   "metadata": {},
   "outputs": [],
   "source": [
    "df_features, df_target = get_datasets(fecha_to_int=True)\n",
    "\n",
    "df_features = barrios_a_comunas(df_features)\n",
    "viento_trigonometrico(df_features)\n",
    "\n",
    "X_train, X_test, Y_train, Y_test = train_test_split(df_features, df_target, stratify=df_target.values, test_size=0.35, random_state=0)\n",
    "\n",
    "# Guardo la pipe con un nombre especial para poder\n",
    "# usarla al final del notebook\n",
    "pipe_ = simple_imputer()\n",
    "pipe_ = standarizer(pipe_)\n",
    "\n",
    "pipe_.fit(X_train)\n",
    "X_train = pipe_.transform(X_train)\n",
    "X_test = pipe_.transform(X_test)\n",
    "\n",
    "Y_train = np.ravel(Y_train)\n",
    "Y_test = np.ravel(Y_test)"
   ]
  },
  {
   "cell_type": "markdown",
   "id": "da5ee960-87fc-4c8d-9345-1a26f38f7e73",
   "metadata": {},
   "source": [
    "### Estimador base: DecisionTreeClassifier"
   ]
  },
  {
   "cell_type": "code",
   "execution_count": 3,
   "id": "6a0fd5b5-3d72-4cb9-b9d2-a3ea6b752998",
   "metadata": {},
   "outputs": [
    {
     "data": {
      "text/plain": [
       "0.8644899020692703"
      ]
     },
     "execution_count": 3,
     "metadata": {},
     "output_type": "execute_result"
    }
   ],
   "source": [
    "parameters = {\n",
    "    \"n_estimators\": np.arange(1,10,2),\n",
    "    \"base_estimator__criterion\": [\"gini\", \"entropy\"],\n",
    "    \"base_estimator__max_depth\": [3, 5, 15, 25],\n",
    "    \"base_estimator__min_samples_leaf\": [100, 500, 1000]\n",
    "}\n",
    "\n",
    "base_estimator = DecisionTreeClassifier(random_state=0)\n",
    "\n",
    "grid = GridSearchCV(AdaBoostClassifier(base_estimator=base_estimator, random_state=0),\n",
    "                    param_grid=parameters,\n",
    "                    cv = StratifiedKFold(5),\n",
    "                    scoring = SCORINGS,\n",
    "                    refit=METRIC,\n",
    "                    n_jobs = -1)\n",
    "\n",
    "grid.fit(X_train, Y_train)\n",
    "grid.best_score_"
   ]
  },
  {
   "cell_type": "code",
   "execution_count": 4,
   "id": "fa30a198-ba3b-415c-8f1a-3d544cdb957f",
   "metadata": {},
   "outputs": [
    {
     "data": {
      "text/html": [
       "<div>\n",
       "<style scoped>\n",
       "    .dataframe tbody tr th:only-of-type {\n",
       "        vertical-align: middle;\n",
       "    }\n",
       "\n",
       "    .dataframe tbody tr th {\n",
       "        vertical-align: top;\n",
       "    }\n",
       "\n",
       "    .dataframe thead th {\n",
       "        text-align: right;\n",
       "    }\n",
       "</style>\n",
       "<table border=\"1\" class=\"dataframe\">\n",
       "  <thead>\n",
       "    <tr style=\"text-align: right;\">\n",
       "      <th></th>\n",
       "      <th>AUC-ROC</th>\n",
       "      <th>Accuracy</th>\n",
       "      <th>Precision</th>\n",
       "      <th>Recall</th>\n",
       "      <th>F1 Score</th>\n",
       "    </tr>\n",
       "  </thead>\n",
       "  <tbody>\n",
       "    <tr>\n",
       "      <th>0</th>\n",
       "      <td>0.86947</td>\n",
       "      <td>0.843463</td>\n",
       "      <td>0.687325</td>\n",
       "      <td>0.551814</td>\n",
       "      <td>0.61216</td>\n",
       "    </tr>\n",
       "  </tbody>\n",
       "</table>\n",
       "</div>"
      ],
      "text/plain": [
       "   AUC-ROC  Accuracy  Precision    Recall  F1 Score\n",
       "0  0.86947  0.843463   0.687325  0.551814   0.61216"
      ]
     },
     "execution_count": 4,
     "metadata": {},
     "output_type": "execute_result"
    }
   ],
   "source": [
    "metrics_table(Y_test, grid.best_estimator_.predict(X_test), grid.best_estimator_.predict_proba(X_test)[:,1])"
   ]
  },
  {
   "cell_type": "code",
   "execution_count": 5,
   "id": "811b3e86-3472-4082-8218-f8dd994387dc",
   "metadata": {},
   "outputs": [
    {
     "data": {
      "text/html": [
       "<div>\n",
       "<style scoped>\n",
       "    .dataframe tbody tr th:only-of-type {\n",
       "        vertical-align: middle;\n",
       "    }\n",
       "\n",
       "    .dataframe tbody tr th {\n",
       "        vertical-align: top;\n",
       "    }\n",
       "\n",
       "    .dataframe thead th {\n",
       "        text-align: right;\n",
       "    }\n",
       "</style>\n",
       "<table border=\"1\" class=\"dataframe\">\n",
       "  <thead>\n",
       "    <tr style=\"text-align: right;\">\n",
       "      <th></th>\n",
       "      <th>param_base_estimator__criterion</th>\n",
       "      <th>param_base_estimator__max_depth</th>\n",
       "      <th>param_base_estimator__min_samples_leaf</th>\n",
       "      <th>param_n_estimators</th>\n",
       "      <th>mean_test_roc_auc</th>\n",
       "      <th>mean_test_accuracy</th>\n",
       "      <th>mean_test_precision</th>\n",
       "      <th>mean_test_recall</th>\n",
       "      <th>mean_test_f1</th>\n",
       "    </tr>\n",
       "  </thead>\n",
       "  <tbody>\n",
       "    <tr>\n",
       "      <th>0</th>\n",
       "      <td>gini</td>\n",
       "      <td>15</td>\n",
       "      <td>1000</td>\n",
       "      <td>9</td>\n",
       "      <td>0.864490</td>\n",
       "      <td>0.838918</td>\n",
       "      <td>0.677346</td>\n",
       "      <td>0.535755</td>\n",
       "      <td>0.598285</td>\n",
       "    </tr>\n",
       "    <tr>\n",
       "      <th>1</th>\n",
       "      <td>entropy</td>\n",
       "      <td>25</td>\n",
       "      <td>1000</td>\n",
       "      <td>9</td>\n",
       "      <td>0.864380</td>\n",
       "      <td>0.838407</td>\n",
       "      <td>0.675601</td>\n",
       "      <td>0.535486</td>\n",
       "      <td>0.597379</td>\n",
       "    </tr>\n",
       "    <tr>\n",
       "      <th>2</th>\n",
       "      <td>entropy</td>\n",
       "      <td>15</td>\n",
       "      <td>1000</td>\n",
       "      <td>9</td>\n",
       "      <td>0.864071</td>\n",
       "      <td>0.839354</td>\n",
       "      <td>0.680237</td>\n",
       "      <td>0.533271</td>\n",
       "      <td>0.597814</td>\n",
       "    </tr>\n",
       "    <tr>\n",
       "      <th>3</th>\n",
       "      <td>entropy</td>\n",
       "      <td>15</td>\n",
       "      <td>1000</td>\n",
       "      <td>7</td>\n",
       "      <td>0.863983</td>\n",
       "      <td>0.840091</td>\n",
       "      <td>0.681952</td>\n",
       "      <td>0.535890</td>\n",
       "      <td>0.600108</td>\n",
       "    </tr>\n",
       "    <tr>\n",
       "      <th>4</th>\n",
       "      <td>gini</td>\n",
       "      <td>15</td>\n",
       "      <td>500</td>\n",
       "      <td>9</td>\n",
       "      <td>0.863863</td>\n",
       "      <td>0.839084</td>\n",
       "      <td>0.671841</td>\n",
       "      <td>0.549923</td>\n",
       "      <td>0.604786</td>\n",
       "    </tr>\n",
       "    <tr>\n",
       "      <th>...</th>\n",
       "      <td>...</td>\n",
       "      <td>...</td>\n",
       "      <td>...</td>\n",
       "      <td>...</td>\n",
       "      <td>...</td>\n",
       "      <td>...</td>\n",
       "      <td>...</td>\n",
       "      <td>...</td>\n",
       "      <td>...</td>\n",
       "    </tr>\n",
       "    <tr>\n",
       "      <th>115</th>\n",
       "      <td>entropy</td>\n",
       "      <td>3</td>\n",
       "      <td>500</td>\n",
       "      <td>1</td>\n",
       "      <td>0.800198</td>\n",
       "      <td>0.828846</td>\n",
       "      <td>0.730322</td>\n",
       "      <td>0.373531</td>\n",
       "      <td>0.494225</td>\n",
       "    </tr>\n",
       "    <tr>\n",
       "      <th>116</th>\n",
       "      <td>entropy</td>\n",
       "      <td>3</td>\n",
       "      <td>100</td>\n",
       "      <td>1</td>\n",
       "      <td>0.800198</td>\n",
       "      <td>0.828846</td>\n",
       "      <td>0.730322</td>\n",
       "      <td>0.373531</td>\n",
       "      <td>0.494225</td>\n",
       "    </tr>\n",
       "    <tr>\n",
       "      <th>117</th>\n",
       "      <td>gini</td>\n",
       "      <td>3</td>\n",
       "      <td>1000</td>\n",
       "      <td>1</td>\n",
       "      <td>0.787738</td>\n",
       "      <td>0.827854</td>\n",
       "      <td>0.736649</td>\n",
       "      <td>0.362186</td>\n",
       "      <td>0.484594</td>\n",
       "    </tr>\n",
       "    <tr>\n",
       "      <th>118</th>\n",
       "      <td>gini</td>\n",
       "      <td>3</td>\n",
       "      <td>100</td>\n",
       "      <td>1</td>\n",
       "      <td>0.787687</td>\n",
       "      <td>0.827854</td>\n",
       "      <td>0.736649</td>\n",
       "      <td>0.362186</td>\n",
       "      <td>0.484594</td>\n",
       "    </tr>\n",
       "    <tr>\n",
       "      <th>119</th>\n",
       "      <td>gini</td>\n",
       "      <td>3</td>\n",
       "      <td>500</td>\n",
       "      <td>1</td>\n",
       "      <td>0.787686</td>\n",
       "      <td>0.827854</td>\n",
       "      <td>0.736649</td>\n",
       "      <td>0.362186</td>\n",
       "      <td>0.484594</td>\n",
       "    </tr>\n",
       "  </tbody>\n",
       "</table>\n",
       "<p>120 rows × 9 columns</p>\n",
       "</div>"
      ],
      "text/plain": [
       "    param_base_estimator__criterion param_base_estimator__max_depth  \\\n",
       "0                              gini                              15   \n",
       "1                           entropy                              25   \n",
       "2                           entropy                              15   \n",
       "3                           entropy                              15   \n",
       "4                              gini                              15   \n",
       "..                              ...                             ...   \n",
       "115                         entropy                               3   \n",
       "116                         entropy                               3   \n",
       "117                            gini                               3   \n",
       "118                            gini                               3   \n",
       "119                            gini                               3   \n",
       "\n",
       "    param_base_estimator__min_samples_leaf param_n_estimators  \\\n",
       "0                                     1000                  9   \n",
       "1                                     1000                  9   \n",
       "2                                     1000                  9   \n",
       "3                                     1000                  7   \n",
       "4                                      500                  9   \n",
       "..                                     ...                ...   \n",
       "115                                    500                  1   \n",
       "116                                    100                  1   \n",
       "117                                   1000                  1   \n",
       "118                                    100                  1   \n",
       "119                                    500                  1   \n",
       "\n",
       "     mean_test_roc_auc  mean_test_accuracy  mean_test_precision  \\\n",
       "0             0.864490            0.838918             0.677346   \n",
       "1             0.864380            0.838407             0.675601   \n",
       "2             0.864071            0.839354             0.680237   \n",
       "3             0.863983            0.840091             0.681952   \n",
       "4             0.863863            0.839084             0.671841   \n",
       "..                 ...                 ...                  ...   \n",
       "115           0.800198            0.828846             0.730322   \n",
       "116           0.800198            0.828846             0.730322   \n",
       "117           0.787738            0.827854             0.736649   \n",
       "118           0.787687            0.827854             0.736649   \n",
       "119           0.787686            0.827854             0.736649   \n",
       "\n",
       "     mean_test_recall  mean_test_f1  \n",
       "0            0.535755      0.598285  \n",
       "1            0.535486      0.597379  \n",
       "2            0.533271      0.597814  \n",
       "3            0.535890      0.600108  \n",
       "4            0.549923      0.604786  \n",
       "..                ...           ...  \n",
       "115          0.373531      0.494225  \n",
       "116          0.373531      0.494225  \n",
       "117          0.362186      0.484594  \n",
       "118          0.362186      0.484594  \n",
       "119          0.362186      0.484594  \n",
       "\n",
       "[120 rows x 9 columns]"
      ]
     },
     "execution_count": 5,
     "metadata": {},
     "output_type": "execute_result"
    }
   ],
   "source": [
    "grid_history_table(grid)"
   ]
  },
  {
   "cell_type": "markdown",
   "id": "983bfdd9-826c-4e8a-8786-93b275eb835b",
   "metadata": {},
   "source": [
    "Los resultados fueron bastante similares a los obtenidos con un único árbol de decisión. El aumento en complejidad que produce el ensamble, hace que el modelo sea peor al modelo individual. Podemos intentar mejorar el score aumentando el número de estimadores, y analizar en qué punto se produce overfitting"
   ]
  },
  {
   "cell_type": "code",
   "execution_count": 6,
   "id": "24be1f74-fd98-49b4-97ef-9f60738adf23",
   "metadata": {},
   "outputs": [
    {
     "data": {
      "text/plain": [
       "0.8691931132511457"
      ]
     },
     "execution_count": 6,
     "metadata": {},
     "output_type": "execute_result"
    }
   ],
   "source": [
    "parameters = {\n",
    "    \"n_estimators\": np.arange(1,50,1),\n",
    "}\n",
    "\n",
    "base_estimator = DecisionTreeClassifier(max_depth=15, min_samples_leaf=1000, random_state=0)\n",
    "grid = GridSearchCV(AdaBoostClassifier(base_estimator=base_estimator, random_state=0),\n",
    "                    param_grid=parameters,\n",
    "                    cv = StratifiedKFold(5),\n",
    "                    scoring = SCORINGS,\n",
    "                    refit=METRIC,\n",
    "                    n_jobs = -1)\n",
    "\n",
    "grid.fit(X_train, Y_train)\n",
    "grid.best_score_"
   ]
  },
  {
   "cell_type": "code",
   "execution_count": 7,
   "id": "dcc4c68a-5dc2-443d-b366-41a625dc0e59",
   "metadata": {},
   "outputs": [
    {
     "data": {
      "text/plain": [
       "[<matplotlib.lines.Line2D at 0x7ff94a03c580>]"
      ]
     },
     "execution_count": 7,
     "metadata": {},
     "output_type": "execute_result"
    },
    {
     "data": {
      "image/png": "[encoded data removed]",
      "text/plain": [
       "<Figure size 720x360 with 1 Axes>"
      ]
     },
     "metadata": {
      "needs_background": "light"
     },
     "output_type": "display_data"
    }
   ],
   "source": [
    "n_estimators = grid.cv_results_[\"param_n_estimators\"].data\n",
    "results = grid.cv_results_[\"mean_test_roc_auc\"]\n",
    "plt.figure(figsize=(10,5))\n",
    "plt.xlabel(\"Cantidad de estimadores\")\n",
    "plt.ylabel(\"ROC AUC\")\n",
    "plt.grid(True)\n",
    "plt.plot(n_estimators, results)"
   ]
  },
  {
   "cell_type": "markdown",
   "id": "72e29170-cbdd-469b-be66-334127d7b341",
   "metadata": {},
   "source": [
    "En el gráfico observamos que, al aumentar el número de estimadores, el score aumenta de forma prácticamente asintótica a un valor de 0.87. Es interesante notar que no se produjo overfitting, a pesar de haber entrenado modelos con hasta 50 estimadores."
   ]
  },
  {
   "cell_type": "markdown",
   "id": "5004285a-481d-4f46-88fa-e8d2582250de",
   "metadata": {},
   "source": [
    "### Estimador base: RandomForestClassifier"
   ]
  },
  {
   "cell_type": "markdown",
   "id": "d2feb3e7-bcc3-495d-9462-47314670b4bb",
   "metadata": {},
   "source": [
    "Probamos también con estimadores base mucho más complejos, como es el caso de un random forest. Algo a tener en cuenta es que, para poder afirmar que el modelo resultante es efectivamente mejor, se debería observar una mejora sustancial en los scores. En caso contrario, estaríamos frente a un modelo altamente complejo (ensamble de ensambles), con menores posibilidades de generalizar mejor frente a instancias nuevas."
   ]
  },
  {
   "cell_type": "markdown",
   "id": "cfbf25d6-119c-4d2d-8b8f-36d600d210be",
   "metadata": {},
   "source": [
    "### Pocos árboles"
   ]
  },
  {
   "cell_type": "markdown",
   "id": "b7781627-4484-4a13-8a5e-30b730f76775",
   "metadata": {},
   "source": [
    "Empezamos con una cantidad modesta de árboles. Posiblemente, los random forest resultantes tengan alta varianza, y al entrenarlos con boosting, tal vez produzca modelos con mejor capacidad para clasificar instancias complejas"
   ]
  },
  {
   "cell_type": "code",
   "execution_count": 8,
   "id": "d5c9de25-1a9b-46b0-867a-652c86f865dd",
   "metadata": {},
   "outputs": [
    {
     "data": {
      "text/plain": [
       "0.8584632289543821"
      ]
     },
     "execution_count": 8,
     "metadata": {},
     "output_type": "execute_result"
    }
   ],
   "source": [
    "parameters = {\n",
    "    \"n_estimators\": np.arange(1, 30, 2),\n",
    "}\n",
    "\n",
    "base_estimator = RandomForestClassifier(criterion=\"entropy\",\n",
    "                                        n_estimators=5,\n",
    "                                        max_depth=35,\n",
    "                                        n_jobs=-1,\n",
    "                                        random_state=0)\n",
    "\n",
    "grid = GridSearchCV(AdaBoostClassifier(base_estimator=base_estimator, random_state=0),\n",
    "                    param_grid=parameters,\n",
    "                    cv = StratifiedKFold(5),\n",
    "                    scoring = SCORINGS,\n",
    "                    refit=METRIC,\n",
    "                    n_jobs = -1)\n",
    "\n",
    "grid.fit(X_train, Y_train)\n",
    "grid.best_score_"
   ]
  },
  {
   "cell_type": "code",
   "execution_count": 9,
   "id": "ed631fa5-4cb7-4fa0-ab6f-98daddc20256",
   "metadata": {},
   "outputs": [
    {
     "data": {
      "text/html": [
       "<div>\n",
       "<style scoped>\n",
       "    .dataframe tbody tr th:only-of-type {\n",
       "        vertical-align: middle;\n",
       "    }\n",
       "\n",
       "    .dataframe tbody tr th {\n",
       "        vertical-align: top;\n",
       "    }\n",
       "\n",
       "    .dataframe thead th {\n",
       "        text-align: right;\n",
       "    }\n",
       "</style>\n",
       "<table border=\"1\" class=\"dataframe\">\n",
       "  <thead>\n",
       "    <tr style=\"text-align: right;\">\n",
       "      <th></th>\n",
       "      <th>AUC-ROC</th>\n",
       "      <th>Accuracy</th>\n",
       "      <th>Precision</th>\n",
       "      <th>Recall</th>\n",
       "      <th>F1 Score</th>\n",
       "    </tr>\n",
       "  </thead>\n",
       "  <tbody>\n",
       "    <tr>\n",
       "      <th>0</th>\n",
       "      <td>0.860343</td>\n",
       "      <td>0.845976</td>\n",
       "      <td>0.735505</td>\n",
       "      <td>0.487218</td>\n",
       "      <td>0.586153</td>\n",
       "    </tr>\n",
       "  </tbody>\n",
       "</table>\n",
       "</div>"
      ],
      "text/plain": [
       "    AUC-ROC  Accuracy  Precision    Recall  F1 Score\n",
       "0  0.860343  0.845976   0.735505  0.487218  0.586153"
      ]
     },
     "execution_count": 9,
     "metadata": {},
     "output_type": "execute_result"
    }
   ],
   "source": [
    "metrics_table(Y_test, grid.best_estimator_.predict(X_test), grid.best_estimator_.predict_proba(X_test)[:,1])"
   ]
  },
  {
   "cell_type": "code",
   "execution_count": 10,
   "id": "52f4d166-bba1-4c95-8905-186c5c83cbd3",
   "metadata": {},
   "outputs": [
    {
     "data": {
      "text/html": [
       "<div>\n",
       "<style scoped>\n",
       "    .dataframe tbody tr th:only-of-type {\n",
       "        vertical-align: middle;\n",
       "    }\n",
       "\n",
       "    .dataframe tbody tr th {\n",
       "        vertical-align: top;\n",
       "    }\n",
       "\n",
       "    .dataframe thead th {\n",
       "        text-align: right;\n",
       "    }\n",
       "</style>\n",
       "<table border=\"1\" class=\"dataframe\">\n",
       "  <thead>\n",
       "    <tr style=\"text-align: right;\">\n",
       "      <th></th>\n",
       "      <th>param_n_estimators</th>\n",
       "      <th>mean_test_roc_auc</th>\n",
       "      <th>mean_test_accuracy</th>\n",
       "      <th>mean_test_precision</th>\n",
       "      <th>mean_test_recall</th>\n",
       "      <th>mean_test_f1</th>\n",
       "    </tr>\n",
       "  </thead>\n",
       "  <tbody>\n",
       "    <tr>\n",
       "      <th>0</th>\n",
       "      <td>27</td>\n",
       "      <td>0.858463</td>\n",
       "      <td>0.843879</td>\n",
       "      <td>0.727057</td>\n",
       "      <td>0.484791</td>\n",
       "      <td>0.581647</td>\n",
       "    </tr>\n",
       "    <tr>\n",
       "      <th>1</th>\n",
       "      <td>9</td>\n",
       "      <td>0.857176</td>\n",
       "      <td>0.845713</td>\n",
       "      <td>0.738666</td>\n",
       "      <td>0.481299</td>\n",
       "      <td>0.582758</td>\n",
       "    </tr>\n",
       "    <tr>\n",
       "      <th>2</th>\n",
       "      <td>7</td>\n",
       "      <td>0.857147</td>\n",
       "      <td>0.844751</td>\n",
       "      <td>0.745398</td>\n",
       "      <td>0.465789</td>\n",
       "      <td>0.573283</td>\n",
       "    </tr>\n",
       "    <tr>\n",
       "      <th>3</th>\n",
       "      <td>29</td>\n",
       "      <td>0.856533</td>\n",
       "      <td>0.841895</td>\n",
       "      <td>0.718651</td>\n",
       "      <td>0.484190</td>\n",
       "      <td>0.577991</td>\n",
       "    </tr>\n",
       "    <tr>\n",
       "      <th>4</th>\n",
       "      <td>25</td>\n",
       "      <td>0.856127</td>\n",
       "      <td>0.842722</td>\n",
       "      <td>0.723716</td>\n",
       "      <td>0.481769</td>\n",
       "      <td>0.578329</td>\n",
       "    </tr>\n",
       "    <tr>\n",
       "      <th>...</th>\n",
       "      <td>...</td>\n",
       "      <td>...</td>\n",
       "      <td>...</td>\n",
       "      <td>...</td>\n",
       "      <td>...</td>\n",
       "      <td>...</td>\n",
       "    </tr>\n",
       "    <tr>\n",
       "      <th>10</th>\n",
       "      <td>21</td>\n",
       "      <td>0.853926</td>\n",
       "      <td>0.841128</td>\n",
       "      <td>0.715283</td>\n",
       "      <td>0.482577</td>\n",
       "      <td>0.576237</td>\n",
       "    </tr>\n",
       "    <tr>\n",
       "      <th>11</th>\n",
       "      <td>11</td>\n",
       "      <td>0.853813</td>\n",
       "      <td>0.843999</td>\n",
       "      <td>0.728726</td>\n",
       "      <td>0.483112</td>\n",
       "      <td>0.581000</td>\n",
       "    </tr>\n",
       "    <tr>\n",
       "      <th>12</th>\n",
       "      <td>19</td>\n",
       "      <td>0.852196</td>\n",
       "      <td>0.841324</td>\n",
       "      <td>0.711579</td>\n",
       "      <td>0.490096</td>\n",
       "      <td>0.580341</td>\n",
       "    </tr>\n",
       "    <tr>\n",
       "      <th>13</th>\n",
       "      <td>3</td>\n",
       "      <td>0.850749</td>\n",
       "      <td>0.842000</td>\n",
       "      <td>0.734219</td>\n",
       "      <td>0.461290</td>\n",
       "      <td>0.566591</td>\n",
       "    </tr>\n",
       "    <tr>\n",
       "      <th>14</th>\n",
       "      <td>1</td>\n",
       "      <td>0.812863</td>\n",
       "      <td>0.828996</td>\n",
       "      <td>0.653243</td>\n",
       "      <td>0.503659</td>\n",
       "      <td>0.568751</td>\n",
       "    </tr>\n",
       "  </tbody>\n",
       "</table>\n",
       "<p>15 rows × 6 columns</p>\n",
       "</div>"
      ],
      "text/plain": [
       "   param_n_estimators  mean_test_roc_auc  mean_test_accuracy  \\\n",
       "0                  27           0.858463            0.843879   \n",
       "1                   9           0.857176            0.845713   \n",
       "2                   7           0.857147            0.844751   \n",
       "3                  29           0.856533            0.841895   \n",
       "4                  25           0.856127            0.842722   \n",
       "..                ...                ...                 ...   \n",
       "10                 21           0.853926            0.841128   \n",
       "11                 11           0.853813            0.843999   \n",
       "12                 19           0.852196            0.841324   \n",
       "13                  3           0.850749            0.842000   \n",
       "14                  1           0.812863            0.828996   \n",
       "\n",
       "    mean_test_precision  mean_test_recall  mean_test_f1  \n",
       "0              0.727057          0.484791      0.581647  \n",
       "1              0.738666          0.481299      0.582758  \n",
       "2              0.745398          0.465789      0.573283  \n",
       "3              0.718651          0.484190      0.577991  \n",
       "4              0.723716          0.481769      0.578329  \n",
       "..                  ...               ...           ...  \n",
       "10             0.715283          0.482577      0.576237  \n",
       "11             0.728726          0.483112      0.581000  \n",
       "12             0.711579          0.490096      0.580341  \n",
       "13             0.734219          0.461290      0.566591  \n",
       "14             0.653243          0.503659      0.568751  \n",
       "\n",
       "[15 rows x 6 columns]"
      ]
     },
     "execution_count": 10,
     "metadata": {},
     "output_type": "execute_result"
    }
   ],
   "source": [
    "grid_history_table(grid)"
   ]
  },
  {
   "cell_type": "code",
   "execution_count": 11,
   "id": "51054978-337c-4524-ac0c-79ce62d6a753",
   "metadata": {},
   "outputs": [
    {
     "data": {
      "text/plain": [
       "[<matplotlib.lines.Line2D at 0x7ff949f0cd90>]"
      ]
     },
     "execution_count": 11,
     "metadata": {},
     "output_type": "execute_result"
    },
    {
     "data": {
      "image/png": "[encoded data removed]",
      "text/plain": [
       "<Figure size 720x360 with 1 Axes>"
      ]
     },
     "metadata": {
      "needs_background": "light"
     },
     "output_type": "display_data"
    }
   ],
   "source": [
    "n_estimators = grid.cv_results_[\"param_n_estimators\"].data\n",
    "results = grid.cv_results_[\"mean_test_roc_auc\"]\n",
    "plt.figure(figsize=(10,5))\n",
    "plt.xlabel(\"Cantidad de estimadores\")\n",
    "plt.ylabel(\"ROC AUC\")\n",
    "plt.grid(True)\n",
    "plt.plot(n_estimators, results)"
   ]
  },
  {
   "cell_type": "markdown",
   "id": "114a4cbd-9d92-4b22-81fd-95e867806036",
   "metadata": {},
   "source": [
    "Los modelos resultaron bastante malos. Posiblemente se deba a que, internamente, el random forest toma $\\sqrt{n}$ features para cada árbol (siendo $n$ el número total de features). Esto hace que exista una probabilidad muy alta de que ningún árbol obtenga las features que son predictores fuertes (***humedad_tarde***, por ejemplo).\n",
    "\n",
    "Con esto en mente, aumentamos la cantidad de estimadores"
   ]
  },
  {
   "cell_type": "markdown",
   "id": "ef3c5175-b4e8-41e3-b86c-de9a98c78b0e",
   "metadata": {},
   "source": [
    "### Muchos árboles"
   ]
  },
  {
   "cell_type": "code",
   "execution_count": null,
   "id": "4feda86e-3fb7-414f-81d4-dce5ceee04f2",
   "metadata": {},
   "outputs": [
    {
     "data": {
      "text/plain": [
       "0.8876743908249507"
      ]
     },
     "execution_count": 12,
     "metadata": {},
     "output_type": "execute_result"
    }
   ],
   "source": [
    "parameters = {\n",
    "    \"n_estimators\": [1, 3, 5, 10, 12, 15],\n",
    "}\n",
    "\n",
    "base_estimator = RandomForestClassifier(criterion=\"entropy\",\n",
    "                                        n_estimators=200,\n",
    "                                        max_depth=35,\n",
    "                                        n_jobs=-1,\n",
    "                                        random_state=0)\n",
    "\n",
    "# Lo guardamos con otro nombre porque fue el modelo final\n",
    "grid_ = GridSearchCV(AdaBoostClassifier(base_estimator=base_estimator, random_state=0),\n",
    "                    param_grid=parameters,\n",
    "                    cv = StratifiedKFold(5),\n",
    "                    scoring = SCORINGS,\n",
    "                    refit=METRIC,\n",
    "                    n_jobs = -1)\n",
    "\n",
    "grid_.fit(X_train, Y_train)\n",
    "grid_.best_score_"
   ]
  },
  {
   "cell_type": "code",
   "execution_count": null,
   "id": "c5d143eb-a19e-42ea-9bb8-a1363b4a0a84",
   "metadata": {},
   "outputs": [
    {
     "data": {
      "text/html": [
       "<div>\n",
       "<style scoped>\n",
       "    .dataframe tbody tr th:only-of-type {\n",
       "        vertical-align: middle;\n",
       "    }\n",
       "\n",
       "    .dataframe tbody tr th {\n",
       "        vertical-align: top;\n",
       "    }\n",
       "\n",
       "    .dataframe thead th {\n",
       "        text-align: right;\n",
       "    }\n",
       "</style>\n",
       "<table border=\"1\" class=\"dataframe\">\n",
       "  <thead>\n",
       "    <tr style=\"text-align: right;\">\n",
       "      <th></th>\n",
       "      <th>param_n_estimators</th>\n",
       "      <th>mean_test_roc_auc</th>\n",
       "      <th>mean_test_accuracy</th>\n",
       "      <th>mean_test_precision</th>\n",
       "      <th>mean_test_recall</th>\n",
       "      <th>mean_test_f1</th>\n",
       "    </tr>\n",
       "  </thead>\n",
       "  <tbody>\n",
       "    <tr>\n",
       "      <th>0</th>\n",
       "      <td>5</td>\n",
       "      <td>0.887674</td>\n",
       "      <td>0.854297</td>\n",
       "      <td>0.774639</td>\n",
       "      <td>0.492983</td>\n",
       "      <td>0.602393</td>\n",
       "    </tr>\n",
       "    <tr>\n",
       "      <th>1</th>\n",
       "      <td>15</td>\n",
       "      <td>0.887531</td>\n",
       "      <td>0.854312</td>\n",
       "      <td>0.775816</td>\n",
       "      <td>0.491842</td>\n",
       "      <td>0.601855</td>\n",
       "    </tr>\n",
       "    <tr>\n",
       "      <th>2</th>\n",
       "      <td>12</td>\n",
       "      <td>0.887519</td>\n",
       "      <td>0.854718</td>\n",
       "      <td>0.776809</td>\n",
       "      <td>0.493252</td>\n",
       "      <td>0.603228</td>\n",
       "    </tr>\n",
       "    <tr>\n",
       "      <th>3</th>\n",
       "      <td>3</td>\n",
       "      <td>0.887463</td>\n",
       "      <td>0.854297</td>\n",
       "      <td>0.775344</td>\n",
       "      <td>0.492244</td>\n",
       "      <td>0.602027</td>\n",
       "    </tr>\n",
       "    <tr>\n",
       "      <th>4</th>\n",
       "      <td>10</td>\n",
       "      <td>0.887422</td>\n",
       "      <td>0.854252</td>\n",
       "      <td>0.775270</td>\n",
       "      <td>0.492043</td>\n",
       "      <td>0.601854</td>\n",
       "    </tr>\n",
       "    <tr>\n",
       "      <th>5</th>\n",
       "      <td>1</td>\n",
       "      <td>0.885699</td>\n",
       "      <td>0.854207</td>\n",
       "      <td>0.767371</td>\n",
       "      <td>0.500638</td>\n",
       "      <td>0.605927</td>\n",
       "    </tr>\n",
       "  </tbody>\n",
       "</table>\n",
       "</div>"
      ],
      "text/plain": [
       "  param_n_estimators  mean_test_roc_auc  mean_test_accuracy  \\\n",
       "0                  5           0.887674            0.854297   \n",
       "1                 15           0.887531            0.854312   \n",
       "2                 12           0.887519            0.854718   \n",
       "3                  3           0.887463            0.854297   \n",
       "4                 10           0.887422            0.854252   \n",
       "5                  1           0.885699            0.854207   \n",
       "\n",
       "   mean_test_precision  mean_test_recall  mean_test_f1  \n",
       "0             0.774639          0.492983      0.602393  \n",
       "1             0.775816          0.491842      0.601855  \n",
       "2             0.776809          0.493252      0.603228  \n",
       "3             0.775344          0.492244      0.602027  \n",
       "4             0.775270          0.492043      0.601854  \n",
       "5             0.767371          0.500638      0.605927  "
      ]
     },
     "execution_count": 13,
     "metadata": {},
     "output_type": "execute_result"
    }
   ],
   "source": [
    "grid_history_table(grid_)"
   ]
  },
  {
   "cell_type": "code",
   "execution_count": null,
   "id": "0166d599-f296-4e8f-b978-887f9086c645",
   "metadata": {},
   "outputs": [
    {
     "data": {
      "text/html": [
       "<div>\n",
       "<style scoped>\n",
       "    .dataframe tbody tr th:only-of-type {\n",
       "        vertical-align: middle;\n",
       "    }\n",
       "\n",
       "    .dataframe tbody tr th {\n",
       "        vertical-align: top;\n",
       "    }\n",
       "\n",
       "    .dataframe thead th {\n",
       "        text-align: right;\n",
       "    }\n",
       "</style>\n",
       "<table border=\"1\" class=\"dataframe\">\n",
       "  <thead>\n",
       "    <tr style=\"text-align: right;\">\n",
       "      <th></th>\n",
       "      <th>AUC-ROC</th>\n",
       "      <th>Accuracy</th>\n",
       "      <th>Precision</th>\n",
       "      <th>Recall</th>\n",
       "      <th>F1 Score</th>\n",
       "    </tr>\n",
       "  </thead>\n",
       "  <tbody>\n",
       "    <tr>\n",
       "      <th>0</th>\n",
       "      <td>0.894098</td>\n",
       "      <td>0.86094</td>\n",
       "      <td>0.80874</td>\n",
       "      <td>0.496197</td>\n",
       "      <td>0.61504</td>\n",
       "    </tr>\n",
       "  </tbody>\n",
       "</table>\n",
       "</div>"
      ],
      "text/plain": [
       "    AUC-ROC  Accuracy  Precision    Recall  F1 Score\n",
       "0  0.894098   0.86094    0.80874  0.496197   0.61504"
      ]
     },
     "execution_count": 14,
     "metadata": {},
     "output_type": "execute_result"
    }
   ],
   "source": [
    "metrics_table(Y_test, grid_.best_estimator_.predict(X_test), grid_.best_estimator_.predict_proba(X_test)[:,1])"
   ]
  },
  {
   "cell_type": "markdown",
   "id": "9593b459-c8bd-48d1-9222-445c078967ea",
   "metadata": {},
   "source": [
    "El score mejoró un poco en el set de test, en comparación al random forest individual."
   ]
  },
  {
   "cell_type": "markdown",
   "id": "30578083-8930-4dab-802f-d17a057cc8c5",
   "metadata": {},
   "source": [
    "## Preprocessing Nº 2"
   ]
  },
  {
   "cell_type": "markdown",
   "id": "6ed4c54d-b65c-4206-9daa-67ef83d115de",
   "metadata": {},
   "source": [
    "Como el siguiente modelo a probar es GaussianNB, utilizamos el preprocessing que dio el mejor resultado para un estimador individual"
   ]
  },
  {
   "cell_type": "code",
   "execution_count": null,
   "id": "64ef3935-82f8-4145-bec2-a8d174473482",
   "metadata": {},
   "outputs": [],
   "source": [
    "df_features, df_target = get_datasets(fecha_to_int=True)\n",
    "\n",
    "viento_trigonometrico(df_features)\n",
    "drop_categoricas(df_features)\n",
    "\n",
    "df_features = df_features[['dia',\n",
    "                           'horas_de_sol',\n",
    "                           'humedad_tarde',\n",
    "                           'nubosidad_tarde',\n",
    "                           'presion_atmosferica_tarde',\n",
    "                           'rafaga_viento_max_velocidad',\n",
    "                           'temp_min',\n",
    "                           'cos_viento_tarde',\n",
    "                           'sin_viento_tarde',\n",
    "                           'cos_viento_temprano',\n",
    "                           'sin_viento_temprano',\n",
    "                           'cos_rafaga_viento_max_direccion',\n",
    "                           'sin_rafaga_viento_max_direccion']]\n",
    "\n",
    "X_train, X_test, Y_train, Y_test = train_test_split(df_features, df_target, test_size = 0.35, random_state = 0)\n",
    "\n",
    "pipe = iterative_imputer()\n",
    "pipe.fit(X_train)\n",
    "X_train = pipe.transform(X_train)\n",
    "X_test = pipe.transform(X_test)\n",
    "\n",
    "Y_train = np.ravel(Y_train)\n",
    "Y_test = np.ravel(Y_test)"
   ]
  },
  {
   "cell_type": "markdown",
   "id": "2d33e32d-06c3-4733-9038-40652cbd5f01",
   "metadata": {},
   "source": [
    "### Estimador base: GaussianNB"
   ]
  },
  {
   "cell_type": "markdown",
   "id": "2ea98d81-0767-426e-bd70-cae5659b4dec",
   "metadata": {},
   "source": [
    "Utilizamos el preprocessing que dio el mejor resultado para un estimador individual"
   ]
  },
  {
   "cell_type": "code",
   "execution_count": null,
   "id": "67f0f596-461a-4cbc-a27b-cfb9c7da9ade",
   "metadata": {},
   "outputs": [
    {
     "data": {
      "text/plain": [
       "0.854822193098318"
      ]
     },
     "execution_count": 16,
     "metadata": {},
     "output_type": "execute_result"
    }
   ],
   "source": [
    "parameters = {\n",
    "    \"n_estimators\": np.arange(1, 50, 1),\n",
    "}\n",
    "\n",
    "base_estimator = GaussianNB(var_smoothing = 1e-8)\n",
    "\n",
    "grid = GridSearchCV(AdaBoostClassifier(base_estimator=base_estimator, random_state=0),\n",
    "                    param_grid=parameters,\n",
    "                    cv = StratifiedKFold(5),\n",
    "                    scoring = SCORINGS,\n",
    "                    refit=METRIC,\n",
    "                    n_jobs = -1)\n",
    "\n",
    "grid.fit(X_train, Y_train)\n",
    "grid.best_score_"
   ]
  },
  {
   "cell_type": "code",
   "execution_count": null,
   "id": "fea34e7b-ad5a-4d66-91b1-fcacdac5ab4b",
   "metadata": {},
   "outputs": [
    {
     "data": {
      "text/html": [
       "<div>\n",
       "<style scoped>\n",
       "    .dataframe tbody tr th:only-of-type {\n",
       "        vertical-align: middle;\n",
       "    }\n",
       "\n",
       "    .dataframe tbody tr th {\n",
       "        vertical-align: top;\n",
       "    }\n",
       "\n",
       "    .dataframe thead th {\n",
       "        text-align: right;\n",
       "    }\n",
       "</style>\n",
       "<table border=\"1\" class=\"dataframe\">\n",
       "  <thead>\n",
       "    <tr style=\"text-align: right;\">\n",
       "      <th></th>\n",
       "      <th>AUC-ROC</th>\n",
       "      <th>Accuracy</th>\n",
       "      <th>Precision</th>\n",
       "      <th>Recall</th>\n",
       "      <th>F1 Score</th>\n",
       "    </tr>\n",
       "  </thead>\n",
       "  <tbody>\n",
       "    <tr>\n",
       "      <th>0</th>\n",
       "      <td>0.85166</td>\n",
       "      <td>0.835115</td>\n",
       "      <td>0.681826</td>\n",
       "      <td>0.493701</td>\n",
       "      <td>0.57271</td>\n",
       "    </tr>\n",
       "  </tbody>\n",
       "</table>\n",
       "</div>"
      ],
      "text/plain": [
       "   AUC-ROC  Accuracy  Precision    Recall  F1 Score\n",
       "0  0.85166  0.835115   0.681826  0.493701   0.57271"
      ]
     },
     "execution_count": 17,
     "metadata": {},
     "output_type": "execute_result"
    }
   ],
   "source": [
    "metrics_table(Y_test, grid.best_estimator_.predict(X_test), grid.best_estimator_.predict_proba(X_test)[:,1])"
   ]
  },
  {
   "cell_type": "code",
   "execution_count": null,
   "id": "3910157c-61a9-433f-9d72-e703374a7879",
   "metadata": {},
   "outputs": [
    {
     "data": {
      "text/html": [
       "<div>\n",
       "<style scoped>\n",
       "    .dataframe tbody tr th:only-of-type {\n",
       "        vertical-align: middle;\n",
       "    }\n",
       "\n",
       "    .dataframe tbody tr th {\n",
       "        vertical-align: top;\n",
       "    }\n",
       "\n",
       "    .dataframe thead th {\n",
       "        text-align: right;\n",
       "    }\n",
       "</style>\n",
       "<table border=\"1\" class=\"dataframe\">\n",
       "  <thead>\n",
       "    <tr style=\"text-align: right;\">\n",
       "      <th></th>\n",
       "      <th>param_n_estimators</th>\n",
       "      <th>mean_test_roc_auc</th>\n",
       "      <th>mean_test_accuracy</th>\n",
       "      <th>mean_test_precision</th>\n",
       "      <th>mean_test_recall</th>\n",
       "      <th>mean_test_f1</th>\n",
       "    </tr>\n",
       "  </thead>\n",
       "  <tbody>\n",
       "    <tr>\n",
       "      <th>0</th>\n",
       "      <td>3</td>\n",
       "      <td>0.854822</td>\n",
       "      <td>0.835716</td>\n",
       "      <td>0.686864</td>\n",
       "      <td>0.489695</td>\n",
       "      <td>0.571713</td>\n",
       "    </tr>\n",
       "    <tr>\n",
       "      <th>1</th>\n",
       "      <td>1</td>\n",
       "      <td>0.852411</td>\n",
       "      <td>0.830304</td>\n",
       "      <td>0.636551</td>\n",
       "      <td>0.565022</td>\n",
       "      <td>0.598618</td>\n",
       "    </tr>\n",
       "    <tr>\n",
       "      <th>2</th>\n",
       "      <td>5</td>\n",
       "      <td>0.848401</td>\n",
       "      <td>0.829628</td>\n",
       "      <td>0.688104</td>\n",
       "      <td>0.437597</td>\n",
       "      <td>0.534785</td>\n",
       "    </tr>\n",
       "    <tr>\n",
       "      <th>3</th>\n",
       "      <td>7</td>\n",
       "      <td>0.835810</td>\n",
       "      <td>0.824171</td>\n",
       "      <td>0.681793</td>\n",
       "      <td>0.402753</td>\n",
       "      <td>0.506172</td>\n",
       "    </tr>\n",
       "    <tr>\n",
       "      <th>4</th>\n",
       "      <td>2</td>\n",
       "      <td>0.834155</td>\n",
       "      <td>0.827192</td>\n",
       "      <td>0.665088</td>\n",
       "      <td>0.460826</td>\n",
       "      <td>0.544114</td>\n",
       "    </tr>\n",
       "    <tr>\n",
       "      <th>...</th>\n",
       "      <td>...</td>\n",
       "      <td>...</td>\n",
       "      <td>...</td>\n",
       "      <td>...</td>\n",
       "      <td>...</td>\n",
       "      <td>...</td>\n",
       "    </tr>\n",
       "    <tr>\n",
       "      <th>44</th>\n",
       "      <td>40</td>\n",
       "      <td>0.779543</td>\n",
       "      <td>0.725763</td>\n",
       "      <td>0.430806</td>\n",
       "      <td>0.686606</td>\n",
       "      <td>0.528688</td>\n",
       "    </tr>\n",
       "    <tr>\n",
       "      <th>45</th>\n",
       "      <td>42</td>\n",
       "      <td>0.779510</td>\n",
       "      <td>0.725898</td>\n",
       "      <td>0.431007</td>\n",
       "      <td>0.686808</td>\n",
       "      <td>0.528896</td>\n",
       "    </tr>\n",
       "    <tr>\n",
       "      <th>46</th>\n",
       "      <td>44</td>\n",
       "      <td>0.779482</td>\n",
       "      <td>0.726018</td>\n",
       "      <td>0.431126</td>\n",
       "      <td>0.686338</td>\n",
       "      <td>0.528843</td>\n",
       "    </tr>\n",
       "    <tr>\n",
       "      <th>47</th>\n",
       "      <td>46</td>\n",
       "      <td>0.779457</td>\n",
       "      <td>0.725958</td>\n",
       "      <td>0.431028</td>\n",
       "      <td>0.685868</td>\n",
       "      <td>0.528622</td>\n",
       "    </tr>\n",
       "    <tr>\n",
       "      <th>48</th>\n",
       "      <td>48</td>\n",
       "      <td>0.779438</td>\n",
       "      <td>0.725958</td>\n",
       "      <td>0.431021</td>\n",
       "      <td>0.685666</td>\n",
       "      <td>0.528547</td>\n",
       "    </tr>\n",
       "  </tbody>\n",
       "</table>\n",
       "<p>49 rows × 6 columns</p>\n",
       "</div>"
      ],
      "text/plain": [
       "   param_n_estimators  mean_test_roc_auc  mean_test_accuracy  \\\n",
       "0                   3           0.854822            0.835716   \n",
       "1                   1           0.852411            0.830304   \n",
       "2                   5           0.848401            0.829628   \n",
       "3                   7           0.835810            0.824171   \n",
       "4                   2           0.834155            0.827192   \n",
       "..                ...                ...                 ...   \n",
       "44                 40           0.779543            0.725763   \n",
       "45                 42           0.779510            0.725898   \n",
       "46                 44           0.779482            0.726018   \n",
       "47                 46           0.779457            0.725958   \n",
       "48                 48           0.779438            0.725958   \n",
       "\n",
       "    mean_test_precision  mean_test_recall  mean_test_f1  \n",
       "0              0.686864          0.489695      0.571713  \n",
       "1              0.636551          0.565022      0.598618  \n",
       "2              0.688104          0.437597      0.534785  \n",
       "3              0.681793          0.402753      0.506172  \n",
       "4              0.665088          0.460826      0.544114  \n",
       "..                  ...               ...           ...  \n",
       "44             0.430806          0.686606      0.528688  \n",
       "45             0.431007          0.686808      0.528896  \n",
       "46             0.431126          0.686338      0.528843  \n",
       "47             0.431028          0.685868      0.528622  \n",
       "48             0.431021          0.685666      0.528547  \n",
       "\n",
       "[49 rows x 6 columns]"
      ]
     },
     "execution_count": 18,
     "metadata": {},
     "output_type": "execute_result"
    }
   ],
   "source": [
    "grid_history_table(grid)"
   ]
  },
  {
   "cell_type": "markdown",
   "id": "76f3f681-e9f8-47d9-9915-efa865793228",
   "metadata": {},
   "source": [
    "Vemos que el score aumentó ligeramente al utilizar 3 estimadores en lugar de 1, aunque no parece ser una mejora significativa"
   ]
  },
  {
   "cell_type": "code",
   "execution_count": null,
   "id": "406b6f1f-791c-45d5-a65f-f0bd6ddabcfe",
   "metadata": {},
   "outputs": [
    {
     "data": {
      "text/plain": [
       "[<matplotlib.lines.Line2D at 0x7ff948d93640>]"
      ]
     },
     "execution_count": 19,
     "metadata": {},
     "output_type": "execute_result"
    },
    {
     "data": {
      "image/png": "[encoded data removed]",
      "text/plain": [
       "<Figure size 720x360 with 1 Axes>"
      ]
     },
     "metadata": {
      "needs_background": "light"
     },
     "output_type": "display_data"
    }
   ],
   "source": [
    "n_estimators = grid.cv_results_[\"param_n_estimators\"].data\n",
    "results = grid.cv_results_[\"mean_test_roc_auc\"]\n",
    "plt.figure(figsize=(10,5))\n",
    "plt.xlabel(\"Cantidad de estimadores\")\n",
    "plt.ylabel(\"ROC AUC\")\n",
    "plt.grid(True)\n",
    "plt.plot(n_estimators, results)"
   ]
  },
  {
   "cell_type": "markdown",
   "id": "408d3faa-d168-466b-8e8c-c8c9df70fdde",
   "metadata": {},
   "source": [
    "Este gráfico es realmente interesante. Por un lado, podemos ver que el score máximo se dio con 3 estimadores (como se observó en la tabla). Pero también vemos un patrón de dientes de sierra en el que, por algún motivo, los modelos con una cantidad par de estimadores da mucho peor que aquellos con una cantidad impar. No fue posible determinar el motivo con exactitud, quizá se deba al algoritmo interno de AdaBoost para asignar los pesos en cada iteración."
   ]
  },
  {
   "cell_type": "markdown",
   "id": "b5216564-0112-42d6-abc9-1d5168cb1539",
   "metadata": {},
   "source": [
    "De los tres modelos entrenados, el que dio mejores resultados fue el que utilizó random forest. No mejoró mucho respecto del estimador individual (un solo random forest), pero fue mejor que utilizar DecisionTreeClassifier y GaussianNB."
   ]
  },
  {
   "cell_type": "markdown",
   "id": "acef5b7f-caba-42d5-85d9-750f4160b1c2",
   "metadata": {},
   "source": [
    "## Predicción de nuevos datos"
   ]
  },
  {
   "cell_type": "code",
   "execution_count": null,
   "id": "faa3eb5a-900c-435f-b5d9-f94f93310bc5",
   "metadata": {},
   "outputs": [],
   "source": [
    "df_extra = pd.read_csv(\"datasets/df_extra.csv\", low_memory = False, index_col = \"id\")\n",
    "\n",
    "common(df_extra)\n",
    "df_extra = barrios_a_comunas(df_extra)\n",
    "viento_trigonometrico(df_extra)\n",
    "\n",
    "model = grid_.best_estimator_\n",
    "\n",
    "pipe_.steps.append((\"ada\", model))\n",
    "\n",
    "df_extra_predict = pd.DataFrame({\"id\": df_extra.index, \"llovieron_hamburguesas_al_dia_siguiente\": pipe_.predict(df_extra)})\n",
    "df_extra_predict.set_index(\"id\", inplace = True)\n",
    "df_extra_predict.replace({\"llovieron_hamburguesas_al_dia_siguiente\": {0.0: \"no\", 1.0: \"si\"}}, inplace = True)\n",
    "df_extra_predict.to_csv(\"predicciones/AdaBoostClassifier.csv\")"
   ]
  },
  {
   "cell_type": "markdown",
   "id": "85fbfac5-1b73-4eab-960e-d6ed2ae9865c",
   "metadata": {},
   "source": [
    "## Predicción en Holdout"
   ]
  },
  {
   "cell_type": "code",
   "execution_count": 24,
   "id": "b9dd751a-aaa4-4c26-b652-6da7a04521d2",
   "metadata": {},
   "outputs": [],
   "source": [
    "df_features_holdout = pd.read_csv(\"datasets/df_features_holdout.csv\", low_memory = False, index_col = \"id\")\n",
    "df_target_holdout = pd.read_csv(\"datasets/df_target_holdout.csv\", low_memory = False, index_col = \"id\")\n",
    "\n",
    "common(df_features_holdout, df_target_holdout)\n",
    "df_features_holdout = barrios_a_comunas(df_features_holdout)\n",
    "viento_trigonometrico(df_features_holdout)"
   ]
  },
  {
   "cell_type": "code",
   "execution_count": 25,
   "id": "e40ca6fa-0682-48da-8944-974871514567",
   "metadata": {},
   "outputs": [
    {
     "data": {
      "text/html": [
       "<div>\n",
       "<style scoped>\n",
       "    .dataframe tbody tr th:only-of-type {\n",
       "        vertical-align: middle;\n",
       "    }\n",
       "\n",
       "    .dataframe tbody tr th {\n",
       "        vertical-align: top;\n",
       "    }\n",
       "\n",
       "    .dataframe thead th {\n",
       "        text-align: right;\n",
       "    }\n",
       "</style>\n",
       "<table border=\"1\" class=\"dataframe\">\n",
       "  <thead>\n",
       "    <tr style=\"text-align: right;\">\n",
       "      <th></th>\n",
       "      <th>AUC-ROC</th>\n",
       "      <th>Accuracy</th>\n",
       "      <th>Precision</th>\n",
       "      <th>Recall</th>\n",
       "      <th>F1 Score</th>\n",
       "    </tr>\n",
       "  </thead>\n",
       "  <tbody>\n",
       "    <tr>\n",
       "      <th>0</th>\n",
       "      <td>0.894319</td>\n",
       "      <td>0.855963</td>\n",
       "      <td>0.79538</td>\n",
       "      <td>0.475345</td>\n",
       "      <td>0.595062</td>\n",
       "    </tr>\n",
       "  </tbody>\n",
       "</table>\n",
       "</div>"
      ],
      "text/plain": [
       "    AUC-ROC  Accuracy  Precision    Recall  F1 Score\n",
       "0  0.894319  0.855963    0.79538  0.475345  0.595062"
      ]
     },
     "execution_count": 25,
     "metadata": {},
     "output_type": "execute_result"
    }
   ],
   "source": [
    "metrics_table(df_target_holdout, pipe_.predict(df_features_holdout), pipe_.predict_proba(df_features_holdout)[:,1])"
   ]
  },
  {
   "cell_type": "code",
   "execution_count": 26,
   "id": "e9296dcd-7347-4177-88de-615f9e15b73f",
   "metadata": {},
   "outputs": [
    {
     "data": {
      "image/png": "[encoded data removed]",
      "text/plain": [
       "<Figure size 1080x360 with 3 Axes>"
      ]
     },
     "metadata": {
      "needs_background": "light"
     },
     "output_type": "display_data"
    }
   ],
   "source": [
    "fig, axs = plt.subplots(1, 2, figsize=(15,5))\n",
    "\n",
    "ConfusionMatrixDisplay.from_predictions(df_target_holdout, pipe_.predict(df_features_holdout), ax=axs[0])\n",
    "RocCurveDisplay.from_predictions(df_target_holdout, pipe_.predict_proba(df_features_holdout)[:,1], ax=axs[1], name=\"AdaBoost\")\n",
    "plt.show()"
   ]
  },
  {
   "cell_type": "markdown",
   "id": "654292ee-3344-4a23-83e3-f01a35cfa973",
   "metadata": {},
   "source": [
    "Tal y como ocurrió con el resto de modelos, las métricas ROC-AUC y Accuracy no difirieron mucho de los resultados en el set de test, mientras que sí lo hicieron el resto de las métricas.\n",
    "\n",
    "En el random forest se había observado un leve incremento en Precision, que no se ve reflejado en este ensamble de random forest. No parece muy relevante, y probablemente se deba a una casualidad al separar los datos en *train* y *test*."
   ]
  }
 ],
 "metadata": {
  "kernelspec": {
   "display_name": "Python 3 (ipykernel)",
   "language": "python",
   "name": "python3"
  },
  "language_info": {
   "codemirror_mode": {
    "name": "ipython",
    "version": 3
   },
   "file_extension": ".py",
   "mimetype": "text/x-python",
   "name": "python",
   "nbconvert_exporter": "python",
   "pygments_lexer": "ipython3",
   "version": "3.8.10"
  }
 },
 "nbformat": 4,
 "nbformat_minor": 5
}
