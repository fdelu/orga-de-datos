{
 "cells": [
  {
   "cell_type": "code",
   "execution_count": 3,
   "id": "e825d200-769f-4ab7-a036-b03c94b8f795",
   "metadata": {},
   "outputs": [
    {
     "name": "stdout",
     "output_type": "stream",
     "text": [
      "The autoreload extension is already loaded. To reload it, use:\n",
      "  %reload_ext autoreload\n"
     ]
    }
   ],
   "source": [
    "%load_ext autoreload\n",
    "%autoreload 2\n",
    "from keras.models import Sequential\n",
    "from keras.layers import Dense, Dropout\n",
    "from scikeras.wrappers import KerasClassifier\n",
    "from tensorflow.keras import regularizers\n",
    "import tensorflow as tf\n",
    "from sklearn.pipeline import FeatureUnion\n",
    "from sklearn.model_selection import GridSearchCV\n",
    "from sklearn.impute import SimpleImputer, MissingIndicator, KNNImputer\n",
    "import numpy as np\n",
    "import pandas as pd\n",
    "from preprocessing import *"
   ]
  },
  {
   "cell_type": "code",
   "execution_count": 7,
   "id": "c73ab9b2-157d-49a3-ba68-7898bce262f3",
   "metadata": {},
   "outputs": [],
   "source": [
    "df_features, df_target = get_datasets()\n",
    "\n",
    "viento_trigonometrico(df_features)\n",
    "df_features.drop(\n",
    "    columns=[\n",
    "        \"dia\",\n",
    "        \"cos_rafaga_viento_max_direccion\",\n",
    "        \"sin_rafaga_viento_max_direccion\",\n",
    "        \"barrio\",\n",
    "        \"velocidad_viento_temprano\",\n",
    "        \"velocidad_viento_tarde\",\n",
    "        \"cos_viento_tarde\"\n",
    "    ],\n",
    "        inplace=True)\n",
    "\n",
    "\n",
    "X_train, X_test, Y_train, Y_test = train_test_split(df_features, df_target, stratify=df_target.values, test_size=0.35, random_state=0)\n",
    "\n",
    "imputer = IterativeImputer(max_iter=10000)\n",
    "imputer.fit(X_train)\n",
    "X_train = imputer.transform(X_train)\n",
    "X_test = imputer.transform(X_test)\n",
    "\n",
    "Y_train = np.ravel(Y_train)\n",
    "Y_test = np.ravel(Y_test)"
   ]
  },
  {
   "cell_type": "code",
   "execution_count": 8,
   "id": "54292611-bf64-4d7d-a327-5090d0db9ff2",
   "metadata": {},
   "outputs": [],
   "source": [
    "scaler = StandardScaler()\n",
    "scaler.fit(X_train)\n",
    "X_train = scaler.transform(X_train)\n",
    "X_test = scaler.transform(X_test)"
   ]
  },
  {
   "cell_type": "code",
   "execution_count": 9,
   "id": "c98838bb-a89d-4f0c-a000-d48f56b43afe",
   "metadata": {},
   "outputs": [],
   "source": [
    "model = Sequential()\n",
    "model.add(Dense(24, input_dim=X_train.shape[1], activation='sigmoid'))\n",
    "model.add(Dropout(0.2))\n",
    "model.add(Dense(8, activation=\"relu\"))\n",
    "model.add(Dropout(0.1))\n",
    "model.add(Dense(4, activation=\"tanh\"))\n",
    "model.add(Dense(1, activation='sigmoid'))"
   ]
  },
  {
   "cell_type": "code",
   "execution_count": 23,
   "id": "c828e7a3-cc8e-4355-a76b-bd812c703aa8",
   "metadata": {},
   "outputs": [],
   "source": [
    "opt = tf.keras.optimizers.Adam(learning_rate=0.001)\n",
    "model.compile(loss='binary_crossentropy', optimizer=opt, metrics=[\"accuracy\", tf.keras.metrics.AUC()])"
   ]
  },
  {
   "cell_type": "code",
   "execution_count": 27,
   "id": "d6cc35c9-b786-4ebc-943b-7db40ae6ce18",
   "metadata": {},
   "outputs": [],
   "source": [
    "parameters = {\"epochs\": np.arange(100, 500, 100), \"batch_size\": np.arange(500,5000,100)}\n",
    "grid = GridSearchCV(KerasClassifier(model), param_grid=parameters, scoring=\"roc_auc\")"
   ]
  },
  {
   "cell_type": "code",
   "execution_count": null,
   "id": "08c33736-e08a-447e-9ed6-d818ba46fa22",
   "metadata": {},
   "outputs": [],
   "source": [
    "grid.fit(X_train, Y_train)"
   ]
  },
  {
   "cell_type": "code",
   "execution_count": null,
   "id": "49c8cd4b-0ffd-417f-b1e9-feaf45d2d5dc",
   "metadata": {},
   "outputs": [],
   "source": [
    "history = model.fit(X_train, Y_train, epochs=25, batch_size=50, verbose=1)"
   ]
  },
  {
   "cell_type": "code",
   "execution_count": 17,
   "id": "d6a6b887-2f07-45a3-bd45-15595629002e",
   "metadata": {},
   "outputs": [
    {
     "name": "stdout",
     "output_type": "stream",
     "text": [
      "1120/1120 [==============================] - 1s 581us/step - loss: 0.3398 - accuracy: 0.8530 - auc_3: 0.8805\n"
     ]
    },
    {
     "data": {
      "text/plain": [
       "[0.33982914686203003, 0.8530389070510864, 0.8804783821105957]"
      ]
     },
     "execution_count": 17,
     "metadata": {},
     "output_type": "execute_result"
    }
   ],
   "source": [
    "model.evaluate(X_test, Y_test)"
   ]
  }
 ],
 "metadata": {
  "kernelspec": {
   "display_name": "Python 3 (ipykernel)",
   "language": "python",
   "name": "python3"
  },
  "language_info": {
   "codemirror_mode": {
    "name": "ipython",
    "version": 3
   },
   "file_extension": ".py",
   "mimetype": "text/x-python",
   "name": "python",
   "nbconvert_exporter": "python",
   "pygments_lexer": "ipython3",
   "version": "3.8.10"
  }
 },
 "nbformat": 4,
 "nbformat_minor": 5
}
