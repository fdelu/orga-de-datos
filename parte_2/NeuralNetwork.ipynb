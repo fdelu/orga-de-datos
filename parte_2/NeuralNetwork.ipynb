{
 "cells": [
  {
   "cell_type": "code",
   "execution_count": 135,
   "id": "e825d200-769f-4ab7-a036-b03c94b8f795",
   "metadata": {},
   "outputs": [
    {
     "name": "stdout",
     "output_type": "stream",
     "text": [
      "The autoreload extension is already loaded. To reload it, use:\n",
      "  %reload_ext autoreload\n"
     ]
    }
   ],
   "source": [
    "%load_ext autoreload\n",
    "%autoreload 2\n",
    "\n",
    "import tensorflow as tf\n",
    "from keras.models import Sequential\n",
    "from keras.layers import Dense, Dropout, Input\n",
    "from keras.callbacks import EarlyStopping, ModelCheckpoint\n",
    "from tensorflow.keras.optimizers import Adam, SGD, Adadelta\n",
    "from keras.regularizers import l2\n",
    "\n",
    "\n",
    "from sklearn.pipeline import FeatureUnion\n",
    "from sklearn.model_selection import GridSearchCV\n",
    "from sklearn.impute import SimpleImputer, MissingIndicator, KNNImputer\n",
    "from scikeras.wrappers import KerasClassifier\n",
    "from sklearn import metrics\n",
    "\n",
    "import numpy as np\n",
    "import pandas as pd\n",
    "from preprocessing import *\n",
    "from matplotlib import pyplot as plt"
   ]
  },
  {
   "cell_type": "code",
   "execution_count": 2,
   "id": "48a123f4-6d27-479f-b350-5eed0ca7329b",
   "metadata": {},
   "outputs": [],
   "source": [
    "np.random.seed(123)\n",
    "tf.random.set_seed(123)"
   ]
  },
  {
   "cell_type": "code",
   "execution_count": 21,
   "id": "ddda20b6-0638-4134-ab32-30849acf1791",
   "metadata": {},
   "outputs": [],
   "source": [
    "SCORINGS = [\"roc_auc\", \"accuracy\", \"precision\", \"recall\", \"f1\"]\n",
    "METRIC = \"roc_auc\"\n",
    "\n",
    "def metrics_table(model, X, Y):\n",
    "    predicted = model.predict(X)\n",
    "    probabilities = model.predict_proba(X)[:,1]\n",
    "    \n",
    "    roc_auc = metrics.roc_auc_score(Y, probabilities)\n",
    "    f1 = metrics.f1_score(Y, predicted)\n",
    "    acc = metrics.accuracy_score(Y, predicted)\n",
    "    rec = metrics.recall_score(Y, predicted)\n",
    "    prec = metrics.precision_score(Y, predicted)\n",
    "    return pd.DataFrame.from_dict({\n",
    "        \"AUC-ROC\": [roc_auc], \"Accuracy\": [acc], \"Precision\": [prec], \"Recall\": [rec], \"F1 Score\": [f1]\n",
    "    })\n",
    "\n",
    "def plot_rmse(history):\n",
    "    loss = np.sqrt(history[\"loss\"])\n",
    "    val_loss = np.sqrt(history[\"val_loss\"])\n",
    "    fig = plt.figure(figsize=(12, 6), dpi=80)\n",
    "    plt.plot(loss, label=\"Training\")\n",
    "    plt.plot(val_loss, label=\"Validation\")\n",
    "    plt.legend()\n",
    "    plt.ylabel(\"RMSE\")\n",
    "    plt.xlabel(\"Epoch\")"
   ]
  },
  {
   "cell_type": "markdown",
   "id": "40b07a5e-5ae2-40ce-9237-1cbf40ce5a51",
   "metadata": {},
   "source": [
    "# Modelo inicial (Adam)"
   ]
  },
  {
   "cell_type": "code",
   "execution_count": 4,
   "id": "c73ab9b2-157d-49a3-ba68-7898bce262f3",
   "metadata": {},
   "outputs": [
    {
     "data": {
      "text/plain": [
       "47"
      ]
     },
     "execution_count": 4,
     "metadata": {},
     "output_type": "execute_result"
    }
   ],
   "source": [
    "df_features, df_target = get_datasets()\n",
    "\n",
    "viento_trigonometrico(df_features)\n",
    "df_features = hashing_trick(df_features, 24, \"barrio\")\n",
    "\n",
    "X_train, X_test, Y_train, Y_test = train_test_split(df_features, df_target, stratify=df_target.values, test_size=0.35, random_state=123)\n",
    "\n",
    "pipe = iterative_imputer()\n",
    "pipe = standarizer(pipe)\n",
    "len(X_train.columns)"
   ]
  },
  {
   "cell_type": "code",
   "execution_count": 5,
   "id": "eef6110e-34f5-4c1f-b798-a1852850a79e",
   "metadata": {},
   "outputs": [],
   "source": [
    "pipe.fit(X_train)\n",
    "X_test_mod = pipe.transform(X_test)"
   ]
  },
  {
   "cell_type": "code",
   "execution_count": 46,
   "id": "c98838bb-a89d-4f0c-a000-d48f56b43afe",
   "metadata": {},
   "outputs": [
    {
     "ename": "NameError",
     "evalue": "name 'Adam' is not defined",
     "output_type": "error",
     "traceback": [
      "\u001b[0;31m---------------------------------------------------------------------------\u001b[0m",
      "\u001b[0;31mNameError\u001b[0m                                 Traceback (most recent call last)",
      "\u001b[0;32m/tmp/ipykernel_130504/3793327762.py\u001b[0m in \u001b[0;36m<module>\u001b[0;34m\u001b[0m\n\u001b[1;32m      5\u001b[0m \u001b[0mmodel\u001b[0m\u001b[0;34m.\u001b[0m\u001b[0madd\u001b[0m\u001b[0;34m(\u001b[0m\u001b[0mDropout\u001b[0m\u001b[0;34m(\u001b[0m\u001b[0;36m0.2\u001b[0m\u001b[0;34m)\u001b[0m\u001b[0;34m)\u001b[0m\u001b[0;34m\u001b[0m\u001b[0;34m\u001b[0m\u001b[0m\n\u001b[1;32m      6\u001b[0m \u001b[0mmodel\u001b[0m\u001b[0;34m.\u001b[0m\u001b[0madd\u001b[0m\u001b[0;34m(\u001b[0m\u001b[0mDense\u001b[0m\u001b[0;34m(\u001b[0m\u001b[0;36m1\u001b[0m\u001b[0;34m,\u001b[0m \u001b[0mactivation\u001b[0m\u001b[0;34m=\u001b[0m\u001b[0;34m'sigmoid'\u001b[0m\u001b[0;34m)\u001b[0m\u001b[0;34m)\u001b[0m\u001b[0;34m\u001b[0m\u001b[0;34m\u001b[0m\u001b[0m\n\u001b[0;32m----> 7\u001b[0;31m \u001b[0mopt\u001b[0m \u001b[0;34m=\u001b[0m \u001b[0mAdam\u001b[0m\u001b[0;34m(\u001b[0m\u001b[0mlearning_rate\u001b[0m\u001b[0;34m=\u001b[0m\u001b[0;36m0.001\u001b[0m\u001b[0;34m)\u001b[0m\u001b[0;34m\u001b[0m\u001b[0;34m\u001b[0m\u001b[0m\n\u001b[0m\u001b[1;32m      8\u001b[0m \u001b[0mmodel\u001b[0m\u001b[0;34m.\u001b[0m\u001b[0mcompile\u001b[0m\u001b[0;34m(\u001b[0m\u001b[0mloss\u001b[0m\u001b[0;34m=\u001b[0m\u001b[0;34m'binary_crossentropy'\u001b[0m\u001b[0;34m,\u001b[0m \u001b[0moptimizer\u001b[0m\u001b[0;34m=\u001b[0m\u001b[0mopt\u001b[0m\u001b[0;34m,\u001b[0m \u001b[0mmetrics\u001b[0m\u001b[0;34m=\u001b[0m\u001b[0;34m[\u001b[0m\u001b[0;34m\"accuracy\"\u001b[0m\u001b[0;34m,\u001b[0m \u001b[0mtf\u001b[0m\u001b[0;34m.\u001b[0m\u001b[0mkeras\u001b[0m\u001b[0;34m.\u001b[0m\u001b[0mmetrics\u001b[0m\u001b[0;34m.\u001b[0m\u001b[0mAUC\u001b[0m\u001b[0;34m(\u001b[0m\u001b[0mname\u001b[0m \u001b[0;34m=\u001b[0m \u001b[0;34m\"auc\"\u001b[0m\u001b[0;34m)\u001b[0m\u001b[0;34m]\u001b[0m\u001b[0;34m)\u001b[0m\u001b[0;34m\u001b[0m\u001b[0;34m\u001b[0m\u001b[0m\n\u001b[1;32m      9\u001b[0m \u001b[0mmodel\u001b[0m\u001b[0;34m.\u001b[0m\u001b[0msummary\u001b[0m\u001b[0;34m(\u001b[0m\u001b[0;34m)\u001b[0m\u001b[0;34m\u001b[0m\u001b[0;34m\u001b[0m\u001b[0m\n",
      "\u001b[0;31mNameError\u001b[0m: name 'Adam' is not defined"
     ]
    }
   ],
   "source": [
    "model = Sequential()\n",
    "model.add(Dense(100, input_shape = (len(X_train.columns),), activation='relu'))\n",
    "model.add(Dropout(0.2))\n",
    "model.add(Dense(100, activation=\"relu\"))\n",
    "model.add(Dropout(0.2))\n",
    "model.add(Dense(1, activation='sigmoid'))\n",
    "opt = Adam(learning_rate=0.001)\n",
    "model.compile(loss='binary_crossentropy', optimizer=opt, metrics=[\"accuracy\", tf.keras.metrics.AUC(name = \"auc\")])\n",
    "model.summary()"
   ]
  },
  {
   "cell_type": "code",
   "execution_count": 7,
   "id": "c828e7a3-cc8e-4355-a76b-bd812c703aa8",
   "metadata": {},
   "outputs": [],
   "source": [
    "early_stop = EarlyStopping(monitor = \"val_auc\", mode = \"max\", patience = 200, restore_best_weights = True)\n",
    "\n",
    "pipe.steps.append(['keras', KerasClassifier(model, batch_size = 1000, epochs = 3000, callbacks = [early_stop],\n",
    "                                           verbose = 0)])"
   ]
  },
  {
   "cell_type": "code",
   "execution_count": 8,
   "id": "8db9473b-a41f-43e3-a2ec-169740d59772",
   "metadata": {},
   "outputs": [
    {
     "data": {
      "text/plain": [
       "Pipeline(steps=[('imputer', IterativeImputer(random_state=123)),\n",
       "                ('scaler', StandardScaler()),\n",
       "                ['keras',\n",
       "                 KerasClassifier(batch_size=1000, callbacks=[<keras.callbacks.EarlyStopping object at 0x7fd9ca878070>], epochs=3000, model=<keras.engine.sequential.Sequential object at 0x7fd9ca878a30>, verbose=0)]])"
      ]
     },
     "execution_count": 8,
     "metadata": {},
     "output_type": "execute_result"
    }
   ],
   "source": [
    "pipe.fit(X_train, Y_train, keras__validation_data=(X_test_mod, Y_test))"
   ]
  },
  {
   "cell_type": "code",
   "execution_count": 9,
   "id": "8220af6d-cb32-4275-ab36-1fe074ef6231",
   "metadata": {},
   "outputs": [
    {
     "name": "stdout",
     "output_type": "stream",
     "text": [
      "Cantidad de epochs procesadas: 261\n"
     ]
    }
   ],
   "source": [
    "history = pipe.named_steps['keras'].history_\n",
    "print(f\"Cantidad de epochs procesadas: {len(history['loss'])}\")"
   ]
  },
  {
   "cell_type": "code",
   "execution_count": 10,
   "id": "decf667c-bc0c-4167-b6f9-0e3a26f5835e",
   "metadata": {},
   "outputs": [
    {
     "data": {
      "text/plain": [
       "Text(0.5, 0, 'Época')"
      ]
     },
     "execution_count": 10,
     "metadata": {},
     "output_type": "execute_result"
    },
    {
     "data": {
      "image/png": "[encoded data removed]",
      "text/plain": [
       "<Figure size 1200x600 with 1 Axes>"
      ]
     },
     "metadata": {
      "needs_background": "light"
     },
     "output_type": "display_data"
    }
   ],
   "source": [
    "plot_rmse(history)"
   ]
  },
  {
   "cell_type": "code",
   "execution_count": 11,
   "id": "d44ce9c9-ea92-4afe-aac1-95db5fc59af8",
   "metadata": {},
   "outputs": [
    {
     "data": {
      "text/html": [
       "<div>\n",
       "<style scoped>\n",
       "    .dataframe tbody tr th:only-of-type {\n",
       "        vertical-align: middle;\n",
       "    }\n",
       "\n",
       "    .dataframe tbody tr th {\n",
       "        vertical-align: top;\n",
       "    }\n",
       "\n",
       "    .dataframe thead th {\n",
       "        text-align: right;\n",
       "    }\n",
       "</style>\n",
       "<table border=\"1\" class=\"dataframe\">\n",
       "  <thead>\n",
       "    <tr style=\"text-align: right;\">\n",
       "      <th></th>\n",
       "      <th>AUC-ROC</th>\n",
       "      <th>Accuracy</th>\n",
       "      <th>Precision</th>\n",
       "      <th>Recall</th>\n",
       "      <th>F1 Score</th>\n",
       "    </tr>\n",
       "  </thead>\n",
       "  <tbody>\n",
       "    <tr>\n",
       "      <th>0</th>\n",
       "      <td>0.896892</td>\n",
       "      <td>0.864094</td>\n",
       "      <td>0.761754</td>\n",
       "      <td>0.571767</td>\n",
       "      <td>0.653227</td>\n",
       "    </tr>\n",
       "  </tbody>\n",
       "</table>\n",
       "</div>"
      ],
      "text/plain": [
       "    AUC-ROC  Accuracy  Precision    Recall  F1 Score\n",
       "0  0.896892  0.864094   0.761754  0.571767  0.653227"
      ]
     },
     "execution_count": 11,
     "metadata": {},
     "output_type": "execute_result"
    }
   ],
   "source": [
    "metrics_table(pipe, X_test, Y_test)"
   ]
  },
  {
   "cell_type": "markdown",
   "id": "6a762a88-c5c3-43ff-9faf-26cc4c1d0f22",
   "metadata": {},
   "source": [
    "En el gráfico se puede ver que claramente overfitteo, pero aún así dio valores de AUC-ROC aceptables (0.897). Podemos intentar aplicar una regularización, y achicar un poco la arquitectura. El learning rate parece tener un valor correcto."
   ]
  },
  {
   "cell_type": "markdown",
   "id": "b00726d9-d620-4132-a372-04f93e58a56f",
   "metadata": {},
   "source": [
    "# Regularización y Adam"
   ]
  },
  {
   "cell_type": "code",
   "execution_count": 94,
   "id": "6567a11f-67d4-4688-a0b4-6668947ab70e",
   "metadata": {},
   "outputs": [
    {
     "data": {
      "text/plain": [
       "47"
      ]
     },
     "execution_count": 94,
     "metadata": {},
     "output_type": "execute_result"
    }
   ],
   "source": [
    "df_features, df_target = get_datasets()\n",
    "\n",
    "viento_trigonometrico(df_features)\n",
    "df_features = hashing_trick(df_features, 24, \"barrio\")\n",
    "\n",
    "X_train, X_test, Y_train, Y_test = train_test_split(df_features, df_target, stratify=df_target.values, test_size=0.35, random_state=123)\n",
    "\n",
    "pipe = iterative_imputer()\n",
    "pipe = standarizer(pipe)\n",
    "len(X_train.columns)"
   ]
  },
  {
   "cell_type": "code",
   "execution_count": 95,
   "id": "77dbe431-5eeb-4091-949c-5afdcca0cf69",
   "metadata": {},
   "outputs": [],
   "source": [
    "pipe.fit(X_train)\n",
    "X_test_mod = pipe.transform(X_test)"
   ]
  },
  {
   "cell_type": "code",
   "execution_count": 96,
   "id": "d7a16aeb-e23d-4164-8f0f-ab740563bb1e",
   "metadata": {},
   "outputs": [
    {
     "name": "stdout",
     "output_type": "stream",
     "text": [
      "Model: \"sequential_12\"\n",
      "_________________________________________________________________\n",
      " Layer (type)                Output Shape              Param #   \n",
      "=================================================================\n",
      " dense_36 (Dense)            (None, 20)                960       \n",
      "                                                                 \n",
      " dropout_24 (Dropout)        (None, 20)                0         \n",
      "                                                                 \n",
      " dense_37 (Dense)            (None, 10)                210       \n",
      "                                                                 \n",
      " dropout_25 (Dropout)        (None, 10)                0         \n",
      "                                                                 \n",
      " dense_38 (Dense)            (None, 1)                 11        \n",
      "                                                                 \n",
      "=================================================================\n",
      "Total params: 1,181\n",
      "Trainable params: 1,181\n",
      "Non-trainable params: 0\n",
      "_________________________________________________________________\n"
     ]
    }
   ],
   "source": [
    "model = Sequential()\n",
    "model.add(Dense(20, input_shape = (len(X_train.columns),), activation='relu', kernel_regularizer=l2(0.00005)))\n",
    "model.add(Dropout(0.2))\n",
    "model.add(Dense(10, activation=\"sigmoid\", kernel_regularizer=l2(0.00005)))\n",
    "model.add(Dropout(0.2))\n",
    "model.add(Dense(1, activation='sigmoid'))\n",
    "opt = Adam(learning_rate=0.001)\n",
    "model.compile(loss='binary_crossentropy', optimizer=opt, metrics=[\"accuracy\", tf.keras.metrics.AUC(name = \"auc\")])\n",
    "model.summary()"
   ]
  },
  {
   "cell_type": "code",
   "execution_count": 97,
   "id": "2796cd95-9cbd-4963-bbed-45a1f41e0f7b",
   "metadata": {},
   "outputs": [],
   "source": [
    "early_stop = EarlyStopping(monitor = \"val_auc\", mode = \"max\", patience = 200, restore_best_weights = True)\n",
    "\n",
    "pipe.steps.append(['keras', KerasClassifier(model, batch_size = 1000, epochs = 3000, callbacks = [early_stop],\n",
    "                                           verbose = 0)])"
   ]
  },
  {
   "cell_type": "code",
   "execution_count": 98,
   "id": "c2bc1dff-0fa7-4ecd-bbb5-6e54a3b7b4c9",
   "metadata": {},
   "outputs": [
    {
     "data": {
      "text/plain": [
       "Pipeline(steps=[('imputer', IterativeImputer(random_state=123)),\n",
       "                ('scaler', StandardScaler()),\n",
       "                ['keras',\n",
       "                 KerasClassifier(batch_size=1000, callbacks=[<keras.callbacks.EarlyStopping object at 0x7fd9c8a92340>], epochs=3000, model=<keras.engine.sequential.Sequential object at 0x7fd9c8a79250>, verbose=0)]])"
      ]
     },
     "execution_count": 98,
     "metadata": {},
     "output_type": "execute_result"
    }
   ],
   "source": [
    "pipe.fit(X_train, Y_train, keras__validation_data=(X_test_mod, Y_test))"
   ]
  },
  {
   "cell_type": "code",
   "execution_count": 99,
   "id": "920d8201-b98c-4353-b931-3ef6c985a40b",
   "metadata": {},
   "outputs": [
    {
     "name": "stdout",
     "output_type": "stream",
     "text": [
      "Cantidad de epochs procesadas: 744\n"
     ]
    }
   ],
   "source": [
    "history = pipe.named_steps['keras'].history_\n",
    "print(f\"Cantidad de epochs procesadas: {len(history['loss'])}\")"
   ]
  },
  {
   "cell_type": "code",
   "execution_count": 100,
   "id": "2cdafd3c-092d-4045-8fc6-2c8186e9f8bc",
   "metadata": {},
   "outputs": [
    {
     "data": {
      "image/png": "[encoded data removed]",
      "text/plain": [
       "<Figure size 960x480 with 1 Axes>"
      ]
     },
     "metadata": {
      "needs_background": "light"
     },
     "output_type": "display_data"
    }
   ],
   "source": [
    "plot_rmse(history)"
   ]
  },
  {
   "cell_type": "code",
   "execution_count": 101,
   "id": "bbc5794c-5b27-47be-846b-ff4ebd5b72b0",
   "metadata": {},
   "outputs": [
    {
     "data": {
      "text/html": [
       "<div>\n",
       "<style scoped>\n",
       "    .dataframe tbody tr th:only-of-type {\n",
       "        vertical-align: middle;\n",
       "    }\n",
       "\n",
       "    .dataframe tbody tr th {\n",
       "        vertical-align: top;\n",
       "    }\n",
       "\n",
       "    .dataframe thead th {\n",
       "        text-align: right;\n",
       "    }\n",
       "</style>\n",
       "<table border=\"1\" class=\"dataframe\">\n",
       "  <thead>\n",
       "    <tr style=\"text-align: right;\">\n",
       "      <th></th>\n",
       "      <th>AUC-ROC</th>\n",
       "      <th>Accuracy</th>\n",
       "      <th>Precision</th>\n",
       "      <th>Recall</th>\n",
       "      <th>F1 Score</th>\n",
       "    </tr>\n",
       "  </thead>\n",
       "  <tbody>\n",
       "    <tr>\n",
       "      <th>0</th>\n",
       "      <td>0.892427</td>\n",
       "      <td>0.859683</td>\n",
       "      <td>0.775142</td>\n",
       "      <td>0.525751</td>\n",
       "      <td>0.626542</td>\n",
       "    </tr>\n",
       "  </tbody>\n",
       "</table>\n",
       "</div>"
      ],
      "text/plain": [
       "    AUC-ROC  Accuracy  Precision    Recall  F1 Score\n",
       "0  0.892427  0.859683   0.775142  0.525751  0.626542"
      ]
     },
     "execution_count": 101,
     "metadata": {},
     "output_type": "execute_result"
    }
   ],
   "source": [
    "metrics_table(pipe, X_test, Y_test)"
   ]
  },
  {
   "cell_type": "markdown",
   "id": "16aba315-6cc7-47dc-8e0f-9d95d402fcb4",
   "metadata": {},
   "source": [
    "Overfitteo bastante menos, pero el AUC-ROC empeoró. Vamos a probar con otro optimizador"
   ]
  },
  {
   "cell_type": "markdown",
   "id": "8ed54e5b-7af9-4a9f-9649-359842dfb829",
   "metadata": {},
   "source": [
    "# Regularización y SGD"
   ]
  },
  {
   "cell_type": "code",
   "execution_count": 110,
   "id": "422c3195-11b2-4254-b60a-c2244f35fc24",
   "metadata": {},
   "outputs": [
    {
     "data": {
      "text/plain": [
       "47"
      ]
     },
     "execution_count": 110,
     "metadata": {},
     "output_type": "execute_result"
    }
   ],
   "source": [
    "df_features, df_target = get_datasets()\n",
    "\n",
    "viento_trigonometrico(df_features)\n",
    "df_features = hashing_trick(df_features, 24, \"barrio\")\n",
    "\n",
    "X_train, X_test, Y_train, Y_test = train_test_split(df_features, df_target, stratify=df_target.values, test_size=0.35, random_state=123)\n",
    "\n",
    "pipe = iterative_imputer()\n",
    "pipe = standarizer(pipe)\n",
    "len(X_train.columns)"
   ]
  },
  {
   "cell_type": "code",
   "execution_count": 111,
   "id": "5f28cc0f-5e4a-469f-933b-8e983bc2e2be",
   "metadata": {},
   "outputs": [],
   "source": [
    "pipe.fit(X_train)\n",
    "X_test_mod = pipe.transform(X_test)"
   ]
  },
  {
   "cell_type": "code",
   "execution_count": 112,
   "id": "fd754327-bf2b-4145-824a-a28dd53abc4e",
   "metadata": {},
   "outputs": [
    {
     "name": "stdout",
     "output_type": "stream",
     "text": [
      "Model: \"sequential_14\"\n",
      "_________________________________________________________________\n",
      " Layer (type)                Output Shape              Param #   \n",
      "=================================================================\n",
      " dense_42 (Dense)            (None, 20)                960       \n",
      "                                                                 \n",
      " dropout_28 (Dropout)        (None, 20)                0         \n",
      "                                                                 \n",
      " dense_43 (Dense)            (None, 10)                210       \n",
      "                                                                 \n",
      " dropout_29 (Dropout)        (None, 10)                0         \n",
      "                                                                 \n",
      " dense_44 (Dense)            (None, 1)                 11        \n",
      "                                                                 \n",
      "=================================================================\n",
      "Total params: 1,181\n",
      "Trainable params: 1,181\n",
      "Non-trainable params: 0\n",
      "_________________________________________________________________\n"
     ]
    }
   ],
   "source": [
    "model = Sequential()\n",
    "model.add(Dense(20, input_shape = (len(X_train.columns),), activation='relu', kernel_regularizer=l2(0.00005)))\n",
    "model.add(Dropout(0.2))\n",
    "model.add(Dense(10, activation=\"sigmoid\", kernel_regularizer=l2(0.00005)))\n",
    "model.add(Dropout(0.2))\n",
    "model.add(Dense(1, activation='sigmoid'))\n",
    "opt = SGD(learning_rate=0.001, momentum = 0.9)\n",
    "model.compile(loss='binary_crossentropy', optimizer=opt, metrics=[\"accuracy\", tf.keras.metrics.AUC(name = \"auc\")])\n",
    "model.summary()"
   ]
  },
  {
   "cell_type": "code",
   "execution_count": 113,
   "id": "6aa6015e-d373-4f4c-a67c-884ca0bb885b",
   "metadata": {},
   "outputs": [],
   "source": [
    "early_stop = EarlyStopping(monitor = \"val_auc\", mode = \"max\", patience = 200, restore_best_weights = True)\n",
    "\n",
    "pipe.steps.append(['keras', KerasClassifier(model, batch_size = 1000, epochs = 3000, callbacks = [early_stop],\n",
    "                                           verbose = 0)])"
   ]
  },
  {
   "cell_type": "code",
   "execution_count": 114,
   "id": "2bbd9733-7ea4-4c4f-a41d-af491d318d26",
   "metadata": {},
   "outputs": [
    {
     "data": {
      "text/plain": [
       "Pipeline(steps=[('imputer', IterativeImputer(random_state=123)),\n",
       "                ('scaler', StandardScaler()),\n",
       "                ['keras',\n",
       "                 KerasClassifier(batch_size=1000, callbacks=[<keras.callbacks.EarlyStopping object at 0x7fd9c81c1d30>], epochs=3000, model=<keras.engine.sequential.Sequential object at 0x7fd9c81beb80>, verbose=0)]])"
      ]
     },
     "execution_count": 114,
     "metadata": {},
     "output_type": "execute_result"
    }
   ],
   "source": [
    "pipe.fit(X_train, Y_train, keras__validation_data=(X_test_mod, Y_test))"
   ]
  },
  {
   "cell_type": "code",
   "execution_count": 115,
   "id": "1b2cad57-0f7c-4cd2-9827-e87be4809014",
   "metadata": {},
   "outputs": [
    {
     "name": "stdout",
     "output_type": "stream",
     "text": [
      "Cantidad de epochs procesadas: 3000\n"
     ]
    }
   ],
   "source": [
    "history = pipe.named_steps['keras'].history_\n",
    "print(f\"Cantidad de epochs procesadas: {len(history['loss'])}\")"
   ]
  },
  {
   "cell_type": "code",
   "execution_count": 116,
   "id": "9093d471-f577-4bb2-8191-7ae4193fa6f0",
   "metadata": {},
   "outputs": [
    {
     "data": {
      "image/png": "[encoded data removed]",
      "text/plain": [
       "<Figure size 960x480 with 1 Axes>"
      ]
     },
     "metadata": {
      "needs_background": "light"
     },
     "output_type": "display_data"
    }
   ],
   "source": [
    "plot_rmse(history)"
   ]
  },
  {
   "cell_type": "code",
   "execution_count": 117,
   "id": "1abb992a-5ec6-4346-b5b5-410e741b2d0c",
   "metadata": {},
   "outputs": [
    {
     "data": {
      "text/html": [
       "<div>\n",
       "<style scoped>\n",
       "    .dataframe tbody tr th:only-of-type {\n",
       "        vertical-align: middle;\n",
       "    }\n",
       "\n",
       "    .dataframe tbody tr th {\n",
       "        vertical-align: top;\n",
       "    }\n",
       "\n",
       "    .dataframe thead th {\n",
       "        text-align: right;\n",
       "    }\n",
       "</style>\n",
       "<table border=\"1\" class=\"dataframe\">\n",
       "  <thead>\n",
       "    <tr style=\"text-align: right;\">\n",
       "      <th></th>\n",
       "      <th>AUC-ROC</th>\n",
       "      <th>Accuracy</th>\n",
       "      <th>Precision</th>\n",
       "      <th>Recall</th>\n",
       "      <th>F1 Score</th>\n",
       "    </tr>\n",
       "  </thead>\n",
       "  <tbody>\n",
       "    <tr>\n",
       "      <th>0</th>\n",
       "      <td>0.887477</td>\n",
       "      <td>0.857059</td>\n",
       "      <td>0.743246</td>\n",
       "      <td>0.552313</td>\n",
       "      <td>0.63371</td>\n",
       "    </tr>\n",
       "  </tbody>\n",
       "</table>\n",
       "</div>"
      ],
      "text/plain": [
       "    AUC-ROC  Accuracy  Precision    Recall  F1 Score\n",
       "0  0.887477  0.857059   0.743246  0.552313   0.63371"
      ]
     },
     "execution_count": 117,
     "metadata": {},
     "output_type": "execute_result"
    }
   ],
   "source": [
    "metrics_table(pipe, X_test, Y_test)"
   ]
  },
  {
   "cell_type": "markdown",
   "id": "aac8c0a9-8af9-449b-9268-b4e54307029f",
   "metadata": {},
   "source": [
    "Dio un poco peor, vamos a probar con otro distinto."
   ]
  },
  {
   "cell_type": "markdown",
   "id": "0904ea57-34d7-4c0c-9dfb-c4e8af9ed7f3",
   "metadata": {},
   "source": [
    "# Regularización y Adadelta"
   ]
  },
  {
   "cell_type": "code",
   "execution_count": 136,
   "id": "2df8fdc6-a7bf-4146-b756-f48fc089be1e",
   "metadata": {},
   "outputs": [
    {
     "data": {
      "text/plain": [
       "47"
      ]
     },
     "execution_count": 136,
     "metadata": {},
     "output_type": "execute_result"
    }
   ],
   "source": [
    "df_features, df_target = get_datasets()\n",
    "\n",
    "viento_trigonometrico(df_features)\n",
    "df_features = hashing_trick(df_features, 24, \"barrio\")\n",
    "\n",
    "X_train, X_test, Y_train, Y_test = train_test_split(df_features, df_target, stratify=df_target.values, test_size=0.35, random_state=123)\n",
    "\n",
    "pipe = iterative_imputer()\n",
    "pipe = standarizer(pipe)\n",
    "len(X_train.columns)"
   ]
  },
  {
   "cell_type": "code",
   "execution_count": 137,
   "id": "81b938a5-6c43-4fdd-844c-27d04fcb2de5",
   "metadata": {},
   "outputs": [],
   "source": [
    "pipe.fit(X_train)\n",
    "X_test_mod = pipe.transform(X_test)"
   ]
  },
  {
   "cell_type": "code",
   "execution_count": 138,
   "id": "a02a96bc-7db3-4dfd-aa59-d46c35cf6ba7",
   "metadata": {},
   "outputs": [
    {
     "name": "stdout",
     "output_type": "stream",
     "text": [
      "Model: \"sequential_17\"\n",
      "_________________________________________________________________\n",
      " Layer (type)                Output Shape              Param #   \n",
      "=================================================================\n",
      " dense_51 (Dense)            (None, 20)                960       \n",
      "                                                                 \n",
      " dropout_34 (Dropout)        (None, 20)                0         \n",
      "                                                                 \n",
      " dense_52 (Dense)            (None, 10)                210       \n",
      "                                                                 \n",
      " dropout_35 (Dropout)        (None, 10)                0         \n",
      "                                                                 \n",
      " dense_53 (Dense)            (None, 1)                 11        \n",
      "                                                                 \n",
      "=================================================================\n",
      "Total params: 1,181\n",
      "Trainable params: 1,181\n",
      "Non-trainable params: 0\n",
      "_________________________________________________________________\n"
     ]
    }
   ],
   "source": [
    "model = Sequential()\n",
    "model.add(Dense(20, input_shape = (len(X_train.columns),), activation='relu', kernel_regularizer=l2(0.00005)))\n",
    "model.add(Dropout(0.2))\n",
    "model.add(Dense(10, activation=\"sigmoid\", kernel_regularizer=l2(0.00005)))\n",
    "model.add(Dropout(0.2))\n",
    "model.add(Dense(1, activation='sigmoid'))\n",
    "opt = Adadelta(learning_rate = 1.0) # Es el inicial, luego se ajusta solo\n",
    "model.compile(loss='binary_crossentropy', optimizer=opt, metrics=[\"accuracy\", tf.keras.metrics.AUC(name = \"auc\")])\n",
    "model.summary()"
   ]
  },
  {
   "cell_type": "code",
   "execution_count": 139,
   "id": "db514f1c-8c1c-47ef-98b9-01c44dab6118",
   "metadata": {},
   "outputs": [],
   "source": [
    "early_stop = EarlyStopping(monitor = \"val_auc\", mode = \"max\", patience = 200, restore_best_weights = True)\n",
    "\n",
    "pipe.steps.append(['keras', KerasClassifier(model, batch_size = 1000, epochs = 3000, callbacks = [early_stop],\n",
    "                                           verbose = 0)])"
   ]
  },
  {
   "cell_type": "code",
   "execution_count": 140,
   "id": "8406c6b5-d156-4d5c-9af6-922253962064",
   "metadata": {},
   "outputs": [
    {
     "data": {
      "text/plain": [
       "Pipeline(steps=[('imputer', IterativeImputer(random_state=123)),\n",
       "                ('scaler', StandardScaler()),\n",
       "                ['keras',\n",
       "                 KerasClassifier(batch_size=1000, callbacks=[<keras.callbacks.EarlyStopping object at 0x7fd9c7933580>], epochs=3000, model=<keras.engine.sequential.Sequential object at 0x7fd9c79497f0>, verbose=0)]])"
      ]
     },
     "execution_count": 140,
     "metadata": {},
     "output_type": "execute_result"
    }
   ],
   "source": [
    "pipe.fit(X_train, Y_train, keras__validation_data=(X_test_mod, Y_test))"
   ]
  },
  {
   "cell_type": "code",
   "execution_count": 141,
   "id": "35099285-712f-424d-8f53-cdc8c21b96cd",
   "metadata": {},
   "outputs": [
    {
     "name": "stdout",
     "output_type": "stream",
     "text": [
      "Cantidad de epochs procesadas: 1145\n"
     ]
    }
   ],
   "source": [
    "history = pipe.named_steps['keras'].history_\n",
    "print(f\"Cantidad de epochs procesadas: {len(history['loss'])}\")"
   ]
  },
  {
   "cell_type": "code",
   "execution_count": 142,
   "id": "98202644-1a82-415c-9f42-265c3fbeb33f",
   "metadata": {},
   "outputs": [
    {
     "data": {
      "image/png": "[encoded data removed]",
      "text/plain": [
       "<Figure size 960x480 with 1 Axes>"
      ]
     },
     "metadata": {
      "needs_background": "light"
     },
     "output_type": "display_data"
    }
   ],
   "source": [
    "plot_rmse(history)"
   ]
  },
  {
   "cell_type": "code",
   "execution_count": 143,
   "id": "88850752-105e-4cd4-a99c-aecf86c66645",
   "metadata": {},
   "outputs": [
    {
     "data": {
      "text/html": [
       "<div>\n",
       "<style scoped>\n",
       "    .dataframe tbody tr th:only-of-type {\n",
       "        vertical-align: middle;\n",
       "    }\n",
       "\n",
       "    .dataframe tbody tr th {\n",
       "        vertical-align: top;\n",
       "    }\n",
       "\n",
       "    .dataframe thead th {\n",
       "        text-align: right;\n",
       "    }\n",
       "</style>\n",
       "<table border=\"1\" class=\"dataframe\">\n",
       "  <thead>\n",
       "    <tr style=\"text-align: right;\">\n",
       "      <th></th>\n",
       "      <th>AUC-ROC</th>\n",
       "      <th>Accuracy</th>\n",
       "      <th>Precision</th>\n",
       "      <th>Recall</th>\n",
       "      <th>F1 Score</th>\n",
       "    </tr>\n",
       "  </thead>\n",
       "  <tbody>\n",
       "    <tr>\n",
       "      <th>0</th>\n",
       "      <td>0.893204</td>\n",
       "      <td>0.859293</td>\n",
       "      <td>0.767944</td>\n",
       "      <td>0.532361</td>\n",
       "      <td>0.628811</td>\n",
       "    </tr>\n",
       "  </tbody>\n",
       "</table>\n",
       "</div>"
      ],
      "text/plain": [
       "    AUC-ROC  Accuracy  Precision    Recall  F1 Score\n",
       "0  0.893204  0.859293   0.767944  0.532361  0.628811"
      ]
     },
     "execution_count": 143,
     "metadata": {},
     "output_type": "execute_result"
    }
   ],
   "source": [
    "metrics_table(pipe, X_test, Y_test)"
   ]
  },
  {
   "cell_type": "markdown",
   "id": "68188e81-c91e-4bc0-aaef-bd1aaf3137d9",
   "metadata": {},
   "source": [
    "Este dio bastante mejor, comparado a los otros regularizados. Por últimos vamos a probar a cambiar un poco más la estructura de la red."
   ]
  },
  {
   "cell_type": "markdown",
   "id": "a80b2293-0c09-443e-832d-10f6627d9b15",
   "metadata": {},
   "source": [
    "# Regularización y Adadelta v2, más profundo"
   ]
  },
  {
   "cell_type": "code",
   "execution_count": 177,
   "id": "815ff3af-4f1b-43e5-bb12-4286d22d543f",
   "metadata": {},
   "outputs": [
    {
     "data": {
      "text/plain": [
       "47"
      ]
     },
     "execution_count": 177,
     "metadata": {},
     "output_type": "execute_result"
    }
   ],
   "source": [
    "df_features, df_target = get_datasets()\n",
    "\n",
    "viento_trigonometrico(df_features)\n",
    "df_features = hashing_trick(df_features, 24, \"barrio\")\n",
    "\n",
    "X_train, X_test, Y_train, Y_test = train_test_split(df_features, df_target, stratify=df_target.values, test_size=0.35, random_state=123)\n",
    "\n",
    "pipe = iterative_imputer()\n",
    "pipe = standarizer(pipe)\n",
    "len(X_train.columns)"
   ]
  },
  {
   "cell_type": "code",
   "execution_count": 178,
   "id": "5a0997c3-8b98-4a47-8284-131df6feab3c",
   "metadata": {},
   "outputs": [],
   "source": [
    "pipe.fit(X_train)\n",
    "X_test_mod = pipe.transform(X_test)"
   ]
  },
  {
   "cell_type": "code",
   "execution_count": 179,
   "id": "8e95b7ec-49ed-4953-8a30-537a259966bd",
   "metadata": {},
   "outputs": [
    {
     "name": "stdout",
     "output_type": "stream",
     "text": [
      "Model: \"sequential_23\"\n",
      "_________________________________________________________________\n",
      " Layer (type)                Output Shape              Param #   \n",
      "=================================================================\n",
      " dense_77 (Dense)            (None, 20)                960       \n",
      "                                                                 \n",
      " dropout_54 (Dropout)        (None, 20)                0         \n",
      "                                                                 \n",
      " dense_78 (Dense)            (None, 8)                 168       \n",
      "                                                                 \n",
      " dropout_55 (Dropout)        (None, 8)                 0         \n",
      "                                                                 \n",
      " dense_79 (Dense)            (None, 8)                 72        \n",
      "                                                                 \n",
      " dropout_56 (Dropout)        (None, 8)                 0         \n",
      "                                                                 \n",
      " dense_80 (Dense)            (None, 4)                 36        \n",
      "                                                                 \n",
      " dropout_57 (Dropout)        (None, 4)                 0         \n",
      "                                                                 \n",
      " dense_81 (Dense)            (None, 1)                 5         \n",
      "                                                                 \n",
      "=================================================================\n",
      "Total params: 1,241\n",
      "Trainable params: 1,241\n",
      "Non-trainable params: 0\n",
      "_________________________________________________________________\n"
     ]
    }
   ],
   "source": [
    "model = Sequential()\n",
    "model.add(Dense(20, input_shape = (len(X_train.columns),), activation='relu', kernel_regularizer=l2(0.00001)))\n",
    "model.add(Dropout(0.2))\n",
    "model.add(Dense(8, input_shape = (len(X_train.columns),), activation='sigmoid', kernel_regularizer=l2(0.00001)))\n",
    "model.add(Dropout(0.2))\n",
    "model.add(Dense(8, activation=\"tanh\", kernel_regularizer=l2(0.00005)))\n",
    "model.add(Dropout(0.2))\n",
    "model.add(Dense(4, activation=\"tanh\", kernel_regularizer=l2(0.00005)))\n",
    "model.add(Dropout(0.2))\n",
    "model.add(Dense(1, activation='sigmoid'))\n",
    "opt = Adadelta(learning_rate = 1.0) # Es el inicial, luego se ajusta solo\n",
    "model.compile(loss='binary_crossentropy', optimizer=opt, metrics=[\"accuracy\", tf.keras.metrics.AUC(name = \"auc\")])\n",
    "model.summary()"
   ]
  },
  {
   "cell_type": "code",
   "execution_count": 180,
   "id": "480b4666-287e-41d3-9de7-94204c07de81",
   "metadata": {},
   "outputs": [],
   "source": [
    "early_stop = EarlyStopping(monitor = \"val_auc\", mode = \"max\", patience = 200, restore_best_weights = True)\n",
    "\n",
    "pipe.steps.append(['keras', KerasClassifier(model, batch_size = 1000, epochs = 3000, callbacks = [early_stop],\n",
    "                                           verbose = 0)])"
   ]
  },
  {
   "cell_type": "code",
   "execution_count": 181,
   "id": "6d3fa9e0-010b-4785-a378-cf999031a90e",
   "metadata": {},
   "outputs": [
    {
     "data": {
      "text/plain": [
       "Pipeline(steps=[('imputer', IterativeImputer(random_state=123)),\n",
       "                ('scaler', StandardScaler()),\n",
       "                ['keras',\n",
       "                 KerasClassifier(batch_size=1000, callbacks=[<keras.callbacks.EarlyStopping object at 0x7fd9c6791c70>], epochs=3000, model=<keras.engine.sequential.Sequential object at 0x7fd9c6806c10>, verbose=0)]])"
      ]
     },
     "execution_count": 181,
     "metadata": {},
     "output_type": "execute_result"
    }
   ],
   "source": [
    "pipe.fit(X_train, Y_train, keras__validation_data=(X_test_mod, Y_test))"
   ]
  },
  {
   "cell_type": "code",
   "execution_count": 182,
   "id": "bbd6fac0-6e12-429c-9a19-b6797c7b80cc",
   "metadata": {},
   "outputs": [
    {
     "name": "stdout",
     "output_type": "stream",
     "text": [
      "Cantidad de epochs procesadas: 1257\n"
     ]
    }
   ],
   "source": [
    "history = pipe.named_steps['keras'].history_\n",
    "print(f\"Cantidad de epochs procesadas: {len(history['loss'])}\")"
   ]
  },
  {
   "cell_type": "code",
   "execution_count": 183,
   "id": "42524b87-62ad-4fab-a245-4f4b2a7a4f31",
   "metadata": {},
   "outputs": [
    {
     "data": {
      "image/png": "[encoded data removed]",
      "text/plain": [
       "<Figure size 960x480 with 1 Axes>"
      ]
     },
     "metadata": {
      "needs_background": "light"
     },
     "output_type": "display_data"
    }
   ],
   "source": [
    "plot_rmse(history)"
   ]
  },
  {
   "cell_type": "code",
   "execution_count": 184,
   "id": "fd63feee-76a2-4e58-b953-43ce73a45387",
   "metadata": {},
   "outputs": [
    {
     "data": {
      "text/html": [
       "<div>\n",
       "<style scoped>\n",
       "    .dataframe tbody tr th:only-of-type {\n",
       "        vertical-align: middle;\n",
       "    }\n",
       "\n",
       "    .dataframe tbody tr th {\n",
       "        vertical-align: top;\n",
       "    }\n",
       "\n",
       "    .dataframe thead th {\n",
       "        text-align: right;\n",
       "    }\n",
       "</style>\n",
       "<table border=\"1\" class=\"dataframe\">\n",
       "  <thead>\n",
       "    <tr style=\"text-align: right;\">\n",
       "      <th></th>\n",
       "      <th>AUC-ROC</th>\n",
       "      <th>Accuracy</th>\n",
       "      <th>Precision</th>\n",
       "      <th>Recall</th>\n",
       "      <th>F1 Score</th>\n",
       "    </tr>\n",
       "  </thead>\n",
       "  <tbody>\n",
       "    <tr>\n",
       "      <th>0</th>\n",
       "      <td>0.892545</td>\n",
       "      <td>0.858734</td>\n",
       "      <td>0.756457</td>\n",
       "      <td>0.544208</td>\n",
       "      <td>0.633014</td>\n",
       "    </tr>\n",
       "  </tbody>\n",
       "</table>\n",
       "</div>"
      ],
      "text/plain": [
       "    AUC-ROC  Accuracy  Precision    Recall  F1 Score\n",
       "0  0.892545  0.858734   0.756457  0.544208  0.633014"
      ]
     },
     "execution_count": 184,
     "metadata": {},
     "output_type": "execute_result"
    }
   ],
   "source": [
    "metrics_table(pipe, X_test, Y_test)"
   ]
  },
  {
   "cell_type": "markdown",
   "id": "58e23bfa-e7e9-486b-9d56-9d0efd28d6e2",
   "metadata": {},
   "source": [
    "Dio un poco peor que el anterior en cuanto a AUC-ROC."
   ]
  }
 ],
 "metadata": {
  "kernelspec": {
   "display_name": "Python 3 (ipykernel)",
   "language": "python",
   "name": "python3"
  },
  "language_info": {
   "codemirror_mode": {
    "name": "ipython",
    "version": 3
   },
   "file_extension": ".py",
   "mimetype": "text/x-python",
   "name": "python",
   "nbconvert_exporter": "python",
   "pygments_lexer": "ipython3",
   "version": "3.8.10"
  }
 },
 "nbformat": 4,
 "nbformat_minor": 5
}
