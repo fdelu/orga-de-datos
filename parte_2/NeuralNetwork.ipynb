{
 "cells": [
  {
   "cell_type": "code",
   "execution_count": 3,
   "id": "e825d200-769f-4ab7-a036-b03c94b8f795",
   "metadata": {},
   "outputs": [],
   "source": [
    "%load_ext autoreload\n",
    "%autoreload 2\n",
    "\n",
    "import tensorflow as tf\n",
    "from keras.models import Sequential\n",
    "from keras.layers import Dense, Dropout, Input\n",
    "from keras.callbacks import EarlyStopping, ModelCheckpoint\n",
    "from tensorflow.keras.optimizers import Adam, SGD, Adadelta\n",
    "from keras.regularizers import l2\n",
    "\n",
    "\n",
    "from sklearn.pipeline import FeatureUnion\n",
    "from sklearn.model_selection import GridSearchCV\n",
    "from sklearn.impute import SimpleImputer, MissingIndicator, KNNImputer\n",
    "from scikeras.wrappers import KerasClassifier\n",
    "from sklearn import metrics\n",
    "\n",
    "import numpy as np\n",
    "import pandas as pd\n",
    "from preprocessing import *\n",
    "from matplotlib import pyplot as plt\n",
    "\n",
    "from joblib import dump, load"
   ]
  },
  {
   "cell_type": "code",
   "execution_count": 4,
   "id": "48a123f4-6d27-479f-b350-5eed0ca7329b",
   "metadata": {},
   "outputs": [],
   "source": [
    "np.random.seed(123)\n",
    "tf.random.set_seed(123)"
   ]
  },
  {
   "cell_type": "code",
   "execution_count": 5,
   "id": "c77055f5-a248-4b39-9fb9-3d46583ad8ec",
   "metadata": {},
   "outputs": [],
   "source": [
    "# Para checkear GPU, ignorar\n",
    "# export LD_LIBRARY_PATH=/usr/local/cuda-11.0/lib64${LD_LIBRARY_PATH:+:${LD_LIBRARY_PATH}}\n",
    "# for a in /sys/bus/pci/devices/*; do echo 0 | sudo tee -a $a/numa_node; done\n",
    "# from tensorflow.python.client import device_lib\n",
    "# print(device_lib.list_local_devices())"
   ]
  },
  {
   "cell_type": "code",
   "execution_count": 6,
   "id": "ddda20b6-0638-4134-ab32-30849acf1791",
   "metadata": {},
   "outputs": [],
   "source": [
    "SCORINGS = [\"roc_auc\", \"accuracy\", \"precision\", \"recall\", \"f1\"]\n",
    "METRIC = \"roc_auc\"\n",
    "\n",
    "def metrics_table(model, X, Y):\n",
    "    predicted = model.predict(X)\n",
    "    probabilities = model.predict_proba(X)[:,1]\n",
    "    \n",
    "    roc_auc = metrics.roc_auc_score(Y, probabilities)\n",
    "    f1 = metrics.f1_score(Y, predicted)\n",
    "    acc = metrics.accuracy_score(Y, predicted)\n",
    "    rec = metrics.recall_score(Y, predicted)\n",
    "    prec = metrics.precision_score(Y, predicted)\n",
    "    return pd.DataFrame.from_dict({\n",
    "        \"AUC-ROC\": [roc_auc], \"Accuracy\": [acc], \"Precision\": [prec], \"Recall\": [rec], \"F1 Score\": [f1]\n",
    "    })\n",
    "\n",
    "def plot_rmse(history):\n",
    "    loss = np.sqrt(history[\"loss\"])\n",
    "    val_loss = np.sqrt(history[\"val_loss\"])\n",
    "    fig = plt.figure(figsize=(12, 6), dpi=80)\n",
    "    plt.plot(loss, label=\"Training\")\n",
    "    plt.plot(val_loss, label=\"Validation\")\n",
    "    plt.legend()\n",
    "    plt.ylabel(\"RMSE\")\n",
    "    plt.xlabel(\"Epoch\")"
   ]
  },
  {
   "cell_type": "markdown",
   "id": "40b07a5e-5ae2-40ce-9237-1cbf40ce5a51",
   "metadata": {},
   "source": [
    "# Modelo inicial (Adam)"
   ]
  },
  {
   "cell_type": "code",
   "execution_count": 22,
   "id": "c73ab9b2-157d-49a3-ba68-7898bce262f3",
   "metadata": {},
   "outputs": [
    {
     "data": {
      "text/plain": [
       "47"
      ]
     },
     "execution_count": 22,
     "metadata": {},
     "output_type": "execute_result"
    }
   ],
   "source": [
    "df_features, df_target = get_datasets()\n",
    "\n",
    "viento_trigonometrico(df_features)\n",
    "df_features = hashing_trick(df_features, 24, \"barrio\")\n",
    "\n",
    "X_train, X_test, Y_train, Y_test = train_test_split(df_features, df_target, stratify=df_target.values, test_size=0.35, random_state=123)\n",
    "\n",
    "pipe = iterative_imputer()\n",
    "pipe = standarizer(pipe)\n",
    "len(X_train.columns)"
   ]
  },
  {
   "cell_type": "code",
   "execution_count": 23,
   "id": "eef6110e-34f5-4c1f-b798-a1852850a79e",
   "metadata": {},
   "outputs": [],
   "source": [
    "pipe.fit(X_train)\n",
    "X_test_mod = pipe.transform(X_test)"
   ]
  },
  {
   "cell_type": "code",
   "execution_count": 24,
   "id": "c98838bb-a89d-4f0c-a000-d48f56b43afe",
   "metadata": {},
   "outputs": [
    {
     "name": "stdout",
     "output_type": "stream",
     "text": [
      "Model: \"sequential_2\"\n",
      "_________________________________________________________________\n",
      " Layer (type)                Output Shape              Param #   \n",
      "=================================================================\n",
      " dense_6 (Dense)             (None, 100)               4800      \n",
      "                                                                 \n",
      " dropout_4 (Dropout)         (None, 100)               0         \n",
      "                                                                 \n",
      " dense_7 (Dense)             (None, 100)               10100     \n",
      "                                                                 \n",
      " dropout_5 (Dropout)         (None, 100)               0         \n",
      "                                                                 \n",
      " dense_8 (Dense)             (None, 1)                 101       \n",
      "                                                                 \n",
      "=================================================================\n",
      "Total params: 15,001\n",
      "Trainable params: 15,001\n",
      "Non-trainable params: 0\n",
      "_________________________________________________________________\n"
     ]
    }
   ],
   "source": [
    "model = Sequential()\n",
    "model.add(Dense(100, input_shape = (len(X_train.columns),), activation='relu'))\n",
    "model.add(Dropout(0.2))\n",
    "model.add(Dense(100, activation=\"relu\"))\n",
    "model.add(Dropout(0.2))\n",
    "model.add(Dense(1, activation='sigmoid'))\n",
    "opt = Adam(learning_rate=0.001)\n",
    "model.compile(loss='binary_crossentropy', optimizer=opt, metrics=[\"accuracy\", tf.keras.metrics.AUC(name = \"auc\")])\n",
    "model.summary()"
   ]
  },
  {
   "cell_type": "code",
   "execution_count": 25,
   "id": "c828e7a3-cc8e-4355-a76b-bd812c703aa8",
   "metadata": {},
   "outputs": [],
   "source": [
    "early_stop = EarlyStopping(monitor = \"val_auc\", mode = \"max\", patience = 200, restore_best_weights = True)\n",
    "\n",
    "pipe.steps.append(['keras', KerasClassifier(model, batch_size = 1000, epochs = 3000, callbacks = [early_stop],\n",
    "                                           verbose = 0)])"
   ]
  },
  {
   "cell_type": "code",
   "execution_count": 26,
   "id": "8db9473b-a41f-43e3-a2ec-169740d59772",
   "metadata": {},
   "outputs": [
    {
     "data": {
      "text/plain": [
       "Pipeline(steps=[('imputer', IterativeImputer(random_state=123)),\n",
       "                ('scaler', StandardScaler()),\n",
       "                ['keras',\n",
       "                 KerasClassifier(batch_size=1000, callbacks=[<keras.callbacks.EarlyStopping object at 0x7f65a00398b0>], epochs=3000, model=<keras.engine.sequential.Sequential object at 0x7f65a00a2e20>, verbose=0)]])"
      ]
     },
     "execution_count": 26,
     "metadata": {},
     "output_type": "execute_result"
    }
   ],
   "source": [
    "pipe.fit(X_train, Y_train, keras__validation_data=(X_test_mod, Y_test))"
   ]
  },
  {
   "cell_type": "code",
   "execution_count": 27,
   "id": "8220af6d-cb32-4275-ab36-1fe074ef6231",
   "metadata": {},
   "outputs": [
    {
     "name": "stdout",
     "output_type": "stream",
     "text": [
      "Cantidad de epochs procesadas: 261\n"
     ]
    }
   ],
   "source": [
    "history = pipe.named_steps['keras'].history_\n",
    "print(f\"Cantidad de epochs procesadas: {len(history['loss'])}\")"
   ]
  },
  {
   "cell_type": "code",
   "execution_count": 28,
   "id": "decf667c-bc0c-4167-b6f9-0e3a26f5835e",
   "metadata": {},
   "outputs": [
    {
     "data": {
      "image/png": "[encoded data removed]",
      "text/plain": [
       "<Figure size 960x480 with 1 Axes>"
      ]
     },
     "metadata": {
      "needs_background": "light"
     },
     "output_type": "display_data"
    }
   ],
   "source": [
    "plot_rmse(history)"
   ]
  },
  {
   "cell_type": "code",
   "execution_count": 29,
   "id": "d44ce9c9-ea92-4afe-aac1-95db5fc59af8",
   "metadata": {},
   "outputs": [
    {
     "data": {
      "text/html": [
       "<div>\n",
       "<style scoped>\n",
       "    .dataframe tbody tr th:only-of-type {\n",
       "        vertical-align: middle;\n",
       "    }\n",
       "\n",
       "    .dataframe tbody tr th {\n",
       "        vertical-align: top;\n",
       "    }\n",
       "\n",
       "    .dataframe thead th {\n",
       "        text-align: right;\n",
       "    }\n",
       "</style>\n",
       "<table border=\"1\" class=\"dataframe\">\n",
       "  <thead>\n",
       "    <tr style=\"text-align: right;\">\n",
       "      <th></th>\n",
       "      <th>AUC-ROC</th>\n",
       "      <th>Accuracy</th>\n",
       "      <th>Precision</th>\n",
       "      <th>Recall</th>\n",
       "      <th>F1 Score</th>\n",
       "    </tr>\n",
       "  </thead>\n",
       "  <tbody>\n",
       "    <tr>\n",
       "      <th>0</th>\n",
       "      <td>0.897342</td>\n",
       "      <td>0.862699</td>\n",
       "      <td>0.757174</td>\n",
       "      <td>0.569273</td>\n",
       "      <td>0.649915</td>\n",
       "    </tr>\n",
       "  </tbody>\n",
       "</table>\n",
       "</div>"
      ],
      "text/plain": [
       "    AUC-ROC  Accuracy  Precision    Recall  F1 Score\n",
       "0  0.897342  0.862699   0.757174  0.569273  0.649915"
      ]
     },
     "execution_count": 29,
     "metadata": {},
     "output_type": "execute_result"
    }
   ],
   "source": [
    "metrics_table(pipe, X_test, Y_test)"
   ]
  },
  {
   "cell_type": "markdown",
   "id": "6a762a88-c5c3-43ff-9faf-26cc4c1d0f22",
   "metadata": {},
   "source": [
    "En el gráfico se puede ver que claramente overfitteo, pero aún así dio valores de AUC-ROC aceptables (0.897). Podemos intentar aplicar una regularización, y achicar un poco la arquitectura. El learning rate parece tener un valor correcto a partir del gráfico, ya que no es una curva tan suave pero no tiene picos muy grandes."
   ]
  },
  {
   "cell_type": "markdown",
   "id": "b00726d9-d620-4132-a372-04f93e58a56f",
   "metadata": {},
   "source": [
    "# Regularización y Adam"
   ]
  },
  {
   "cell_type": "code",
   "execution_count": 30,
   "id": "6567a11f-67d4-4688-a0b4-6668947ab70e",
   "metadata": {},
   "outputs": [
    {
     "data": {
      "text/plain": [
       "47"
      ]
     },
     "execution_count": 30,
     "metadata": {},
     "output_type": "execute_result"
    }
   ],
   "source": [
    "df_features, df_target = get_datasets()\n",
    "\n",
    "viento_trigonometrico(df_features)\n",
    "df_features = hashing_trick(df_features, 24, \"barrio\")\n",
    "\n",
    "X_train, X_test, Y_train, Y_test = train_test_split(df_features, df_target, stratify=df_target.values, test_size=0.35, random_state=123)\n",
    "\n",
    "pipe = iterative_imputer()\n",
    "pipe = standarizer(pipe)\n",
    "len(X_train.columns)"
   ]
  },
  {
   "cell_type": "code",
   "execution_count": 31,
   "id": "77dbe431-5eeb-4091-949c-5afdcca0cf69",
   "metadata": {},
   "outputs": [],
   "source": [
    "pipe.fit(X_train)\n",
    "X_test_mod = pipe.transform(X_test)"
   ]
  },
  {
   "cell_type": "code",
   "execution_count": 32,
   "id": "d7a16aeb-e23d-4164-8f0f-ab740563bb1e",
   "metadata": {},
   "outputs": [
    {
     "name": "stdout",
     "output_type": "stream",
     "text": [
      "Model: \"sequential_3\"\n",
      "_________________________________________________________________\n",
      " Layer (type)                Output Shape              Param #   \n",
      "=================================================================\n",
      " dense_9 (Dense)             (None, 20)                960       \n",
      "                                                                 \n",
      " dropout_6 (Dropout)         (None, 20)                0         \n",
      "                                                                 \n",
      " dense_10 (Dense)            (None, 10)                210       \n",
      "                                                                 \n",
      " dropout_7 (Dropout)         (None, 10)                0         \n",
      "                                                                 \n",
      " dense_11 (Dense)            (None, 1)                 11        \n",
      "                                                                 \n",
      "=================================================================\n",
      "Total params: 1,181\n",
      "Trainable params: 1,181\n",
      "Non-trainable params: 0\n",
      "_________________________________________________________________\n"
     ]
    }
   ],
   "source": [
    "model = Sequential()\n",
    "model.add(Dense(20, input_shape = (len(X_train.columns),), activation='relu', kernel_regularizer=l2(0.00005)))\n",
    "model.add(Dropout(0.2))\n",
    "model.add(Dense(10, activation=\"sigmoid\", kernel_regularizer=l2(0.00005)))\n",
    "model.add(Dropout(0.2))\n",
    "model.add(Dense(1, activation='sigmoid'))\n",
    "opt = Adam(learning_rate=0.001)\n",
    "model.compile(loss='binary_crossentropy', optimizer=opt, metrics=[\"accuracy\", tf.keras.metrics.AUC(name = \"auc\")])\n",
    "model.summary()"
   ]
  },
  {
   "cell_type": "code",
   "execution_count": 33,
   "id": "2796cd95-9cbd-4963-bbed-45a1f41e0f7b",
   "metadata": {},
   "outputs": [],
   "source": [
    "early_stop = EarlyStopping(monitor = \"val_auc\", mode = \"max\", patience = 200, restore_best_weights = True)\n",
    "\n",
    "pipe.steps.append(['keras', KerasClassifier(model, batch_size = 1000, epochs = 3000, callbacks = [early_stop],\n",
    "                                           verbose = 0)])"
   ]
  },
  {
   "cell_type": "code",
   "execution_count": 34,
   "id": "c2bc1dff-0fa7-4ecd-bbb5-6e54a3b7b4c9",
   "metadata": {},
   "outputs": [
    {
     "data": {
      "text/plain": [
       "Pipeline(steps=[('imputer', IterativeImputer(random_state=123)),\n",
       "                ('scaler', StandardScaler()),\n",
       "                ['keras',\n",
       "                 KerasClassifier(batch_size=1000, callbacks=[<keras.callbacks.EarlyStopping object at 0x7f6522193670>], epochs=3000, model=<keras.engine.sequential.Sequential object at 0x7f6522193f10>, verbose=0)]])"
      ]
     },
     "execution_count": 34,
     "metadata": {},
     "output_type": "execute_result"
    }
   ],
   "source": [
    "pipe.fit(X_train, Y_train, keras__validation_data=(X_test_mod, Y_test))"
   ]
  },
  {
   "cell_type": "code",
   "execution_count": 35,
   "id": "920d8201-b98c-4353-b931-3ef6c985a40b",
   "metadata": {},
   "outputs": [
    {
     "name": "stdout",
     "output_type": "stream",
     "text": [
      "Cantidad de epochs procesadas: 1320\n"
     ]
    }
   ],
   "source": [
    "history = pipe.named_steps['keras'].history_\n",
    "print(f\"Cantidad de epochs procesadas: {len(history['loss'])}\")"
   ]
  },
  {
   "cell_type": "code",
   "execution_count": 36,
   "id": "2cdafd3c-092d-4045-8fc6-2c8186e9f8bc",
   "metadata": {},
   "outputs": [
    {
     "data": {
      "image/png": "[encoded data removed]",
      "text/plain": [
       "<Figure size 960x480 with 1 Axes>"
      ]
     },
     "metadata": {
      "needs_background": "light"
     },
     "output_type": "display_data"
    }
   ],
   "source": [
    "plot_rmse(history)"
   ]
  },
  {
   "cell_type": "code",
   "execution_count": 37,
   "id": "bbc5794c-5b27-47be-846b-ff4ebd5b72b0",
   "metadata": {},
   "outputs": [
    {
     "data": {
      "text/html": [
       "<div>\n",
       "<style scoped>\n",
       "    .dataframe tbody tr th:only-of-type {\n",
       "        vertical-align: middle;\n",
       "    }\n",
       "\n",
       "    .dataframe tbody tr th {\n",
       "        vertical-align: top;\n",
       "    }\n",
       "\n",
       "    .dataframe thead th {\n",
       "        text-align: right;\n",
       "    }\n",
       "</style>\n",
       "<table border=\"1\" class=\"dataframe\">\n",
       "  <thead>\n",
       "    <tr style=\"text-align: right;\">\n",
       "      <th></th>\n",
       "      <th>AUC-ROC</th>\n",
       "      <th>Accuracy</th>\n",
       "      <th>Precision</th>\n",
       "      <th>Recall</th>\n",
       "      <th>F1 Score</th>\n",
       "    </tr>\n",
       "  </thead>\n",
       "  <tbody>\n",
       "    <tr>\n",
       "      <th>0</th>\n",
       "      <td>0.893839</td>\n",
       "      <td>0.860214</td>\n",
       "      <td>0.759924</td>\n",
       "      <td>0.549071</td>\n",
       "      <td>0.637515</td>\n",
       "    </tr>\n",
       "  </tbody>\n",
       "</table>\n",
       "</div>"
      ],
      "text/plain": [
       "    AUC-ROC  Accuracy  Precision    Recall  F1 Score\n",
       "0  0.893839  0.860214   0.759924  0.549071  0.637515"
      ]
     },
     "execution_count": 37,
     "metadata": {},
     "output_type": "execute_result"
    }
   ],
   "source": [
    "metrics_table(pipe, X_test, Y_test)"
   ]
  },
  {
   "cell_type": "markdown",
   "id": "16aba315-6cc7-47dc-8e0f-9d95d402fcb4",
   "metadata": {},
   "source": [
    "Overfitteo bastante menos, pero el AUC-ROC empeoró un poco (~0.005). Vamos a probar con otro optimizador"
   ]
  },
  {
   "cell_type": "markdown",
   "id": "8ed54e5b-7af9-4a9f-9649-359842dfb829",
   "metadata": {},
   "source": [
    "# Regularización y SGD"
   ]
  },
  {
   "cell_type": "code",
   "execution_count": 38,
   "id": "422c3195-11b2-4254-b60a-c2244f35fc24",
   "metadata": {},
   "outputs": [
    {
     "data": {
      "text/plain": [
       "47"
      ]
     },
     "execution_count": 38,
     "metadata": {},
     "output_type": "execute_result"
    }
   ],
   "source": [
    "df_features, df_target = get_datasets()\n",
    "\n",
    "viento_trigonometrico(df_features)\n",
    "df_features = hashing_trick(df_features, 24, \"barrio\")\n",
    "\n",
    "X_train, X_test, Y_train, Y_test = train_test_split(df_features, df_target, stratify=df_target.values, test_size=0.35, random_state=123)\n",
    "\n",
    "pipe = iterative_imputer()\n",
    "pipe = standarizer(pipe)\n",
    "len(X_train.columns)"
   ]
  },
  {
   "cell_type": "code",
   "execution_count": 39,
   "id": "5f28cc0f-5e4a-469f-933b-8e983bc2e2be",
   "metadata": {},
   "outputs": [],
   "source": [
    "pipe.fit(X_train)\n",
    "X_test_mod = pipe.transform(X_test)"
   ]
  },
  {
   "cell_type": "code",
   "execution_count": 40,
   "id": "fd754327-bf2b-4145-824a-a28dd53abc4e",
   "metadata": {},
   "outputs": [
    {
     "name": "stdout",
     "output_type": "stream",
     "text": [
      "Model: \"sequential_4\"\n",
      "_________________________________________________________________\n",
      " Layer (type)                Output Shape              Param #   \n",
      "=================================================================\n",
      " dense_12 (Dense)            (None, 20)                960       \n",
      "                                                                 \n",
      " dropout_8 (Dropout)         (None, 20)                0         \n",
      "                                                                 \n",
      " dense_13 (Dense)            (None, 10)                210       \n",
      "                                                                 \n",
      " dropout_9 (Dropout)         (None, 10)                0         \n",
      "                                                                 \n",
      " dense_14 (Dense)            (None, 1)                 11        \n",
      "                                                                 \n",
      "=================================================================\n",
      "Total params: 1,181\n",
      "Trainable params: 1,181\n",
      "Non-trainable params: 0\n",
      "_________________________________________________________________\n"
     ]
    }
   ],
   "source": [
    "model = Sequential()\n",
    "model.add(Dense(20, input_shape = (len(X_train.columns),), activation='relu', kernel_regularizer=l2(0.00005)))\n",
    "model.add(Dropout(0.2))\n",
    "model.add(Dense(10, activation=\"sigmoid\", kernel_regularizer=l2(0.00005)))\n",
    "model.add(Dropout(0.2))\n",
    "model.add(Dense(1, activation='sigmoid'))\n",
    "opt = SGD(learning_rate=0.001, momentum = 0.9)\n",
    "model.compile(loss='binary_crossentropy', optimizer=opt, metrics=[\"accuracy\", tf.keras.metrics.AUC(name = \"auc\")])\n",
    "model.summary()"
   ]
  },
  {
   "cell_type": "code",
   "execution_count": 41,
   "id": "6aa6015e-d373-4f4c-a67c-884ca0bb885b",
   "metadata": {},
   "outputs": [],
   "source": [
    "early_stop = EarlyStopping(monitor = \"val_auc\", mode = \"max\", patience = 200, restore_best_weights = True)\n",
    "\n",
    "pipe.steps.append(['keras', KerasClassifier(model, batch_size = 1000, epochs = 3000, callbacks = [early_stop],\n",
    "                                           verbose = 0)])"
   ]
  },
  {
   "cell_type": "code",
   "execution_count": 42,
   "id": "2bbd9733-7ea4-4c4f-a41d-af491d318d26",
   "metadata": {},
   "outputs": [
    {
     "data": {
      "text/plain": [
       "Pipeline(steps=[('imputer', IterativeImputer(random_state=123)),\n",
       "                ('scaler', StandardScaler()),\n",
       "                ['keras',\n",
       "                 KerasClassifier(batch_size=1000, callbacks=[<keras.callbacks.EarlyStopping object at 0x7f651c332d30>], epochs=3000, model=<keras.engine.sequential.Sequential object at 0x7f651c34c6d0>, verbose=0)]])"
      ]
     },
     "execution_count": 42,
     "metadata": {},
     "output_type": "execute_result"
    }
   ],
   "source": [
    "pipe.fit(X_train, Y_train, keras__validation_data=(X_test_mod, Y_test))"
   ]
  },
  {
   "cell_type": "code",
   "execution_count": 43,
   "id": "1b2cad57-0f7c-4cd2-9827-e87be4809014",
   "metadata": {},
   "outputs": [
    {
     "name": "stdout",
     "output_type": "stream",
     "text": [
      "Cantidad de epochs procesadas: 3000\n"
     ]
    }
   ],
   "source": [
    "history = pipe.named_steps['keras'].history_\n",
    "print(f\"Cantidad de epochs procesadas: {len(history['loss'])}\")"
   ]
  },
  {
   "cell_type": "code",
   "execution_count": 44,
   "id": "9093d471-f577-4bb2-8191-7ae4193fa6f0",
   "metadata": {},
   "outputs": [
    {
     "data": {
      "image/png": "[encoded data removed]",
      "text/plain": [
       "<Figure size 960x480 with 1 Axes>"
      ]
     },
     "metadata": {
      "needs_background": "light"
     },
     "output_type": "display_data"
    }
   ],
   "source": [
    "plot_rmse(history)"
   ]
  },
  {
   "cell_type": "code",
   "execution_count": 45,
   "id": "1abb992a-5ec6-4346-b5b5-410e741b2d0c",
   "metadata": {},
   "outputs": [
    {
     "data": {
      "text/html": [
       "<div>\n",
       "<style scoped>\n",
       "    .dataframe tbody tr th:only-of-type {\n",
       "        vertical-align: middle;\n",
       "    }\n",
       "\n",
       "    .dataframe tbody tr th {\n",
       "        vertical-align: top;\n",
       "    }\n",
       "\n",
       "    .dataframe thead th {\n",
       "        text-align: right;\n",
       "    }\n",
       "</style>\n",
       "<table border=\"1\" class=\"dataframe\">\n",
       "  <thead>\n",
       "    <tr style=\"text-align: right;\">\n",
       "      <th></th>\n",
       "      <th>AUC-ROC</th>\n",
       "      <th>Accuracy</th>\n",
       "      <th>Precision</th>\n",
       "      <th>Recall</th>\n",
       "      <th>F1 Score</th>\n",
       "    </tr>\n",
       "  </thead>\n",
       "  <tbody>\n",
       "    <tr>\n",
       "      <th>0</th>\n",
       "      <td>0.887872</td>\n",
       "      <td>0.857394</td>\n",
       "      <td>0.748506</td>\n",
       "      <td>0.546702</td>\n",
       "      <td>0.631882</td>\n",
       "    </tr>\n",
       "  </tbody>\n",
       "</table>\n",
       "</div>"
      ],
      "text/plain": [
       "    AUC-ROC  Accuracy  Precision    Recall  F1 Score\n",
       "0  0.887872  0.857394   0.748506  0.546702  0.631882"
      ]
     },
     "execution_count": 45,
     "metadata": {},
     "output_type": "execute_result"
    }
   ],
   "source": [
    "metrics_table(pipe, X_test, Y_test)"
   ]
  },
  {
   "cell_type": "markdown",
   "id": "aac8c0a9-8af9-449b-9268-b4e54307029f",
   "metadata": {},
   "source": [
    "Dio un poco peor, y tardó bastante más en entrenar, lo que es esperable al ser el optimizador más sencillo. Vamos a probar con otro distinto."
   ]
  },
  {
   "cell_type": "markdown",
   "id": "0904ea57-34d7-4c0c-9dfb-c4e8af9ed7f3",
   "metadata": {},
   "source": [
    "# Regularización y Adadelta"
   ]
  },
  {
   "cell_type": "code",
   "execution_count": 46,
   "id": "2df8fdc6-a7bf-4146-b756-f48fc089be1e",
   "metadata": {},
   "outputs": [
    {
     "data": {
      "text/plain": [
       "47"
      ]
     },
     "execution_count": 46,
     "metadata": {},
     "output_type": "execute_result"
    }
   ],
   "source": [
    "df_features, df_target = get_datasets()\n",
    "\n",
    "viento_trigonometrico(df_features)\n",
    "df_features = hashing_trick(df_features, 24, \"barrio\")\n",
    "\n",
    "X_train, X_test, Y_train, Y_test = train_test_split(df_features, df_target, stratify=df_target.values, test_size=0.35, random_state=123)\n",
    "\n",
    "pipe = iterative_imputer()\n",
    "pipe = standarizer(pipe)\n",
    "len(X_train.columns)"
   ]
  },
  {
   "cell_type": "code",
   "execution_count": 47,
   "id": "81b938a5-6c43-4fdd-844c-27d04fcb2de5",
   "metadata": {},
   "outputs": [],
   "source": [
    "pipe.fit(X_train)\n",
    "X_test_mod = pipe.transform(X_test)"
   ]
  },
  {
   "cell_type": "code",
   "execution_count": 48,
   "id": "a02a96bc-7db3-4dfd-aa59-d46c35cf6ba7",
   "metadata": {},
   "outputs": [
    {
     "name": "stdout",
     "output_type": "stream",
     "text": [
      "Model: \"sequential_5\"\n",
      "_________________________________________________________________\n",
      " Layer (type)                Output Shape              Param #   \n",
      "=================================================================\n",
      " dense_15 (Dense)            (None, 20)                960       \n",
      "                                                                 \n",
      " dropout_10 (Dropout)        (None, 20)                0         \n",
      "                                                                 \n",
      " dense_16 (Dense)            (None, 10)                210       \n",
      "                                                                 \n",
      " dropout_11 (Dropout)        (None, 10)                0         \n",
      "                                                                 \n",
      " dense_17 (Dense)            (None, 1)                 11        \n",
      "                                                                 \n",
      "=================================================================\n",
      "Total params: 1,181\n",
      "Trainable params: 1,181\n",
      "Non-trainable params: 0\n",
      "_________________________________________________________________\n"
     ]
    }
   ],
   "source": [
    "model = Sequential()\n",
    "model.add(Dense(20, input_shape = (len(X_train.columns),), activation='relu', kernel_regularizer=l2(0.00005)))\n",
    "model.add(Dropout(0.2))\n",
    "model.add(Dense(10, activation=\"sigmoid\", kernel_regularizer=l2(0.00005)))\n",
    "model.add(Dropout(0.2))\n",
    "model.add(Dense(1, activation='sigmoid'))\n",
    "opt = Adadelta(learning_rate = 1.0) # Es el inicial, luego se ajusta solo\n",
    "model.compile(loss='binary_crossentropy', optimizer=opt, metrics=[\"accuracy\", tf.keras.metrics.AUC(name = \"auc\")])\n",
    "model.summary()"
   ]
  },
  {
   "cell_type": "code",
   "execution_count": 49,
   "id": "db514f1c-8c1c-47ef-98b9-01c44dab6118",
   "metadata": {},
   "outputs": [],
   "source": [
    "early_stop = EarlyStopping(monitor = \"val_auc\", mode = \"max\", patience = 200, restore_best_weights = True)\n",
    "\n",
    "pipe.steps.append(['keras', KerasClassifier(model, batch_size = 1000, epochs = 3000, callbacks = [early_stop],\n",
    "                                           verbose = 0)])"
   ]
  },
  {
   "cell_type": "code",
   "execution_count": 50,
   "id": "8406c6b5-d156-4d5c-9af6-922253962064",
   "metadata": {},
   "outputs": [
    {
     "data": {
      "text/plain": [
       "Pipeline(steps=[('imputer', IterativeImputer(random_state=123)),\n",
       "                ('scaler', StandardScaler()),\n",
       "                ['keras',\n",
       "                 KerasClassifier(batch_size=1000, callbacks=[<keras.callbacks.EarlyStopping object at 0x7f65087894c0>], epochs=3000, model=<keras.engine.sequential.Sequential object at 0x7f6508796340>, verbose=0)]])"
      ]
     },
     "execution_count": 50,
     "metadata": {},
     "output_type": "execute_result"
    }
   ],
   "source": [
    "pipe.fit(X_train, Y_train, keras__validation_data=(X_test_mod, Y_test))"
   ]
  },
  {
   "cell_type": "code",
   "execution_count": 51,
   "id": "35099285-712f-424d-8f53-cdc8c21b96cd",
   "metadata": {},
   "outputs": [
    {
     "name": "stdout",
     "output_type": "stream",
     "text": [
      "Cantidad de epochs procesadas: 1257\n"
     ]
    }
   ],
   "source": [
    "history = pipe.named_steps['keras'].history_\n",
    "print(f\"Cantidad de epochs procesadas: {len(history['loss'])}\")"
   ]
  },
  {
   "cell_type": "code",
   "execution_count": 52,
   "id": "98202644-1a82-415c-9f42-265c3fbeb33f",
   "metadata": {},
   "outputs": [
    {
     "data": {
      "image/png": "[encoded data removed]",
      "text/plain": [
       "<Figure size 960x480 with 1 Axes>"
      ]
     },
     "metadata": {
      "needs_background": "light"
     },
     "output_type": "display_data"
    }
   ],
   "source": [
    "plot_rmse(history)"
   ]
  },
  {
   "cell_type": "code",
   "execution_count": 53,
   "id": "88850752-105e-4cd4-a99c-aecf86c66645",
   "metadata": {},
   "outputs": [
    {
     "data": {
      "text/html": [
       "<div>\n",
       "<style scoped>\n",
       "    .dataframe tbody tr th:only-of-type {\n",
       "        vertical-align: middle;\n",
       "    }\n",
       "\n",
       "    .dataframe tbody tr th {\n",
       "        vertical-align: top;\n",
       "    }\n",
       "\n",
       "    .dataframe thead th {\n",
       "        text-align: right;\n",
       "    }\n",
       "</style>\n",
       "<table border=\"1\" class=\"dataframe\">\n",
       "  <thead>\n",
       "    <tr style=\"text-align: right;\">\n",
       "      <th></th>\n",
       "      <th>AUC-ROC</th>\n",
       "      <th>Accuracy</th>\n",
       "      <th>Precision</th>\n",
       "      <th>Recall</th>\n",
       "      <th>F1 Score</th>\n",
       "    </tr>\n",
       "  </thead>\n",
       "  <tbody>\n",
       "    <tr>\n",
       "      <th>0</th>\n",
       "      <td>0.893422</td>\n",
       "      <td>0.860381</td>\n",
       "      <td>0.76708</td>\n",
       "      <td>0.540466</td>\n",
       "      <td>0.634136</td>\n",
       "    </tr>\n",
       "  </tbody>\n",
       "</table>\n",
       "</div>"
      ],
      "text/plain": [
       "    AUC-ROC  Accuracy  Precision    Recall  F1 Score\n",
       "0  0.893422  0.860381    0.76708  0.540466  0.634136"
      ]
     },
     "execution_count": 53,
     "metadata": {},
     "output_type": "execute_result"
    }
   ],
   "source": [
    "metrics_table(pipe, X_test, Y_test)"
   ]
  },
  {
   "cell_type": "markdown",
   "id": "68188e81-c91e-4bc0-aaef-bd1aaf3137d9",
   "metadata": {},
   "source": [
    "Este dio bastante mejor comparado al anterior, prácticamente igual que Adam. Por últimos vamos a probar a cambiar un poco más la estructura de la red."
   ]
  },
  {
   "cell_type": "markdown",
   "id": "a80b2293-0c09-443e-832d-10f6627d9b15",
   "metadata": {},
   "source": [
    "# Regularización y Adadelta v2, más profundo"
   ]
  },
  {
   "cell_type": "code",
   "execution_count": 54,
   "id": "815ff3af-4f1b-43e5-bb12-4286d22d543f",
   "metadata": {},
   "outputs": [
    {
     "data": {
      "text/plain": [
       "47"
      ]
     },
     "execution_count": 54,
     "metadata": {},
     "output_type": "execute_result"
    }
   ],
   "source": [
    "df_features, df_target = get_datasets()\n",
    "\n",
    "viento_trigonometrico(df_features)\n",
    "df_features = hashing_trick(df_features, 24, \"barrio\")\n",
    "\n",
    "X_train, X_test, Y_train, Y_test = train_test_split(df_features, df_target, stratify=df_target.values, test_size=0.35, random_state=123)\n",
    "\n",
    "pipe = iterative_imputer()\n",
    "pipe = standarizer(pipe)\n",
    "len(X_train.columns)"
   ]
  },
  {
   "cell_type": "code",
   "execution_count": 55,
   "id": "5a0997c3-8b98-4a47-8284-131df6feab3c",
   "metadata": {},
   "outputs": [],
   "source": [
    "pipe.fit(X_train)\n",
    "X_test_mod = pipe.transform(X_test)"
   ]
  },
  {
   "cell_type": "code",
   "execution_count": 56,
   "id": "8e95b7ec-49ed-4953-8a30-537a259966bd",
   "metadata": {},
   "outputs": [
    {
     "name": "stdout",
     "output_type": "stream",
     "text": [
      "Model: \"sequential_6\"\n",
      "_________________________________________________________________\n",
      " Layer (type)                Output Shape              Param #   \n",
      "=================================================================\n",
      " dense_18 (Dense)            (None, 20)                960       \n",
      "                                                                 \n",
      " dropout_12 (Dropout)        (None, 20)                0         \n",
      "                                                                 \n",
      " dense_19 (Dense)            (None, 8)                 168       \n",
      "                                                                 \n",
      " dropout_13 (Dropout)        (None, 8)                 0         \n",
      "                                                                 \n",
      " dense_20 (Dense)            (None, 8)                 72        \n",
      "                                                                 \n",
      " dropout_14 (Dropout)        (None, 8)                 0         \n",
      "                                                                 \n",
      " dense_21 (Dense)            (None, 4)                 36        \n",
      "                                                                 \n",
      " dropout_15 (Dropout)        (None, 4)                 0         \n",
      "                                                                 \n",
      " dense_22 (Dense)            (None, 1)                 5         \n",
      "                                                                 \n",
      "=================================================================\n",
      "Total params: 1,241\n",
      "Trainable params: 1,241\n",
      "Non-trainable params: 0\n",
      "_________________________________________________________________\n"
     ]
    }
   ],
   "source": [
    "model = Sequential()\n",
    "model.add(Dense(20, input_shape = (len(X_train.columns),), activation='relu', kernel_regularizer=l2(0.00001)))\n",
    "model.add(Dropout(0.2))\n",
    "model.add(Dense(8, input_shape = (len(X_train.columns),), activation='sigmoid', kernel_regularizer=l2(0.00001)))\n",
    "model.add(Dropout(0.2))\n",
    "model.add(Dense(8, activation=\"tanh\", kernel_regularizer=l2(0.00005)))\n",
    "model.add(Dropout(0.2))\n",
    "model.add(Dense(4, activation=\"tanh\", kernel_regularizer=l2(0.00005)))\n",
    "model.add(Dropout(0.2))\n",
    "model.add(Dense(1, activation='sigmoid'))\n",
    "opt = Adadelta(learning_rate = 1.0) # Es el inicial, luego se ajusta solo\n",
    "model.compile(loss='binary_crossentropy', optimizer=opt, metrics=[\"accuracy\", tf.keras.metrics.AUC(name = \"auc\")])\n",
    "model.summary()"
   ]
  },
  {
   "cell_type": "code",
   "execution_count": 57,
   "id": "480b4666-287e-41d3-9de7-94204c07de81",
   "metadata": {},
   "outputs": [],
   "source": [
    "early_stop = EarlyStopping(monitor = \"val_auc\", mode = \"max\", patience = 200, restore_best_weights = True)\n",
    "\n",
    "pipe.steps.append(['keras', KerasClassifier(model, batch_size = 1000, epochs = 3000, callbacks = [early_stop],\n",
    "                                           verbose = 0)])"
   ]
  },
  {
   "cell_type": "code",
   "execution_count": 58,
   "id": "6d3fa9e0-010b-4785-a378-cf999031a90e",
   "metadata": {},
   "outputs": [
    {
     "data": {
      "text/plain": [
       "Pipeline(steps=[('imputer', IterativeImputer(random_state=123)),\n",
       "                ('scaler', StandardScaler()),\n",
       "                ['keras',\n",
       "                 KerasClassifier(batch_size=1000, callbacks=[<keras.callbacks.EarlyStopping object at 0x7f651c44efd0>], epochs=3000, model=<keras.engine.sequential.Sequential object at 0x7f65084b0400>, verbose=0)]])"
      ]
     },
     "execution_count": 58,
     "metadata": {},
     "output_type": "execute_result"
    }
   ],
   "source": [
    "pipe.fit(X_train, Y_train, keras__validation_data=(X_test_mod, Y_test))"
   ]
  },
  {
   "cell_type": "code",
   "execution_count": 59,
   "id": "bbd6fac0-6e12-429c-9a19-b6797c7b80cc",
   "metadata": {},
   "outputs": [
    {
     "name": "stdout",
     "output_type": "stream",
     "text": [
      "Cantidad de epochs procesadas: 1758\n"
     ]
    }
   ],
   "source": [
    "history = pipe.named_steps['keras'].history_\n",
    "print(f\"Cantidad de epochs procesadas: {len(history['loss'])}\")"
   ]
  },
  {
   "cell_type": "code",
   "execution_count": 60,
   "id": "42524b87-62ad-4fab-a245-4f4b2a7a4f31",
   "metadata": {},
   "outputs": [
    {
     "data": {
      "image/png": "[encoded data removed]",
      "text/plain": [
       "<Figure size 960x480 with 1 Axes>"
      ]
     },
     "metadata": {
      "needs_background": "light"
     },
     "output_type": "display_data"
    }
   ],
   "source": [
    "plot_rmse(history)"
   ]
  },
  {
   "cell_type": "code",
   "execution_count": 61,
   "id": "fd63feee-76a2-4e58-b953-43ce73a45387",
   "metadata": {},
   "outputs": [
    {
     "data": {
      "text/html": [
       "<div>\n",
       "<style scoped>\n",
       "    .dataframe tbody tr th:only-of-type {\n",
       "        vertical-align: middle;\n",
       "    }\n",
       "\n",
       "    .dataframe tbody tr th {\n",
       "        vertical-align: top;\n",
       "    }\n",
       "\n",
       "    .dataframe thead th {\n",
       "        text-align: right;\n",
       "    }\n",
       "</style>\n",
       "<table border=\"1\" class=\"dataframe\">\n",
       "  <thead>\n",
       "    <tr style=\"text-align: right;\">\n",
       "      <th></th>\n",
       "      <th>AUC-ROC</th>\n",
       "      <th>Accuracy</th>\n",
       "      <th>Precision</th>\n",
       "      <th>Recall</th>\n",
       "      <th>F1 Score</th>\n",
       "    </tr>\n",
       "  </thead>\n",
       "  <tbody>\n",
       "    <tr>\n",
       "      <th>0</th>\n",
       "      <td>0.893118</td>\n",
       "      <td>0.85812</td>\n",
       "      <td>0.789816</td>\n",
       "      <td>0.499065</td>\n",
       "      <td>0.611646</td>\n",
       "    </tr>\n",
       "  </tbody>\n",
       "</table>\n",
       "</div>"
      ],
      "text/plain": [
       "    AUC-ROC  Accuracy  Precision    Recall  F1 Score\n",
       "0  0.893118   0.85812   0.789816  0.499065  0.611646"
      ]
     },
     "execution_count": 61,
     "metadata": {},
     "output_type": "execute_result"
    }
   ],
   "source": [
    "metrics_table(pipe, X_test, Y_test)"
   ]
  },
  {
   "cell_type": "markdown",
   "id": "58e23bfa-e7e9-486b-9d56-9d0efd28d6e2",
   "metadata": {},
   "source": [
    "Dio prácticamente el mismo resultado."
   ]
  },
  {
   "cell_type": "markdown",
   "id": "39c91c45-15b4-4885-832b-5759dd0868b6",
   "metadata": {},
   "source": [
    "# Grid search"
   ]
  },
  {
   "cell_type": "markdown",
   "id": "d85e3308-3359-4c41-8814-082c9ee897c0",
   "metadata": {},
   "source": [
    "Por último, vamos a probar a hacer un Grid Search con una red sencilla de 2 capas, probando con distintas combinaciones del tamaño de estas capas y sus funciones de activación, y el coeficiente de regularización."
   ]
  },
  {
   "cell_type": "code",
   "execution_count": 7,
   "id": "1e0fdfa2-f139-4459-a0b8-4fba455eb332",
   "metadata": {},
   "outputs": [
    {
     "data": {
      "text/plain": [
       "47"
      ]
     },
     "execution_count": 7,
     "metadata": {},
     "output_type": "execute_result"
    }
   ],
   "source": [
    "df_features, df_target = get_datasets()\n",
    "\n",
    "viento_trigonometrico(df_features)\n",
    "df_features = hashing_trick(df_features, 24, \"barrio\")\n",
    "\n",
    "X_train, X_test, Y_train, Y_test = train_test_split(df_features, df_target, stratify=df_target.values, test_size=0.35, random_state=123)\n",
    "\n",
    "pipe = iterative_imputer()\n",
    "pipe = standarizer(pipe)\n",
    "len(X_train.columns)"
   ]
  },
  {
   "cell_type": "code",
   "execution_count": 8,
   "id": "d58f6b39-fb08-4836-bf13-dbcfffc75bf4",
   "metadata": {},
   "outputs": [],
   "source": [
    "# Usamos Adadelta\n",
    "def get_model(cant1, cant2, act1, act2, reg):\n",
    "    model = Sequential()\n",
    "    model.add(Dense(cant1, input_shape = (len(X_train.columns),), activation=act1, kernel_regularizer=l2(reg)))\n",
    "    model.add(Dropout(0.2))\n",
    "    model.add(Dense(cant2, input_shape = (len(X_train.columns),), activation=act2, kernel_regularizer=l2(reg)))\n",
    "    model.add(Dropout(0.2))\n",
    "    model.add(Dense(1, activation='sigmoid'))\n",
    "    opt = Adadelta(learning_rate = 1.0) # Es el inicial, luego se ajusta solo\n",
    "    model.compile(loss='binary_crossentropy', optimizer=opt, metrics=[\"accuracy\", tf.keras.metrics.AUC(name = \"auc\")])\n",
    "    return model"
   ]
  },
  {
   "cell_type": "code",
   "execution_count": 12,
   "id": "6dd255d7-9193-4989-9bfe-0d803403f1c6",
   "metadata": {},
   "outputs": [],
   "source": [
    "# La grid tarda muchísimo en terminar, si se desea se puede cargar de archivo y saltear el proximo bloque\n",
    "# de código, descomentando la siguiente línea. También se pueden saltear los próximos 3 bloques de código si\n",
    "# solo se desea ver el modelo final con los parámetros encontrados.\n",
    "# grid2 = load('NeuralNetwork/grid.joblib') "
   ]
  },
  {
   "cell_type": "code",
   "execution_count": 8,
   "id": "7855033a-0478-44ed-8275-2bfee30493f1",
   "metadata": {},
   "outputs": [
    {
     "name": "stdout",
     "output_type": "stream",
     "text": [
      "Fitting 3 folds for each of 54 candidates, totalling 162 fits\n"
     ]
    },
    {
     "name": "stderr",
     "output_type": "stream",
     "text": [
      "2021-12-03 01:34:50.964809: I tensorflow/core/platform/cpu_feature_guard.cc:151] This TensorFlow binary is optimized with oneAPI Deep Neural Network Library (oneDNN) to use the following CPU instructions in performance-critical operations:  AVX2 FMA\n",
      "To enable them in other operations, rebuild TensorFlow with the appropriate compiler flags.\n",
      "2021-12-03 01:34:51.397218: I tensorflow/core/common_runtime/gpu/gpu_device.cc:1525] Created device /job:localhost/replica:0/task:0/device:GPU:0 with 5375 MB memory:  -> device: 0, name: NVIDIA GeForce GTX 1060, pci bus id: 0000:01:00.0, compute capability: 6.1\n",
      "/home/delu/.local/lib/python3.8/site-packages/sklearn/metrics/_classification.py:1308: UndefinedMetricWarning: Precision is ill-defined and being set to 0.0 due to no predicted samples. Use `zero_division` parameter to control this behavior.\n",
      "  _warn_prf(average, modifier, msg_start, len(result))\n"
     ]
    },
    {
     "data": {
      "text/plain": [
       "0.8903369164927767"
      ]
     },
     "execution_count": 8,
     "metadata": {},
     "output_type": "execute_result"
    }
   ],
   "source": [
    "X_grid = pipe.fit_transform(X_train)\n",
    "early_stop = EarlyStopping(monitor = \"auc\", mode = \"max\", patience = 200, restore_best_weights = True)\n",
    "\n",
    "params = {'model__cant1': [10,20],\n",
    "          'model__cant2': [8],\n",
    "          'model__act1': ['relu', 'tanh', 'sigmoid'],\n",
    "          'model__act2': ['relu', 'tanh', 'sigmoid'],\n",
    "          'model__reg': [0.00001, 0.0005, 0.01]}\n",
    "\n",
    "grid = GridSearchCV(KerasClassifier(model = get_model, batch_size = 1000, epochs = 3000, callbacks = [early_stop],\n",
    "                                    verbose = 0),\n",
    "                    param_grid = params, verbose = 1, n_jobs = 1, cv = 3, scoring = SCORINGS, refit = METRIC)\n",
    "\n",
    "grid.fit(X_grid, Y_train.values.ravel())\n",
    "\n",
    "grid.best_score_"
   ]
  },
  {
   "cell_type": "code",
   "execution_count": 11,
   "id": "e798a3c4-c899-40e5-95ac-faa8aed38b84",
   "metadata": {},
   "outputs": [
    {
     "name": "stderr",
     "output_type": "stream",
     "text": [
      "2021-12-03 09:55:35.710025: W tensorflow/python/util/util.cc:368] Sets are not currently considered sequences, but this may change in the future, so consider avoiding using them.\n"
     ]
    },
    {
     "name": "stdout",
     "output_type": "stream",
     "text": [
      "INFO:tensorflow:Assets written to: ram:///tmp/tmp39p6kdx_/assets\n"
     ]
    },
    {
     "data": {
      "text/plain": [
       "['NeuralNetwork/grid.joblib']"
      ]
     },
     "execution_count": 11,
     "metadata": {},
     "output_type": "execute_result"
    }
   ],
   "source": [
    "dump(grid, 'NeuralNetwork/grid.joblib') "
   ]
  },
  {
   "cell_type": "code",
   "execution_count": 12,
   "id": "66ac263e-98b5-44ce-874e-e04f21ae9ad5",
   "metadata": {},
   "outputs": [
    {
     "data": {
      "text/html": [
       "<div>\n",
       "<style scoped>\n",
       "    .dataframe tbody tr th:only-of-type {\n",
       "        vertical-align: middle;\n",
       "    }\n",
       "\n",
       "    .dataframe tbody tr th {\n",
       "        vertical-align: top;\n",
       "    }\n",
       "\n",
       "    .dataframe thead th {\n",
       "        text-align: right;\n",
       "    }\n",
       "</style>\n",
       "<table border=\"1\" class=\"dataframe\">\n",
       "  <thead>\n",
       "    <tr style=\"text-align: right;\">\n",
       "      <th></th>\n",
       "      <th>param_model__cant1</th>\n",
       "      <th>param_model__cant2</th>\n",
       "      <th>param_model__act1</th>\n",
       "      <th>param_model__act2</th>\n",
       "      <th>param_model__reg</th>\n",
       "      <th>mean_test_roc_auc</th>\n",
       "      <th>mean_test_accuracy</th>\n",
       "      <th>mean_test_precision</th>\n",
       "      <th>mean_test_recall</th>\n",
       "      <th>mean_test_f1</th>\n",
       "    </tr>\n",
       "  </thead>\n",
       "  <tbody>\n",
       "    <tr>\n",
       "      <th>0</th>\n",
       "      <td>20</td>\n",
       "      <td>8</td>\n",
       "      <td>sigmoid</td>\n",
       "      <td>relu</td>\n",
       "      <td>0.00001</td>\n",
       "      <td>0.890337</td>\n",
       "      <td>0.858431</td>\n",
       "      <td>0.772754</td>\n",
       "      <td>0.521118</td>\n",
       "      <td>0.622376</td>\n",
       "    </tr>\n",
       "    <tr>\n",
       "      <th>1</th>\n",
       "      <td>20</td>\n",
       "      <td>8</td>\n",
       "      <td>sigmoid</td>\n",
       "      <td>tanh</td>\n",
       "      <td>0.00001</td>\n",
       "      <td>0.890110</td>\n",
       "      <td>0.859544</td>\n",
       "      <td>0.754368</td>\n",
       "      <td>0.552744</td>\n",
       "      <td>0.637881</td>\n",
       "    </tr>\n",
       "    <tr>\n",
       "      <th>2</th>\n",
       "      <td>20</td>\n",
       "      <td>8</td>\n",
       "      <td>relu</td>\n",
       "      <td>sigmoid</td>\n",
       "      <td>0.00001</td>\n",
       "      <td>0.889432</td>\n",
       "      <td>0.856958</td>\n",
       "      <td>0.763105</td>\n",
       "      <td>0.523669</td>\n",
       "      <td>0.621083</td>\n",
       "    </tr>\n",
       "    <tr>\n",
       "      <th>3</th>\n",
       "      <td>20</td>\n",
       "      <td>8</td>\n",
       "      <td>relu</td>\n",
       "      <td>tanh</td>\n",
       "      <td>0.0005</td>\n",
       "      <td>0.889291</td>\n",
       "      <td>0.857048</td>\n",
       "      <td>0.763855</td>\n",
       "      <td>0.523334</td>\n",
       "      <td>0.621076</td>\n",
       "    </tr>\n",
       "    <tr>\n",
       "      <th>4</th>\n",
       "      <td>20</td>\n",
       "      <td>8</td>\n",
       "      <td>tanh</td>\n",
       "      <td>sigmoid</td>\n",
       "      <td>0.00001</td>\n",
       "      <td>0.888929</td>\n",
       "      <td>0.857018</td>\n",
       "      <td>0.776212</td>\n",
       "      <td>0.507756</td>\n",
       "      <td>0.613911</td>\n",
       "    </tr>\n",
       "    <tr>\n",
       "      <th>5</th>\n",
       "      <td>20</td>\n",
       "      <td>8</td>\n",
       "      <td>relu</td>\n",
       "      <td>tanh</td>\n",
       "      <td>0.00001</td>\n",
       "      <td>0.888562</td>\n",
       "      <td>0.857469</td>\n",
       "      <td>0.745473</td>\n",
       "      <td>0.551938</td>\n",
       "      <td>0.634191</td>\n",
       "    </tr>\n",
       "    <tr>\n",
       "      <th>6</th>\n",
       "      <td>20</td>\n",
       "      <td>8</td>\n",
       "      <td>tanh</td>\n",
       "      <td>relu</td>\n",
       "      <td>0.00001</td>\n",
       "      <td>0.888487</td>\n",
       "      <td>0.856567</td>\n",
       "      <td>0.772898</td>\n",
       "      <td>0.509166</td>\n",
       "      <td>0.613789</td>\n",
       "    </tr>\n",
       "    <tr>\n",
       "      <th>7</th>\n",
       "      <td>20</td>\n",
       "      <td>8</td>\n",
       "      <td>tanh</td>\n",
       "      <td>tanh</td>\n",
       "      <td>0.00001</td>\n",
       "      <td>0.888170</td>\n",
       "      <td>0.857169</td>\n",
       "      <td>0.743472</td>\n",
       "      <td>0.552743</td>\n",
       "      <td>0.634055</td>\n",
       "    </tr>\n",
       "    <tr>\n",
       "      <th>8</th>\n",
       "      <td>20</td>\n",
       "      <td>8</td>\n",
       "      <td>relu</td>\n",
       "      <td>relu</td>\n",
       "      <td>0.0005</td>\n",
       "      <td>0.888151</td>\n",
       "      <td>0.856522</td>\n",
       "      <td>0.753846</td>\n",
       "      <td>0.534011</td>\n",
       "      <td>0.624671</td>\n",
       "    </tr>\n",
       "    <tr>\n",
       "      <th>9</th>\n",
       "      <td>20</td>\n",
       "      <td>8</td>\n",
       "      <td>sigmoid</td>\n",
       "      <td>sigmoid</td>\n",
       "      <td>0.00001</td>\n",
       "      <td>0.887886</td>\n",
       "      <td>0.856688</td>\n",
       "      <td>0.775028</td>\n",
       "      <td>0.507152</td>\n",
       "      <td>0.613065</td>\n",
       "    </tr>\n",
       "    <tr>\n",
       "      <th>10</th>\n",
       "      <td>20</td>\n",
       "      <td>8</td>\n",
       "      <td>relu</td>\n",
       "      <td>tanh</td>\n",
       "      <td>0.01</td>\n",
       "      <td>0.887526</td>\n",
       "      <td>0.855831</td>\n",
       "      <td>0.730848</td>\n",
       "      <td>0.569869</td>\n",
       "      <td>0.638028</td>\n",
       "    </tr>\n",
       "    <tr>\n",
       "      <th>11</th>\n",
       "      <td>20</td>\n",
       "      <td>8</td>\n",
       "      <td>relu</td>\n",
       "      <td>sigmoid</td>\n",
       "      <td>0.0005</td>\n",
       "      <td>0.887073</td>\n",
       "      <td>0.855891</td>\n",
       "      <td>0.760127</td>\n",
       "      <td>0.520648</td>\n",
       "      <td>0.617988</td>\n",
       "    </tr>\n",
       "    <tr>\n",
       "      <th>12</th>\n",
       "      <td>20</td>\n",
       "      <td>8</td>\n",
       "      <td>relu</td>\n",
       "      <td>relu</td>\n",
       "      <td>0.00001</td>\n",
       "      <td>0.886868</td>\n",
       "      <td>0.854042</td>\n",
       "      <td>0.758471</td>\n",
       "      <td>0.511583</td>\n",
       "      <td>0.610745</td>\n",
       "    </tr>\n",
       "    <tr>\n",
       "      <th>13</th>\n",
       "      <td>20</td>\n",
       "      <td>8</td>\n",
       "      <td>relu</td>\n",
       "      <td>relu</td>\n",
       "      <td>0.01</td>\n",
       "      <td>0.886317</td>\n",
       "      <td>0.856056</td>\n",
       "      <td>0.743232</td>\n",
       "      <td>0.546231</td>\n",
       "      <td>0.629448</td>\n",
       "    </tr>\n",
       "    <tr>\n",
       "      <th>14</th>\n",
       "      <td>10</td>\n",
       "      <td>8</td>\n",
       "      <td>sigmoid</td>\n",
       "      <td>relu</td>\n",
       "      <td>0.00001</td>\n",
       "      <td>0.886301</td>\n",
       "      <td>0.856146</td>\n",
       "      <td>0.766330</td>\n",
       "      <td>0.514740</td>\n",
       "      <td>0.615647</td>\n",
       "    </tr>\n",
       "    <tr>\n",
       "      <th>15</th>\n",
       "      <td>20</td>\n",
       "      <td>8</td>\n",
       "      <td>sigmoid</td>\n",
       "      <td>tanh</td>\n",
       "      <td>0.0005</td>\n",
       "      <td>0.885625</td>\n",
       "      <td>0.856026</td>\n",
       "      <td>0.750405</td>\n",
       "      <td>0.535151</td>\n",
       "      <td>0.624684</td>\n",
       "    </tr>\n",
       "    <tr>\n",
       "      <th>16</th>\n",
       "      <td>20</td>\n",
       "      <td>8</td>\n",
       "      <td>sigmoid</td>\n",
       "      <td>relu</td>\n",
       "      <td>0.0005</td>\n",
       "      <td>0.885495</td>\n",
       "      <td>0.855064</td>\n",
       "      <td>0.757909</td>\n",
       "      <td>0.519103</td>\n",
       "      <td>0.615877</td>\n",
       "    </tr>\n",
       "    <tr>\n",
       "      <th>17</th>\n",
       "      <td>10</td>\n",
       "      <td>8</td>\n",
       "      <td>relu</td>\n",
       "      <td>tanh</td>\n",
       "      <td>0.0005</td>\n",
       "      <td>0.885380</td>\n",
       "      <td>0.855139</td>\n",
       "      <td>0.757829</td>\n",
       "      <td>0.518902</td>\n",
       "      <td>0.615907</td>\n",
       "    </tr>\n",
       "    <tr>\n",
       "      <th>18</th>\n",
       "      <td>10</td>\n",
       "      <td>8</td>\n",
       "      <td>sigmoid</td>\n",
       "      <td>tanh</td>\n",
       "      <td>0.00001</td>\n",
       "      <td>0.885238</td>\n",
       "      <td>0.855906</td>\n",
       "      <td>0.756323</td>\n",
       "      <td>0.525818</td>\n",
       "      <td>0.620304</td>\n",
       "    </tr>\n",
       "    <tr>\n",
       "      <th>19</th>\n",
       "      <td>20</td>\n",
       "      <td>8</td>\n",
       "      <td>tanh</td>\n",
       "      <td>relu</td>\n",
       "      <td>0.0005</td>\n",
       "      <td>0.885226</td>\n",
       "      <td>0.855515</td>\n",
       "      <td>0.761122</td>\n",
       "      <td>0.517022</td>\n",
       "      <td>0.615639</td>\n",
       "    </tr>\n",
       "    <tr>\n",
       "      <th>20</th>\n",
       "      <td>10</td>\n",
       "      <td>8</td>\n",
       "      <td>tanh</td>\n",
       "      <td>relu</td>\n",
       "      <td>0.00001</td>\n",
       "      <td>0.884997</td>\n",
       "      <td>0.854854</td>\n",
       "      <td>0.757016</td>\n",
       "      <td>0.518497</td>\n",
       "      <td>0.615218</td>\n",
       "    </tr>\n",
       "    <tr>\n",
       "      <th>21</th>\n",
       "      <td>10</td>\n",
       "      <td>8</td>\n",
       "      <td>relu</td>\n",
       "      <td>relu</td>\n",
       "      <td>0.0005</td>\n",
       "      <td>0.884914</td>\n",
       "      <td>0.854448</td>\n",
       "      <td>0.764072</td>\n",
       "      <td>0.506211</td>\n",
       "      <td>0.608949</td>\n",
       "    </tr>\n",
       "    <tr>\n",
       "      <th>22</th>\n",
       "      <td>10</td>\n",
       "      <td>8</td>\n",
       "      <td>relu</td>\n",
       "      <td>tanh</td>\n",
       "      <td>0.00001</td>\n",
       "      <td>0.884879</td>\n",
       "      <td>0.854658</td>\n",
       "      <td>0.746988</td>\n",
       "      <td>0.530853</td>\n",
       "      <td>0.620565</td>\n",
       "    </tr>\n",
       "    <tr>\n",
       "      <th>23</th>\n",
       "      <td>10</td>\n",
       "      <td>8</td>\n",
       "      <td>tanh</td>\n",
       "      <td>sigmoid</td>\n",
       "      <td>0.00001</td>\n",
       "      <td>0.884590</td>\n",
       "      <td>0.853921</td>\n",
       "      <td>0.760924</td>\n",
       "      <td>0.508093</td>\n",
       "      <td>0.608729</td>\n",
       "    </tr>\n",
       "    <tr>\n",
       "      <th>24</th>\n",
       "      <td>10</td>\n",
       "      <td>8</td>\n",
       "      <td>tanh</td>\n",
       "      <td>tanh</td>\n",
       "      <td>0.00001</td>\n",
       "      <td>0.884389</td>\n",
       "      <td>0.854763</td>\n",
       "      <td>0.740252</td>\n",
       "      <td>0.541464</td>\n",
       "      <td>0.625269</td>\n",
       "    </tr>\n",
       "    <tr>\n",
       "      <th>25</th>\n",
       "      <td>10</td>\n",
       "      <td>8</td>\n",
       "      <td>relu</td>\n",
       "      <td>relu</td>\n",
       "      <td>0.00001</td>\n",
       "      <td>0.883810</td>\n",
       "      <td>0.852313</td>\n",
       "      <td>0.759481</td>\n",
       "      <td>0.502052</td>\n",
       "      <td>0.602465</td>\n",
       "    </tr>\n",
       "    <tr>\n",
       "      <th>26</th>\n",
       "      <td>20</td>\n",
       "      <td>8</td>\n",
       "      <td>tanh</td>\n",
       "      <td>tanh</td>\n",
       "      <td>0.0005</td>\n",
       "      <td>0.883806</td>\n",
       "      <td>0.855184</td>\n",
       "      <td>0.741085</td>\n",
       "      <td>0.543209</td>\n",
       "      <td>0.626807</td>\n",
       "    </tr>\n",
       "    <tr>\n",
       "      <th>27</th>\n",
       "      <td>10</td>\n",
       "      <td>8</td>\n",
       "      <td>relu</td>\n",
       "      <td>sigmoid</td>\n",
       "      <td>0.00001</td>\n",
       "      <td>0.883726</td>\n",
       "      <td>0.853741</td>\n",
       "      <td>0.745545</td>\n",
       "      <td>0.527027</td>\n",
       "      <td>0.617287</td>\n",
       "    </tr>\n",
       "    <tr>\n",
       "      <th>28</th>\n",
       "      <td>20</td>\n",
       "      <td>8</td>\n",
       "      <td>tanh</td>\n",
       "      <td>sigmoid</td>\n",
       "      <td>0.0005</td>\n",
       "      <td>0.883532</td>\n",
       "      <td>0.853816</td>\n",
       "      <td>0.764745</td>\n",
       "      <td>0.501445</td>\n",
       "      <td>0.605604</td>\n",
       "    </tr>\n",
       "    <tr>\n",
       "      <th>29</th>\n",
       "      <td>10</td>\n",
       "      <td>8</td>\n",
       "      <td>sigmoid</td>\n",
       "      <td>sigmoid</td>\n",
       "      <td>0.00001</td>\n",
       "      <td>0.883414</td>\n",
       "      <td>0.854207</td>\n",
       "      <td>0.757115</td>\n",
       "      <td>0.513934</td>\n",
       "      <td>0.612095</td>\n",
       "    </tr>\n",
       "    <tr>\n",
       "      <th>30</th>\n",
       "      <td>10</td>\n",
       "      <td>8</td>\n",
       "      <td>relu</td>\n",
       "      <td>sigmoid</td>\n",
       "      <td>0.0005</td>\n",
       "      <td>0.882982</td>\n",
       "      <td>0.853861</td>\n",
       "      <td>0.744892</td>\n",
       "      <td>0.528571</td>\n",
       "      <td>0.618235</td>\n",
       "    </tr>\n",
       "    <tr>\n",
       "      <th>31</th>\n",
       "      <td>10</td>\n",
       "      <td>8</td>\n",
       "      <td>relu</td>\n",
       "      <td>tanh</td>\n",
       "      <td>0.01</td>\n",
       "      <td>0.882844</td>\n",
       "      <td>0.852433</td>\n",
       "      <td>0.765727</td>\n",
       "      <td>0.495000</td>\n",
       "      <td>0.599397</td>\n",
       "    </tr>\n",
       "    <tr>\n",
       "      <th>32</th>\n",
       "      <td>10</td>\n",
       "      <td>8</td>\n",
       "      <td>sigmoid</td>\n",
       "      <td>tanh</td>\n",
       "      <td>0.0005</td>\n",
       "      <td>0.882583</td>\n",
       "      <td>0.852313</td>\n",
       "      <td>0.771513</td>\n",
       "      <td>0.484794</td>\n",
       "      <td>0.594734</td>\n",
       "    </tr>\n",
       "    <tr>\n",
       "      <th>33</th>\n",
       "      <td>10</td>\n",
       "      <td>8</td>\n",
       "      <td>sigmoid</td>\n",
       "      <td>relu</td>\n",
       "      <td>0.0005</td>\n",
       "      <td>0.882237</td>\n",
       "      <td>0.852283</td>\n",
       "      <td>0.766300</td>\n",
       "      <td>0.491171</td>\n",
       "      <td>0.597635</td>\n",
       "    </tr>\n",
       "    <tr>\n",
       "      <th>34</th>\n",
       "      <td>10</td>\n",
       "      <td>8</td>\n",
       "      <td>tanh</td>\n",
       "      <td>relu</td>\n",
       "      <td>0.0005</td>\n",
       "      <td>0.882080</td>\n",
       "      <td>0.853395</td>\n",
       "      <td>0.763603</td>\n",
       "      <td>0.500102</td>\n",
       "      <td>0.604271</td>\n",
       "    </tr>\n",
       "    <tr>\n",
       "      <th>35</th>\n",
       "      <td>10</td>\n",
       "      <td>8</td>\n",
       "      <td>relu</td>\n",
       "      <td>relu</td>\n",
       "      <td>0.01</td>\n",
       "      <td>0.882058</td>\n",
       "      <td>0.854012</td>\n",
       "      <td>0.745996</td>\n",
       "      <td>0.529715</td>\n",
       "      <td>0.618508</td>\n",
       "    </tr>\n",
       "    <tr>\n",
       "      <th>36</th>\n",
       "      <td>10</td>\n",
       "      <td>8</td>\n",
       "      <td>tanh</td>\n",
       "      <td>tanh</td>\n",
       "      <td>0.0005</td>\n",
       "      <td>0.881437</td>\n",
       "      <td>0.853771</td>\n",
       "      <td>0.741805</td>\n",
       "      <td>0.532196</td>\n",
       "      <td>0.619711</td>\n",
       "    </tr>\n",
       "    <tr>\n",
       "      <th>37</th>\n",
       "      <td>10</td>\n",
       "      <td>8</td>\n",
       "      <td>tanh</td>\n",
       "      <td>sigmoid</td>\n",
       "      <td>0.0005</td>\n",
       "      <td>0.880214</td>\n",
       "      <td>0.851937</td>\n",
       "      <td>0.757183</td>\n",
       "      <td>0.498759</td>\n",
       "      <td>0.601241</td>\n",
       "    </tr>\n",
       "    <tr>\n",
       "      <th>38</th>\n",
       "      <td>10</td>\n",
       "      <td>8</td>\n",
       "      <td>sigmoid</td>\n",
       "      <td>sigmoid</td>\n",
       "      <td>0.0005</td>\n",
       "      <td>0.873131</td>\n",
       "      <td>0.848975</td>\n",
       "      <td>0.749164</td>\n",
       "      <td>0.489290</td>\n",
       "      <td>0.591954</td>\n",
       "    </tr>\n",
       "    <tr>\n",
       "      <th>39</th>\n",
       "      <td>20</td>\n",
       "      <td>8</td>\n",
       "      <td>sigmoid</td>\n",
       "      <td>sigmoid</td>\n",
       "      <td>0.0005</td>\n",
       "      <td>0.872675</td>\n",
       "      <td>0.848299</td>\n",
       "      <td>0.747027</td>\n",
       "      <td>0.488083</td>\n",
       "      <td>0.590198</td>\n",
       "    </tr>\n",
       "    <tr>\n",
       "      <th>40</th>\n",
       "      <td>10</td>\n",
       "      <td>8</td>\n",
       "      <td>tanh</td>\n",
       "      <td>relu</td>\n",
       "      <td>0.01</td>\n",
       "      <td>0.869568</td>\n",
       "      <td>0.846134</td>\n",
       "      <td>0.723839</td>\n",
       "      <td>0.506615</td>\n",
       "      <td>0.595659</td>\n",
       "    </tr>\n",
       "    <tr>\n",
       "      <th>41</th>\n",
       "      <td>20</td>\n",
       "      <td>8</td>\n",
       "      <td>tanh</td>\n",
       "      <td>relu</td>\n",
       "      <td>0.01</td>\n",
       "      <td>0.869242</td>\n",
       "      <td>0.845698</td>\n",
       "      <td>0.730898</td>\n",
       "      <td>0.492379</td>\n",
       "      <td>0.588217</td>\n",
       "    </tr>\n",
       "    <tr>\n",
       "      <th>42</th>\n",
       "      <td>10</td>\n",
       "      <td>8</td>\n",
       "      <td>tanh</td>\n",
       "      <td>tanh</td>\n",
       "      <td>0.01</td>\n",
       "      <td>0.866965</td>\n",
       "      <td>0.845172</td>\n",
       "      <td>0.728706</td>\n",
       "      <td>0.491708</td>\n",
       "      <td>0.587070</td>\n",
       "    </tr>\n",
       "    <tr>\n",
       "      <th>43</th>\n",
       "      <td>20</td>\n",
       "      <td>8</td>\n",
       "      <td>tanh</td>\n",
       "      <td>tanh</td>\n",
       "      <td>0.01</td>\n",
       "      <td>0.866344</td>\n",
       "      <td>0.843819</td>\n",
       "      <td>0.702250</td>\n",
       "      <td>0.525483</td>\n",
       "      <td>0.600984</td>\n",
       "    </tr>\n",
       "    <tr>\n",
       "      <th>44</th>\n",
       "      <td>10</td>\n",
       "      <td>8</td>\n",
       "      <td>tanh</td>\n",
       "      <td>sigmoid</td>\n",
       "      <td>0.01</td>\n",
       "      <td>0.864691</td>\n",
       "      <td>0.842812</td>\n",
       "      <td>0.736426</td>\n",
       "      <td>0.464380</td>\n",
       "      <td>0.569374</td>\n",
       "    </tr>\n",
       "    <tr>\n",
       "      <th>45</th>\n",
       "      <td>10</td>\n",
       "      <td>8</td>\n",
       "      <td>sigmoid</td>\n",
       "      <td>tanh</td>\n",
       "      <td>0.01</td>\n",
       "      <td>0.864571</td>\n",
       "      <td>0.842105</td>\n",
       "      <td>0.750725</td>\n",
       "      <td>0.444373</td>\n",
       "      <td>0.556447</td>\n",
       "    </tr>\n",
       "    <tr>\n",
       "      <th>46</th>\n",
       "      <td>20</td>\n",
       "      <td>8</td>\n",
       "      <td>tanh</td>\n",
       "      <td>sigmoid</td>\n",
       "      <td>0.01</td>\n",
       "      <td>0.864160</td>\n",
       "      <td>0.842677</td>\n",
       "      <td>0.738921</td>\n",
       "      <td>0.459747</td>\n",
       "      <td>0.566805</td>\n",
       "    </tr>\n",
       "    <tr>\n",
       "      <th>47</th>\n",
       "      <td>10</td>\n",
       "      <td>8</td>\n",
       "      <td>sigmoid</td>\n",
       "      <td>relu</td>\n",
       "      <td>0.01</td>\n",
       "      <td>0.864101</td>\n",
       "      <td>0.840196</td>\n",
       "      <td>0.751727</td>\n",
       "      <td>0.434840</td>\n",
       "      <td>0.546525</td>\n",
       "    </tr>\n",
       "    <tr>\n",
       "      <th>48</th>\n",
       "      <td>20</td>\n",
       "      <td>8</td>\n",
       "      <td>sigmoid</td>\n",
       "      <td>relu</td>\n",
       "      <td>0.01</td>\n",
       "      <td>0.863946</td>\n",
       "      <td>0.840256</td>\n",
       "      <td>0.762610</td>\n",
       "      <td>0.417311</td>\n",
       "      <td>0.538653</td>\n",
       "    </tr>\n",
       "    <tr>\n",
       "      <th>49</th>\n",
       "      <td>10</td>\n",
       "      <td>8</td>\n",
       "      <td>relu</td>\n",
       "      <td>sigmoid</td>\n",
       "      <td>0.01</td>\n",
       "      <td>0.863912</td>\n",
       "      <td>0.841519</td>\n",
       "      <td>0.750371</td>\n",
       "      <td>0.438396</td>\n",
       "      <td>0.553015</td>\n",
       "    </tr>\n",
       "    <tr>\n",
       "      <th>50</th>\n",
       "      <td>20</td>\n",
       "      <td>8</td>\n",
       "      <td>relu</td>\n",
       "      <td>sigmoid</td>\n",
       "      <td>0.01</td>\n",
       "      <td>0.863794</td>\n",
       "      <td>0.841850</td>\n",
       "      <td>0.743707</td>\n",
       "      <td>0.448870</td>\n",
       "      <td>0.559395</td>\n",
       "    </tr>\n",
       "    <tr>\n",
       "      <th>51</th>\n",
       "      <td>20</td>\n",
       "      <td>8</td>\n",
       "      <td>sigmoid</td>\n",
       "      <td>tanh</td>\n",
       "      <td>0.01</td>\n",
       "      <td>0.863759</td>\n",
       "      <td>0.840271</td>\n",
       "      <td>0.753910</td>\n",
       "      <td>0.430409</td>\n",
       "      <td>0.544646</td>\n",
       "    </tr>\n",
       "    <tr>\n",
       "      <th>52</th>\n",
       "      <td>10</td>\n",
       "      <td>8</td>\n",
       "      <td>sigmoid</td>\n",
       "      <td>sigmoid</td>\n",
       "      <td>0.01</td>\n",
       "      <td>0.856815</td>\n",
       "      <td>0.828184</td>\n",
       "      <td>0.813503</td>\n",
       "      <td>0.301820</td>\n",
       "      <td>0.440271</td>\n",
       "    </tr>\n",
       "    <tr>\n",
       "      <th>53</th>\n",
       "      <td>20</td>\n",
       "      <td>8</td>\n",
       "      <td>sigmoid</td>\n",
       "      <td>sigmoid</td>\n",
       "      <td>0.01</td>\n",
       "      <td>0.853289</td>\n",
       "      <td>0.811062</td>\n",
       "      <td>0.546188</td>\n",
       "      <td>0.200309</td>\n",
       "      <td>0.293119</td>\n",
       "    </tr>\n",
       "  </tbody>\n",
       "</table>\n",
       "</div>"
      ],
      "text/plain": [
       "   param_model__cant1 param_model__cant2 param_model__act1 param_model__act2  \\\n",
       "0                  20                  8           sigmoid              relu   \n",
       "1                  20                  8           sigmoid              tanh   \n",
       "2                  20                  8              relu           sigmoid   \n",
       "3                  20                  8              relu              tanh   \n",
       "4                  20                  8              tanh           sigmoid   \n",
       "5                  20                  8              relu              tanh   \n",
       "6                  20                  8              tanh              relu   \n",
       "7                  20                  8              tanh              tanh   \n",
       "8                  20                  8              relu              relu   \n",
       "9                  20                  8           sigmoid           sigmoid   \n",
       "10                 20                  8              relu              tanh   \n",
       "11                 20                  8              relu           sigmoid   \n",
       "12                 20                  8              relu              relu   \n",
       "13                 20                  8              relu              relu   \n",
       "14                 10                  8           sigmoid              relu   \n",
       "15                 20                  8           sigmoid              tanh   \n",
       "16                 20                  8           sigmoid              relu   \n",
       "17                 10                  8              relu              tanh   \n",
       "18                 10                  8           sigmoid              tanh   \n",
       "19                 20                  8              tanh              relu   \n",
       "20                 10                  8              tanh              relu   \n",
       "21                 10                  8              relu              relu   \n",
       "22                 10                  8              relu              tanh   \n",
       "23                 10                  8              tanh           sigmoid   \n",
       "24                 10                  8              tanh              tanh   \n",
       "25                 10                  8              relu              relu   \n",
       "26                 20                  8              tanh              tanh   \n",
       "27                 10                  8              relu           sigmoid   \n",
       "28                 20                  8              tanh           sigmoid   \n",
       "29                 10                  8           sigmoid           sigmoid   \n",
       "30                 10                  8              relu           sigmoid   \n",
       "31                 10                  8              relu              tanh   \n",
       "32                 10                  8           sigmoid              tanh   \n",
       "33                 10                  8           sigmoid              relu   \n",
       "34                 10                  8              tanh              relu   \n",
       "35                 10                  8              relu              relu   \n",
       "36                 10                  8              tanh              tanh   \n",
       "37                 10                  8              tanh           sigmoid   \n",
       "38                 10                  8           sigmoid           sigmoid   \n",
       "39                 20                  8           sigmoid           sigmoid   \n",
       "40                 10                  8              tanh              relu   \n",
       "41                 20                  8              tanh              relu   \n",
       "42                 10                  8              tanh              tanh   \n",
       "43                 20                  8              tanh              tanh   \n",
       "44                 10                  8              tanh           sigmoid   \n",
       "45                 10                  8           sigmoid              tanh   \n",
       "46                 20                  8              tanh           sigmoid   \n",
       "47                 10                  8           sigmoid              relu   \n",
       "48                 20                  8           sigmoid              relu   \n",
       "49                 10                  8              relu           sigmoid   \n",
       "50                 20                  8              relu           sigmoid   \n",
       "51                 20                  8           sigmoid              tanh   \n",
       "52                 10                  8           sigmoid           sigmoid   \n",
       "53                 20                  8           sigmoid           sigmoid   \n",
       "\n",
       "   param_model__reg  mean_test_roc_auc  mean_test_accuracy  \\\n",
       "0           0.00001           0.890337            0.858431   \n",
       "1           0.00001           0.890110            0.859544   \n",
       "2           0.00001           0.889432            0.856958   \n",
       "3            0.0005           0.889291            0.857048   \n",
       "4           0.00001           0.888929            0.857018   \n",
       "5           0.00001           0.888562            0.857469   \n",
       "6           0.00001           0.888487            0.856567   \n",
       "7           0.00001           0.888170            0.857169   \n",
       "8            0.0005           0.888151            0.856522   \n",
       "9           0.00001           0.887886            0.856688   \n",
       "10             0.01           0.887526            0.855831   \n",
       "11           0.0005           0.887073            0.855891   \n",
       "12          0.00001           0.886868            0.854042   \n",
       "13             0.01           0.886317            0.856056   \n",
       "14          0.00001           0.886301            0.856146   \n",
       "15           0.0005           0.885625            0.856026   \n",
       "16           0.0005           0.885495            0.855064   \n",
       "17           0.0005           0.885380            0.855139   \n",
       "18          0.00001           0.885238            0.855906   \n",
       "19           0.0005           0.885226            0.855515   \n",
       "20          0.00001           0.884997            0.854854   \n",
       "21           0.0005           0.884914            0.854448   \n",
       "22          0.00001           0.884879            0.854658   \n",
       "23          0.00001           0.884590            0.853921   \n",
       "24          0.00001           0.884389            0.854763   \n",
       "25          0.00001           0.883810            0.852313   \n",
       "26           0.0005           0.883806            0.855184   \n",
       "27          0.00001           0.883726            0.853741   \n",
       "28           0.0005           0.883532            0.853816   \n",
       "29          0.00001           0.883414            0.854207   \n",
       "30           0.0005           0.882982            0.853861   \n",
       "31             0.01           0.882844            0.852433   \n",
       "32           0.0005           0.882583            0.852313   \n",
       "33           0.0005           0.882237            0.852283   \n",
       "34           0.0005           0.882080            0.853395   \n",
       "35             0.01           0.882058            0.854012   \n",
       "36           0.0005           0.881437            0.853771   \n",
       "37           0.0005           0.880214            0.851937   \n",
       "38           0.0005           0.873131            0.848975   \n",
       "39           0.0005           0.872675            0.848299   \n",
       "40             0.01           0.869568            0.846134   \n",
       "41             0.01           0.869242            0.845698   \n",
       "42             0.01           0.866965            0.845172   \n",
       "43             0.01           0.866344            0.843819   \n",
       "44             0.01           0.864691            0.842812   \n",
       "45             0.01           0.864571            0.842105   \n",
       "46             0.01           0.864160            0.842677   \n",
       "47             0.01           0.864101            0.840196   \n",
       "48             0.01           0.863946            0.840256   \n",
       "49             0.01           0.863912            0.841519   \n",
       "50             0.01           0.863794            0.841850   \n",
       "51             0.01           0.863759            0.840271   \n",
       "52             0.01           0.856815            0.828184   \n",
       "53             0.01           0.853289            0.811062   \n",
       "\n",
       "    mean_test_precision  mean_test_recall  mean_test_f1  \n",
       "0              0.772754          0.521118      0.622376  \n",
       "1              0.754368          0.552744      0.637881  \n",
       "2              0.763105          0.523669      0.621083  \n",
       "3              0.763855          0.523334      0.621076  \n",
       "4              0.776212          0.507756      0.613911  \n",
       "5              0.745473          0.551938      0.634191  \n",
       "6              0.772898          0.509166      0.613789  \n",
       "7              0.743472          0.552743      0.634055  \n",
       "8              0.753846          0.534011      0.624671  \n",
       "9              0.775028          0.507152      0.613065  \n",
       "10             0.730848          0.569869      0.638028  \n",
       "11             0.760127          0.520648      0.617988  \n",
       "12             0.758471          0.511583      0.610745  \n",
       "13             0.743232          0.546231      0.629448  \n",
       "14             0.766330          0.514740      0.615647  \n",
       "15             0.750405          0.535151      0.624684  \n",
       "16             0.757909          0.519103      0.615877  \n",
       "17             0.757829          0.518902      0.615907  \n",
       "18             0.756323          0.525818      0.620304  \n",
       "19             0.761122          0.517022      0.615639  \n",
       "20             0.757016          0.518497      0.615218  \n",
       "21             0.764072          0.506211      0.608949  \n",
       "22             0.746988          0.530853      0.620565  \n",
       "23             0.760924          0.508093      0.608729  \n",
       "24             0.740252          0.541464      0.625269  \n",
       "25             0.759481          0.502052      0.602465  \n",
       "26             0.741085          0.543209      0.626807  \n",
       "27             0.745545          0.527027      0.617287  \n",
       "28             0.764745          0.501445      0.605604  \n",
       "29             0.757115          0.513934      0.612095  \n",
       "30             0.744892          0.528571      0.618235  \n",
       "31             0.765727          0.495000      0.599397  \n",
       "32             0.771513          0.484794      0.594734  \n",
       "33             0.766300          0.491171      0.597635  \n",
       "34             0.763603          0.500102      0.604271  \n",
       "35             0.745996          0.529715      0.618508  \n",
       "36             0.741805          0.532196      0.619711  \n",
       "37             0.757183          0.498759      0.601241  \n",
       "38             0.749164          0.489290      0.591954  \n",
       "39             0.747027          0.488083      0.590198  \n",
       "40             0.723839          0.506615      0.595659  \n",
       "41             0.730898          0.492379      0.588217  \n",
       "42             0.728706          0.491708      0.587070  \n",
       "43             0.702250          0.525483      0.600984  \n",
       "44             0.736426          0.464380      0.569374  \n",
       "45             0.750725          0.444373      0.556447  \n",
       "46             0.738921          0.459747      0.566805  \n",
       "47             0.751727          0.434840      0.546525  \n",
       "48             0.762610          0.417311      0.538653  \n",
       "49             0.750371          0.438396      0.553015  \n",
       "50             0.743707          0.448870      0.559395  \n",
       "51             0.753910          0.430409      0.544646  \n",
       "52             0.813503          0.301820      0.440271  \n",
       "53             0.546188          0.200309      0.293119  "
      ]
     },
     "execution_count": 12,
     "metadata": {},
     "output_type": "execute_result"
    }
   ],
   "source": [
    "tabla = pd.DataFrame(grid.cv_results_)\n",
    "tabla.sort_values(\"rank_test_\" + METRIC, inplace = True)\n",
    "tabla.reset_index(inplace = True)\n",
    "cols = [\"param_\" + x for x in params] + [\"mean_test_\" + x for x in SCORINGS]\n",
    "tabla[cols]"
   ]
  },
  {
   "cell_type": "markdown",
   "id": "67e6665b-681c-4909-ba3d-24ad58c16347",
   "metadata": {},
   "source": [
    "Probamos un modelo con esos parámetros"
   ]
  },
  {
   "cell_type": "code",
   "execution_count": 10,
   "id": "0f0d2209-c8c0-4526-9ca9-e16cd70715dc",
   "metadata": {},
   "outputs": [],
   "source": [
    "pipe.fit(X_train)\n",
    "X_test_mod = pipe.transform(X_test)"
   ]
  },
  {
   "cell_type": "code",
   "execution_count": 11,
   "id": "86eb95eb-c2d3-43a5-9951-335bc2bdc641",
   "metadata": {},
   "outputs": [
    {
     "name": "stderr",
     "output_type": "stream",
     "text": [
      "2021-12-05 18:38:54.548738: I tensorflow/core/platform/cpu_feature_guard.cc:151] This TensorFlow binary is optimized with oneAPI Deep Neural Network Library (oneDNN) to use the following CPU instructions in performance-critical operations:  AVX2 FMA\n",
      "To enable them in other operations, rebuild TensorFlow with the appropriate compiler flags.\n",
      "2021-12-05 18:38:55.412772: I tensorflow/core/common_runtime/gpu/gpu_device.cc:1525] Created device /job:localhost/replica:0/task:0/device:GPU:0 with 5375 MB memory:  -> device: 0, name: NVIDIA GeForce GTX 1060, pci bus id: 0000:01:00.0, compute capability: 6.1\n"
     ]
    }
   ],
   "source": [
    "early_stop = EarlyStopping(monitor = \"val_auc\", mode = \"max\", patience = 200, restore_best_weights = True)\n",
    "\n",
    "pipe.steps.append(['keras', KerasClassifier(get_model(20, 8, 'sigmoid', 'relu', 0.00001), batch_size = 1000, epochs = 3000, callbacks = [early_stop],\n",
    "                                           verbose = 0)])"
   ]
  },
  {
   "cell_type": "code",
   "execution_count": 12,
   "id": "3280294c-9785-4cfe-a5e8-8c36594f349e",
   "metadata": {},
   "outputs": [
    {
     "data": {
      "text/plain": [
       "Pipeline(steps=[('imputer', IterativeImputer(random_state=123)),\n",
       "                ('scaler', StandardScaler()),\n",
       "                ['keras',\n",
       "                 KerasClassifier(batch_size=1000, callbacks=[<keras.callbacks.EarlyStopping object at 0x7f62fa208670>], epochs=3000, model=<keras.engine.sequential.Sequential object at 0x7f62fa208d30>, verbose=0)]])"
      ]
     },
     "execution_count": 12,
     "metadata": {},
     "output_type": "execute_result"
    }
   ],
   "source": [
    "pipe.fit(X_train, Y_train, keras__validation_data=(X_test_mod, Y_test))"
   ]
  },
  {
   "cell_type": "code",
   "execution_count": 24,
   "id": "43d9779d-7acd-4389-a418-7679659c8aec",
   "metadata": {},
   "outputs": [
    {
     "name": "stdout",
     "output_type": "stream",
     "text": [
      "Cantidad de epochs procesadas: 2693\n"
     ]
    }
   ],
   "source": [
    "history = pipe.named_steps['keras'].history_\n",
    "print(f\"Cantidad de epochs procesadas: {len(history['loss'])}\")"
   ]
  },
  {
   "cell_type": "code",
   "execution_count": 25,
   "id": "59c1fb1c-420b-49bf-8f13-0cdd25f5fe51",
   "metadata": {},
   "outputs": [
    {
     "data": {
      "image/png": "[encoded data removed]",
      "text/plain": [
       "<Figure size 960x480 with 1 Axes>"
      ]
     },
     "metadata": {
      "needs_background": "light"
     },
     "output_type": "display_data"
    }
   ],
   "source": [
    "plot_rmse(history)"
   ]
  },
  {
   "cell_type": "code",
   "execution_count": 26,
   "id": "105f8447-20cb-4aed-9340-381ff875453e",
   "metadata": {},
   "outputs": [
    {
     "data": {
      "text/html": [
       "<div>\n",
       "<style scoped>\n",
       "    .dataframe tbody tr th:only-of-type {\n",
       "        vertical-align: middle;\n",
       "    }\n",
       "\n",
       "    .dataframe tbody tr th {\n",
       "        vertical-align: top;\n",
       "    }\n",
       "\n",
       "    .dataframe thead th {\n",
       "        text-align: right;\n",
       "    }\n",
       "</style>\n",
       "<table border=\"1\" class=\"dataframe\">\n",
       "  <thead>\n",
       "    <tr style=\"text-align: right;\">\n",
       "      <th></th>\n",
       "      <th>AUC-ROC</th>\n",
       "      <th>Accuracy</th>\n",
       "      <th>Precision</th>\n",
       "      <th>Recall</th>\n",
       "      <th>F1 Score</th>\n",
       "    </tr>\n",
       "  </thead>\n",
       "  <tbody>\n",
       "    <tr>\n",
       "      <th>0</th>\n",
       "      <td>0.894741</td>\n",
       "      <td>0.860074</td>\n",
       "      <td>0.774211</td>\n",
       "      <td>0.529368</td>\n",
       "      <td>0.628796</td>\n",
       "    </tr>\n",
       "  </tbody>\n",
       "</table>\n",
       "</div>"
      ],
      "text/plain": [
       "    AUC-ROC  Accuracy  Precision    Recall  F1 Score\n",
       "0  0.894741  0.860074   0.774211  0.529368  0.628796"
      ]
     },
     "execution_count": 26,
     "metadata": {},
     "output_type": "execute_result"
    }
   ],
   "source": [
    "metrics_table(pipe, X_test, Y_test)"
   ]
  },
  {
   "cell_type": "markdown",
   "id": "51e0bb00-6461-4e65-a396-3f45cdf17f7b",
   "metadata": {},
   "source": [
    "El AUC dio muy similar a los anteriores (en este caso, ~0.895), un poco peor que el modelo gigantesco inicial pero mejor que los otros regularizados que probamos. Como es un modelo mucho más simple (como 15 veces menos de cantidad de parámetros), nos vamos a quedar con este."
   ]
  },
  {
   "cell_type": "markdown",
   "id": "14c3016a-4314-481b-8057-90ac3fd6cbf4",
   "metadata": {},
   "source": [
    "## Predicción de nuevos datos"
   ]
  },
  {
   "cell_type": "markdown",
   "id": "f18b5cbc-fac7-4fb7-9080-a68a6bcd80a8",
   "metadata": {},
   "source": [
    "Vamos a utilizar el modelo obtenido en este último grid search, que es de los sencillos el que mejor dio."
   ]
  },
  {
   "cell_type": "code",
   "execution_count": 17,
   "id": "80e4f0a7-59a2-49c6-a231-24396376c23a",
   "metadata": {},
   "outputs": [
    {
     "data": {
      "text/html": [
       "<div>\n",
       "<style scoped>\n",
       "    .dataframe tbody tr th:only-of-type {\n",
       "        vertical-align: middle;\n",
       "    }\n",
       "\n",
       "    .dataframe tbody tr th {\n",
       "        vertical-align: top;\n",
       "    }\n",
       "\n",
       "    .dataframe thead th {\n",
       "        text-align: right;\n",
       "    }\n",
       "</style>\n",
       "<table border=\"1\" class=\"dataframe\">\n",
       "  <thead>\n",
       "    <tr style=\"text-align: right;\">\n",
       "      <th></th>\n",
       "      <th>llovieron_hamburguesas_al_dia_siguiente</th>\n",
       "    </tr>\n",
       "    <tr>\n",
       "      <th>id</th>\n",
       "      <th></th>\n",
       "    </tr>\n",
       "  </thead>\n",
       "  <tbody>\n",
       "    <tr>\n",
       "      <th>116706</th>\n",
       "      <td>no</td>\n",
       "    </tr>\n",
       "    <tr>\n",
       "      <th>58831</th>\n",
       "      <td>no</td>\n",
       "    </tr>\n",
       "    <tr>\n",
       "      <th>31981</th>\n",
       "      <td>no</td>\n",
       "    </tr>\n",
       "    <tr>\n",
       "      <th>2533</th>\n",
       "      <td>no</td>\n",
       "    </tr>\n",
       "    <tr>\n",
       "      <th>7270</th>\n",
       "      <td>si</td>\n",
       "    </tr>\n",
       "    <tr>\n",
       "      <th>...</th>\n",
       "      <td>...</td>\n",
       "    </tr>\n",
       "    <tr>\n",
       "      <th>73456</th>\n",
       "      <td>no</td>\n",
       "    </tr>\n",
       "    <tr>\n",
       "      <th>14471</th>\n",
       "      <td>no</td>\n",
       "    </tr>\n",
       "    <tr>\n",
       "      <th>106482</th>\n",
       "      <td>no</td>\n",
       "    </tr>\n",
       "    <tr>\n",
       "      <th>21057</th>\n",
       "      <td>no</td>\n",
       "    </tr>\n",
       "    <tr>\n",
       "      <th>102055</th>\n",
       "      <td>no</td>\n",
       "    </tr>\n",
       "  </tbody>\n",
       "</table>\n",
       "<p>29092 rows × 1 columns</p>\n",
       "</div>"
      ],
      "text/plain": [
       "       llovieron_hamburguesas_al_dia_siguiente\n",
       "id                                            \n",
       "116706                                      no\n",
       "58831                                       no\n",
       "31981                                       no\n",
       "2533                                        no\n",
       "7270                                        si\n",
       "...                                        ...\n",
       "73456                                       no\n",
       "14471                                       no\n",
       "106482                                      no\n",
       "21057                                       no\n",
       "102055                                      no\n",
       "\n",
       "[29092 rows x 1 columns]"
      ]
     },
     "execution_count": 17,
     "metadata": {},
     "output_type": "execute_result"
    }
   ],
   "source": [
    "initialize_dataset()\n",
    "\n",
    "df_extra = pd.read_csv(\"datasets/df_extra.csv\", low_memory = False, index_col = \"id\")\n",
    "\n",
    "common(df_extra)\n",
    "viento_trigonometrico(df_extra)\n",
    "df_extra = hashing_trick(df_extra, 24, \"barrio\")\n",
    "\n",
    "# El imputer y standarizer ya estan en el pipe\n",
    "\n",
    "df_extra_predict = pd.DataFrame({\"id\": df_extra.index, \"llovieron_hamburguesas_al_dia_siguiente\": pipe.predict(df_extra).flatten()})\n",
    "df_extra_predict.set_index(\"id\", inplace = True)\n",
    "df_extra_predict.replace({\"llovieron_hamburguesas_al_dia_siguiente\": {0.0: \"no\", 1.0: \"si\"}}, inplace = True)\n",
    "df_extra_predict"
   ]
  },
  {
   "cell_type": "code",
   "execution_count": 18,
   "id": "a7d8db20-1713-477b-a8a5-b84645fae079",
   "metadata": {},
   "outputs": [],
   "source": [
    "df_extra_predict.to_csv(\"NeuralNetwork.csv\")"
   ]
  },
  {
   "cell_type": "code",
   "execution_count": null,
   "id": "7c22e9ad-68d5-4cb0-a28d-35c84d7aa218",
   "metadata": {},
   "outputs": [],
   "source": []
  }
 ],
 "metadata": {
  "kernelspec": {
   "display_name": "Python 3 (ipykernel)",
   "language": "python",
   "name": "python3"
  },
  "language_info": {
   "codemirror_mode": {
    "name": "ipython",
    "version": 3
   },
   "file_extension": ".py",
   "mimetype": "text/x-python",
   "name": "python",
   "nbconvert_exporter": "python",
   "pygments_lexer": "ipython3",
   "version": "3.8.10"
  }
 },
 "nbformat": 4,
 "nbformat_minor": 5
}
