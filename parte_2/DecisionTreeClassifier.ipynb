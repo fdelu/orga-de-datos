{
 "cells": [
  {
   "cell_type": "markdown",
   "id": "d3317a4c-2af8-4d32-ab14-e1c65d9ab702",
   "metadata": {},
   "source": [
    "# DecisionTreeClassifier"
   ]
  },
  {
   "cell_type": "markdown",
   "id": "5140f084-83f1-4390-a1af-be415b60979d",
   "metadata": {},
   "source": [
    "Un árbol de decisión es un modelo muy simple, intuitivo e interpretable. Resulta muy útil analizar sus resultados para detectar predictores fuertes y features irrelevantes, para poder afinar los preprocessings de modelos más complejos y mejorar su eficiencia. Se entrenaron dos árboles de decisión con preprocessings distintos: uno más sencillo y otro más sofisticado."
   ]
  },
  {
   "cell_type": "code",
   "execution_count": 36,
   "id": "ec047ce5-27db-4a50-b406-60550eb93572",
   "metadata": {},
   "outputs": [
    {
     "name": "stdout",
     "output_type": "stream",
     "text": [
      "The autoreload extension is already loaded. To reload it, use:\n",
      "  %reload_ext autoreload\n"
     ]
    }
   ],
   "source": [
    "%load_ext autoreload\n",
    "%autoreload 2\n",
    "from preprocessing import *\n",
    "from sklearn.metrics import roc_auc_score, classification_report, ConfusionMatrixDisplay\n",
    "from sklearn.tree import DecisionTreeClassifier\n",
    "from sklearn.model_selection import train_test_split, cross_val_predict\n",
    "from sklearn.model_selection import GridSearchCV, StratifiedKFold\n",
    "from sklearn.pipeline import Pipeline, FeatureUnion\n",
    "from sklearn.impute import SimpleImputer, MissingIndicator\n",
    "import pandas as pd\n",
    "import numpy as np\n",
    "from joblib import dump, load\n",
    "from scoring import *\n",
    "pd.set_option('display.max_rows', 10)"
   ]
  },
  {
   "cell_type": "markdown",
   "id": "397956e8-6f26-4a51-9023-0d6f3ca3d6bf",
   "metadata": {},
   "source": [
    "## Preprocessing Nº1"
   ]
  },
  {
   "cell_type": "code",
   "execution_count": 2,
   "id": "d52785f6-7c71-43bc-b609-5d9c4eb3b6c9",
   "metadata": {},
   "outputs": [],
   "source": [
    "formaforma\n",
    "df_features = dummy(df_features, [\n",
    "    \"direccion_viento_tarde\",\n",
    "    \"direccion_viento_temprano\",\n",
    "    \"rafaga_viento_max_direccion\",\n",
    "    \"barrio\"\n",
    "])\n",
    "\n",
    "X_train, X_test, Y_train, Y_test = train_test_split(df_features, df_target, stratify=df_target.values, test_size=0.35, random_state=0)\n",
    "imputer = SimpleImputer()\n",
    "imputer.fit(X_train)\n",
    "X_train = imputer.transform(X_train)\n",
    "X_test = imputer.transform(X_test)\n",
    "\n",
    "Y_train = np.ravel(Y_train)\n",
    "Y_test = np.ravel(Y_test)"
   ]
  },
  {
   "cell_type": "markdown",
   "id": "9eb5a432-75e4-4d62-92c7-c1f39b6fea26",
   "metadata": {},
   "source": [
    "### Grid search de hiperparámetros"
   ]
  },
  {
   "cell_type": "code",
   "execution_count": 3,
   "id": "d139f949-358d-477c-84e7-2048d3e4905d",
   "metadata": {},
   "outputs": [
    {
     "data": {
      "text/plain": [
       "0.8509136763607907"
      ]
     },
     "execution_count": 3,
     "metadata": {},
     "output_type": "execute_result"
    }
   ],
   "source": [
    "parameters = {\n",
    "    \"criterion\": [\n",
    "        \"gini\",\n",
    "        \"entropy\"\n",
    "    ],\n",
    "    \"max_depth\": np.arange(3,15,1),\n",
    "    \"min_samples_leaf\": np.arange(100,800,25),\n",
    "}\n",
    "\n",
    "grid = GridSearchCV(DecisionTreeClassifier(random_state=0),\n",
    "                    param_grid=parameters,\n",
    "                    cv = StratifiedKFold(5),\n",
    "                    refit = METRIC,\n",
    "                    scoring = SCORINGS,\n",
    "                    n_jobs = -1)\n",
    "\n",
    "grid.fit(X_train, Y_train)\n",
    "grid.best_score_"
   ]
  },
  {
   "cell_type": "code",
   "execution_count": 6,
   "id": "8db1d1ad-0170-4676-9ed1-6561ee6b5e93",
   "metadata": {},
   "outputs": [
    {
     "data": {
      "text/html": [
       "<div>\n",
       "<style scoped>\n",
       "    .dataframe tbody tr th:only-of-type {\n",
       "        vertical-align: middle;\n",
       "    }\n",
       "\n",
       "    .dataframe tbody tr th {\n",
       "        vertical-align: top;\n",
       "    }\n",
       "\n",
       "    .dataframe thead th {\n",
       "        text-align: right;\n",
       "    }\n",
       "</style>\n",
       "<table border=\"1\" class=\"dataframe\">\n",
       "  <thead>\n",
       "    <tr style=\"text-align: right;\">\n",
       "      <th></th>\n",
       "      <th>AUC-ROC</th>\n",
       "      <th>Accuracy</th>\n",
       "      <th>Precision</th>\n",
       "      <th>Recall</th>\n",
       "      <th>F1 Score</th>\n",
       "    </tr>\n",
       "  </thead>\n",
       "  <tbody>\n",
       "    <tr>\n",
       "      <th>0</th>\n",
       "      <td>0.852851</td>\n",
       "      <td>0.839387</td>\n",
       "      <td>0.70466</td>\n",
       "      <td>0.48647</td>\n",
       "      <td>0.575581</td>\n",
       "    </tr>\n",
       "  </tbody>\n",
       "</table>\n",
       "</div>"
      ],
      "text/plain": [
       "    AUC-ROC  Accuracy  Precision   Recall  F1 Score\n",
       "0  0.852851  0.839387    0.70466  0.48647  0.575581"
      ]
     },
     "execution_count": 6,
     "metadata": {},
     "output_type": "execute_result"
    }
   ],
   "source": [
    "metrics_table(Y_test, grid.best_estimator_.predict(X_test), grid.best_estimator_.predict_proba(X_test)[:,1])"
   ]
  },
  {
   "cell_type": "code",
   "execution_count": 9,
   "id": "43a2cbce-7a40-4cdb-8e38-fa631ae71d04",
   "metadata": {},
   "outputs": [
    {
     "data": {
      "text/html": [
       "<div>\n",
       "<style scoped>\n",
       "    .dataframe tbody tr th:only-of-type {\n",
       "        vertical-align: middle;\n",
       "    }\n",
       "\n",
       "    .dataframe tbody tr th {\n",
       "        vertical-align: top;\n",
       "    }\n",
       "\n",
       "    .dataframe thead th {\n",
       "        text-align: right;\n",
       "    }\n",
       "</style>\n",
       "<table border=\"1\" class=\"dataframe\">\n",
       "  <thead>\n",
       "    <tr style=\"text-align: right;\">\n",
       "      <th></th>\n",
       "      <th>param_criterion</th>\n",
       "      <th>param_max_depth</th>\n",
       "      <th>param_min_samples_leaf</th>\n",
       "      <th>mean_test_roc_auc</th>\n",
       "      <th>mean_test_accuracy</th>\n",
       "      <th>mean_test_precision</th>\n",
       "      <th>mean_test_recall</th>\n",
       "      <th>mean_test_f1</th>\n",
       "    </tr>\n",
       "  </thead>\n",
       "  <tbody>\n",
       "    <tr>\n",
       "      <th>0</th>\n",
       "      <td>gini</td>\n",
       "      <td>11</td>\n",
       "      <td>150</td>\n",
       "      <td>0.850914</td>\n",
       "      <td>0.837009</td>\n",
       "      <td>0.705018</td>\n",
       "      <td>0.469346</td>\n",
       "      <td>0.563054</td>\n",
       "    </tr>\n",
       "    <tr>\n",
       "      <th>1</th>\n",
       "      <td>gini</td>\n",
       "      <td>12</td>\n",
       "      <td>150</td>\n",
       "      <td>0.850904</td>\n",
       "      <td>0.837009</td>\n",
       "      <td>0.705018</td>\n",
       "      <td>0.469346</td>\n",
       "      <td>0.563054</td>\n",
       "    </tr>\n",
       "    <tr>\n",
       "      <th>2</th>\n",
       "      <td>gini</td>\n",
       "      <td>13</td>\n",
       "      <td>175</td>\n",
       "      <td>0.850888</td>\n",
       "      <td>0.836603</td>\n",
       "      <td>0.700469</td>\n",
       "      <td>0.474515</td>\n",
       "      <td>0.564984</td>\n",
       "    </tr>\n",
       "    <tr>\n",
       "      <th>3</th>\n",
       "      <td>gini</td>\n",
       "      <td>10</td>\n",
       "      <td>150</td>\n",
       "      <td>0.850852</td>\n",
       "      <td>0.837009</td>\n",
       "      <td>0.705018</td>\n",
       "      <td>0.469346</td>\n",
       "      <td>0.563054</td>\n",
       "    </tr>\n",
       "    <tr>\n",
       "      <th>4</th>\n",
       "      <td>gini</td>\n",
       "      <td>11</td>\n",
       "      <td>175</td>\n",
       "      <td>0.850822</td>\n",
       "      <td>0.836603</td>\n",
       "      <td>0.700469</td>\n",
       "      <td>0.474515</td>\n",
       "      <td>0.564984</td>\n",
       "    </tr>\n",
       "    <tr>\n",
       "      <th>...</th>\n",
       "      <td>...</td>\n",
       "      <td>...</td>\n",
       "      <td>...</td>\n",
       "      <td>...</td>\n",
       "      <td>...</td>\n",
       "      <td>...</td>\n",
       "      <td>...</td>\n",
       "      <td>...</td>\n",
       "    </tr>\n",
       "    <tr>\n",
       "      <th>667</th>\n",
       "      <td>gini</td>\n",
       "      <td>3</td>\n",
       "      <td>500</td>\n",
       "      <td>0.787686</td>\n",
       "      <td>0.827854</td>\n",
       "      <td>0.736649</td>\n",
       "      <td>0.362186</td>\n",
       "      <td>0.484594</td>\n",
       "    </tr>\n",
       "    <tr>\n",
       "      <th>668</th>\n",
       "      <td>gini</td>\n",
       "      <td>3</td>\n",
       "      <td>400</td>\n",
       "      <td>0.787681</td>\n",
       "      <td>0.827854</td>\n",
       "      <td>0.736649</td>\n",
       "      <td>0.362186</td>\n",
       "      <td>0.484594</td>\n",
       "    </tr>\n",
       "    <tr>\n",
       "      <th>669</th>\n",
       "      <td>gini</td>\n",
       "      <td>3</td>\n",
       "      <td>325</td>\n",
       "      <td>0.787671</td>\n",
       "      <td>0.827854</td>\n",
       "      <td>0.736649</td>\n",
       "      <td>0.362186</td>\n",
       "      <td>0.484594</td>\n",
       "    </tr>\n",
       "    <tr>\n",
       "      <th>670</th>\n",
       "      <td>gini</td>\n",
       "      <td>3</td>\n",
       "      <td>350</td>\n",
       "      <td>0.787655</td>\n",
       "      <td>0.827854</td>\n",
       "      <td>0.736649</td>\n",
       "      <td>0.362186</td>\n",
       "      <td>0.484594</td>\n",
       "    </tr>\n",
       "    <tr>\n",
       "      <th>671</th>\n",
       "      <td>gini</td>\n",
       "      <td>3</td>\n",
       "      <td>375</td>\n",
       "      <td>0.787634</td>\n",
       "      <td>0.827854</td>\n",
       "      <td>0.736649</td>\n",
       "      <td>0.362186</td>\n",
       "      <td>0.484594</td>\n",
       "    </tr>\n",
       "  </tbody>\n",
       "</table>\n",
       "<p>672 rows × 8 columns</p>\n",
       "</div>"
      ],
      "text/plain": [
       "    param_criterion param_max_depth param_min_samples_leaf  mean_test_roc_auc  \\\n",
       "0              gini              11                    150           0.850914   \n",
       "1              gini              12                    150           0.850904   \n",
       "2              gini              13                    175           0.850888   \n",
       "3              gini              10                    150           0.850852   \n",
       "4              gini              11                    175           0.850822   \n",
       "..              ...             ...                    ...                ...   \n",
       "667            gini               3                    500           0.787686   \n",
       "668            gini               3                    400           0.787681   \n",
       "669            gini               3                    325           0.787671   \n",
       "670            gini               3                    350           0.787655   \n",
       "671            gini               3                    375           0.787634   \n",
       "\n",
       "     mean_test_accuracy  mean_test_precision  mean_test_recall  mean_test_f1  \n",
       "0              0.837009             0.705018          0.469346      0.563054  \n",
       "1              0.837009             0.705018          0.469346      0.563054  \n",
       "2              0.836603             0.700469          0.474515      0.564984  \n",
       "3              0.837009             0.705018          0.469346      0.563054  \n",
       "4              0.836603             0.700469          0.474515      0.564984  \n",
       "..                  ...                  ...               ...           ...  \n",
       "667            0.827854             0.736649          0.362186      0.484594  \n",
       "668            0.827854             0.736649          0.362186      0.484594  \n",
       "669            0.827854             0.736649          0.362186      0.484594  \n",
       "670            0.827854             0.736649          0.362186      0.484594  \n",
       "671            0.827854             0.736649          0.362186      0.484594  \n",
       "\n",
       "[672 rows x 8 columns]"
      ]
     },
     "execution_count": 9,
     "metadata": {},
     "output_type": "execute_result"
    }
   ],
   "source": [
    "grid_history_table(grid)"
   ]
  },
  {
   "cell_type": "markdown",
   "id": "ff7d0a45-1674-4cb8-b259-fd5c20bfa438",
   "metadata": {},
   "source": [
    "Vemos que los mejores modelos utilizaron ***gini*** como criterio de separación. Esto es interesante, ya que generalmente el criterio ***entropy*** suele dar mejores resultados"
   ]
  },
  {
   "cell_type": "markdown",
   "id": "a11e9909-c462-46ef-9b42-77a3694faa82",
   "metadata": {},
   "source": [
    "### Importancia de cada feature"
   ]
  },
  {
   "cell_type": "code",
   "execution_count": 12,
   "id": "a4fec7ed-cd6f-41be-a090-b96ece24c766",
   "metadata": {},
   "outputs": [
    {
     "data": {
      "text/html": [
       "<div>\n",
       "<style scoped>\n",
       "    .dataframe tbody tr th:only-of-type {\n",
       "        vertical-align: middle;\n",
       "    }\n",
       "\n",
       "    .dataframe tbody tr th {\n",
       "        vertical-align: top;\n",
       "    }\n",
       "\n",
       "    .dataframe thead th {\n",
       "        text-align: right;\n",
       "    }\n",
       "</style>\n",
       "<table border=\"1\" class=\"dataframe\">\n",
       "  <thead>\n",
       "    <tr style=\"text-align: right;\">\n",
       "      <th></th>\n",
       "      <th>importancia</th>\n",
       "    </tr>\n",
       "    <tr>\n",
       "      <th>feature</th>\n",
       "      <th></th>\n",
       "    </tr>\n",
       "  </thead>\n",
       "  <tbody>\n",
       "    <tr>\n",
       "      <th>humedad_tarde</th>\n",
       "      <td>0.628853</td>\n",
       "    </tr>\n",
       "    <tr>\n",
       "      <th>mm_lluvia_dia</th>\n",
       "      <td>0.094982</td>\n",
       "    </tr>\n",
       "    <tr>\n",
       "      <th>rafaga_viento_max_velocidad</th>\n",
       "      <td>0.083640</td>\n",
       "    </tr>\n",
       "    <tr>\n",
       "      <th>presion_atmosferica_tarde</th>\n",
       "      <td>0.077140</td>\n",
       "    </tr>\n",
       "    <tr>\n",
       "      <th>horas_de_sol</th>\n",
       "      <td>0.054424</td>\n",
       "    </tr>\n",
       "    <tr>\n",
       "      <th>temperatura_temprano</th>\n",
       "      <td>0.013794</td>\n",
       "    </tr>\n",
       "    <tr>\n",
       "      <th>nubosidad_tarde</th>\n",
       "      <td>0.012390</td>\n",
       "    </tr>\n",
       "    <tr>\n",
       "      <th>humedad_temprano</th>\n",
       "      <td>0.006243</td>\n",
       "    </tr>\n",
       "    <tr>\n",
       "      <th>temperatura_tarde</th>\n",
       "      <td>0.006027</td>\n",
       "    </tr>\n",
       "    <tr>\n",
       "      <th>presion_atmosferica_temprano</th>\n",
       "      <td>0.003729</td>\n",
       "    </tr>\n",
       "  </tbody>\n",
       "</table>\n",
       "</div>"
      ],
      "text/plain": [
       "                              importancia\n",
       "feature                                  \n",
       "humedad_tarde                    0.628853\n",
       "mm_lluvia_dia                    0.094982\n",
       "rafaga_viento_max_velocidad      0.083640\n",
       "presion_atmosferica_tarde        0.077140\n",
       "horas_de_sol                     0.054424\n",
       "temperatura_temprano             0.013794\n",
       "nubosidad_tarde                  0.012390\n",
       "humedad_temprano                 0.006243\n",
       "temperatura_tarde                0.006027\n",
       "presion_atmosferica_temprano     0.003729"
      ]
     },
     "execution_count": 12,
     "metadata": {},
     "output_type": "execute_result"
    }
   ],
   "source": [
    "feature_importances(df_features.columns, grid.best_estimator_.feature_importances_).head(10)"
   ]
  },
  {
   "cell_type": "markdown",
   "id": "92ae7b31-3df4-4d88-ad70-9e6ea1204056",
   "metadata": {},
   "source": [
    "Las features que el modelo considero más importantes coinciden con las analizadas en el TP1"
   ]
  },
  {
   "cell_type": "code",
   "execution_count": 23,
   "id": "448f4aef-e92e-4c9e-963a-e03062f097bb",
   "metadata": {},
   "outputs": [
    {
     "data": {
      "text/html": [
       "<div>\n",
       "<style scoped>\n",
       "    .dataframe tbody tr th:only-of-type {\n",
       "        vertical-align: middle;\n",
       "    }\n",
       "\n",
       "    .dataframe tbody tr th {\n",
       "        vertical-align: top;\n",
       "    }\n",
       "\n",
       "    .dataframe thead th {\n",
       "        text-align: right;\n",
       "    }\n",
       "</style>\n",
       "<table border=\"1\" class=\"dataframe\">\n",
       "  <thead>\n",
       "    <tr style=\"text-align: right;\">\n",
       "      <th></th>\n",
       "      <th>importancia</th>\n",
       "    </tr>\n",
       "    <tr>\n",
       "      <th>feature</th>\n",
       "      <th></th>\n",
       "    </tr>\n",
       "  </thead>\n",
       "  <tbody>\n",
       "    <tr>\n",
       "      <th>barrio_Comuna 2</th>\n",
       "      <td>0.0</td>\n",
       "    </tr>\n",
       "    <tr>\n",
       "      <th>barrio_Comuna 3</th>\n",
       "      <td>0.0</td>\n",
       "    </tr>\n",
       "    <tr>\n",
       "      <th>barrio_Comuna 4</th>\n",
       "      <td>0.0</td>\n",
       "    </tr>\n",
       "    <tr>\n",
       "      <th>barrio_Comuna 5</th>\n",
       "      <td>0.0</td>\n",
       "    </tr>\n",
       "    <tr>\n",
       "      <th>barrio_Comuna 6</th>\n",
       "      <td>0.0</td>\n",
       "    </tr>\n",
       "    <tr>\n",
       "      <th>barrio_Comuna 7</th>\n",
       "      <td>0.0</td>\n",
       "    </tr>\n",
       "    <tr>\n",
       "      <th>barrio_Comuna 8</th>\n",
       "      <td>0.0</td>\n",
       "    </tr>\n",
       "    <tr>\n",
       "      <th>barrio_Comuna 9</th>\n",
       "      <td>0.0</td>\n",
       "    </tr>\n",
       "    <tr>\n",
       "      <th>barrio_nan</th>\n",
       "      <td>0.0</td>\n",
       "    </tr>\n",
       "    <tr>\n",
       "      <th>barrio_Comuna 15</th>\n",
       "      <td>0.0</td>\n",
       "    </tr>\n",
       "  </tbody>\n",
       "</table>\n",
       "</div>"
      ],
      "text/plain": [
       "                  importancia\n",
       "feature                      \n",
       "barrio_Comuna 2           0.0\n",
       "barrio_Comuna 3           0.0\n",
       "barrio_Comuna 4           0.0\n",
       "barrio_Comuna 5           0.0\n",
       "barrio_Comuna 6           0.0\n",
       "barrio_Comuna 7           0.0\n",
       "barrio_Comuna 8           0.0\n",
       "barrio_Comuna 9           0.0\n",
       "barrio_nan                0.0\n",
       "barrio_Comuna 15          0.0"
      ]
     },
     "execution_count": 23,
     "metadata": {},
     "output_type": "execute_result"
    }
   ],
   "source": [
    "feature_importances(df_features.columns, grid.best_estimator_.feature_importances_).tail(10)"
   ]
  },
  {
   "cell_type": "markdown",
   "id": "71f4392b-449b-4f5a-aa8c-837be270aa41",
   "metadata": {},
   "source": [
    "Vemos que los barrios y las direcciones de viento no fueron útiles para el modelo utilizando One Hot Encoding. Para el segundo preprocessing, se utilizaron encodings diferentes para comparar resultados."
   ]
  },
  {
   "cell_type": "code",
   "execution_count": 14,
   "id": "05bb7d80-76c9-40ba-a59a-156a9bb0f2d9",
   "metadata": {},
   "outputs": [
    {
     "data": {
      "text/plain": [
       "['DecisionTreeClassifier/preprocessing1.joblib']"
      ]
     },
     "execution_count": 14,
     "metadata": {},
     "output_type": "execute_result"
    }
   ],
   "source": [
    "dump(grid.best_estimator_, 'DecisionTreeClassifier/preprocessing1.joblib') "
   ]
  },
  {
   "cell_type": "markdown",
   "id": "0b31bb33-5f83-49b5-8b06-282d0e242887",
   "metadata": {},
   "source": [
    "## Preprocessing Nº2"
   ]
  },
  {
   "cell_type": "code",
   "execution_count": 15,
   "id": "d5a3356e-93dc-4970-b784-b643af461bc7",
   "metadata": {},
   "outputs": [],
   "source": [
    "df_features, df_target = get_datasets(fecha_to_int=False)\n",
    "\n",
    "common(df_features, df_target, fecha_to_int=False)\n",
    "viento_trigonometrico(df_features)\n",
    "df_features = barrios_a_comunas(df_features)\n",
    "df_features = dia_a_mes(df_features)\n",
    "\n",
    "X_train, X_test, Y_train, Y_test = train_test_split(df_features, df_target, stratify=df_target.values, test_size=0.35, random_state=0)\n",
    "\n",
    "imputer = IterativeImputer(max_iter=10000)\n",
    "imputer.fit(X_train)\n",
    "X_train = imputer.transform(X_train)\n",
    "X_test = imputer.transform(X_test)\n",
    "\n",
    "Y_train = np.ravel(Y_train)\n",
    "Y_test = np.ravel(Y_test)"
   ]
  },
  {
   "cell_type": "markdown",
   "id": "da5ee960-87fc-4c8d-9345-1a26f38f7e73",
   "metadata": {},
   "source": [
    "### Grid search de hiperparámetros"
   ]
  },
  {
   "cell_type": "code",
   "execution_count": 17,
   "id": "6a0fd5b5-3d72-4cb9-b9d2-a3ea6b752998",
   "metadata": {},
   "outputs": [
    {
     "data": {
      "text/plain": [
       "0.8551373654785872"
      ]
     },
     "execution_count": 17,
     "metadata": {},
     "output_type": "execute_result"
    }
   ],
   "source": [
    "parameters = {\n",
    "    \"criterion\": [\n",
    "        \"gini\",\n",
    "        \"entropy\"\n",
    "    ],\n",
    "    \"max_depth\": np.arange(3,15,1),\n",
    "    \"min_samples_leaf\": np.arange(100,800,25),\n",
    "}\n",
    "\n",
    "grid = GridSearchCV(DecisionTreeClassifier(random_state=0),\n",
    "                    param_grid=parameters,\n",
    "                    cv = StratifiedKFold(5),\n",
    "                    refit = METRIC,\n",
    "                    scoring = SCORINGS,\n",
    "                    n_jobs = -1)\n",
    "\n",
    "grid.fit(X_train, Y_train)\n",
    "grid.best_score_"
   ]
  },
  {
   "cell_type": "code",
   "execution_count": 18,
   "id": "35b1d108-630e-447a-b0a8-84f41d652fa9",
   "metadata": {},
   "outputs": [
    {
     "data": {
      "text/html": [
       "<div>\n",
       "<style scoped>\n",
       "    .dataframe tbody tr th:only-of-type {\n",
       "        vertical-align: middle;\n",
       "    }\n",
       "\n",
       "    .dataframe tbody tr th {\n",
       "        vertical-align: top;\n",
       "    }\n",
       "\n",
       "    .dataframe thead th {\n",
       "        text-align: right;\n",
       "    }\n",
       "</style>\n",
       "<table border=\"1\" class=\"dataframe\">\n",
       "  <thead>\n",
       "    <tr style=\"text-align: right;\">\n",
       "      <th></th>\n",
       "      <th>AUC-ROC</th>\n",
       "      <th>Accuracy</th>\n",
       "      <th>Precision</th>\n",
       "      <th>Recall</th>\n",
       "      <th>F1 Score</th>\n",
       "    </tr>\n",
       "  </thead>\n",
       "  <tbody>\n",
       "    <tr>\n",
       "      <th>0</th>\n",
       "      <td>0.858443</td>\n",
       "      <td>0.843212</td>\n",
       "      <td>0.720418</td>\n",
       "      <td>0.489712</td>\n",
       "      <td>0.583073</td>\n",
       "    </tr>\n",
       "  </tbody>\n",
       "</table>\n",
       "</div>"
      ],
      "text/plain": [
       "    AUC-ROC  Accuracy  Precision    Recall  F1 Score\n",
       "0  0.858443  0.843212   0.720418  0.489712  0.583073"
      ]
     },
     "execution_count": 18,
     "metadata": {},
     "output_type": "execute_result"
    }
   ],
   "source": [
    "metrics_table(Y_test, grid.best_estimator_.predict(X_test), grid.best_estimator_.predict_proba(X_test)[:,1])"
   ]
  },
  {
   "cell_type": "code",
   "execution_count": 30,
   "id": "e7d04333-0bec-4355-b241-40a3560bf864",
   "metadata": {},
   "outputs": [
    {
     "data": {
      "text/html": [
       "<div>\n",
       "<style scoped>\n",
       "    .dataframe tbody tr th:only-of-type {\n",
       "        vertical-align: middle;\n",
       "    }\n",
       "\n",
       "    .dataframe tbody tr th {\n",
       "        vertical-align: top;\n",
       "    }\n",
       "\n",
       "    .dataframe thead th {\n",
       "        text-align: right;\n",
       "    }\n",
       "</style>\n",
       "<table border=\"1\" class=\"dataframe\">\n",
       "  <thead>\n",
       "    <tr style=\"text-align: right;\">\n",
       "      <th></th>\n",
       "      <th>param_criterion</th>\n",
       "      <th>param_max_depth</th>\n",
       "      <th>param_min_samples_leaf</th>\n",
       "      <th>mean_test_roc_auc</th>\n",
       "      <th>mean_test_accuracy</th>\n",
       "      <th>mean_test_precision</th>\n",
       "      <th>mean_test_recall</th>\n",
       "      <th>mean_test_f1</th>\n",
       "    </tr>\n",
       "  </thead>\n",
       "  <tbody>\n",
       "    <tr>\n",
       "      <th>0</th>\n",
       "      <td>entropy</td>\n",
       "      <td>9</td>\n",
       "      <td>200</td>\n",
       "      <td>0.855137</td>\n",
       "      <td>0.838993</td>\n",
       "      <td>0.709256</td>\n",
       "      <td>0.476532</td>\n",
       "      <td>0.569845</td>\n",
       "    </tr>\n",
       "    <tr>\n",
       "      <th>1</th>\n",
       "      <td>entropy</td>\n",
       "      <td>10</td>\n",
       "      <td>200</td>\n",
       "      <td>0.854776</td>\n",
       "      <td>0.838993</td>\n",
       "      <td>0.709256</td>\n",
       "      <td>0.476532</td>\n",
       "      <td>0.569845</td>\n",
       "    </tr>\n",
       "    <tr>\n",
       "      <th>2</th>\n",
       "      <td>entropy</td>\n",
       "      <td>9</td>\n",
       "      <td>225</td>\n",
       "      <td>0.854718</td>\n",
       "      <td>0.838918</td>\n",
       "      <td>0.707276</td>\n",
       "      <td>0.479354</td>\n",
       "      <td>0.571051</td>\n",
       "    </tr>\n",
       "    <tr>\n",
       "      <th>3</th>\n",
       "      <td>entropy</td>\n",
       "      <td>14</td>\n",
       "      <td>225</td>\n",
       "      <td>0.854705</td>\n",
       "      <td>0.838918</td>\n",
       "      <td>0.707276</td>\n",
       "      <td>0.479354</td>\n",
       "      <td>0.571051</td>\n",
       "    </tr>\n",
       "    <tr>\n",
       "      <th>4</th>\n",
       "      <td>entropy</td>\n",
       "      <td>13</td>\n",
       "      <td>225</td>\n",
       "      <td>0.854689</td>\n",
       "      <td>0.838918</td>\n",
       "      <td>0.707276</td>\n",
       "      <td>0.479354</td>\n",
       "      <td>0.571051</td>\n",
       "    </tr>\n",
       "    <tr>\n",
       "      <th>...</th>\n",
       "      <td>...</td>\n",
       "      <td>...</td>\n",
       "      <td>...</td>\n",
       "      <td>...</td>\n",
       "      <td>...</td>\n",
       "      <td>...</td>\n",
       "      <td>...</td>\n",
       "      <td>...</td>\n",
       "    </tr>\n",
       "    <tr>\n",
       "      <th>667</th>\n",
       "      <td>gini</td>\n",
       "      <td>3</td>\n",
       "      <td>200</td>\n",
       "      <td>0.810853</td>\n",
       "      <td>0.828470</td>\n",
       "      <td>0.731475</td>\n",
       "      <td>0.370174</td>\n",
       "      <td>0.491249</td>\n",
       "    </tr>\n",
       "    <tr>\n",
       "      <th>668</th>\n",
       "      <td>gini</td>\n",
       "      <td>3</td>\n",
       "      <td>175</td>\n",
       "      <td>0.810853</td>\n",
       "      <td>0.828470</td>\n",
       "      <td>0.731475</td>\n",
       "      <td>0.370174</td>\n",
       "      <td>0.491249</td>\n",
       "    </tr>\n",
       "    <tr>\n",
       "      <th>669</th>\n",
       "      <td>gini</td>\n",
       "      <td>3</td>\n",
       "      <td>150</td>\n",
       "      <td>0.810853</td>\n",
       "      <td>0.828470</td>\n",
       "      <td>0.731475</td>\n",
       "      <td>0.370174</td>\n",
       "      <td>0.491249</td>\n",
       "    </tr>\n",
       "    <tr>\n",
       "      <th>670</th>\n",
       "      <td>gini</td>\n",
       "      <td>3</td>\n",
       "      <td>125</td>\n",
       "      <td>0.810853</td>\n",
       "      <td>0.828470</td>\n",
       "      <td>0.731475</td>\n",
       "      <td>0.370174</td>\n",
       "      <td>0.491249</td>\n",
       "    </tr>\n",
       "    <tr>\n",
       "      <th>671</th>\n",
       "      <td>gini</td>\n",
       "      <td>3</td>\n",
       "      <td>100</td>\n",
       "      <td>0.810853</td>\n",
       "      <td>0.828470</td>\n",
       "      <td>0.731475</td>\n",
       "      <td>0.370174</td>\n",
       "      <td>0.491249</td>\n",
       "    </tr>\n",
       "  </tbody>\n",
       "</table>\n",
       "<p>672 rows × 8 columns</p>\n",
       "</div>"
      ],
      "text/plain": [
       "    param_criterion param_max_depth param_min_samples_leaf  mean_test_roc_auc  \\\n",
       "0           entropy               9                    200           0.855137   \n",
       "1           entropy              10                    200           0.854776   \n",
       "2           entropy               9                    225           0.854718   \n",
       "3           entropy              14                    225           0.854705   \n",
       "4           entropy              13                    225           0.854689   \n",
       "..              ...             ...                    ...                ...   \n",
       "667            gini               3                    200           0.810853   \n",
       "668            gini               3                    175           0.810853   \n",
       "669            gini               3                    150           0.810853   \n",
       "670            gini               3                    125           0.810853   \n",
       "671            gini               3                    100           0.810853   \n",
       "\n",
       "     mean_test_accuracy  mean_test_precision  mean_test_recall  mean_test_f1  \n",
       "0              0.838993             0.709256          0.476532      0.569845  \n",
       "1              0.838993             0.709256          0.476532      0.569845  \n",
       "2              0.838918             0.707276          0.479354      0.571051  \n",
       "3              0.838918             0.707276          0.479354      0.571051  \n",
       "4              0.838918             0.707276          0.479354      0.571051  \n",
       "..                  ...                  ...               ...           ...  \n",
       "667            0.828470             0.731475          0.370174      0.491249  \n",
       "668            0.828470             0.731475          0.370174      0.491249  \n",
       "669            0.828470             0.731475          0.370174      0.491249  \n",
       "670            0.828470             0.731475          0.370174      0.491249  \n",
       "671            0.828470             0.731475          0.370174      0.491249  \n",
       "\n",
       "[672 rows x 8 columns]"
      ]
     },
     "execution_count": 30,
     "metadata": {},
     "output_type": "execute_result"
    }
   ],
   "source": [
    "grid_history_table(grid)"
   ]
  },
  {
   "cell_type": "markdown",
   "id": "063e3de5-9111-4d2a-a527-c1b34a8b7889",
   "metadata": {},
   "source": [
    "Los resultados son ligeramente mejores que en el primer preprocessing. En cuanto a los hiperparámetros encontrados, vemos que los árboles resultantes son menos profundos y, por lo tanto, más simples. Esto es algo bueno, ya que quiere decir que tiene más posibilidades de generalizar mejor y tener mejores resultados en instancias no vistas anteriormente. También vemos que los mejores árboles utilizaron ***entropy*** en lugar de ***gini***"
   ]
  },
  {
   "cell_type": "markdown",
   "id": "7606a041-5908-41aa-92b1-7f67d080cec6",
   "metadata": {},
   "source": [
    "### Importancia de cada feature"
   ]
  },
  {
   "cell_type": "code",
   "execution_count": 32,
   "id": "36a8a1e8-160b-4f5a-bf80-f8eeb7368e9a",
   "metadata": {},
   "outputs": [
    {
     "data": {
      "text/html": [
       "<div>\n",
       "<style scoped>\n",
       "    .dataframe tbody tr th:only-of-type {\n",
       "        vertical-align: middle;\n",
       "    }\n",
       "\n",
       "    .dataframe tbody tr th {\n",
       "        vertical-align: top;\n",
       "    }\n",
       "\n",
       "    .dataframe thead th {\n",
       "        text-align: right;\n",
       "    }\n",
       "</style>\n",
       "<table border=\"1\" class=\"dataframe\">\n",
       "  <thead>\n",
       "    <tr style=\"text-align: right;\">\n",
       "      <th></th>\n",
       "      <th>importancia</th>\n",
       "    </tr>\n",
       "    <tr>\n",
       "      <th>feature</th>\n",
       "      <th></th>\n",
       "    </tr>\n",
       "  </thead>\n",
       "  <tbody>\n",
       "    <tr>\n",
       "      <th>humedad_tarde</th>\n",
       "      <td>0.571378</td>\n",
       "    </tr>\n",
       "    <tr>\n",
       "      <th>horas_de_sol</th>\n",
       "      <td>0.124543</td>\n",
       "    </tr>\n",
       "    <tr>\n",
       "      <th>presion_atmosferica_tarde</th>\n",
       "      <td>0.121542</td>\n",
       "    </tr>\n",
       "    <tr>\n",
       "      <th>rafaga_viento_max_velocidad</th>\n",
       "      <td>0.064131</td>\n",
       "    </tr>\n",
       "    <tr>\n",
       "      <th>mm_lluvia_dia</th>\n",
       "      <td>0.038787</td>\n",
       "    </tr>\n",
       "    <tr>\n",
       "      <th>nubosidad_tarde</th>\n",
       "      <td>0.018077</td>\n",
       "    </tr>\n",
       "    <tr>\n",
       "      <th>sin_viento_tarde</th>\n",
       "      <td>0.012707</td>\n",
       "    </tr>\n",
       "    <tr>\n",
       "      <th>temp_min</th>\n",
       "      <td>0.008424</td>\n",
       "    </tr>\n",
       "    <tr>\n",
       "      <th>sin_viento_temprano</th>\n",
       "      <td>0.007263</td>\n",
       "    </tr>\n",
       "    <tr>\n",
       "      <th>cos_viento_tarde</th>\n",
       "      <td>0.005287</td>\n",
       "    </tr>\n",
       "  </tbody>\n",
       "</table>\n",
       "</div>"
      ],
      "text/plain": [
       "                             importancia\n",
       "feature                                 \n",
       "humedad_tarde                   0.571378\n",
       "horas_de_sol                    0.124543\n",
       "presion_atmosferica_tarde       0.121542\n",
       "rafaga_viento_max_velocidad     0.064131\n",
       "mm_lluvia_dia                   0.038787\n",
       "nubosidad_tarde                 0.018077\n",
       "sin_viento_tarde                0.012707\n",
       "temp_min                        0.008424\n",
       "sin_viento_temprano             0.007263\n",
       "cos_viento_tarde                0.005287"
      ]
     },
     "execution_count": 32,
     "metadata": {},
     "output_type": "execute_result"
    }
   ],
   "source": [
    "feature_importances(df_features.columns, grid.best_estimator_.feature_importances_).head(10)"
   ]
  },
  {
   "cell_type": "markdown",
   "id": "3a887e3d-15f8-4378-b38f-fd928cb63cd1",
   "metadata": {},
   "source": [
    "Podemos observar que el preprocessing ***viento_trigonometrico*** fue de utilidad, ya que algunas features relacionadas a la dirección del viento ganaron importancia en el árbol"
   ]
  },
  {
   "cell_type": "code",
   "execution_count": 33,
   "id": "1b4cbd37-4566-4cb3-9e4a-c90a266fd47c",
   "metadata": {},
   "outputs": [
    {
     "data": {
      "text/html": [
       "<div>\n",
       "<style scoped>\n",
       "    .dataframe tbody tr th:only-of-type {\n",
       "        vertical-align: middle;\n",
       "    }\n",
       "\n",
       "    .dataframe tbody tr th {\n",
       "        vertical-align: top;\n",
       "    }\n",
       "\n",
       "    .dataframe thead th {\n",
       "        text-align: right;\n",
       "    }\n",
       "</style>\n",
       "<table border=\"1\" class=\"dataframe\">\n",
       "  <thead>\n",
       "    <tr style=\"text-align: right;\">\n",
       "      <th></th>\n",
       "      <th>importancia</th>\n",
       "    </tr>\n",
       "    <tr>\n",
       "      <th>feature</th>\n",
       "      <th></th>\n",
       "    </tr>\n",
       "  </thead>\n",
       "  <tbody>\n",
       "    <tr>\n",
       "      <th>barrio_Comuna 2</th>\n",
       "      <td>0.0</td>\n",
       "    </tr>\n",
       "    <tr>\n",
       "      <th>barrio_Comuna 3</th>\n",
       "      <td>0.0</td>\n",
       "    </tr>\n",
       "    <tr>\n",
       "      <th>barrio_Comuna 4</th>\n",
       "      <td>0.0</td>\n",
       "    </tr>\n",
       "    <tr>\n",
       "      <th>barrio_Comuna 5</th>\n",
       "      <td>0.0</td>\n",
       "    </tr>\n",
       "    <tr>\n",
       "      <th>barrio_Comuna 6</th>\n",
       "      <td>0.0</td>\n",
       "    </tr>\n",
       "    <tr>\n",
       "      <th>barrio_Comuna 7</th>\n",
       "      <td>0.0</td>\n",
       "    </tr>\n",
       "    <tr>\n",
       "      <th>barrio_Comuna 8</th>\n",
       "      <td>0.0</td>\n",
       "    </tr>\n",
       "    <tr>\n",
       "      <th>barrio_Comuna 9</th>\n",
       "      <td>0.0</td>\n",
       "    </tr>\n",
       "    <tr>\n",
       "      <th>barrio_nan</th>\n",
       "      <td>0.0</td>\n",
       "    </tr>\n",
       "    <tr>\n",
       "      <th>barrio_Comuna 15</th>\n",
       "      <td>0.0</td>\n",
       "    </tr>\n",
       "  </tbody>\n",
       "</table>\n",
       "</div>"
      ],
      "text/plain": [
       "                  importancia\n",
       "feature                      \n",
       "barrio_Comuna 2           0.0\n",
       "barrio_Comuna 3           0.0\n",
       "barrio_Comuna 4           0.0\n",
       "barrio_Comuna 5           0.0\n",
       "barrio_Comuna 6           0.0\n",
       "barrio_Comuna 7           0.0\n",
       "barrio_Comuna 8           0.0\n",
       "barrio_Comuna 9           0.0\n",
       "barrio_nan                0.0\n",
       "barrio_Comuna 15          0.0"
      ]
     },
     "execution_count": 33,
     "metadata": {},
     "output_type": "execute_result"
    }
   ],
   "source": [
    "feature_importances(df_features.columns, grid.best_estimator_.feature_importances_).tail(10)"
   ]
  },
  {
   "cell_type": "markdown",
   "id": "52e4739e-b80f-4ff4-a26e-69dc13dc3787",
   "metadata": {},
   "source": [
    "El hashing de los barrios no resultó tan útil. Como genera un aumento considerable de la dimensionalidad del dataset, en futuros modelos debería considerarse la posibilidad de descartar la feature completa"
   ]
  },
  {
   "cell_type": "code",
   "execution_count": 34,
   "id": "39e1e4fa-988e-4af5-a5bf-d15344214fd7",
   "metadata": {},
   "outputs": [
    {
     "data": {
      "text/plain": [
       "['DecisionTreeClassifier/preprocessing2.joblib']"
      ]
     },
     "execution_count": 34,
     "metadata": {},
     "output_type": "execute_result"
    }
   ],
   "source": [
    "dump(grid.best_estimator_, 'DecisionTreeClassifier/preprocessing2.joblib') "
   ]
  },
  {
   "cell_type": "markdown",
   "id": "f5ac56fd-b3d7-4cfc-95cc-770118763c68",
   "metadata": {},
   "source": [
    "### Matriz de confusión"
   ]
  },
  {
   "cell_type": "code",
   "execution_count": 37,
   "id": "f51bfdf4-b70e-4ef8-b047-36d6ccebe80b",
   "metadata": {},
   "outputs": [
    {
     "data": {
      "text/plain": [
       "<sklearn.metrics._plot.confusion_matrix.ConfusionMatrixDisplay at 0x7f7ad7c41820>"
      ]
     },
     "execution_count": 37,
     "metadata": {},
     "output_type": "execute_result"
    },
    {
     "data": {
      "image/png": "[encoded data removed]",
      "text/plain": [
       "<Figure size 432x288 with 2 Axes>"
      ]
     },
     "metadata": {
      "needs_background": "light"
     },
     "output_type": "display_data"
    }
   ],
   "source": [
    "ConfusionMatrixDisplay.from_predictions(Y_train, cross_val_predict(grid.best_estimator_, X_train, Y_train))"
   ]
  },
  {
   "cell_type": "markdown",
   "id": "04352cae-d3c8-4e50-8702-655c8ed8d625",
   "metadata": {},
   "source": [
    "Podemos ver que la cantidad de falsos negativos es mas del doble de la cantidad de falsos positivos. Esto se debe a que el dataset se encontraba desbalanceado, por lo que el modelo tiende a devolver 0 con más frecuencia, ya que en las hojas tendrá mayor cantidad de instancias negativas que positivas."
   ]
  },
  {
   "cell_type": "markdown",
   "id": "805ef770-f908-45b5-8b68-e51ea06b770d",
   "metadata": {},
   "source": [
    "## Cambiando los pesos de las clases"
   ]
  },
  {
   "cell_type": "markdown",
   "id": "32adf074-8bc3-4474-8617-30b60915bdd8",
   "metadata": {},
   "source": [
    "Podemos intentar solucionar el problema anterior modificando el parámetro ***class_weight*** para que modifique la importancia de cada clase de la variable target en funcion de su frecuencia en el dataset"
   ]
  },
  {
   "cell_type": "code",
   "execution_count": 38,
   "id": "0122bc31-f751-45c0-83af-9b4311adbb1a",
   "metadata": {},
   "outputs": [
    {
     "data": {
      "text/plain": [
       "0.8542981296878718"
      ]
     },
     "execution_count": 38,
     "metadata": {},
     "output_type": "execute_result"
    }
   ],
   "source": [
    "parameters = {\n",
    "    \"criterion\": [\n",
    "        \"gini\",\n",
    "        \"entropy\"\n",
    "    ],\n",
    "    \"max_depth\": np.arange(3,15,1),\n",
    "    \"min_samples_leaf\": np.arange(100,800,25),\n",
    "}\n",
    "\n",
    "grid = GridSearchCV(DecisionTreeClassifier(class_weight=\"balanced\", random_state=0),\n",
    "                    param_grid=parameters,\n",
    "                    cv = StratifiedKFold(5),\n",
    "                    refit = METRIC,\n",
    "                    scoring = SCORINGS,\n",
    "                    n_jobs = -1)\n",
    "\n",
    "grid.fit(X_train, Y_train)\n",
    "grid.best_score_"
   ]
  },
  {
   "cell_type": "code",
   "execution_count": 39,
   "id": "d1f8e97d-b654-410a-9991-994c77a89c1c",
   "metadata": {},
   "outputs": [
    {
     "data": {
      "text/html": [
       "<div>\n",
       "<style scoped>\n",
       "    .dataframe tbody tr th:only-of-type {\n",
       "        vertical-align: middle;\n",
       "    }\n",
       "\n",
       "    .dataframe tbody tr th {\n",
       "        vertical-align: top;\n",
       "    }\n",
       "\n",
       "    .dataframe thead th {\n",
       "        text-align: right;\n",
       "    }\n",
       "</style>\n",
       "<table border=\"1\" class=\"dataframe\">\n",
       "  <thead>\n",
       "    <tr style=\"text-align: right;\">\n",
       "      <th></th>\n",
       "      <th>AUC-ROC</th>\n",
       "      <th>Accuracy</th>\n",
       "      <th>Precision</th>\n",
       "      <th>Recall</th>\n",
       "      <th>F1 Score</th>\n",
       "    </tr>\n",
       "  </thead>\n",
       "  <tbody>\n",
       "    <tr>\n",
       "      <th>0</th>\n",
       "      <td>0.857091</td>\n",
       "      <td>0.786594</td>\n",
       "      <td>0.516088</td>\n",
       "      <td>0.750094</td>\n",
       "      <td>0.611467</td>\n",
       "    </tr>\n",
       "  </tbody>\n",
       "</table>\n",
       "</div>"
      ],
      "text/plain": [
       "    AUC-ROC  Accuracy  Precision    Recall  F1 Score\n",
       "0  0.857091  0.786594   0.516088  0.750094  0.611467"
      ]
     },
     "execution_count": 39,
     "metadata": {},
     "output_type": "execute_result"
    }
   ],
   "source": [
    "metrics_table(Y_test, grid.best_estimator_.predict(X_test), grid.best_estimator_.predict_proba(X_test)[:,1])"
   ]
  },
  {
   "cell_type": "code",
   "execution_count": 40,
   "id": "cb86f9e5-4eba-413f-a5d3-290d6989583e",
   "metadata": {},
   "outputs": [
    {
     "data": {
      "text/html": [
       "<div>\n",
       "<style scoped>\n",
       "    .dataframe tbody tr th:only-of-type {\n",
       "        vertical-align: middle;\n",
       "    }\n",
       "\n",
       "    .dataframe tbody tr th {\n",
       "        vertical-align: top;\n",
       "    }\n",
       "\n",
       "    .dataframe thead th {\n",
       "        text-align: right;\n",
       "    }\n",
       "</style>\n",
       "<table border=\"1\" class=\"dataframe\">\n",
       "  <thead>\n",
       "    <tr style=\"text-align: right;\">\n",
       "      <th></th>\n",
       "      <th>param_criterion</th>\n",
       "      <th>param_max_depth</th>\n",
       "      <th>param_min_samples_leaf</th>\n",
       "      <th>mean_test_roc_auc</th>\n",
       "      <th>mean_test_accuracy</th>\n",
       "      <th>mean_test_precision</th>\n",
       "      <th>mean_test_recall</th>\n",
       "      <th>mean_test_f1</th>\n",
       "    </tr>\n",
       "  </thead>\n",
       "  <tbody>\n",
       "    <tr>\n",
       "      <th>0</th>\n",
       "      <td>gini</td>\n",
       "      <td>8</td>\n",
       "      <td>150</td>\n",
       "      <td>0.854298</td>\n",
       "      <td>0.775643</td>\n",
       "      <td>0.499480</td>\n",
       "      <td>0.765192</td>\n",
       "      <td>0.604333</td>\n",
       "    </tr>\n",
       "    <tr>\n",
       "      <th>1</th>\n",
       "      <td>gini</td>\n",
       "      <td>8</td>\n",
       "      <td>100</td>\n",
       "      <td>0.854197</td>\n",
       "      <td>0.777883</td>\n",
       "      <td>0.502735</td>\n",
       "      <td>0.756866</td>\n",
       "      <td>0.604121</td>\n",
       "    </tr>\n",
       "    <tr>\n",
       "      <th>2</th>\n",
       "      <td>gini</td>\n",
       "      <td>9</td>\n",
       "      <td>200</td>\n",
       "      <td>0.854183</td>\n",
       "      <td>0.769780</td>\n",
       "      <td>0.491416</td>\n",
       "      <td>0.772710</td>\n",
       "      <td>0.600523</td>\n",
       "    </tr>\n",
       "    <tr>\n",
       "      <th>3</th>\n",
       "      <td>entropy</td>\n",
       "      <td>9</td>\n",
       "      <td>175</td>\n",
       "      <td>0.854154</td>\n",
       "      <td>0.776109</td>\n",
       "      <td>0.500142</td>\n",
       "      <td>0.763379</td>\n",
       "      <td>0.604276</td>\n",
       "    </tr>\n",
       "    <tr>\n",
       "      <th>4</th>\n",
       "      <td>gini</td>\n",
       "      <td>9</td>\n",
       "      <td>150</td>\n",
       "      <td>0.854028</td>\n",
       "      <td>0.770276</td>\n",
       "      <td>0.491850</td>\n",
       "      <td>0.773585</td>\n",
       "      <td>0.601273</td>\n",
       "    </tr>\n",
       "    <tr>\n",
       "      <th>...</th>\n",
       "      <td>...</td>\n",
       "      <td>...</td>\n",
       "      <td>...</td>\n",
       "      <td>...</td>\n",
       "      <td>...</td>\n",
       "      <td>...</td>\n",
       "      <td>...</td>\n",
       "      <td>...</td>\n",
       "    </tr>\n",
       "    <tr>\n",
       "      <th>667</th>\n",
       "      <td>gini</td>\n",
       "      <td>3</td>\n",
       "      <td>700</td>\n",
       "      <td>0.817297</td>\n",
       "      <td>0.758295</td>\n",
       "      <td>0.474877</td>\n",
       "      <td>0.745516</td>\n",
       "      <td>0.580059</td>\n",
       "    </tr>\n",
       "    <tr>\n",
       "      <th>668</th>\n",
       "      <td>gini</td>\n",
       "      <td>3</td>\n",
       "      <td>725</td>\n",
       "      <td>0.817297</td>\n",
       "      <td>0.758295</td>\n",
       "      <td>0.474877</td>\n",
       "      <td>0.745516</td>\n",
       "      <td>0.580059</td>\n",
       "    </tr>\n",
       "    <tr>\n",
       "      <th>669</th>\n",
       "      <td>gini</td>\n",
       "      <td>3</td>\n",
       "      <td>775</td>\n",
       "      <td>0.817297</td>\n",
       "      <td>0.758295</td>\n",
       "      <td>0.474877</td>\n",
       "      <td>0.745516</td>\n",
       "      <td>0.580059</td>\n",
       "    </tr>\n",
       "    <tr>\n",
       "      <th>670</th>\n",
       "      <td>gini</td>\n",
       "      <td>3</td>\n",
       "      <td>450</td>\n",
       "      <td>0.817297</td>\n",
       "      <td>0.758295</td>\n",
       "      <td>0.474877</td>\n",
       "      <td>0.745516</td>\n",
       "      <td>0.580059</td>\n",
       "    </tr>\n",
       "    <tr>\n",
       "      <th>671</th>\n",
       "      <td>gini</td>\n",
       "      <td>3</td>\n",
       "      <td>100</td>\n",
       "      <td>0.817297</td>\n",
       "      <td>0.758295</td>\n",
       "      <td>0.474877</td>\n",
       "      <td>0.745516</td>\n",
       "      <td>0.580059</td>\n",
       "    </tr>\n",
       "  </tbody>\n",
       "</table>\n",
       "<p>672 rows × 8 columns</p>\n",
       "</div>"
      ],
      "text/plain": [
       "    param_criterion param_max_depth param_min_samples_leaf  mean_test_roc_auc  \\\n",
       "0              gini               8                    150           0.854298   \n",
       "1              gini               8                    100           0.854197   \n",
       "2              gini               9                    200           0.854183   \n",
       "3           entropy               9                    175           0.854154   \n",
       "4              gini               9                    150           0.854028   \n",
       "..              ...             ...                    ...                ...   \n",
       "667            gini               3                    700           0.817297   \n",
       "668            gini               3                    725           0.817297   \n",
       "669            gini               3                    775           0.817297   \n",
       "670            gini               3                    450           0.817297   \n",
       "671            gini               3                    100           0.817297   \n",
       "\n",
       "     mean_test_accuracy  mean_test_precision  mean_test_recall  mean_test_f1  \n",
       "0              0.775643             0.499480          0.765192      0.604333  \n",
       "1              0.777883             0.502735          0.756866      0.604121  \n",
       "2              0.769780             0.491416          0.772710      0.600523  \n",
       "3              0.776109             0.500142          0.763379      0.604276  \n",
       "4              0.770276             0.491850          0.773585      0.601273  \n",
       "..                  ...                  ...               ...           ...  \n",
       "667            0.758295             0.474877          0.745516      0.580059  \n",
       "668            0.758295             0.474877          0.745516      0.580059  \n",
       "669            0.758295             0.474877          0.745516      0.580059  \n",
       "670            0.758295             0.474877          0.745516      0.580059  \n",
       "671            0.758295             0.474877          0.745516      0.580059  \n",
       "\n",
       "[672 rows x 8 columns]"
      ]
     },
     "execution_count": 40,
     "metadata": {},
     "output_type": "execute_result"
    }
   ],
   "source": [
    "grid_history_table(grid)"
   ]
  },
  {
   "cell_type": "markdown",
   "id": "6e339d8b-5dc2-4375-b83f-b42870a44c7e",
   "metadata": {},
   "source": [
    "Los mejores modelos resultaron ser más simples (menor profundidad) y mantuvieron el AUC ROC entre los mismos valores (aunque las otras métricas cambiaron)"
   ]
  },
  {
   "cell_type": "code",
   "execution_count": 41,
   "id": "72ecab61-78d5-4246-a5e8-0653d5dfeaaa",
   "metadata": {},
   "outputs": [
    {
     "data": {
      "text/plain": [
       "<sklearn.metrics._plot.confusion_matrix.ConfusionMatrixDisplay at 0x7f7ad7e998e0>"
      ]
     },
     "execution_count": 41,
     "metadata": {},
     "output_type": "execute_result"
    },
    {
     "data": {
      "image/png": "[encoded data removed]",
      "text/plain": [
       "<Figure size 432x288 with 2 Axes>"
      ]
     },
     "metadata": {
      "needs_background": "light"
     },
     "output_type": "display_data"
    }
   ],
   "source": [
    "ConfusionMatrixDisplay.from_predictions(Y_train, cross_val_predict(grid.best_estimator_, X_train, Y_train))"
   ]
  },
  {
   "cell_type": "markdown",
   "id": "7fb9630d-b826-4a6f-8fd7-9f5b8ce3d546",
   "metadata": {},
   "source": [
    "Vemos que la cantidad de instancias predichas correctamente disminuyó (lo cual se ve reflejado en la accuracy del modelo)"
   ]
  },
  {
   "cell_type": "code",
   "execution_count": 44,
   "id": "2d56f173-76bc-481b-8e34-e00046dc892f",
   "metadata": {},
   "outputs": [
    {
     "data": {
      "text/html": [
       "<div>\n",
       "<style scoped>\n",
       "    .dataframe tbody tr th:only-of-type {\n",
       "        vertical-align: middle;\n",
       "    }\n",
       "\n",
       "    .dataframe tbody tr th {\n",
       "        vertical-align: top;\n",
       "    }\n",
       "\n",
       "    .dataframe thead th {\n",
       "        text-align: right;\n",
       "    }\n",
       "</style>\n",
       "<table border=\"1\" class=\"dataframe\">\n",
       "  <thead>\n",
       "    <tr style=\"text-align: right;\">\n",
       "      <th></th>\n",
       "      <th>importancia</th>\n",
       "    </tr>\n",
       "    <tr>\n",
       "      <th>feature</th>\n",
       "      <th></th>\n",
       "    </tr>\n",
       "  </thead>\n",
       "  <tbody>\n",
       "    <tr>\n",
       "      <th>humedad_tarde</th>\n",
       "      <td>0.575663</td>\n",
       "    </tr>\n",
       "    <tr>\n",
       "      <th>horas_de_sol</th>\n",
       "      <td>0.162571</td>\n",
       "    </tr>\n",
       "    <tr>\n",
       "      <th>presion_atmosferica_tarde</th>\n",
       "      <td>0.124217</td>\n",
       "    </tr>\n",
       "    <tr>\n",
       "      <th>rafaga_viento_max_velocidad</th>\n",
       "      <td>0.057604</td>\n",
       "    </tr>\n",
       "    <tr>\n",
       "      <th>mm_lluvia_dia</th>\n",
       "      <td>0.025247</td>\n",
       "    </tr>\n",
       "    <tr>\n",
       "      <th>sin_viento_temprano</th>\n",
       "      <td>0.008616</td>\n",
       "    </tr>\n",
       "    <tr>\n",
       "      <th>sin_viento_tarde</th>\n",
       "      <td>0.008294</td>\n",
       "    </tr>\n",
       "    <tr>\n",
       "      <th>nubosidad_tarde</th>\n",
       "      <td>0.007709</td>\n",
       "    </tr>\n",
       "    <tr>\n",
       "      <th>temperatura_temprano</th>\n",
       "      <td>0.006102</td>\n",
       "    </tr>\n",
       "    <tr>\n",
       "      <th>presion_atmosferica_temprano</th>\n",
       "      <td>0.004629</td>\n",
       "    </tr>\n",
       "  </tbody>\n",
       "</table>\n",
       "</div>"
      ],
      "text/plain": [
       "                              importancia\n",
       "feature                                  \n",
       "humedad_tarde                    0.575663\n",
       "horas_de_sol                     0.162571\n",
       "presion_atmosferica_tarde        0.124217\n",
       "rafaga_viento_max_velocidad      0.057604\n",
       "mm_lluvia_dia                    0.025247\n",
       "sin_viento_temprano              0.008616\n",
       "sin_viento_tarde                 0.008294\n",
       "nubosidad_tarde                  0.007709\n",
       "temperatura_temprano             0.006102\n",
       "presion_atmosferica_temprano     0.004629"
      ]
     },
     "execution_count": 44,
     "metadata": {},
     "output_type": "execute_result"
    }
   ],
   "source": [
    "feature_importances(df_features.columns, grid.best_estimator_.feature_importances_).head(10)"
   ]
  },
  {
   "cell_type": "markdown",
   "id": "dadf76cb-89bc-4bbe-a6f2-1b3838ed977f",
   "metadata": {},
   "source": [
    "La importancia de las features se mantuvo similar, aunque algunas aumentaron un poco, como el caso de **sin_viento_temprano**.\n",
    "\n",
    "El modelo resultante no fue superador, ya que el score no aumentó"
   ]
  },
  {
   "cell_type": "code",
   "execution_count": 45,
   "id": "4ee5a695-38a6-4cfb-bc1e-f977b3781c9a",
   "metadata": {},
   "outputs": [
    {
     "data": {
      "text/plain": [
       "['DecisionTreeClassifier/balanced.joblib']"
      ]
     },
     "execution_count": 45,
     "metadata": {},
     "output_type": "execute_result"
    }
   ],
   "source": [
    "dump(grid.best_estimator_, 'DecisionTreeClassifier/balanced.joblib') "
   ]
  }
 ],
 "metadata": {
  "kernelspec": {
   "display_name": "Python 3 (ipykernel)",
   "language": "python",
   "name": "python3"
  },
  "language_info": {
   "codemirror_mode": {
    "name": "ipython",
    "version": 3
   },
   "file_extension": ".py",
   "mimetype": "text/x-python",
   "name": "python",
   "nbconvert_exporter": "python",
   "pygments_lexer": "ipython3",
   "version": "3.8.10"
  }
 },
 "nbformat": 4,
 "nbformat_minor": 5
}
