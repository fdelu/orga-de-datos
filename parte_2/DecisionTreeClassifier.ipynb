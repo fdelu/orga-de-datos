{
 "cells": [
  {
   "cell_type": "markdown",
   "id": "d3317a4c-2af8-4d32-ab14-e1c65d9ab702",
   "metadata": {},
   "source": [
    "# DecisionTreeClassifier"
   ]
  },
  {
   "cell_type": "markdown",
   "id": "5140f084-83f1-4390-a1af-be415b60979d",
   "metadata": {},
   "source": [
    "Un árbol de decisión es un modelo muy simple, intuitivo e interpretable. Resulta muy útil analizar sus resultados para detectar predictores fuertes y features irrelevantes, para poder afinar los preprocessings de modelos más complejos y mejorar su eficiencia. Se entrenaron árboles de decisión con dos preprocessings distintos: uno más sencillo y otro más sofisticado."
   ]
  },
  {
   "cell_type": "code",
   "execution_count": 1,
   "id": "ec047ce5-27db-4a50-b406-60550eb93572",
   "metadata": {},
   "outputs": [],
   "source": [
    "%load_ext autoreload\n",
    "%autoreload 2\n",
    "from preprocessing import *\n",
    "from sklearn.metrics import roc_auc_score, ConfusionMatrixDisplay, RocCurveDisplay\n",
    "from sklearn.tree import DecisionTreeClassifier\n",
    "from sklearn.model_selection import train_test_split, cross_val_predict, GridSearchCV, StratifiedKFold\n",
    "from sklearn.pipeline import Pipeline\n",
    "from sklearn.calibration import CalibratedClassifierCV\n",
    "import pandas as pd\n",
    "import numpy as np\n",
    "from scoring import *\n",
    "pd.set_option('display.max_rows', 10)"
   ]
  },
  {
   "cell_type": "markdown",
   "id": "397956e8-6f26-4a51-9023-0d6f3ca3d6bf",
   "metadata": {},
   "source": [
    "## Preprocessing Nº1"
   ]
  },
  {
   "cell_type": "code",
   "execution_count": 2,
   "id": "d52785f6-7c71-43bc-b609-5d9c4eb3b6c9",
   "metadata": {},
   "outputs": [],
   "source": [
    "df_features, df_target = get_datasets(fecha_to_int=True)\n",
    "\n",
    "df_features = dummy(df_features, [\n",
    "    \"direccion_viento_tarde\",\n",
    "    \"direccion_viento_temprano\",\n",
    "    \"rafaga_viento_max_direccion\",\n",
    "    \"barrio\"\n",
    "])\n",
    "\n",
    "X_train, X_test, Y_train, Y_test = train_test_split(df_features, df_target, stratify=df_target.values, test_size=0.35, random_state=0)\n",
    "\n",
    "pipe = simple_imputer()\n",
    "pipe.fit(X_train, Y_train)\n",
    "\n",
    "X_train = pipe.transform(X_train)\n",
    "X_test = pipe.transform(X_test)\n",
    "\n",
    "Y_train = np.ravel(Y_train)\n",
    "Y_test = np.ravel(Y_test)"
   ]
  },
  {
   "cell_type": "markdown",
   "id": "9eb5a432-75e4-4d62-92c7-c1f39b6fea26",
   "metadata": {},
   "source": [
    "### Grid search de hiperparámetros"
   ]
  },
  {
   "cell_type": "code",
   "execution_count": 3,
   "id": "d139f949-358d-477c-84e7-2048d3e4905d",
   "metadata": {},
   "outputs": [
    {
     "data": {
      "text/plain": [
       "0.8509136763607907"
      ]
     },
     "execution_count": 3,
     "metadata": {},
     "output_type": "execute_result"
    }
   ],
   "source": [
    "parameters = {\n",
    "    \"criterion\": [\n",
    "        \"gini\",\n",
    "        \"entropy\"\n",
    "    ],\n",
    "    \"max_depth\": np.arange(3,15,1),\n",
    "    \"min_samples_leaf\": np.arange(100,800,25),\n",
    "}\n",
    "\n",
    "grid = GridSearchCV(DecisionTreeClassifier(random_state=0),\n",
    "                    param_grid=parameters,\n",
    "                    cv = StratifiedKFold(5),\n",
    "                    refit = METRIC,\n",
    "                    scoring = SCORINGS,\n",
    "                    n_jobs = -1)\n",
    "\n",
    "grid.fit(X_train, Y_train)\n",
    "grid.best_score_"
   ]
  },
  {
   "cell_type": "code",
   "execution_count": 4,
   "id": "8db1d1ad-0170-4676-9ed1-6561ee6b5e93",
   "metadata": {},
   "outputs": [
    {
     "data": {
      "text/html": [
       "<div>\n",
       "<style scoped>\n",
       "    .dataframe tbody tr th:only-of-type {\n",
       "        vertical-align: middle;\n",
       "    }\n",
       "\n",
       "    .dataframe tbody tr th {\n",
       "        vertical-align: top;\n",
       "    }\n",
       "\n",
       "    .dataframe thead th {\n",
       "        text-align: right;\n",
       "    }\n",
       "</style>\n",
       "<table border=\"1\" class=\"dataframe\">\n",
       "  <thead>\n",
       "    <tr style=\"text-align: right;\">\n",
       "      <th></th>\n",
       "      <th>AUC-ROC</th>\n",
       "      <th>Accuracy</th>\n",
       "      <th>Precision</th>\n",
       "      <th>Recall</th>\n",
       "      <th>F1 Score</th>\n",
       "    </tr>\n",
       "  </thead>\n",
       "  <tbody>\n",
       "    <tr>\n",
       "      <th>0</th>\n",
       "      <td>0.852851</td>\n",
       "      <td>0.839387</td>\n",
       "      <td>0.70466</td>\n",
       "      <td>0.48647</td>\n",
       "      <td>0.575581</td>\n",
       "    </tr>\n",
       "  </tbody>\n",
       "</table>\n",
       "</div>"
      ],
      "text/plain": [
       "    AUC-ROC  Accuracy  Precision   Recall  F1 Score\n",
       "0  0.852851  0.839387    0.70466  0.48647  0.575581"
      ]
     },
     "execution_count": 4,
     "metadata": {},
     "output_type": "execute_result"
    }
   ],
   "source": [
    "metrics_table(Y_test, grid.best_estimator_.predict(X_test), grid.best_estimator_.predict_proba(X_test)[:,1])"
   ]
  },
  {
   "cell_type": "code",
   "execution_count": 5,
   "id": "43a2cbce-7a40-4cdb-8e38-fa631ae71d04",
   "metadata": {
    "tags": []
   },
   "outputs": [
    {
     "data": {
      "text/html": [
       "<div>\n",
       "<style scoped>\n",
       "    .dataframe tbody tr th:only-of-type {\n",
       "        vertical-align: middle;\n",
       "    }\n",
       "\n",
       "    .dataframe tbody tr th {\n",
       "        vertical-align: top;\n",
       "    }\n",
       "\n",
       "    .dataframe thead th {\n",
       "        text-align: right;\n",
       "    }\n",
       "</style>\n",
       "<table border=\"1\" class=\"dataframe\">\n",
       "  <thead>\n",
       "    <tr style=\"text-align: right;\">\n",
       "      <th></th>\n",
       "      <th>param_criterion</th>\n",
       "      <th>param_max_depth</th>\n",
       "      <th>param_min_samples_leaf</th>\n",
       "      <th>mean_test_roc_auc</th>\n",
       "      <th>mean_test_accuracy</th>\n",
       "      <th>mean_test_precision</th>\n",
       "      <th>mean_test_recall</th>\n",
       "      <th>mean_test_f1</th>\n",
       "    </tr>\n",
       "  </thead>\n",
       "  <tbody>\n",
       "    <tr>\n",
       "      <th>0</th>\n",
       "      <td>gini</td>\n",
       "      <td>11</td>\n",
       "      <td>150</td>\n",
       "      <td>0.850914</td>\n",
       "      <td>0.837009</td>\n",
       "      <td>0.705018</td>\n",
       "      <td>0.469346</td>\n",
       "      <td>0.563054</td>\n",
       "    </tr>\n",
       "    <tr>\n",
       "      <th>1</th>\n",
       "      <td>gini</td>\n",
       "      <td>12</td>\n",
       "      <td>150</td>\n",
       "      <td>0.850904</td>\n",
       "      <td>0.837009</td>\n",
       "      <td>0.705018</td>\n",
       "      <td>0.469346</td>\n",
       "      <td>0.563054</td>\n",
       "    </tr>\n",
       "    <tr>\n",
       "      <th>2</th>\n",
       "      <td>gini</td>\n",
       "      <td>13</td>\n",
       "      <td>175</td>\n",
       "      <td>0.850888</td>\n",
       "      <td>0.836603</td>\n",
       "      <td>0.700469</td>\n",
       "      <td>0.474515</td>\n",
       "      <td>0.564984</td>\n",
       "    </tr>\n",
       "    <tr>\n",
       "      <th>3</th>\n",
       "      <td>gini</td>\n",
       "      <td>10</td>\n",
       "      <td>150</td>\n",
       "      <td>0.850852</td>\n",
       "      <td>0.837009</td>\n",
       "      <td>0.705018</td>\n",
       "      <td>0.469346</td>\n",
       "      <td>0.563054</td>\n",
       "    </tr>\n",
       "    <tr>\n",
       "      <th>4</th>\n",
       "      <td>gini</td>\n",
       "      <td>11</td>\n",
       "      <td>175</td>\n",
       "      <td>0.850822</td>\n",
       "      <td>0.836603</td>\n",
       "      <td>0.700469</td>\n",
       "      <td>0.474515</td>\n",
       "      <td>0.564984</td>\n",
       "    </tr>\n",
       "    <tr>\n",
       "      <th>...</th>\n",
       "      <td>...</td>\n",
       "      <td>...</td>\n",
       "      <td>...</td>\n",
       "      <td>...</td>\n",
       "      <td>...</td>\n",
       "      <td>...</td>\n",
       "      <td>...</td>\n",
       "      <td>...</td>\n",
       "    </tr>\n",
       "    <tr>\n",
       "      <th>667</th>\n",
       "      <td>gini</td>\n",
       "      <td>3</td>\n",
       "      <td>500</td>\n",
       "      <td>0.787686</td>\n",
       "      <td>0.827854</td>\n",
       "      <td>0.736649</td>\n",
       "      <td>0.362186</td>\n",
       "      <td>0.484594</td>\n",
       "    </tr>\n",
       "    <tr>\n",
       "      <th>668</th>\n",
       "      <td>gini</td>\n",
       "      <td>3</td>\n",
       "      <td>400</td>\n",
       "      <td>0.787681</td>\n",
       "      <td>0.827854</td>\n",
       "      <td>0.736649</td>\n",
       "      <td>0.362186</td>\n",
       "      <td>0.484594</td>\n",
       "    </tr>\n",
       "    <tr>\n",
       "      <th>669</th>\n",
       "      <td>gini</td>\n",
       "      <td>3</td>\n",
       "      <td>325</td>\n",
       "      <td>0.787671</td>\n",
       "      <td>0.827854</td>\n",
       "      <td>0.736649</td>\n",
       "      <td>0.362186</td>\n",
       "      <td>0.484594</td>\n",
       "    </tr>\n",
       "    <tr>\n",
       "      <th>670</th>\n",
       "      <td>gini</td>\n",
       "      <td>3</td>\n",
       "      <td>350</td>\n",
       "      <td>0.787655</td>\n",
       "      <td>0.827854</td>\n",
       "      <td>0.736649</td>\n",
       "      <td>0.362186</td>\n",
       "      <td>0.484594</td>\n",
       "    </tr>\n",
       "    <tr>\n",
       "      <th>671</th>\n",
       "      <td>gini</td>\n",
       "      <td>3</td>\n",
       "      <td>375</td>\n",
       "      <td>0.787634</td>\n",
       "      <td>0.827854</td>\n",
       "      <td>0.736649</td>\n",
       "      <td>0.362186</td>\n",
       "      <td>0.484594</td>\n",
       "    </tr>\n",
       "  </tbody>\n",
       "</table>\n",
       "<p>672 rows × 8 columns</p>\n",
       "</div>"
      ],
      "text/plain": [
       "    param_criterion param_max_depth param_min_samples_leaf  mean_test_roc_auc  \\\n",
       "0              gini              11                    150           0.850914   \n",
       "1              gini              12                    150           0.850904   \n",
       "2              gini              13                    175           0.850888   \n",
       "3              gini              10                    150           0.850852   \n",
       "4              gini              11                    175           0.850822   \n",
       "..              ...             ...                    ...                ...   \n",
       "667            gini               3                    500           0.787686   \n",
       "668            gini               3                    400           0.787681   \n",
       "669            gini               3                    325           0.787671   \n",
       "670            gini               3                    350           0.787655   \n",
       "671            gini               3                    375           0.787634   \n",
       "\n",
       "     mean_test_accuracy  mean_test_precision  mean_test_recall  mean_test_f1  \n",
       "0              0.837009             0.705018          0.469346      0.563054  \n",
       "1              0.837009             0.705018          0.469346      0.563054  \n",
       "2              0.836603             0.700469          0.474515      0.564984  \n",
       "3              0.837009             0.705018          0.469346      0.563054  \n",
       "4              0.836603             0.700469          0.474515      0.564984  \n",
       "..                  ...                  ...               ...           ...  \n",
       "667            0.827854             0.736649          0.362186      0.484594  \n",
       "668            0.827854             0.736649          0.362186      0.484594  \n",
       "669            0.827854             0.736649          0.362186      0.484594  \n",
       "670            0.827854             0.736649          0.362186      0.484594  \n",
       "671            0.827854             0.736649          0.362186      0.484594  \n",
       "\n",
       "[672 rows x 8 columns]"
      ]
     },
     "execution_count": 5,
     "metadata": {},
     "output_type": "execute_result"
    }
   ],
   "source": [
    "grid_history_table(grid)"
   ]
  },
  {
   "cell_type": "markdown",
   "id": "ff7d0a45-1674-4cb8-b259-fd5c20bfa438",
   "metadata": {},
   "source": [
    "Vemos que los mejores modelos utilizaron ***gini*** como criterio de separación. Esto es interesante, ya que generalmente el criterio ***entropy*** suele dar mejores resultados"
   ]
  },
  {
   "cell_type": "markdown",
   "id": "a11e9909-c462-46ef-9b42-77a3694faa82",
   "metadata": {},
   "source": [
    "### Importancia de cada feature"
   ]
  },
  {
   "cell_type": "code",
   "execution_count": 6,
   "id": "a4fec7ed-cd6f-41be-a090-b96ece24c766",
   "metadata": {},
   "outputs": [
    {
     "data": {
      "image/png": "[encoded data removed]",
      "text/plain": [
       "<Figure size 720x576 with 1 Axes>"
      ]
     },
     "metadata": {
      "needs_background": "light"
     },
     "output_type": "display_data"
    }
   ],
   "source": [
    "plot_feature_importances(df_features.columns, grid.best_estimator_.feature_importances_, size=10, head=True)"
   ]
  },
  {
   "cell_type": "markdown",
   "id": "92ae7b31-3df4-4d88-ad70-9e6ea1204056",
   "metadata": {},
   "source": [
    "Las features que el modelo consideró más importantes coinciden con las analizadas en el TP1"
   ]
  },
  {
   "cell_type": "code",
   "execution_count": 7,
   "id": "448f4aef-e92e-4c9e-963a-e03062f097bb",
   "metadata": {},
   "outputs": [
    {
     "data": {
      "image/png": "[encoded data removed]",
      "text/plain": [
       "<Figure size 720x576 with 1 Axes>"
      ]
     },
     "metadata": {
      "needs_background": "light"
     },
     "output_type": "display_data"
    }
   ],
   "source": [
    "plot_feature_importances(df_features.columns, grid.best_estimator_.feature_importances_, size=25, head=False)"
   ]
  },
  {
   "cell_type": "markdown",
   "id": "71f4392b-449b-4f5a-aa8c-837be270aa41",
   "metadata": {},
   "source": [
    "Vemos que los barrios y las direcciones de viento no fueron útiles para el modelo utilizando One Hot Encoding. Para el segundo preprocessing, se utilizaron encodings diferentes para comparar resultados."
   ]
  },
  {
   "cell_type": "markdown",
   "id": "0b31bb33-5f83-49b5-8b06-282d0e242887",
   "metadata": {},
   "source": [
    "## Preprocessing Nº2"
   ]
  },
  {
   "cell_type": "code",
   "execution_count": 8,
   "id": "d5a3356e-93dc-4970-b784-b643af461bc7",
   "metadata": {},
   "outputs": [],
   "source": [
    "df_features, df_target = get_datasets(fecha_to_int=False)\n",
    "\n",
    "viento_trigonometrico(df_features)\n",
    "df_features = barrios_a_comunas(df_features)\n",
    "df_features = dia_a_mes(df_features)\n",
    "\n",
    "X_train, X_test, Y_train, Y_test = train_test_split(df_features, df_target, stratify=df_target.values, test_size=0.35, random_state=0)\n",
    "\n",
    "pipe = iterative_imputer(max_iter=100)\n",
    "\n",
    "pipe.fit(X_train)\n",
    "X_train = pipe.transform(X_train)\n",
    "X_test = pipe.transform(X_test)\n",
    "\n",
    "Y_train = np.ravel(Y_train)\n",
    "Y_test = np.ravel(Y_test)"
   ]
  },
  {
   "cell_type": "markdown",
   "id": "da5ee960-87fc-4c8d-9345-1a26f38f7e73",
   "metadata": {},
   "source": [
    "### Grid search de hiperparámetros"
   ]
  },
  {
   "cell_type": "code",
   "execution_count": 9,
   "id": "6a0fd5b5-3d72-4cb9-b9d2-a3ea6b752998",
   "metadata": {},
   "outputs": [
    {
     "data": {
      "text/plain": [
       "0.8551373654785872"
      ]
     },
     "execution_count": 9,
     "metadata": {},
     "output_type": "execute_result"
    }
   ],
   "source": [
    "parameters = {\n",
    "    \"criterion\": [\n",
    "        \"gini\",\n",
    "        \"entropy\"\n",
    "    ],\n",
    "    \"max_depth\": np.arange(3,15,1),\n",
    "    \"min_samples_leaf\": np.arange(100,800,25),\n",
    "}\n",
    "\n",
    "grid = GridSearchCV(DecisionTreeClassifier(random_state=0),\n",
    "                    param_grid=parameters,\n",
    "                    cv = StratifiedKFold(5),\n",
    "                    refit = METRIC,\n",
    "                    scoring = SCORINGS,\n",
    "                    n_jobs = -1)\n",
    "\n",
    "grid.fit(X_train, Y_train)\n",
    "grid.best_score_"
   ]
  },
  {
   "cell_type": "code",
   "execution_count": 10,
   "id": "35b1d108-630e-447a-b0a8-84f41d652fa9",
   "metadata": {},
   "outputs": [
    {
     "data": {
      "text/html": [
       "<div>\n",
       "<style scoped>\n",
       "    .dataframe tbody tr th:only-of-type {\n",
       "        vertical-align: middle;\n",
       "    }\n",
       "\n",
       "    .dataframe tbody tr th {\n",
       "        vertical-align: top;\n",
       "    }\n",
       "\n",
       "    .dataframe thead th {\n",
       "        text-align: right;\n",
       "    }\n",
       "</style>\n",
       "<table border=\"1\" class=\"dataframe\">\n",
       "  <thead>\n",
       "    <tr style=\"text-align: right;\">\n",
       "      <th></th>\n",
       "      <th>AUC-ROC</th>\n",
       "      <th>Accuracy</th>\n",
       "      <th>Precision</th>\n",
       "      <th>Recall</th>\n",
       "      <th>F1 Score</th>\n",
       "    </tr>\n",
       "  </thead>\n",
       "  <tbody>\n",
       "    <tr>\n",
       "      <th>0</th>\n",
       "      <td>0.858443</td>\n",
       "      <td>0.843212</td>\n",
       "      <td>0.720418</td>\n",
       "      <td>0.489712</td>\n",
       "      <td>0.583073</td>\n",
       "    </tr>\n",
       "  </tbody>\n",
       "</table>\n",
       "</div>"
      ],
      "text/plain": [
       "    AUC-ROC  Accuracy  Precision    Recall  F1 Score\n",
       "0  0.858443  0.843212   0.720418  0.489712  0.583073"
      ]
     },
     "execution_count": 10,
     "metadata": {},
     "output_type": "execute_result"
    }
   ],
   "source": [
    "metrics_table(Y_test, grid.best_estimator_.predict(X_test), grid.best_estimator_.predict_proba(X_test)[:,1])"
   ]
  },
  {
   "cell_type": "code",
   "execution_count": 11,
   "id": "e7d04333-0bec-4355-b241-40a3560bf864",
   "metadata": {},
   "outputs": [
    {
     "data": {
      "text/html": [
       "<div>\n",
       "<style scoped>\n",
       "    .dataframe tbody tr th:only-of-type {\n",
       "        vertical-align: middle;\n",
       "    }\n",
       "\n",
       "    .dataframe tbody tr th {\n",
       "        vertical-align: top;\n",
       "    }\n",
       "\n",
       "    .dataframe thead th {\n",
       "        text-align: right;\n",
       "    }\n",
       "</style>\n",
       "<table border=\"1\" class=\"dataframe\">\n",
       "  <thead>\n",
       "    <tr style=\"text-align: right;\">\n",
       "      <th></th>\n",
       "      <th>param_criterion</th>\n",
       "      <th>param_max_depth</th>\n",
       "      <th>param_min_samples_leaf</th>\n",
       "      <th>mean_test_roc_auc</th>\n",
       "      <th>mean_test_accuracy</th>\n",
       "      <th>mean_test_precision</th>\n",
       "      <th>mean_test_recall</th>\n",
       "      <th>mean_test_f1</th>\n",
       "    </tr>\n",
       "  </thead>\n",
       "  <tbody>\n",
       "    <tr>\n",
       "      <th>0</th>\n",
       "      <td>entropy</td>\n",
       "      <td>9</td>\n",
       "      <td>200</td>\n",
       "      <td>0.855137</td>\n",
       "      <td>0.838993</td>\n",
       "      <td>0.709256</td>\n",
       "      <td>0.476532</td>\n",
       "      <td>0.569845</td>\n",
       "    </tr>\n",
       "    <tr>\n",
       "      <th>1</th>\n",
       "      <td>entropy</td>\n",
       "      <td>10</td>\n",
       "      <td>200</td>\n",
       "      <td>0.854776</td>\n",
       "      <td>0.838993</td>\n",
       "      <td>0.709256</td>\n",
       "      <td>0.476532</td>\n",
       "      <td>0.569845</td>\n",
       "    </tr>\n",
       "    <tr>\n",
       "      <th>2</th>\n",
       "      <td>entropy</td>\n",
       "      <td>9</td>\n",
       "      <td>225</td>\n",
       "      <td>0.854718</td>\n",
       "      <td>0.838918</td>\n",
       "      <td>0.707276</td>\n",
       "      <td>0.479354</td>\n",
       "      <td>0.571051</td>\n",
       "    </tr>\n",
       "    <tr>\n",
       "      <th>3</th>\n",
       "      <td>entropy</td>\n",
       "      <td>14</td>\n",
       "      <td>225</td>\n",
       "      <td>0.854705</td>\n",
       "      <td>0.838918</td>\n",
       "      <td>0.707276</td>\n",
       "      <td>0.479354</td>\n",
       "      <td>0.571051</td>\n",
       "    </tr>\n",
       "    <tr>\n",
       "      <th>4</th>\n",
       "      <td>entropy</td>\n",
       "      <td>13</td>\n",
       "      <td>225</td>\n",
       "      <td>0.854689</td>\n",
       "      <td>0.838918</td>\n",
       "      <td>0.707276</td>\n",
       "      <td>0.479354</td>\n",
       "      <td>0.571051</td>\n",
       "    </tr>\n",
       "    <tr>\n",
       "      <th>...</th>\n",
       "      <td>...</td>\n",
       "      <td>...</td>\n",
       "      <td>...</td>\n",
       "      <td>...</td>\n",
       "      <td>...</td>\n",
       "      <td>...</td>\n",
       "      <td>...</td>\n",
       "      <td>...</td>\n",
       "    </tr>\n",
       "    <tr>\n",
       "      <th>667</th>\n",
       "      <td>gini</td>\n",
       "      <td>3</td>\n",
       "      <td>200</td>\n",
       "      <td>0.810853</td>\n",
       "      <td>0.828470</td>\n",
       "      <td>0.731475</td>\n",
       "      <td>0.370174</td>\n",
       "      <td>0.491249</td>\n",
       "    </tr>\n",
       "    <tr>\n",
       "      <th>668</th>\n",
       "      <td>gini</td>\n",
       "      <td>3</td>\n",
       "      <td>175</td>\n",
       "      <td>0.810853</td>\n",
       "      <td>0.828470</td>\n",
       "      <td>0.731475</td>\n",
       "      <td>0.370174</td>\n",
       "      <td>0.491249</td>\n",
       "    </tr>\n",
       "    <tr>\n",
       "      <th>669</th>\n",
       "      <td>gini</td>\n",
       "      <td>3</td>\n",
       "      <td>150</td>\n",
       "      <td>0.810853</td>\n",
       "      <td>0.828470</td>\n",
       "      <td>0.731475</td>\n",
       "      <td>0.370174</td>\n",
       "      <td>0.491249</td>\n",
       "    </tr>\n",
       "    <tr>\n",
       "      <th>670</th>\n",
       "      <td>gini</td>\n",
       "      <td>3</td>\n",
       "      <td>125</td>\n",
       "      <td>0.810853</td>\n",
       "      <td>0.828470</td>\n",
       "      <td>0.731475</td>\n",
       "      <td>0.370174</td>\n",
       "      <td>0.491249</td>\n",
       "    </tr>\n",
       "    <tr>\n",
       "      <th>671</th>\n",
       "      <td>gini</td>\n",
       "      <td>3</td>\n",
       "      <td>100</td>\n",
       "      <td>0.810853</td>\n",
       "      <td>0.828470</td>\n",
       "      <td>0.731475</td>\n",
       "      <td>0.370174</td>\n",
       "      <td>0.491249</td>\n",
       "    </tr>\n",
       "  </tbody>\n",
       "</table>\n",
       "<p>672 rows × 8 columns</p>\n",
       "</div>"
      ],
      "text/plain": [
       "    param_criterion param_max_depth param_min_samples_leaf  mean_test_roc_auc  \\\n",
       "0           entropy               9                    200           0.855137   \n",
       "1           entropy              10                    200           0.854776   \n",
       "2           entropy               9                    225           0.854718   \n",
       "3           entropy              14                    225           0.854705   \n",
       "4           entropy              13                    225           0.854689   \n",
       "..              ...             ...                    ...                ...   \n",
       "667            gini               3                    200           0.810853   \n",
       "668            gini               3                    175           0.810853   \n",
       "669            gini               3                    150           0.810853   \n",
       "670            gini               3                    125           0.810853   \n",
       "671            gini               3                    100           0.810853   \n",
       "\n",
       "     mean_test_accuracy  mean_test_precision  mean_test_recall  mean_test_f1  \n",
       "0              0.838993             0.709256          0.476532      0.569845  \n",
       "1              0.838993             0.709256          0.476532      0.569845  \n",
       "2              0.838918             0.707276          0.479354      0.571051  \n",
       "3              0.838918             0.707276          0.479354      0.571051  \n",
       "4              0.838918             0.707276          0.479354      0.571051  \n",
       "..                  ...                  ...               ...           ...  \n",
       "667            0.828470             0.731475          0.370174      0.491249  \n",
       "668            0.828470             0.731475          0.370174      0.491249  \n",
       "669            0.828470             0.731475          0.370174      0.491249  \n",
       "670            0.828470             0.731475          0.370174      0.491249  \n",
       "671            0.828470             0.731475          0.370174      0.491249  \n",
       "\n",
       "[672 rows x 8 columns]"
      ]
     },
     "execution_count": 11,
     "metadata": {},
     "output_type": "execute_result"
    }
   ],
   "source": [
    "grid_history_table(grid)"
   ]
  },
  {
   "cell_type": "markdown",
   "id": "063e3de5-9111-4d2a-a527-c1b34a8b7889",
   "metadata": {},
   "source": [
    "Los resultados son ligeramente mejores que en el primer preprocessing. En cuanto a los hiperparámetros encontrados, vemos que los árboles resultantes son menos profundos y, por lo tanto, más simples. Esto es algo bueno, ya que quiere decir que tiene más posibilidades de generalizar mejor y tener mejores resultados en instancias no vistas anteriormente. También vemos que los mejores árboles utilizaron ***entropy*** en lugar de ***gini***"
   ]
  },
  {
   "cell_type": "markdown",
   "id": "7606a041-5908-41aa-92b1-7f67d080cec6",
   "metadata": {},
   "source": [
    "### Importancia de cada feature"
   ]
  },
  {
   "cell_type": "code",
   "execution_count": 12,
   "id": "36a8a1e8-160b-4f5a-bf80-f8eeb7368e9a",
   "metadata": {},
   "outputs": [
    {
     "data": {
      "image/png": "[encoded data removed]",
      "text/plain": [
       "<Figure size 720x576 with 1 Axes>"
      ]
     },
     "metadata": {
      "needs_background": "light"
     },
     "output_type": "display_data"
    }
   ],
   "source": [
    "plot_feature_importances(df_features.columns, grid.best_estimator_.feature_importances_, size=10, head=True)"
   ]
  },
  {
   "cell_type": "markdown",
   "id": "3a887e3d-15f8-4378-b38f-fd928cb63cd1",
   "metadata": {},
   "source": [
    "Podemos observar que el preprocessing ***viento_trigonometrico*** fue de utilidad, ya que algunas features relacionadas a la dirección del viento ganaron importancia en el árbol."
   ]
  },
  {
   "cell_type": "code",
   "execution_count": 13,
   "id": "1b4cbd37-4566-4cb3-9e4a-c90a266fd47c",
   "metadata": {},
   "outputs": [
    {
     "data": {
      "image/png": "[encoded data removed]",
      "text/plain": [
       "<Figure size 720x576 with 1 Axes>"
      ]
     },
     "metadata": {
      "needs_background": "light"
     },
     "output_type": "display_data"
    }
   ],
   "source": [
    "plot_feature_importances(df_features.columns, grid.best_estimator_.feature_importances_, size=20, head=False)"
   ]
  },
  {
   "cell_type": "markdown",
   "id": "52e4739e-b80f-4ff4-a26e-69dc13dc3787",
   "metadata": {},
   "source": [
    "El hashing de los barrios no resultó tan útil. Como genera un aumento considerable de la dimensionalidad del dataset, en futuros modelos debería considerarse la posibilidad de descartar la feature completa."
   ]
  },
  {
   "cell_type": "markdown",
   "id": "f5ac56fd-b3d7-4cfc-95cc-770118763c68",
   "metadata": {},
   "source": [
    "### Matriz de confusión"
   ]
  },
  {
   "cell_type": "code",
   "execution_count": 14,
   "id": "f51bfdf4-b70e-4ef8-b047-36d6ccebe80b",
   "metadata": {},
   "outputs": [
    {
     "data": {
      "text/plain": [
       "<sklearn.metrics._plot.confusion_matrix.ConfusionMatrixDisplay at 0x7fcbabe78d90>"
      ]
     },
     "execution_count": 14,
     "metadata": {},
     "output_type": "execute_result"
    },
    {
     "data": {
      "image/png": "[encoded data removed]",
      "text/plain": [
       "<Figure size 432x288 with 2 Axes>"
      ]
     },
     "metadata": {
      "needs_background": "light"
     },
     "output_type": "display_data"
    }
   ],
   "source": [
    "ConfusionMatrixDisplay.from_predictions(Y_test, grid.best_estimator_.predict(X_test))"
   ]
  },
  {
   "cell_type": "markdown",
   "id": "04352cae-d3c8-4e50-8702-655c8ed8d625",
   "metadata": {},
   "source": [
    "Podemos ver que la cantidad de falsos negativos es más del doble de la cantidad de falsos positivos. Esto se debe a que el dataset se encontraba desbalanceado, por lo que el modelo tiende a devolver 0 con más frecuencia, ya que en las hojas tendrá mayor cantidad de instancias negativas que positivas."
   ]
  },
  {
   "cell_type": "markdown",
   "id": "805ef770-f908-45b5-8b68-e51ea06b770d",
   "metadata": {},
   "source": [
    "## Cambiando los pesos de las clases"
   ]
  },
  {
   "cell_type": "markdown",
   "id": "32adf074-8bc3-4474-8617-30b60915bdd8",
   "metadata": {},
   "source": [
    "Podemos intentar solucionar el problema anterior modificando el parámetro `class_weight` para que modifique la importancia de cada clase de la variable target en funcion de su frecuencia en el dataset"
   ]
  },
  {
   "cell_type": "code",
   "execution_count": 15,
   "id": "0122bc31-f751-45c0-83af-9b4311adbb1a",
   "metadata": {},
   "outputs": [
    {
     "data": {
      "text/plain": [
       "0.8542981296878718"
      ]
     },
     "execution_count": 15,
     "metadata": {},
     "output_type": "execute_result"
    }
   ],
   "source": [
    "parameters = {\n",
    "    \"criterion\": [\n",
    "        \"gini\",\n",
    "        \"entropy\"\n",
    "    ],\n",
    "    \"max_depth\": np.arange(3,15,1),\n",
    "    \"min_samples_leaf\": np.arange(100,800,25),\n",
    "}\n",
    "\n",
    "grid = GridSearchCV(DecisionTreeClassifier(class_weight=\"balanced\", random_state=0),\n",
    "                    param_grid=parameters,\n",
    "                    cv = StratifiedKFold(5),\n",
    "                    refit = METRIC,\n",
    "                    scoring = SCORINGS,\n",
    "                    n_jobs = -1)\n",
    "\n",
    "grid.fit(X_train, Y_train)\n",
    "grid.best_score_"
   ]
  },
  {
   "cell_type": "code",
   "execution_count": 16,
   "id": "d1f8e97d-b654-410a-9991-994c77a89c1c",
   "metadata": {},
   "outputs": [
    {
     "data": {
      "text/html": [
       "<div>\n",
       "<style scoped>\n",
       "    .dataframe tbody tr th:only-of-type {\n",
       "        vertical-align: middle;\n",
       "    }\n",
       "\n",
       "    .dataframe tbody tr th {\n",
       "        vertical-align: top;\n",
       "    }\n",
       "\n",
       "    .dataframe thead th {\n",
       "        text-align: right;\n",
       "    }\n",
       "</style>\n",
       "<table border=\"1\" class=\"dataframe\">\n",
       "  <thead>\n",
       "    <tr style=\"text-align: right;\">\n",
       "      <th></th>\n",
       "      <th>AUC-ROC</th>\n",
       "      <th>Accuracy</th>\n",
       "      <th>Precision</th>\n",
       "      <th>Recall</th>\n",
       "      <th>F1 Score</th>\n",
       "    </tr>\n",
       "  </thead>\n",
       "  <tbody>\n",
       "    <tr>\n",
       "      <th>0</th>\n",
       "      <td>0.857091</td>\n",
       "      <td>0.786594</td>\n",
       "      <td>0.516088</td>\n",
       "      <td>0.750094</td>\n",
       "      <td>0.611467</td>\n",
       "    </tr>\n",
       "  </tbody>\n",
       "</table>\n",
       "</div>"
      ],
      "text/plain": [
       "    AUC-ROC  Accuracy  Precision    Recall  F1 Score\n",
       "0  0.857091  0.786594   0.516088  0.750094  0.611467"
      ]
     },
     "execution_count": 16,
     "metadata": {},
     "output_type": "execute_result"
    }
   ],
   "source": [
    "metrics_table(Y_test, grid.best_estimator_.predict(X_test), grid.best_estimator_.predict_proba(X_test)[:,1])"
   ]
  },
  {
   "cell_type": "code",
   "execution_count": 17,
   "id": "cb86f9e5-4eba-413f-a5d3-290d6989583e",
   "metadata": {},
   "outputs": [
    {
     "data": {
      "text/html": [
       "<div>\n",
       "<style scoped>\n",
       "    .dataframe tbody tr th:only-of-type {\n",
       "        vertical-align: middle;\n",
       "    }\n",
       "\n",
       "    .dataframe tbody tr th {\n",
       "        vertical-align: top;\n",
       "    }\n",
       "\n",
       "    .dataframe thead th {\n",
       "        text-align: right;\n",
       "    }\n",
       "</style>\n",
       "<table border=\"1\" class=\"dataframe\">\n",
       "  <thead>\n",
       "    <tr style=\"text-align: right;\">\n",
       "      <th></th>\n",
       "      <th>param_criterion</th>\n",
       "      <th>param_max_depth</th>\n",
       "      <th>param_min_samples_leaf</th>\n",
       "      <th>mean_test_roc_auc</th>\n",
       "      <th>mean_test_accuracy</th>\n",
       "      <th>mean_test_precision</th>\n",
       "      <th>mean_test_recall</th>\n",
       "      <th>mean_test_f1</th>\n",
       "    </tr>\n",
       "  </thead>\n",
       "  <tbody>\n",
       "    <tr>\n",
       "      <th>0</th>\n",
       "      <td>gini</td>\n",
       "      <td>8</td>\n",
       "      <td>150</td>\n",
       "      <td>0.854298</td>\n",
       "      <td>0.775643</td>\n",
       "      <td>0.499480</td>\n",
       "      <td>0.765192</td>\n",
       "      <td>0.604333</td>\n",
       "    </tr>\n",
       "    <tr>\n",
       "      <th>1</th>\n",
       "      <td>gini</td>\n",
       "      <td>8</td>\n",
       "      <td>100</td>\n",
       "      <td>0.854197</td>\n",
       "      <td>0.777883</td>\n",
       "      <td>0.502735</td>\n",
       "      <td>0.756866</td>\n",
       "      <td>0.604121</td>\n",
       "    </tr>\n",
       "    <tr>\n",
       "      <th>2</th>\n",
       "      <td>gini</td>\n",
       "      <td>9</td>\n",
       "      <td>200</td>\n",
       "      <td>0.854183</td>\n",
       "      <td>0.769780</td>\n",
       "      <td>0.491416</td>\n",
       "      <td>0.772710</td>\n",
       "      <td>0.600523</td>\n",
       "    </tr>\n",
       "    <tr>\n",
       "      <th>3</th>\n",
       "      <td>entropy</td>\n",
       "      <td>9</td>\n",
       "      <td>175</td>\n",
       "      <td>0.854154</td>\n",
       "      <td>0.776109</td>\n",
       "      <td>0.500142</td>\n",
       "      <td>0.763379</td>\n",
       "      <td>0.604276</td>\n",
       "    </tr>\n",
       "    <tr>\n",
       "      <th>4</th>\n",
       "      <td>gini</td>\n",
       "      <td>9</td>\n",
       "      <td>150</td>\n",
       "      <td>0.854028</td>\n",
       "      <td>0.770276</td>\n",
       "      <td>0.491850</td>\n",
       "      <td>0.773585</td>\n",
       "      <td>0.601273</td>\n",
       "    </tr>\n",
       "    <tr>\n",
       "      <th>...</th>\n",
       "      <td>...</td>\n",
       "      <td>...</td>\n",
       "      <td>...</td>\n",
       "      <td>...</td>\n",
       "      <td>...</td>\n",
       "      <td>...</td>\n",
       "      <td>...</td>\n",
       "      <td>...</td>\n",
       "    </tr>\n",
       "    <tr>\n",
       "      <th>667</th>\n",
       "      <td>gini</td>\n",
       "      <td>3</td>\n",
       "      <td>700</td>\n",
       "      <td>0.817297</td>\n",
       "      <td>0.758295</td>\n",
       "      <td>0.474877</td>\n",
       "      <td>0.745516</td>\n",
       "      <td>0.580059</td>\n",
       "    </tr>\n",
       "    <tr>\n",
       "      <th>668</th>\n",
       "      <td>gini</td>\n",
       "      <td>3</td>\n",
       "      <td>725</td>\n",
       "      <td>0.817297</td>\n",
       "      <td>0.758295</td>\n",
       "      <td>0.474877</td>\n",
       "      <td>0.745516</td>\n",
       "      <td>0.580059</td>\n",
       "    </tr>\n",
       "    <tr>\n",
       "      <th>669</th>\n",
       "      <td>gini</td>\n",
       "      <td>3</td>\n",
       "      <td>775</td>\n",
       "      <td>0.817297</td>\n",
       "      <td>0.758295</td>\n",
       "      <td>0.474877</td>\n",
       "      <td>0.745516</td>\n",
       "      <td>0.580059</td>\n",
       "    </tr>\n",
       "    <tr>\n",
       "      <th>670</th>\n",
       "      <td>gini</td>\n",
       "      <td>3</td>\n",
       "      <td>450</td>\n",
       "      <td>0.817297</td>\n",
       "      <td>0.758295</td>\n",
       "      <td>0.474877</td>\n",
       "      <td>0.745516</td>\n",
       "      <td>0.580059</td>\n",
       "    </tr>\n",
       "    <tr>\n",
       "      <th>671</th>\n",
       "      <td>gini</td>\n",
       "      <td>3</td>\n",
       "      <td>100</td>\n",
       "      <td>0.817297</td>\n",
       "      <td>0.758295</td>\n",
       "      <td>0.474877</td>\n",
       "      <td>0.745516</td>\n",
       "      <td>0.580059</td>\n",
       "    </tr>\n",
       "  </tbody>\n",
       "</table>\n",
       "<p>672 rows × 8 columns</p>\n",
       "</div>"
      ],
      "text/plain": [
       "    param_criterion param_max_depth param_min_samples_leaf  mean_test_roc_auc  \\\n",
       "0              gini               8                    150           0.854298   \n",
       "1              gini               8                    100           0.854197   \n",
       "2              gini               9                    200           0.854183   \n",
       "3           entropy               9                    175           0.854154   \n",
       "4              gini               9                    150           0.854028   \n",
       "..              ...             ...                    ...                ...   \n",
       "667            gini               3                    700           0.817297   \n",
       "668            gini               3                    725           0.817297   \n",
       "669            gini               3                    775           0.817297   \n",
       "670            gini               3                    450           0.817297   \n",
       "671            gini               3                    100           0.817297   \n",
       "\n",
       "     mean_test_accuracy  mean_test_precision  mean_test_recall  mean_test_f1  \n",
       "0              0.775643             0.499480          0.765192      0.604333  \n",
       "1              0.777883             0.502735          0.756866      0.604121  \n",
       "2              0.769780             0.491416          0.772710      0.600523  \n",
       "3              0.776109             0.500142          0.763379      0.604276  \n",
       "4              0.770276             0.491850          0.773585      0.601273  \n",
       "..                  ...                  ...               ...           ...  \n",
       "667            0.758295             0.474877          0.745516      0.580059  \n",
       "668            0.758295             0.474877          0.745516      0.580059  \n",
       "669            0.758295             0.474877          0.745516      0.580059  \n",
       "670            0.758295             0.474877          0.745516      0.580059  \n",
       "671            0.758295             0.474877          0.745516      0.580059  \n",
       "\n",
       "[672 rows x 8 columns]"
      ]
     },
     "execution_count": 17,
     "metadata": {},
     "output_type": "execute_result"
    }
   ],
   "source": [
    "grid_history_table(grid)"
   ]
  },
  {
   "cell_type": "code",
   "execution_count": 18,
   "id": "72ecab61-78d5-4246-a5e8-0653d5dfeaaa",
   "metadata": {},
   "outputs": [
    {
     "data": {
      "text/plain": [
       "<sklearn.metrics._plot.confusion_matrix.ConfusionMatrixDisplay at 0x7fcbc7de4d60>"
      ]
     },
     "execution_count": 18,
     "metadata": {},
     "output_type": "execute_result"
    },
    {
     "data": {
      "image/png": "[encoded data removed]",
      "text/plain": [
       "<Figure size 432x288 with 2 Axes>"
      ]
     },
     "metadata": {
      "needs_background": "light"
     },
     "output_type": "display_data"
    }
   ],
   "source": [
    "ConfusionMatrixDisplay.from_predictions(Y_test, grid.best_estimator_.predict(X_test))"
   ]
  },
  {
   "cell_type": "markdown",
   "id": "6e339d8b-5dc2-4375-b83f-b42870a44c7e",
   "metadata": {},
   "source": [
    "Los mejores modelos resultaron ser más simples (menor profundidad) y mantuvieron el AUC ROC entre los mismos valores (aunque las otras métricas cambiaron). Vemos también que el recall aumentó bastante y la precisión disminuyó, ya que disminuyó la cantidad de falsos negativos y aumentó la cantidad de falsos positivos.\n",
    "\n",
    "El modelo resultante no fue superador, ya que ROC-AUC, la métrica que buscamos optimizar, no aumentó."
   ]
  },
  {
   "cell_type": "markdown",
   "id": "8c2bcbb5-27ce-4905-b724-5ae8152e8d7c",
   "metadata": {},
   "source": [
    "### Importancia de cada feature"
   ]
  },
  {
   "cell_type": "code",
   "execution_count": 19,
   "id": "2e32ff55-a9a3-47cb-a185-78a0c52b07ac",
   "metadata": {},
   "outputs": [
    {
     "data": {
      "image/png": "[encoded data removed]",
      "text/plain": [
       "<Figure size 720x576 with 1 Axes>"
      ]
     },
     "metadata": {
      "needs_background": "light"
     },
     "output_type": "display_data"
    }
   ],
   "source": [
    "plot_feature_importances(df_features.columns, grid.best_estimator_.feature_importances_, size=10, head=True)"
   ]
  },
  {
   "cell_type": "markdown",
   "id": "dadf76cb-89bc-4bbe-a6f2-1b3838ed977f",
   "metadata": {},
   "source": [
    "La importancia de las features se mantuvo similar, aunque algunas aumentaron un poco, como el caso de **sin_viento_temprano**."
   ]
  },
  {
   "cell_type": "markdown",
   "id": "06861d8b-4610-44b3-b2d0-9f059a61cc63",
   "metadata": {},
   "source": [
    "## Calibrando el modelo"
   ]
  },
  {
   "cell_type": "markdown",
   "id": "0d419ec9-eb42-4099-a9f7-d8ef3543bbef",
   "metadata": {},
   "source": [
    "Al calibrar un modelo, los resultados de **predict_proba()** son más precisos, lo cual podría significar una mejora en los resultados del AUC ROC score."
   ]
  },
  {
   "cell_type": "code",
   "execution_count": 20,
   "id": "d9bbc55a-876c-474b-85ea-c6d8f53bf5f4",
   "metadata": {},
   "outputs": [],
   "source": [
    "tree = DecisionTreeClassifier(criterion=\"entropy\", random_state=0)\n",
    "calib = CalibratedClassifierCV(base_estimator=tree, n_jobs=-1)"
   ]
  },
  {
   "cell_type": "code",
   "execution_count": 21,
   "id": "fdb1cc8f-2c84-4c6f-bad9-a4f5c5fe382c",
   "metadata": {},
   "outputs": [
    {
     "data": {
      "text/plain": [
       "0.8673567096863886"
      ]
     },
     "execution_count": 21,
     "metadata": {},
     "output_type": "execute_result"
    }
   ],
   "source": [
    "parameters = {\n",
    "    \"base_estimator__max_depth\": np.arange(5,15,1),\n",
    "}\n",
    "\n",
    "grid = GridSearchCV(calib,\n",
    "                    param_grid=parameters,\n",
    "                    cv = StratifiedKFold(5),\n",
    "                    refit = METRIC,\n",
    "                    scoring = SCORINGS,\n",
    "                    n_jobs = -1)\n",
    "\n",
    "grid.fit(X_train, Y_train)\n",
    "grid.best_score_"
   ]
  },
  {
   "cell_type": "code",
   "execution_count": 22,
   "id": "851bca1f-13eb-4c6e-a35a-d7f980dd8cc0",
   "metadata": {},
   "outputs": [
    {
     "data": {
      "text/html": [
       "<div>\n",
       "<style scoped>\n",
       "    .dataframe tbody tr th:only-of-type {\n",
       "        vertical-align: middle;\n",
       "    }\n",
       "\n",
       "    .dataframe tbody tr th {\n",
       "        vertical-align: top;\n",
       "    }\n",
       "\n",
       "    .dataframe thead th {\n",
       "        text-align: right;\n",
       "    }\n",
       "</style>\n",
       "<table border=\"1\" class=\"dataframe\">\n",
       "  <thead>\n",
       "    <tr style=\"text-align: right;\">\n",
       "      <th></th>\n",
       "      <th>param_base_estimator__max_depth</th>\n",
       "      <th>mean_test_roc_auc</th>\n",
       "      <th>mean_test_accuracy</th>\n",
       "      <th>mean_test_precision</th>\n",
       "      <th>mean_test_recall</th>\n",
       "      <th>mean_test_f1</th>\n",
       "    </tr>\n",
       "  </thead>\n",
       "  <tbody>\n",
       "    <tr>\n",
       "      <th>0</th>\n",
       "      <td>9</td>\n",
       "      <td>0.867357</td>\n",
       "      <td>0.844195</td>\n",
       "      <td>0.760084</td>\n",
       "      <td>0.444370</td>\n",
       "      <td>0.560840</td>\n",
       "    </tr>\n",
       "    <tr>\n",
       "      <th>1</th>\n",
       "      <td>8</td>\n",
       "      <td>0.866330</td>\n",
       "      <td>0.844571</td>\n",
       "      <td>0.750138</td>\n",
       "      <td>0.458471</td>\n",
       "      <td>0.569108</td>\n",
       "    </tr>\n",
       "    <tr>\n",
       "      <th>2</th>\n",
       "      <td>10</td>\n",
       "      <td>0.866113</td>\n",
       "      <td>0.842662</td>\n",
       "      <td>0.774612</td>\n",
       "      <td>0.419324</td>\n",
       "      <td>0.544079</td>\n",
       "    </tr>\n",
       "    <tr>\n",
       "      <th>3</th>\n",
       "      <td>11</td>\n",
       "      <td>0.863822</td>\n",
       "      <td>0.839805</td>\n",
       "      <td>0.784889</td>\n",
       "      <td>0.391929</td>\n",
       "      <td>0.522769</td>\n",
       "    </tr>\n",
       "    <tr>\n",
       "      <th>4</th>\n",
       "      <td>7</td>\n",
       "      <td>0.863479</td>\n",
       "      <td>0.843744</td>\n",
       "      <td>0.739955</td>\n",
       "      <td>0.465856</td>\n",
       "      <td>0.571703</td>\n",
       "    </tr>\n",
       "    <tr>\n",
       "      <th>5</th>\n",
       "      <td>12</td>\n",
       "      <td>0.861019</td>\n",
       "      <td>0.836693</td>\n",
       "      <td>0.796271</td>\n",
       "      <td>0.363661</td>\n",
       "      <td>0.499262</td>\n",
       "    </tr>\n",
       "    <tr>\n",
       "      <th>6</th>\n",
       "      <td>6</td>\n",
       "      <td>0.858873</td>\n",
       "      <td>0.842541</td>\n",
       "      <td>0.738263</td>\n",
       "      <td>0.460080</td>\n",
       "      <td>0.566660</td>\n",
       "    </tr>\n",
       "    <tr>\n",
       "      <th>7</th>\n",
       "      <td>13</td>\n",
       "      <td>0.856208</td>\n",
       "      <td>0.833251</td>\n",
       "      <td>0.808550</td>\n",
       "      <td>0.334453</td>\n",
       "      <td>0.473119</td>\n",
       "    </tr>\n",
       "    <tr>\n",
       "      <th>8</th>\n",
       "      <td>5</td>\n",
       "      <td>0.852536</td>\n",
       "      <td>0.840467</td>\n",
       "      <td>0.736295</td>\n",
       "      <td>0.448062</td>\n",
       "      <td>0.557021</td>\n",
       "    </tr>\n",
       "    <tr>\n",
       "      <th>9</th>\n",
       "      <td>14</td>\n",
       "      <td>0.851086</td>\n",
       "      <td>0.831612</td>\n",
       "      <td>0.826086</td>\n",
       "      <td>0.314107</td>\n",
       "      <td>0.455086</td>\n",
       "    </tr>\n",
       "  </tbody>\n",
       "</table>\n",
       "</div>"
      ],
      "text/plain": [
       "  param_base_estimator__max_depth  mean_test_roc_auc  mean_test_accuracy  \\\n",
       "0                               9           0.867357            0.844195   \n",
       "1                               8           0.866330            0.844571   \n",
       "2                              10           0.866113            0.842662   \n",
       "3                              11           0.863822            0.839805   \n",
       "4                               7           0.863479            0.843744   \n",
       "5                              12           0.861019            0.836693   \n",
       "6                               6           0.858873            0.842541   \n",
       "7                              13           0.856208            0.833251   \n",
       "8                               5           0.852536            0.840467   \n",
       "9                              14           0.851086            0.831612   \n",
       "\n",
       "   mean_test_precision  mean_test_recall  mean_test_f1  \n",
       "0             0.760084          0.444370      0.560840  \n",
       "1             0.750138          0.458471      0.569108  \n",
       "2             0.774612          0.419324      0.544079  \n",
       "3             0.784889          0.391929      0.522769  \n",
       "4             0.739955          0.465856      0.571703  \n",
       "5             0.796271          0.363661      0.499262  \n",
       "6             0.738263          0.460080      0.566660  \n",
       "7             0.808550          0.334453      0.473119  \n",
       "8             0.736295          0.448062      0.557021  \n",
       "9             0.826086          0.314107      0.455086  "
      ]
     },
     "execution_count": 22,
     "metadata": {},
     "output_type": "execute_result"
    }
   ],
   "source": [
    "grid_history_table(grid)"
   ]
  },
  {
   "cell_type": "code",
   "execution_count": 23,
   "id": "11ba011b-abdf-4033-86a3-e7c59bb83a07",
   "metadata": {},
   "outputs": [
    {
     "data": {
      "text/html": [
       "<div>\n",
       "<style scoped>\n",
       "    .dataframe tbody tr th:only-of-type {\n",
       "        vertical-align: middle;\n",
       "    }\n",
       "\n",
       "    .dataframe tbody tr th {\n",
       "        vertical-align: top;\n",
       "    }\n",
       "\n",
       "    .dataframe thead th {\n",
       "        text-align: right;\n",
       "    }\n",
       "</style>\n",
       "<table border=\"1\" class=\"dataframe\">\n",
       "  <thead>\n",
       "    <tr style=\"text-align: right;\">\n",
       "      <th></th>\n",
       "      <th>AUC-ROC</th>\n",
       "      <th>Accuracy</th>\n",
       "      <th>Precision</th>\n",
       "      <th>Recall</th>\n",
       "      <th>F1 Score</th>\n",
       "    </tr>\n",
       "  </thead>\n",
       "  <tbody>\n",
       "    <tr>\n",
       "      <th>0</th>\n",
       "      <td>0.870364</td>\n",
       "      <td>0.848656</td>\n",
       "      <td>0.763062</td>\n",
       "      <td>0.469884</td>\n",
       "      <td>0.581616</td>\n",
       "    </tr>\n",
       "  </tbody>\n",
       "</table>\n",
       "</div>"
      ],
      "text/plain": [
       "    AUC-ROC  Accuracy  Precision    Recall  F1 Score\n",
       "0  0.870364  0.848656   0.763062  0.469884  0.581616"
      ]
     },
     "execution_count": 23,
     "metadata": {},
     "output_type": "execute_result"
    }
   ],
   "source": [
    "metrics_table(Y_test, grid.best_estimator_.predict(X_test), grid.best_estimator_.predict_proba(X_test)[:,1])"
   ]
  },
  {
   "cell_type": "code",
   "execution_count": 24,
   "id": "61df984b-db79-4442-88a2-ee9fa2261bd1",
   "metadata": {},
   "outputs": [
    {
     "data": {
      "text/plain": [
       "<sklearn.metrics._plot.confusion_matrix.ConfusionMatrixDisplay at 0x7fcbc7eda130>"
      ]
     },
     "execution_count": 24,
     "metadata": {},
     "output_type": "execute_result"
    },
    {
     "data": {
      "image/png": "[encoded data removed]",
      "text/plain": [
       "<Figure size 432x288 with 2 Axes>"
      ]
     },
     "metadata": {
      "needs_background": "light"
     },
     "output_type": "display_data"
    }
   ],
   "source": [
    "ConfusionMatrixDisplay.from_predictions(Y_test, grid.best_estimator_.predict(X_test))"
   ]
  },
  {
   "cell_type": "markdown",
   "id": "402147c7-8e24-4c40-93a3-7ea0e647f66f",
   "metadata": {},
   "source": [
    "El score aumentó bastante, lo cual coincide con lo esperado"
   ]
  },
  {
   "cell_type": "markdown",
   "id": "18bf2a77-e7f8-42a7-ad7e-018048b55d74",
   "metadata": {},
   "source": [
    "## Modelo final"
   ]
  },
  {
   "cell_type": "markdown",
   "id": "55c3fc6c-a0b1-4fc7-9180-34e65e1ec263",
   "metadata": {},
   "source": [
    "El árbol calibrado y entrenado con el preprocessing Nº2 resultó ser el mejor modelo, ya que tuvo el mejor score y su complejidad (en cuanto a profundidad) es similar a la del resto"
   ]
  },
  {
   "cell_type": "markdown",
   "id": "98167f9a-77ab-45b1-92db-cc6ca7ba38c5",
   "metadata": {},
   "source": [
    "## Predicción de nuevos datos"
   ]
  },
  {
   "cell_type": "code",
   "execution_count": 25,
   "id": "c4e04ca2-deb5-4301-ac5a-4e615a5c82a2",
   "metadata": {},
   "outputs": [],
   "source": [
    "df_extra = pd.read_csv(\"datasets/df_extra.csv\", low_memory = False, index_col = \"id\")\n",
    "\n",
    "common(df_extra, fecha_to_int=False)\n",
    "viento_trigonometrico(df_extra)\n",
    "df_extra = barrios_a_comunas(df_extra)\n",
    "df_extra = dia_a_mes(df_extra)\n",
    "\n",
    "model = grid.best_estimator_\n",
    "\n",
    "# El pipe ya tiene el IterativeImputer()\n",
    "pipe.steps.append((\"tree\", model))\n",
    "\n",
    "df_extra_predict = pd.DataFrame({\"id\": df_extra.index, \"llovieron_hamburguesas_al_dia_siguiente\": pipe.predict(df_extra)})\n",
    "df_extra_predict.set_index(\"id\", inplace = True)\n",
    "df_extra_predict.replace({\"llovieron_hamburguesas_al_dia_siguiente\": {0.0: \"no\", 1.0: \"si\"}}, inplace = True)\n",
    "df_extra_predict.to_csv(\"predicciones/DecisionTreeClassifier.csv\")"
   ]
  },
  {
   "cell_type": "markdown",
   "id": "08e44929-7e20-45cf-9f65-0d0725c45ed9",
   "metadata": {},
   "source": [
    "## Predicción en Holdout"
   ]
  },
  {
   "cell_type": "code",
   "execution_count": 26,
   "id": "a0977c5a-321e-4cff-bccf-0fd285476151",
   "metadata": {},
   "outputs": [],
   "source": [
    "df_features_holdout = pd.read_csv(\"datasets/df_features_holdout.csv\", low_memory = False, index_col = \"id\")\n",
    "df_target_holdout = pd.read_csv(\"datasets/df_target_holdout.csv\", low_memory = False, index_col = \"id\")\n",
    "\n",
    "common(df_features_holdout, df_target_holdout, fecha_to_int=False)\n",
    "viento_trigonometrico(df_features_holdout)\n",
    "df_features_holdout = barrios_a_comunas(df_features_holdout)\n",
    "df_features_holdout = dia_a_mes(df_features_holdout)"
   ]
  },
  {
   "cell_type": "code",
   "execution_count": 27,
   "id": "e85c63e8-6685-4a4e-9d5f-33565a3255e8",
   "metadata": {},
   "outputs": [
    {
     "data": {
      "text/html": [
       "<div>\n",
       "<style scoped>\n",
       "    .dataframe tbody tr th:only-of-type {\n",
       "        vertical-align: middle;\n",
       "    }\n",
       "\n",
       "    .dataframe tbody tr th {\n",
       "        vertical-align: top;\n",
       "    }\n",
       "\n",
       "    .dataframe thead th {\n",
       "        text-align: right;\n",
       "    }\n",
       "</style>\n",
       "<table border=\"1\" class=\"dataframe\">\n",
       "  <thead>\n",
       "    <tr style=\"text-align: right;\">\n",
       "      <th></th>\n",
       "      <th>AUC-ROC</th>\n",
       "      <th>Accuracy</th>\n",
       "      <th>Precision</th>\n",
       "      <th>Recall</th>\n",
       "      <th>F1 Score</th>\n",
       "    </tr>\n",
       "  </thead>\n",
       "  <tbody>\n",
       "    <tr>\n",
       "      <th>0</th>\n",
       "      <td>0.869597</td>\n",
       "      <td>0.842175</td>\n",
       "      <td>0.748318</td>\n",
       "      <td>0.438659</td>\n",
       "      <td>0.553096</td>\n",
       "    </tr>\n",
       "  </tbody>\n",
       "</table>\n",
       "</div>"
      ],
      "text/plain": [
       "    AUC-ROC  Accuracy  Precision    Recall  F1 Score\n",
       "0  0.869597  0.842175   0.748318  0.438659  0.553096"
      ]
     },
     "execution_count": 27,
     "metadata": {},
     "output_type": "execute_result"
    }
   ],
   "source": [
    "metrics_table(df_target_holdout, pipe.predict(df_features_holdout), pipe.predict_proba(df_features_holdout)[:,1])"
   ]
  },
  {
   "cell_type": "code",
   "execution_count": 28,
   "id": "76cdd359-6653-451a-9c55-392d9244afec",
   "metadata": {},
   "outputs": [
    {
     "data": {
      "image/png": "[encoded data removed]",
      "text/plain": [
       "<Figure size 1080x360 with 3 Axes>"
      ]
     },
     "metadata": {
      "needs_background": "light"
     },
     "output_type": "display_data"
    }
   ],
   "source": [
    "fig, axs = plt.subplots(1, 2, figsize=(15,5))\n",
    "\n",
    "ConfusionMatrixDisplay.from_predictions(df_target_holdout, pipe.predict(df_features_holdout), ax=axs[0])\n",
    "RocCurveDisplay.from_predictions(df_target_holdout, pipe.predict_proba(df_features_holdout)[:,1], ax=axs[1], name=\"DecisionTree\")\n",
    "plt.show()"
   ]
  },
  {
   "cell_type": "markdown",
   "id": "1768455a-fb3f-4388-8c11-ef43cba4edbf",
   "metadata": {},
   "source": [
    "Podemos observar que, frente a datos nuevos como lo son los de holdout, el modelo se comporta bastante bien. Los scores de AUC-ROC y Accuracy bajaron muy poco, aunque Precision, Recall y F1 score lo hicieron un poco más. Las proporciones de valores en la matriz de confusión se mantuvieron similares.\n",
    "\n",
    "Podemos concluir que el modelo final no overfitea, y constituye una baseline sólida para análisis posteriores."
   ]
  }
 ],
 "metadata": {
  "kernelspec": {
   "display_name": "Python 3 (ipykernel)",
   "language": "python",
   "name": "python3"
  },
  "language_info": {
   "codemirror_mode": {
    "name": "ipython",
    "version": 3
   },
   "file_extension": ".py",
   "mimetype": "text/x-python",
   "name": "python",
   "nbconvert_exporter": "python",
   "pygments_lexer": "ipython3",
   "version": "3.8.10"
  }
 },
 "nbformat": 4,
 "nbformat_minor": 5
}
