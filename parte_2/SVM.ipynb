{
 "cells": [
  {
   "cell_type": "code",
   "execution_count": 1,
   "id": "ec047ce5-27db-4a50-b406-60550eb93572",
   "metadata": {},
   "outputs": [],
   "source": [
    "%load_ext autoreload\n",
    "%autoreload 2\n",
    "from preprocessing import svm\n",
    "from preprocessing import svm_2\n",
    "from sklearn.svm import LinearSVC\n",
    "from sklearn.svm import SVC\n",
    "from sklearn.model_selection import train_test_split\n",
    "from sklearn.model_selection import GridSearchCV\n",
    "from sklearn.pipeline import Pipeline\n",
    "import pandas as pd\n",
    "import numpy as np"
   ]
  },
  {
   "cell_type": "code",
   "execution_count": null,
   "id": "d8c07c7c-c9ee-4323-890f-39075e099913",
   "metadata": {},
   "outputs": [],
   "source": [
    "X_train, X_test, Y_test, Y_train = svm()\n",
    "display(X_train)\n"
   ]
  },
  {
   "cell_type": "markdown",
   "id": "5b997214-ccbc-43bb-ba12-62aa4a5c9368",
   "metadata": {},
   "source": [
    "Kernel polinomico"
   ]
  },
  {
   "cell_type": "code",
   "execution_count": null,
   "id": "5baa7c88-0bfd-4054-9f22-45cb88e25661",
   "metadata": {},
   "outputs": [],
   "source": [
    "metrics = []\n",
    "for c in range(1, 102, 25):\n",
    "    for d in range(1, 102, 25):\n",
    "        for g in range(1, 102, 25):\n",
    "            for r in range(1, 102, 25):\n",
    "                clf = SVC(kernel='poly', C=c, degree=d, gamma=g, coef0=r, random_state=123)\n",
    "                clf.fit(X_train, Y_train.values.ravel())\n",
    "                acc = ((clf.predict(X_test) == Y_test.llovieron_hamburguesas_al_dia_siguiente).sum())/len(Y_test)\n",
    "                metrics.append((c, d, g, r, acc))\n",
    "                print(f\"c {c}, d {d}, g {g}, r {r}: {acc * 100 : 3f}%\")\n",
    "\n",
    "dd = pd.DataFrame(metrics, columns=['c', 'degree', 'gamma', 'r', 'correct_in_val-dev'])"
   ]
  },
  {
   "cell_type": "code",
   "execution_count": null,
   "id": "568ef14c-d333-4e3e-abc7-67cf167d1678",
   "metadata": {},
   "outputs": [],
   "source": [
    "df_features, df_target, pipe = svm_2()\n",
    "pipe.steps.append(['svc', SVC(kernel = 'poly', random_state = 123)])\n",
    "\n",
    "grid = GridSearchCV(pipe, param_grid={'svc__C': [1, 10, 100, 1000, 10000],\n",
    "                                      'svc__degree': [1, 2],\n",
    "                                      'svc__coef0': [0, 100, 1000]},\n",
    "                                       cv = 3,\n",
    "                                       scoring = 'accuracy',\n",
    "                                       n_jobs = -1)\n",
    "grid.fit(df_features, df_target.values.ravel())"
   ]
  },
  {
   "cell_type": "code",
   "execution_count": null,
   "id": "3cd9b771-83f8-46c0-a401-c78bd96cef80",
   "metadata": {},
   "outputs": [],
   "source": [
    "grid.best_score_"
   ]
  },
  {
   "cell_type": "code",
   "execution_count": null,
   "id": "24ade451-0c81-4ac6-9ab1-c2322a05bb0e",
   "metadata": {},
   "outputs": [],
   "source": []
  }
 ],
 "metadata": {
  "kernelspec": {
   "display_name": "Python 3 (ipykernel)",
   "language": "python",
   "name": "python3"
  },
  "language_info": {
   "codemirror_mode": {
    "name": "ipython",
    "version": 3
   },
   "file_extension": ".py",
   "mimetype": "text/x-python",
   "name": "python",
   "nbconvert_exporter": "python",
   "pygments_lexer": "ipython3",
   "version": "3.8.10"
  }
 },
 "nbformat": 4,
 "nbformat_minor": 5
}
