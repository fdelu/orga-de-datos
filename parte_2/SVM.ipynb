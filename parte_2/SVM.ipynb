{
 "cells": [
  {
   "cell_type": "code",
   "execution_count": 6,
   "id": "ec047ce5-27db-4a50-b406-60550eb93572",
   "metadata": {},
   "outputs": [
    {
     "name": "stdout",
     "output_type": "stream",
     "text": [
      "The autoreload extension is already loaded. To reload it, use:\n",
      "  %reload_ext autoreload\n"
     ]
    }
   ],
   "source": [
    "%load_ext autoreload\n",
    "%autoreload 2\n",
    "from preprocessing import svm\n",
    "from sklearn.svm import LinearSVC\n",
    "from sklearn.svm import SVC\n",
    "from sklearn.model_selection import train_test_split\n",
    "import pandas as pd\n",
    "import numpy as np"
   ]
  },
  {
   "cell_type": "code",
   "execution_count": 2,
   "id": "d8c07c7c-c9ee-4323-890f-39075e099913",
   "metadata": {},
   "outputs": [
    {
     "data": {
      "text/html": [
       "<div>\n",
       "<style scoped>\n",
       "    .dataframe tbody tr th:only-of-type {\n",
       "        vertical-align: middle;\n",
       "    }\n",
       "\n",
       "    .dataframe tbody tr th {\n",
       "        vertical-align: top;\n",
       "    }\n",
       "\n",
       "    .dataframe thead th {\n",
       "        text-align: right;\n",
       "    }\n",
       "</style>\n",
       "<table border=\"1\" class=\"dataframe\">\n",
       "  <thead>\n",
       "    <tr style=\"text-align: right;\">\n",
       "      <th></th>\n",
       "      <th>id</th>\n",
       "      <th>dia</th>\n",
       "      <th>horas_de_sol</th>\n",
       "      <th>humedad_tarde</th>\n",
       "      <th>humedad_temprano</th>\n",
       "      <th>mm_evaporados_agua</th>\n",
       "      <th>mm_lluvia_dia</th>\n",
       "      <th>nubosidad_tarde</th>\n",
       "      <th>nubosidad_temprano</th>\n",
       "      <th>presion_atmosferica_tarde</th>\n",
       "      <th>...</th>\n",
       "      <th>_barrio14</th>\n",
       "      <th>_barrio15</th>\n",
       "      <th>_barrio16</th>\n",
       "      <th>_barrio17</th>\n",
       "      <th>_barrio18</th>\n",
       "      <th>_barrio19</th>\n",
       "      <th>_barrio20</th>\n",
       "      <th>_barrio21</th>\n",
       "      <th>_barrio22</th>\n",
       "      <th>_barrio23</th>\n",
       "    </tr>\n",
       "  </thead>\n",
       "  <tbody>\n",
       "    <tr>\n",
       "      <th>0</th>\n",
       "      <td>0.721511</td>\n",
       "      <td>-0.711783</td>\n",
       "      <td>-0.374488</td>\n",
       "      <td>0.021867</td>\n",
       "      <td>1.422945</td>\n",
       "      <td>-0.543355</td>\n",
       "      <td>-0.255001</td>\n",
       "      <td>0.551026</td>\n",
       "      <td>1.239966</td>\n",
       "      <td>0.896834</td>\n",
       "      <td>...</td>\n",
       "      <td>-0.143765</td>\n",
       "      <td>-0.002206</td>\n",
       "      <td>0.006427</td>\n",
       "      <td>-0.001598</td>\n",
       "      <td>0.004533</td>\n",
       "      <td>-0.152044</td>\n",
       "      <td>0.007437</td>\n",
       "      <td>-0.026247</td>\n",
       "      <td>0.055948</td>\n",
       "      <td>0.0</td>\n",
       "    </tr>\n",
       "    <tr>\n",
       "      <th>1</th>\n",
       "      <td>-1.437813</td>\n",
       "      <td>-1.086328</td>\n",
       "      <td>0.628076</td>\n",
       "      <td>-0.362801</td>\n",
       "      <td>0.372367</td>\n",
       "      <td>-0.350273</td>\n",
       "      <td>-0.278876</td>\n",
       "      <td>0.183811</td>\n",
       "      <td>-1.532336</td>\n",
       "      <td>0.982110</td>\n",
       "      <td>...</td>\n",
       "      <td>-0.143765</td>\n",
       "      <td>-0.002206</td>\n",
       "      <td>4.977433</td>\n",
       "      <td>-0.001598</td>\n",
       "      <td>0.004533</td>\n",
       "      <td>-0.152044</td>\n",
       "      <td>0.007437</td>\n",
       "      <td>-0.026247</td>\n",
       "      <td>0.055948</td>\n",
       "      <td>0.0</td>\n",
       "    </tr>\n",
       "    <tr>\n",
       "      <th>2</th>\n",
       "      <td>-1.571665</td>\n",
       "      <td>-0.684057</td>\n",
       "      <td>0.417010</td>\n",
       "      <td>-1.228306</td>\n",
       "      <td>-0.415567</td>\n",
       "      <td>0.663408</td>\n",
       "      <td>-0.278876</td>\n",
       "      <td>0.551026</td>\n",
       "      <td>0.546890</td>\n",
       "      <td>-0.680764</td>\n",
       "      <td>...</td>\n",
       "      <td>-0.143765</td>\n",
       "      <td>-0.002206</td>\n",
       "      <td>0.006427</td>\n",
       "      <td>-0.001598</td>\n",
       "      <td>0.004533</td>\n",
       "      <td>-0.152044</td>\n",
       "      <td>0.007437</td>\n",
       "      <td>-0.026247</td>\n",
       "      <td>0.055948</td>\n",
       "      <td>0.0</td>\n",
       "    </tr>\n",
       "    <tr>\n",
       "      <th>3</th>\n",
       "      <td>-1.028376</td>\n",
       "      <td>1.279735</td>\n",
       "      <td>-1.799185</td>\n",
       "      <td>1.656709</td>\n",
       "      <td>1.160301</td>\n",
       "      <td>1.290925</td>\n",
       "      <td>-0.278876</td>\n",
       "      <td>1.285456</td>\n",
       "      <td>1.124453</td>\n",
       "      <td>-0.012772</td>\n",
       "      <td>...</td>\n",
       "      <td>-0.143765</td>\n",
       "      <td>-0.002206</td>\n",
       "      <td>0.006427</td>\n",
       "      <td>-0.001598</td>\n",
       "      <td>0.004533</td>\n",
       "      <td>-0.152044</td>\n",
       "      <td>0.007437</td>\n",
       "      <td>-0.026247</td>\n",
       "      <td>0.055948</td>\n",
       "      <td>0.0</td>\n",
       "    </tr>\n",
       "    <tr>\n",
       "      <th>4</th>\n",
       "      <td>1.616311</td>\n",
       "      <td>0.103999</td>\n",
       "      <td>0.469777</td>\n",
       "      <td>-1.324473</td>\n",
       "      <td>0.004664</td>\n",
       "      <td>0.518596</td>\n",
       "      <td>-0.278876</td>\n",
       "      <td>0.551026</td>\n",
       "      <td>0.893428</td>\n",
       "      <td>-0.922379</td>\n",
       "      <td>...</td>\n",
       "      <td>-0.143765</td>\n",
       "      <td>-0.002206</td>\n",
       "      <td>0.006427</td>\n",
       "      <td>-0.001598</td>\n",
       "      <td>0.004533</td>\n",
       "      <td>-0.152044</td>\n",
       "      <td>0.007437</td>\n",
       "      <td>-0.026247</td>\n",
       "      <td>0.055948</td>\n",
       "      <td>0.0</td>\n",
       "    </tr>\n",
       "    <tr>\n",
       "      <th>...</th>\n",
       "      <td>...</td>\n",
       "      <td>...</td>\n",
       "      <td>...</td>\n",
       "      <td>...</td>\n",
       "      <td>...</td>\n",
       "      <td>...</td>\n",
       "      <td>...</td>\n",
       "      <td>...</td>\n",
       "      <td>...</td>\n",
       "      <td>...</td>\n",
       "      <td>...</td>\n",
       "      <td>...</td>\n",
       "      <td>...</td>\n",
       "      <td>...</td>\n",
       "      <td>...</td>\n",
       "      <td>...</td>\n",
       "      <td>...</td>\n",
       "      <td>...</td>\n",
       "      <td>...</td>\n",
       "      <td>...</td>\n",
       "      <td>...</td>\n",
       "    </tr>\n",
       "    <tr>\n",
       "      <th>66514</th>\n",
       "      <td>1.206183</td>\n",
       "      <td>1.653926</td>\n",
       "      <td>0.971059</td>\n",
       "      <td>-0.603219</td>\n",
       "      <td>-0.363038</td>\n",
       "      <td>0.373785</td>\n",
       "      <td>-0.278876</td>\n",
       "      <td>-1.652264</td>\n",
       "      <td>-1.185798</td>\n",
       "      <td>-0.595489</td>\n",
       "      <td>...</td>\n",
       "      <td>-0.143765</td>\n",
       "      <td>-0.002206</td>\n",
       "      <td>0.006427</td>\n",
       "      <td>-0.001598</td>\n",
       "      <td>0.004533</td>\n",
       "      <td>-0.152044</td>\n",
       "      <td>0.007437</td>\n",
       "      <td>-0.026247</td>\n",
       "      <td>0.055948</td>\n",
       "      <td>0.0</td>\n",
       "    </tr>\n",
       "    <tr>\n",
       "      <th>66515</th>\n",
       "      <td>0.691584</td>\n",
       "      <td>1.263408</td>\n",
       "      <td>-0.427255</td>\n",
       "      <td>0.695037</td>\n",
       "      <td>0.635011</td>\n",
       "      <td>-0.977790</td>\n",
       "      <td>-0.255001</td>\n",
       "      <td>0.183811</td>\n",
       "      <td>0.546890</td>\n",
       "      <td>0.925259</td>\n",
       "      <td>...</td>\n",
       "      <td>-0.143765</td>\n",
       "      <td>-0.002206</td>\n",
       "      <td>0.006427</td>\n",
       "      <td>-0.001598</td>\n",
       "      <td>0.004533</td>\n",
       "      <td>-0.152044</td>\n",
       "      <td>0.007437</td>\n",
       "      <td>-0.026247</td>\n",
       "      <td>0.055948</td>\n",
       "      <td>0.0</td>\n",
       "    </tr>\n",
       "    <tr>\n",
       "      <th>66516</th>\n",
       "      <td>-0.583488</td>\n",
       "      <td>1.259700</td>\n",
       "      <td>0.346655</td>\n",
       "      <td>-0.699386</td>\n",
       "      <td>0.687540</td>\n",
       "      <td>0.566867</td>\n",
       "      <td>-0.278876</td>\n",
       "      <td>1.285456</td>\n",
       "      <td>0.315865</td>\n",
       "      <td>-0.169111</td>\n",
       "      <td>...</td>\n",
       "      <td>-0.143765</td>\n",
       "      <td>-0.002206</td>\n",
       "      <td>0.006427</td>\n",
       "      <td>-0.001598</td>\n",
       "      <td>0.004533</td>\n",
       "      <td>-0.152044</td>\n",
       "      <td>0.007437</td>\n",
       "      <td>-0.026247</td>\n",
       "      <td>0.055948</td>\n",
       "      <td>0.0</td>\n",
       "    </tr>\n",
       "    <tr>\n",
       "      <th>66517</th>\n",
       "      <td>0.916647</td>\n",
       "      <td>1.661735</td>\n",
       "      <td>0.399421</td>\n",
       "      <td>0.150090</td>\n",
       "      <td>0.372367</td>\n",
       "      <td>-0.044560</td>\n",
       "      <td>-0.278876</td>\n",
       "      <td>-0.550619</td>\n",
       "      <td>0.893428</td>\n",
       "      <td>-0.041197</td>\n",
       "      <td>...</td>\n",
       "      <td>-0.143765</td>\n",
       "      <td>-0.002206</td>\n",
       "      <td>0.006427</td>\n",
       "      <td>-0.001598</td>\n",
       "      <td>0.004533</td>\n",
       "      <td>-0.152044</td>\n",
       "      <td>0.007437</td>\n",
       "      <td>3.292943</td>\n",
       "      <td>0.055948</td>\n",
       "      <td>0.0</td>\n",
       "    </tr>\n",
       "    <tr>\n",
       "      <th>66518</th>\n",
       "      <td>-0.299522</td>\n",
       "      <td>0.881566</td>\n",
       "      <td>-0.005122</td>\n",
       "      <td>-0.074300</td>\n",
       "      <td>0.214780</td>\n",
       "      <td>-0.784707</td>\n",
       "      <td>0.007622</td>\n",
       "      <td>1.285456</td>\n",
       "      <td>-1.185798</td>\n",
       "      <td>0.328330</td>\n",
       "      <td>...</td>\n",
       "      <td>-0.143765</td>\n",
       "      <td>-0.002206</td>\n",
       "      <td>0.006427</td>\n",
       "      <td>-0.001598</td>\n",
       "      <td>0.004533</td>\n",
       "      <td>-0.152044</td>\n",
       "      <td>0.007437</td>\n",
       "      <td>-0.026247</td>\n",
       "      <td>0.055948</td>\n",
       "      <td>0.0</td>\n",
       "    </tr>\n",
       "  </tbody>\n",
       "</table>\n",
       "<p>66519 rows × 48 columns</p>\n",
       "</div>"
      ],
      "text/plain": [
       "             id       dia  horas_de_sol  humedad_tarde  humedad_temprano  \\\n",
       "0      0.721511 -0.711783     -0.374488       0.021867          1.422945   \n",
       "1     -1.437813 -1.086328      0.628076      -0.362801          0.372367   \n",
       "2     -1.571665 -0.684057      0.417010      -1.228306         -0.415567   \n",
       "3     -1.028376  1.279735     -1.799185       1.656709          1.160301   \n",
       "4      1.616311  0.103999      0.469777      -1.324473          0.004664   \n",
       "...         ...       ...           ...            ...               ...   \n",
       "66514  1.206183  1.653926      0.971059      -0.603219         -0.363038   \n",
       "66515  0.691584  1.263408     -0.427255       0.695037          0.635011   \n",
       "66516 -0.583488  1.259700      0.346655      -0.699386          0.687540   \n",
       "66517  0.916647  1.661735      0.399421       0.150090          0.372367   \n",
       "66518 -0.299522  0.881566     -0.005122      -0.074300          0.214780   \n",
       "\n",
       "       mm_evaporados_agua  mm_lluvia_dia  nubosidad_tarde  nubosidad_temprano  \\\n",
       "0               -0.543355      -0.255001         0.551026            1.239966   \n",
       "1               -0.350273      -0.278876         0.183811           -1.532336   \n",
       "2                0.663408      -0.278876         0.551026            0.546890   \n",
       "3                1.290925      -0.278876         1.285456            1.124453   \n",
       "4                0.518596      -0.278876         0.551026            0.893428   \n",
       "...                   ...            ...              ...                 ...   \n",
       "66514            0.373785      -0.278876        -1.652264           -1.185798   \n",
       "66515           -0.977790      -0.255001         0.183811            0.546890   \n",
       "66516            0.566867      -0.278876         1.285456            0.315865   \n",
       "66517           -0.044560      -0.278876        -0.550619            0.893428   \n",
       "66518           -0.784707       0.007622         1.285456           -1.185798   \n",
       "\n",
       "       presion_atmosferica_tarde  ...  _barrio14  _barrio15  _barrio16  \\\n",
       "0                       0.896834  ...  -0.143765  -0.002206   0.006427   \n",
       "1                       0.982110  ...  -0.143765  -0.002206   4.977433   \n",
       "2                      -0.680764  ...  -0.143765  -0.002206   0.006427   \n",
       "3                      -0.012772  ...  -0.143765  -0.002206   0.006427   \n",
       "4                      -0.922379  ...  -0.143765  -0.002206   0.006427   \n",
       "...                          ...  ...        ...        ...        ...   \n",
       "66514                  -0.595489  ...  -0.143765  -0.002206   0.006427   \n",
       "66515                   0.925259  ...  -0.143765  -0.002206   0.006427   \n",
       "66516                  -0.169111  ...  -0.143765  -0.002206   0.006427   \n",
       "66517                  -0.041197  ...  -0.143765  -0.002206   0.006427   \n",
       "66518                   0.328330  ...  -0.143765  -0.002206   0.006427   \n",
       "\n",
       "       _barrio17  _barrio18  _barrio19  _barrio20  _barrio21  _barrio22  \\\n",
       "0      -0.001598   0.004533  -0.152044   0.007437  -0.026247   0.055948   \n",
       "1      -0.001598   0.004533  -0.152044   0.007437  -0.026247   0.055948   \n",
       "2      -0.001598   0.004533  -0.152044   0.007437  -0.026247   0.055948   \n",
       "3      -0.001598   0.004533  -0.152044   0.007437  -0.026247   0.055948   \n",
       "4      -0.001598   0.004533  -0.152044   0.007437  -0.026247   0.055948   \n",
       "...          ...        ...        ...        ...        ...        ...   \n",
       "66514  -0.001598   0.004533  -0.152044   0.007437  -0.026247   0.055948   \n",
       "66515  -0.001598   0.004533  -0.152044   0.007437  -0.026247   0.055948   \n",
       "66516  -0.001598   0.004533  -0.152044   0.007437  -0.026247   0.055948   \n",
       "66517  -0.001598   0.004533  -0.152044   0.007437   3.292943   0.055948   \n",
       "66518  -0.001598   0.004533  -0.152044   0.007437  -0.026247   0.055948   \n",
       "\n",
       "       _barrio23  \n",
       "0            0.0  \n",
       "1            0.0  \n",
       "2            0.0  \n",
       "3            0.0  \n",
       "4            0.0  \n",
       "...          ...  \n",
       "66514        0.0  \n",
       "66515        0.0  \n",
       "66516        0.0  \n",
       "66517        0.0  \n",
       "66518        0.0  \n",
       "\n",
       "[66519 rows x 48 columns]"
      ]
     },
     "metadata": {},
     "output_type": "display_data"
    }
   ],
   "source": [
    "X_train, X_test, Y_test, Y_train = svm()\n",
    "display(X_train)\n"
   ]
  },
  {
   "cell_type": "code",
   "execution_count": 3,
   "id": "d9c81bfb-4796-4472-a118-de7965dbe04a",
   "metadata": {},
   "outputs": [
    {
     "name": "stdout",
     "output_type": "stream",
     "text": [
      "c = 0.1:  45.593%\n",
      "c = 0.16768329368110083:  45.593%\n",
      "c = 0.28117686979742307:  45.593%\n"
     ]
    },
    {
     "name": "stderr",
     "output_type": "stream",
     "text": [
      "/home/delu/.local/lib/python3.8/site-packages/sklearn/svm/_base.py:1199: ConvergenceWarning: Liblinear failed to converge, increase the number of iterations.\n",
      "  warnings.warn(\n"
     ]
    },
    {
     "name": "stdout",
     "output_type": "stream",
     "text": [
      "c = 0.47148663634573934:  45.596%\n"
     ]
    },
    {
     "name": "stderr",
     "output_type": "stream",
     "text": [
      "/home/delu/.local/lib/python3.8/site-packages/sklearn/svm/_base.py:1199: ConvergenceWarning: Liblinear failed to converge, increase the number of iterations.\n",
      "  warnings.warn(\n"
     ]
    },
    {
     "name": "stdout",
     "output_type": "stream",
     "text": [
      "c = 0.79060432109077:  45.593%\n"
     ]
    },
    {
     "name": "stderr",
     "output_type": "stream",
     "text": [
      "/home/delu/.local/lib/python3.8/site-packages/sklearn/svm/_base.py:1199: ConvergenceWarning: Liblinear failed to converge, increase the number of iterations.\n",
      "  warnings.warn(\n"
     ]
    },
    {
     "name": "stdout",
     "output_type": "stream",
     "text": [
      "c = 1.325711365590109:  45.593%\n"
     ]
    },
    {
     "name": "stderr",
     "output_type": "stream",
     "text": [
      "/home/delu/.local/lib/python3.8/site-packages/sklearn/svm/_base.py:1199: ConvergenceWarning: Liblinear failed to converge, increase the number of iterations.\n",
      "  warnings.warn(\n"
     ]
    },
    {
     "name": "stdout",
     "output_type": "stream",
     "text": [
      "c = 2.2229964825261943:  45.594%\n"
     ]
    },
    {
     "name": "stderr",
     "output_type": "stream",
     "text": [
      "/home/delu/.local/lib/python3.8/site-packages/sklearn/svm/_base.py:1199: ConvergenceWarning: Liblinear failed to converge, increase the number of iterations.\n",
      "  warnings.warn(\n"
     ]
    },
    {
     "name": "stdout",
     "output_type": "stream",
     "text": [
      "c = 3.72759372031494:  45.594%\n"
     ]
    },
    {
     "name": "stderr",
     "output_type": "stream",
     "text": [
      "/home/delu/.local/lib/python3.8/site-packages/sklearn/svm/_base.py:1199: ConvergenceWarning: Liblinear failed to converge, increase the number of iterations.\n",
      "  warnings.warn(\n"
     ]
    },
    {
     "name": "stdout",
     "output_type": "stream",
     "text": [
      "c = 6.250551925273973:  45.591%\n"
     ]
    },
    {
     "name": "stderr",
     "output_type": "stream",
     "text": [
      "/home/delu/.local/lib/python3.8/site-packages/sklearn/svm/_base.py:1199: ConvergenceWarning: Liblinear failed to converge, increase the number of iterations.\n",
      "  warnings.warn(\n"
     ]
    },
    {
     "name": "stdout",
     "output_type": "stream",
     "text": [
      "c = 10.481131341546853:  45.594%\n"
     ]
    },
    {
     "name": "stderr",
     "output_type": "stream",
     "text": [
      "/home/delu/.local/lib/python3.8/site-packages/sklearn/svm/_base.py:1199: ConvergenceWarning: Liblinear failed to converge, increase the number of iterations.\n",
      "  warnings.warn(\n"
     ]
    },
    {
     "name": "stdout",
     "output_type": "stream",
     "text": [
      "c = 17.57510624854791:  45.591%\n"
     ]
    },
    {
     "name": "stderr",
     "output_type": "stream",
     "text": [
      "/home/delu/.local/lib/python3.8/site-packages/sklearn/svm/_base.py:1199: ConvergenceWarning: Liblinear failed to converge, increase the number of iterations.\n",
      "  warnings.warn(\n"
     ]
    },
    {
     "name": "stdout",
     "output_type": "stream",
     "text": [
      "c = 29.4705170255181:  45.604%\n"
     ]
    },
    {
     "name": "stderr",
     "output_type": "stream",
     "text": [
      "/home/delu/.local/lib/python3.8/site-packages/sklearn/svm/_base.py:1199: ConvergenceWarning: Liblinear failed to converge, increase the number of iterations.\n",
      "  warnings.warn(\n"
     ]
    },
    {
     "name": "stdout",
     "output_type": "stream",
     "text": [
      "c = 49.417133613238335:  45.555%\n"
     ]
    },
    {
     "name": "stderr",
     "output_type": "stream",
     "text": [
      "/home/delu/.local/lib/python3.8/site-packages/sklearn/svm/_base.py:1199: ConvergenceWarning: Liblinear failed to converge, increase the number of iterations.\n",
      "  warnings.warn(\n"
     ]
    },
    {
     "name": "stdout",
     "output_type": "stream",
     "text": [
      "c = 82.86427728546842:  45.220%\n"
     ]
    },
    {
     "name": "stderr",
     "output_type": "stream",
     "text": [
      "/home/delu/.local/lib/python3.8/site-packages/sklearn/svm/_base.py:1199: ConvergenceWarning: Liblinear failed to converge, increase the number of iterations.\n",
      "  warnings.warn(\n"
     ]
    },
    {
     "name": "stdout",
     "output_type": "stream",
     "text": [
      "c = 138.94954943731375:  43.944%\n"
     ]
    },
    {
     "name": "stderr",
     "output_type": "stream",
     "text": [
      "/home/delu/.local/lib/python3.8/site-packages/sklearn/svm/_base.py:1199: ConvergenceWarning: Liblinear failed to converge, increase the number of iterations.\n",
      "  warnings.warn(\n"
     ]
    },
    {
     "name": "stdout",
     "output_type": "stream",
     "text": [
      "c = 232.99518105153717:  43.781%\n"
     ]
    },
    {
     "name": "stderr",
     "output_type": "stream",
     "text": [
      "/home/delu/.local/lib/python3.8/site-packages/sklearn/svm/_base.py:1199: ConvergenceWarning: Liblinear failed to converge, increase the number of iterations.\n",
      "  warnings.warn(\n"
     ]
    },
    {
     "name": "stdout",
     "output_type": "stream",
     "text": [
      "c = 390.6939937054617:  41.287%\n"
     ]
    },
    {
     "name": "stderr",
     "output_type": "stream",
     "text": [
      "/home/delu/.local/lib/python3.8/site-packages/sklearn/svm/_base.py:1199: ConvergenceWarning: Liblinear failed to converge, increase the number of iterations.\n",
      "  warnings.warn(\n"
     ]
    },
    {
     "name": "stdout",
     "output_type": "stream",
     "text": [
      "c = 655.1285568595509:  42.601%\n"
     ]
    },
    {
     "name": "stderr",
     "output_type": "stream",
     "text": [
      "/home/delu/.local/lib/python3.8/site-packages/sklearn/svm/_base.py:1199: ConvergenceWarning: Liblinear failed to converge, increase the number of iterations.\n",
      "  warnings.warn(\n"
     ]
    },
    {
     "name": "stdout",
     "output_type": "stream",
     "text": [
      "c = 1098.5411419875572:  42.242%\n"
     ]
    },
    {
     "name": "stderr",
     "output_type": "stream",
     "text": [
      "/home/delu/.local/lib/python3.8/site-packages/sklearn/svm/_base.py:1199: ConvergenceWarning: Liblinear failed to converge, increase the number of iterations.\n",
      "  warnings.warn(\n"
     ]
    },
    {
     "name": "stdout",
     "output_type": "stream",
     "text": [
      "c = 1842.0699693267163:  40.697%\n"
     ]
    },
    {
     "name": "stderr",
     "output_type": "stream",
     "text": [
      "/home/delu/.local/lib/python3.8/site-packages/sklearn/svm/_base.py:1199: ConvergenceWarning: Liblinear failed to converge, increase the number of iterations.\n",
      "  warnings.warn(\n"
     ]
    },
    {
     "name": "stdout",
     "output_type": "stream",
     "text": [
      "c = 3088.8435964774785:  39.601%\n"
     ]
    },
    {
     "name": "stderr",
     "output_type": "stream",
     "text": [
      "/home/delu/.local/lib/python3.8/site-packages/sklearn/svm/_base.py:1199: ConvergenceWarning: Liblinear failed to converge, increase the number of iterations.\n",
      "  warnings.warn(\n"
     ]
    },
    {
     "name": "stdout",
     "output_type": "stream",
     "text": [
      "c = 5179.474679231213:  41.375%\n"
     ]
    },
    {
     "name": "stderr",
     "output_type": "stream",
     "text": [
      "/home/delu/.local/lib/python3.8/site-packages/sklearn/svm/_base.py:1199: ConvergenceWarning: Liblinear failed to converge, increase the number of iterations.\n",
      "  warnings.warn(\n"
     ]
    },
    {
     "name": "stdout",
     "output_type": "stream",
     "text": [
      "c = 8685.11373751352:  42.690%\n"
     ]
    },
    {
     "name": "stderr",
     "output_type": "stream",
     "text": [
      "/home/delu/.local/lib/python3.8/site-packages/sklearn/svm/_base.py:1199: ConvergenceWarning: Liblinear failed to converge, increase the number of iterations.\n",
      "  warnings.warn(\n"
     ]
    },
    {
     "name": "stdout",
     "output_type": "stream",
     "text": [
      "c = 14563.484775012445:  42.643%\n"
     ]
    },
    {
     "name": "stderr",
     "output_type": "stream",
     "text": [
      "/home/delu/.local/lib/python3.8/site-packages/sklearn/svm/_base.py:1199: ConvergenceWarning: Liblinear failed to converge, increase the number of iterations.\n",
      "  warnings.warn(\n"
     ]
    },
    {
     "name": "stdout",
     "output_type": "stream",
     "text": [
      "c = 24420.5309454865:  42.220%\n"
     ]
    },
    {
     "name": "stderr",
     "output_type": "stream",
     "text": [
      "/home/delu/.local/lib/python3.8/site-packages/sklearn/svm/_base.py:1199: ConvergenceWarning: Liblinear failed to converge, increase the number of iterations.\n",
      "  warnings.warn(\n"
     ]
    },
    {
     "name": "stdout",
     "output_type": "stream",
     "text": [
      "c = 40949.15062380427:  38.593%\n"
     ]
    },
    {
     "name": "stderr",
     "output_type": "stream",
     "text": [
      "/home/delu/.local/lib/python3.8/site-packages/sklearn/svm/_base.py:1199: ConvergenceWarning: Liblinear failed to converge, increase the number of iterations.\n",
      "  warnings.warn(\n"
     ]
    },
    {
     "name": "stdout",
     "output_type": "stream",
     "text": [
      "c = 68664.88450042998:  41.149%\n"
     ]
    },
    {
     "name": "stderr",
     "output_type": "stream",
     "text": [
      "/home/delu/.local/lib/python3.8/site-packages/sklearn/svm/_base.py:1199: ConvergenceWarning: Liblinear failed to converge, increase the number of iterations.\n",
      "  warnings.warn(\n"
     ]
    },
    {
     "name": "stdout",
     "output_type": "stream",
     "text": [
      "c = 115139.53993264481:  39.123%\n"
     ]
    },
    {
     "name": "stderr",
     "output_type": "stream",
     "text": [
      "/home/delu/.local/lib/python3.8/site-packages/sklearn/svm/_base.py:1199: ConvergenceWarning: Liblinear failed to converge, increase the number of iterations.\n",
      "  warnings.warn(\n"
     ]
    },
    {
     "name": "stdout",
     "output_type": "stream",
     "text": [
      "c = 193069.77288832495:  42.032%\n"
     ]
    },
    {
     "name": "stderr",
     "output_type": "stream",
     "text": [
      "/home/delu/.local/lib/python3.8/site-packages/sklearn/svm/_base.py:1199: ConvergenceWarning: Liblinear failed to converge, increase the number of iterations.\n",
      "  warnings.warn(\n"
     ]
    },
    {
     "name": "stdout",
     "output_type": "stream",
     "text": [
      "c = 323745.7542817647:  42.098%\n"
     ]
    },
    {
     "name": "stderr",
     "output_type": "stream",
     "text": [
      "/home/delu/.local/lib/python3.8/site-packages/sklearn/svm/_base.py:1199: ConvergenceWarning: Liblinear failed to converge, increase the number of iterations.\n",
      "  warnings.warn(\n"
     ]
    },
    {
     "name": "stdout",
     "output_type": "stream",
     "text": [
      "c = 542867.543932386:  41.295%\n"
     ]
    },
    {
     "name": "stderr",
     "output_type": "stream",
     "text": [
      "/home/delu/.local/lib/python3.8/site-packages/sklearn/svm/_base.py:1199: ConvergenceWarning: Liblinear failed to converge, increase the number of iterations.\n",
      "  warnings.warn(\n"
     ]
    },
    {
     "name": "stdout",
     "output_type": "stream",
     "text": [
      "c = 910298.1779915227:  41.295%\n"
     ]
    },
    {
     "name": "stderr",
     "output_type": "stream",
     "text": [
      "/home/delu/.local/lib/python3.8/site-packages/sklearn/svm/_base.py:1199: ConvergenceWarning: Liblinear failed to converge, increase the number of iterations.\n",
      "  warnings.warn(\n"
     ]
    },
    {
     "name": "stdout",
     "output_type": "stream",
     "text": [
      "c = 1526417.9671752334:  41.296%\n"
     ]
    },
    {
     "name": "stderr",
     "output_type": "stream",
     "text": [
      "/home/delu/.local/lib/python3.8/site-packages/sklearn/svm/_base.py:1199: ConvergenceWarning: Liblinear failed to converge, increase the number of iterations.\n",
      "  warnings.warn(\n"
     ]
    },
    {
     "name": "stdout",
     "output_type": "stream",
     "text": [
      "c = 2559547.9226995334:  41.296%\n"
     ]
    },
    {
     "name": "stderr",
     "output_type": "stream",
     "text": [
      "/home/delu/.local/lib/python3.8/site-packages/sklearn/svm/_base.py:1199: ConvergenceWarning: Liblinear failed to converge, increase the number of iterations.\n",
      "  warnings.warn(\n"
     ]
    },
    {
     "name": "stdout",
     "output_type": "stream",
     "text": [
      "c = 4291934.260128778:  41.296%\n"
     ]
    },
    {
     "name": "stderr",
     "output_type": "stream",
     "text": [
      "/home/delu/.local/lib/python3.8/site-packages/sklearn/svm/_base.py:1199: ConvergenceWarning: Liblinear failed to converge, increase the number of iterations.\n",
      "  warnings.warn(\n"
     ]
    },
    {
     "name": "stdout",
     "output_type": "stream",
     "text": [
      "c = 7196856.730011513:  41.296%\n"
     ]
    },
    {
     "name": "stderr",
     "output_type": "stream",
     "text": [
      "/home/delu/.local/lib/python3.8/site-packages/sklearn/svm/_base.py:1199: ConvergenceWarning: Liblinear failed to converge, increase the number of iterations.\n",
      "  warnings.warn(\n"
     ]
    },
    {
     "name": "stdout",
     "output_type": "stream",
     "text": [
      "c = 12067926.406393263:  41.296%\n"
     ]
    },
    {
     "name": "stderr",
     "output_type": "stream",
     "text": [
      "/home/delu/.local/lib/python3.8/site-packages/sklearn/svm/_base.py:1199: ConvergenceWarning: Liblinear failed to converge, increase the number of iterations.\n",
      "  warnings.warn(\n"
     ]
    },
    {
     "name": "stdout",
     "output_type": "stream",
     "text": [
      "c = 20235896.477251556:  41.296%\n"
     ]
    },
    {
     "name": "stderr",
     "output_type": "stream",
     "text": [
      "/home/delu/.local/lib/python3.8/site-packages/sklearn/svm/_base.py:1199: ConvergenceWarning: Liblinear failed to converge, increase the number of iterations.\n",
      "  warnings.warn(\n"
     ]
    },
    {
     "name": "stdout",
     "output_type": "stream",
     "text": [
      "c = 33932217.7189533:  41.296%\n"
     ]
    },
    {
     "name": "stderr",
     "output_type": "stream",
     "text": [
      "/home/delu/.local/lib/python3.8/site-packages/sklearn/svm/_base.py:1199: ConvergenceWarning: Liblinear failed to converge, increase the number of iterations.\n",
      "  warnings.warn(\n"
     ]
    },
    {
     "name": "stdout",
     "output_type": "stream",
     "text": [
      "c = 56898660.290183045:  41.296%\n"
     ]
    },
    {
     "name": "stderr",
     "output_type": "stream",
     "text": [
      "/home/delu/.local/lib/python3.8/site-packages/sklearn/svm/_base.py:1199: ConvergenceWarning: Liblinear failed to converge, increase the number of iterations.\n",
      "  warnings.warn(\n"
     ]
    },
    {
     "name": "stdout",
     "output_type": "stream",
     "text": [
      "c = 95409547.63499925:  41.296%\n"
     ]
    },
    {
     "name": "stderr",
     "output_type": "stream",
     "text": [
      "/home/delu/.local/lib/python3.8/site-packages/sklearn/svm/_base.py:1199: ConvergenceWarning: Liblinear failed to converge, increase the number of iterations.\n",
      "  warnings.warn(\n"
     ]
    },
    {
     "name": "stdout",
     "output_type": "stream",
     "text": [
      "c = 159985871.96060574:  41.296%\n"
     ]
    },
    {
     "name": "stderr",
     "output_type": "stream",
     "text": [
      "/home/delu/.local/lib/python3.8/site-packages/sklearn/svm/_base.py:1199: ConvergenceWarning: Liblinear failed to converge, increase the number of iterations.\n",
      "  warnings.warn(\n"
     ]
    },
    {
     "name": "stdout",
     "output_type": "stream",
     "text": [
      "c = 268269579.52797273:  41.296%\n"
     ]
    },
    {
     "name": "stderr",
     "output_type": "stream",
     "text": [
      "/home/delu/.local/lib/python3.8/site-packages/sklearn/svm/_base.py:1199: ConvergenceWarning: Liblinear failed to converge, increase the number of iterations.\n",
      "  warnings.warn(\n"
     ]
    },
    {
     "name": "stdout",
     "output_type": "stream",
     "text": [
      "c = 449843266.8969453:  41.296%\n"
     ]
    },
    {
     "name": "stderr",
     "output_type": "stream",
     "text": [
      "/home/delu/.local/lib/python3.8/site-packages/sklearn/svm/_base.py:1199: ConvergenceWarning: Liblinear failed to converge, increase the number of iterations.\n",
      "  warnings.warn(\n"
     ]
    },
    {
     "name": "stdout",
     "output_type": "stream",
     "text": [
      "c = 754312006.3354608:  41.296%\n"
     ]
    },
    {
     "name": "stderr",
     "output_type": "stream",
     "text": [
      "/home/delu/.local/lib/python3.8/site-packages/sklearn/svm/_base.py:1199: ConvergenceWarning: Liblinear failed to converge, increase the number of iterations.\n",
      "  warnings.warn(\n"
     ]
    },
    {
     "name": "stdout",
     "output_type": "stream",
     "text": [
      "c = 1264855216.855296:  41.296%\n"
     ]
    },
    {
     "name": "stderr",
     "output_type": "stream",
     "text": [
      "/home/delu/.local/lib/python3.8/site-packages/sklearn/svm/_base.py:1199: ConvergenceWarning: Liblinear failed to converge, increase the number of iterations.\n",
      "  warnings.warn(\n"
     ]
    },
    {
     "name": "stdout",
     "output_type": "stream",
     "text": [
      "c = 2120950887.9201925:  41.296%\n"
     ]
    },
    {
     "name": "stderr",
     "output_type": "stream",
     "text": [
      "/home/delu/.local/lib/python3.8/site-packages/sklearn/svm/_base.py:1199: ConvergenceWarning: Liblinear failed to converge, increase the number of iterations.\n",
      "  warnings.warn(\n"
     ]
    },
    {
     "name": "stdout",
     "output_type": "stream",
     "text": [
      "c = 3556480306.223136:  41.296%\n"
     ]
    },
    {
     "name": "stderr",
     "output_type": "stream",
     "text": [
      "/home/delu/.local/lib/python3.8/site-packages/sklearn/svm/_base.py:1199: ConvergenceWarning: Liblinear failed to converge, increase the number of iterations.\n",
      "  warnings.warn(\n"
     ]
    },
    {
     "name": "stdout",
     "output_type": "stream",
     "text": [
      "c = 5963623316.594637:  41.296%\n"
     ]
    },
    {
     "name": "stderr",
     "output_type": "stream",
     "text": [
      "/home/delu/.local/lib/python3.8/site-packages/sklearn/svm/_base.py:1199: ConvergenceWarning: Liblinear failed to converge, increase the number of iterations.\n",
      "  warnings.warn(\n"
     ]
    },
    {
     "name": "stdout",
     "output_type": "stream",
     "text": [
      "c = 10000000000.0:  41.296%\n"
     ]
    },
    {
     "data": {
      "text/plain": [
       "<AxesSubplot:xlabel='c'>"
      ]
     },
     "execution_count": 3,
     "metadata": {},
     "output_type": "execute_result"
    },
    {
     "data": {
      "image/png": "[encoded data removed]",
      "text/plain": [
       "<Figure size 432x288 with 1 Axes>"
      ]
     },
     "metadata": {
      "needs_background": "light"
     },
     "output_type": "display_data"
    }
   ],
   "source": [
    "metrics = []\n",
    "X_test_filled = X_test.fillna(X_train.mean())\n",
    "\n",
    "for c in np.logspace(-1, 10, 50):\n",
    "    linear = LinearSVC(C=c, random_state = 123, max_iter = 10000)\n",
    "    linear.fit(X_train, Y_train.values.ravel())\n",
    "    acc = (linear.predict(X_test_filled) == Y_test.llovieron_hamburguesas_al_dia_siguiente).sum()/len(Y_train)\n",
    "    print(f\"c = {c}: {acc * 100 : .3f}%\")\n",
    "    metrics.append((c, acc))\n",
    "\n",
    "pd.DataFrame(metrics, columns=['c', 'correct_in_val-dev']).plot(x='c')"
   ]
  },
  {
   "cell_type": "markdown",
   "id": "c0629c51-da27-4360-a86c-3ec6d9300839",
   "metadata": {},
   "source": [
    "Pongo a ejecutar a las 2:00"
   ]
  },
  {
   "cell_type": "code",
   "execution_count": 4,
   "id": "9e4c1e14-3e7e-46cc-8086-fb4dfdbca11e",
   "metadata": {},
   "outputs": [
    {
     "name": "stdout",
     "output_type": "stream",
     "text": [
      "Terminó a las: 2021-11-18 04:05:54.562483\n"
     ]
    }
   ],
   "source": [
    "from datetime import datetime\n",
    "\n",
    "print(\"Terminó a las:\", datetime.now())"
   ]
  },
  {
   "cell_type": "markdown",
   "id": "5b997214-ccbc-43bb-ba12-62aa4a5c9368",
   "metadata": {},
   "source": [
    "Kernel polinomico"
   ]
  },
  {
   "cell_type": "code",
   "execution_count": null,
   "id": "5baa7c88-0bfd-4054-9f22-45cb88e25661",
   "metadata": {},
   "outputs": [
    {
     "name": "stdout",
     "output_type": "stream",
     "text": [
      "c 1, d 1, g 1, r 1:  84.642229%\n",
      "c 1, d 1, g 1, r 26:  84.647813%\n",
      "c 1, d 1, g 1, r 51:  84.645021%\n",
      "c 1, d 1, g 1, r 76:  84.653396%\n",
      "c 1, d 1, g 1, r 101:  84.650604%\n",
      "c 1, d 1, g 26, r 1:  84.661772%\n"
     ]
    }
   ],
   "source": [
    "metrics = []\n",
    "for c in range(1, 102, 25):\n",
    "    for d in range(1, 102, 25):\n",
    "        for g in range(1, 102, 25):\n",
    "            for r in range(1, 102, 25):\n",
    "                clf = SVC(kernel='poly', C=c, degree=d, gamma=g, coef0=r, random_state=123)\n",
    "                clf.fit(X_train, Y_train.values.ravel())\n",
    "                acc = ((clf.predict(X_test) == Y_test.llovieron_hamburguesas_al_dia_siguiente).sum())/len(Y_test)\n",
    "                metrics.append((c, d, g, r, acc))\n",
    "                print(f\"c {c}, d {d}, g {g}, r {r}: {acc * 100 : 3f}%\")\n",
    "\n",
    "dd = pd.DataFrame(metrics, columns=['c', 'degree', 'gamma', 'r', 'correct_in_val-dev'])"
   ]
  },
  {
   "cell_type": "code",
   "execution_count": null,
   "id": "568ef14c-d333-4e3e-abc7-67cf167d1678",
   "metadata": {},
   "outputs": [],
   "source": []
  }
 ],
 "metadata": {
  "kernelspec": {
   "display_name": "Python 3 (ipykernel)",
   "language": "python",
   "name": "python3"
  },
  "language_info": {
   "codemirror_mode": {
    "name": "ipython",
    "version": 3
   },
   "file_extension": ".py",
   "mimetype": "text/x-python",
   "name": "python",
   "nbconvert_exporter": "python",
   "pygments_lexer": "ipython3",
   "version": "3.8.10"
  }
 },
 "nbformat": 4,
 "nbformat_minor": 5
}
