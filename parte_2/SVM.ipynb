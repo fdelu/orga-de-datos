{
 "cells": [
  {
   "cell_type": "code",
   "execution_count": 1,
   "id": "ec047ce5-27db-4a50-b406-60550eb93572",
   "metadata": {},
   "outputs": [],
   "source": [
    "from preprocessing import svm\n",
    "from sklearn.svm import LinearSVC\n",
    "from sklearn.model_selection import train_test_split\n",
    "import pandas as pd"
   ]
  },
  {
   "cell_type": "code",
   "execution_count": null,
   "id": "d8c07c7c-c9ee-4323-890f-39075e099913",
   "metadata": {},
   "outputs": [],
   "source": [
    "X_train, X_test, Y_test, Y_train = svm()\n",
    "display(X_train)\n"
   ]
  },
  {
   "cell_type": "code",
   "execution_count": null,
   "id": "73331361-2f44-47a4-8dab-b89539f617db",
   "metadata": {},
   "outputs": [],
   "source": [
    "X_train, X_test, Y_test, Y_train = svm()"
   ]
  },
  {
   "cell_type": "code",
   "execution_count": null,
   "id": "d9c81bfb-4796-4472-a118-de7965dbe04a",
   "metadata": {},
   "outputs": [],
   "source": [
    "model = LinearSVC()\n",
    "model.fit(X_train, Y_train, random_state = 123)\n",
    "\n",
    "metrics = []\n",
    "for c in range(1, 1000, 2):\n",
    "    clf = LinearSVC(C=c)\n",
    "    clf.fit(X_train, y_train)\n",
    "    metrics.append((c, (clf.predict(X_train) == Y_train).sum()))\n",
    "\n",
    "pd.DataFrame(metrics, columns=['c', 'correct_in_val-dev']).plot(x='c')"
   ]
  },
  {
   "cell_type": "code",
   "execution_count": null,
   "id": "5575cebb-d1e3-4754-9d48-a75251bfd28b",
   "metadata": {},
   "outputs": [],
   "source": []
  }
 ],
 "metadata": {
  "kernelspec": {
   "display_name": "Python 3 (ipykernel)",
   "language": "python",
   "name": "python3"
  },
  "language_info": {
   "codemirror_mode": {
    "name": "ipython",
    "version": 3
   },
   "file_extension": ".py",
   "mimetype": "text/x-python",
   "name": "python",
   "nbconvert_exporter": "python",
   "pygments_lexer": "ipython3",
   "version": "3.8.10"
  }
 },
 "nbformat": 4,
 "nbformat_minor": 5
}
